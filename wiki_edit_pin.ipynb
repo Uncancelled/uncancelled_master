{
 "cells": [
  {
   "cell_type": "code",
   "execution_count": 1,
   "metadata": {},
   "outputs": [],
   "source": [
    "import os\n",
    "import glob\n",
    "import pandas as pd\n",
    "import numpy as np"
   ]
  },
  {
   "cell_type": "code",
   "execution_count": 2,
   "metadata": {},
   "outputs": [],
   "source": [
    "os.chdir(\"C:/Users/raymo/code/pin-lpt/uncancelled_master/data/WikipediaEditHistory\")"
   ]
  },
  {
   "cell_type": "code",
   "execution_count": 3,
   "metadata": {},
   "outputs": [],
   "source": [
    "extension = 'csv'\n",
    "all_filenames = [i for i in glob.glob('*.{}'.format(extension))]"
   ]
  },
  {
   "cell_type": "code",
   "execution_count": 4,
   "metadata": {},
   "outputs": [],
   "source": [
    "#combine all files in the list\n",
    "combined_csv = pd.concat([pd.read_csv(f) for f in all_filenames ])\n",
    "#export to csv\n",
    "combined_csv.to_csv( \"combined_csv.csv\", index=False, encoding='utf-8-sig')"
   ]
  },
  {
   "cell_type": "code",
   "execution_count": 5,
   "metadata": {},
   "outputs": [
    {
     "data": {
      "text/html": [
       "<div>\n",
       "<style scoped>\n",
       "    .dataframe tbody tr th:only-of-type {\n",
       "        vertical-align: middle;\n",
       "    }\n",
       "\n",
       "    .dataframe tbody tr th {\n",
       "        vertical-align: top;\n",
       "    }\n",
       "\n",
       "    .dataframe thead th {\n",
       "        text-align: right;\n",
       "    }\n",
       "</style>\n",
       "<table border=\"1\" class=\"dataframe\">\n",
       "  <thead>\n",
       "    <tr style=\"text-align: right;\">\n",
       "      <th></th>\n",
       "      <th>page_title</th>\n",
       "      <th>rank</th>\n",
       "      <th>total.total</th>\n",
       "      <th>month</th>\n",
       "      <th>timeRange.start</th>\n",
       "      <th>timeRange.end</th>\n",
       "    </tr>\n",
       "  </thead>\n",
       "  <tbody>\n",
       "    <tr>\n",
       "      <th>0</th>\n",
       "      <td>Great_Britain_at_the_2016_Summer_Olympics</td>\n",
       "      <td>1</td>\n",
       "      <td>1578</td>\n",
       "      <td>2016-08-01T00:00:00.000Z</td>\n",
       "      <td>2016-08-01T00:00:00.000Z</td>\n",
       "      <td>2016-09-01T00:00:00.000Z</td>\n",
       "    </tr>\n",
       "    <tr>\n",
       "      <th>1</th>\n",
       "      <td>2016_Summer_Olympics_medal_table</td>\n",
       "      <td>2</td>\n",
       "      <td>1500</td>\n",
       "      <td>2016-08-01T00:00:00.000Z</td>\n",
       "      <td>2016-08-01T00:00:00.000Z</td>\n",
       "      <td>2016-09-01T00:00:00.000Z</td>\n",
       "    </tr>\n",
       "    <tr>\n",
       "      <th>2</th>\n",
       "      <td>United_States_at_the_2016_Summer_Olympics</td>\n",
       "      <td>3</td>\n",
       "      <td>1444</td>\n",
       "      <td>2016-08-01T00:00:00.000Z</td>\n",
       "      <td>2016-08-01T00:00:00.000Z</td>\n",
       "      <td>2016-09-01T00:00:00.000Z</td>\n",
       "    </tr>\n",
       "    <tr>\n",
       "      <th>3</th>\n",
       "      <td>Chronological_summary_of_the_2016_Summer_Olympics</td>\n",
       "      <td>4</td>\n",
       "      <td>1434</td>\n",
       "      <td>2016-08-01T00:00:00.000Z</td>\n",
       "      <td>2016-08-01T00:00:00.000Z</td>\n",
       "      <td>2016-09-01T00:00:00.000Z</td>\n",
       "    </tr>\n",
       "    <tr>\n",
       "      <th>4</th>\n",
       "      <td>Deaths_in_December_2016</td>\n",
       "      <td>5</td>\n",
       "      <td>1398</td>\n",
       "      <td>2016-08-01T00:00:00.000Z</td>\n",
       "      <td>2016-08-01T00:00:00.000Z</td>\n",
       "      <td>2016-09-01T00:00:00.000Z</td>\n",
       "    </tr>\n",
       "  </tbody>\n",
       "</table>\n",
       "</div>"
      ],
      "text/plain": [
       "                                          page_title  rank  total.total  \\\n",
       "0          Great_Britain_at_the_2016_Summer_Olympics     1         1578   \n",
       "1                   2016_Summer_Olympics_medal_table     2         1500   \n",
       "2          United_States_at_the_2016_Summer_Olympics     3         1444   \n",
       "3  Chronological_summary_of_the_2016_Summer_Olympics     4         1434   \n",
       "4                            Deaths_in_December_2016     5         1398   \n",
       "\n",
       "                      month           timeRange.start  \\\n",
       "0  2016-08-01T00:00:00.000Z  2016-08-01T00:00:00.000Z   \n",
       "1  2016-08-01T00:00:00.000Z  2016-08-01T00:00:00.000Z   \n",
       "2  2016-08-01T00:00:00.000Z  2016-08-01T00:00:00.000Z   \n",
       "3  2016-08-01T00:00:00.000Z  2016-08-01T00:00:00.000Z   \n",
       "4  2016-08-01T00:00:00.000Z  2016-08-01T00:00:00.000Z   \n",
       "\n",
       "              timeRange.end  \n",
       "0  2016-09-01T00:00:00.000Z  \n",
       "1  2016-09-01T00:00:00.000Z  \n",
       "2  2016-09-01T00:00:00.000Z  \n",
       "3  2016-09-01T00:00:00.000Z  \n",
       "4  2016-09-01T00:00:00.000Z  "
      ]
     },
     "execution_count": 5,
     "metadata": {},
     "output_type": "execute_result"
    }
   ],
   "source": [
    "combined_csv.head()"
   ]
  },
  {
   "cell_type": "code",
   "execution_count": 6,
   "metadata": {},
   "outputs": [],
   "source": [
    "combined_csv[['month','timeRange.start', 'timeRange.end']]=combined_csv[['month','timeRange.start', 'timeRange.end']].astype(np.datetime64)"
   ]
  },
  {
   "cell_type": "code",
   "execution_count": 7,
   "metadata": {},
   "outputs": [],
   "source": [
    "df = combined_csv.sort_values(['page_title'], ascending=True).groupby(['page_title'], sort=False).apply(lambda x: x.sort_values(['month'], ascending=True)).reset_index(drop=True)"
   ]
  },
  {
   "cell_type": "code",
   "execution_count": 8,
   "metadata": {},
   "outputs": [
    {
     "data": {
      "text/plain": [
       "0                         \"Polish_death_camp\"_controversy\n",
       "1                                    'Ubadah_ibn_al-Samit\n",
       "2                            116th_United_States_Congress\n",
       "3                            116th_United_States_Congress\n",
       "4                                          13_Reasons_Why\n",
       "5                           1721_Boston_smallpox_outbreak\n",
       "6                                                    1900\n",
       "7                                        1917_(2019_film)\n",
       "8       1993_NCAA_Division_I_Outdoor_Track_and_Field_C...\n",
       "9                                 1999_Matamoros_standoff\n",
       "10      1999_NCAA_Division_I_Outdoor_Track_and_Field_C...\n",
       "11                                   19_Kids_and_Counting\n",
       "12                                             2.0_(film)\n",
       "13                                             2.0_(film)\n",
       "14      2000_NCAA_Division_I_Outdoor_Track_and_Field_C...\n",
       "15                                 2002_Stromboli_tsunami\n",
       "16      2007_NCAA_Division_I_Indoor_Track_and_Field_Ch...\n",
       "17      2008_NCAA_Division_I_Indoor_Track_and_Field_Ch...\n",
       "18                                  2010_in_country_music\n",
       "19             2011_World_Masters_Athletics_Championships\n",
       "20                          2013_local_electoral_calendar\n",
       "21                                  2016_AFF_Championship\n",
       "22                                  2016_AFF_Championship\n",
       "23                                        2016_AFL_season\n",
       "24                               2016_ATP_Challenger_Tour\n",
       "25                               2016_ATP_Challenger_Tour\n",
       "26                               2016_ATP_Challenger_Tour\n",
       "27               2016_American_League_Championship_Series\n",
       "28                   2016_American_League_Division_Series\n",
       "29                         2016_Atlantic_hurricane_season\n",
       "                              ...                        \n",
       "4770                                           Ye_(album)\n",
       "4771                            Yeh_Rishtey_Hain_Pyaar_Ke\n",
       "4772                             Yeh_Un_Dinon_Ki_Baat_Hai\n",
       "4773                                Yellow_vests_movement\n",
       "4774                                Yellow_vests_movement\n",
       "4775                                     Yeomanry_Cavalry\n",
       "4776                                       YouTube_Rewind\n",
       "4777                                       YouTube_Rewind\n",
       "4778                        YouTube_headquarters_shooting\n",
       "4779                                You_Need_to_Calm_Down\n",
       "4780                             Young_Justice:_Outsiders\n",
       "4781                            Youth_International_Party\n",
       "4782                                                 Yuga\n",
       "4783                           Yummy_(Justin_Bieber_song)\n",
       "4784                                          Yuri_on_Ice\n",
       "4785                                          Yuri_on_Ice\n",
       "4786                               Yuttha_Medai_All_Stars\n",
       "4787                               Yuttha_Medai_All_Stars\n",
       "4788                                           Zamalek_SC\n",
       "4789                                      Zebedee_Coltrin\n",
       "4790                                    Zero-point_energy\n",
       "4791                                     Zero_(2018_film)\n",
       "4792                                     Zero_(2018_film)\n",
       "4793                                           Zero_Hedge\n",
       "4794                            Zoom_Video_Communications\n",
       "4795                                        Ædes_Danielis\n",
       "4796                        Église_Saint-Patern_de_Vannes\n",
       "4797                                            ÷_(album)\n",
       "4798                                            ʻOumuamua\n",
       "4799                                            ʻOumuamua\n",
       "Name: page_title, Length: 4800, dtype: object"
      ]
     },
     "execution_count": 8,
     "metadata": {},
     "output_type": "execute_result"
    }
   ],
   "source": [
    "df['page_title']"
   ]
  },
  {
   "cell_type": "code",
   "execution_count": 9,
   "metadata": {},
   "outputs": [],
   "source": [
    "df['page_title'] = df['page_title'].apply(lambda x: x.replace(\"_\", \" \"))"
   ]
  },
  {
   "cell_type": "code",
   "execution_count": 10,
   "metadata": {},
   "outputs": [],
   "source": [
    "df['page_title'] = df['page_title'].apply(lambda x: x.replace(\"â€\", \"\"))"
   ]
  },
  {
   "cell_type": "code",
   "execution_count": 21,
   "metadata": {},
   "outputs": [
    {
     "data": {
      "text/plain": [
       "'2016 United States presidential election'"
      ]
     },
     "execution_count": 21,
     "metadata": {},
     "output_type": "execute_result"
    }
   ],
   "source": [
    "df['page_title'][92]"
   ]
  },
  {
   "cell_type": "code",
   "execution_count": 11,
   "metadata": {},
   "outputs": [],
   "source": [
    "df.drop(columns=['timeRange.start', 'timeRange.end'], inplace=True)"
   ]
  },
  {
   "cell_type": "code",
   "execution_count": 12,
   "metadata": {},
   "outputs": [],
   "source": [
    "df.to_csv(\"cleaned_wiki_edit.csv\")"
   ]
  },
  {
   "cell_type": "code",
   "execution_count": 37,
   "metadata": {},
   "outputs": [],
   "source": [
    "list_of_edits = list(df['page_title'].unique())\n",
    "import pickle\n",
    "with open('listfile.data', 'wb') as filehandle:\n",
    "     pickle.dump(list_of_edits, filehandle)"
   ]
  },
  {
   "cell_type": "code",
   "execution_count": 38,
   "metadata": {},
   "outputs": [],
   "source": [
    "pd.DataFrame(df['page_title'].unique()).to_csv(\"list_of_edits1.txt\")"
   ]
  }
 ],
 "metadata": {
  "kernelspec": {
   "display_name": "Python 3",
   "language": "python",
   "name": "python3"
  },
  "language_info": {
   "codemirror_mode": {
    "name": "ipython",
    "version": 3
   },
   "file_extension": ".py",
   "mimetype": "text/x-python",
   "name": "python",
   "nbconvert_exporter": "python",
   "pygments_lexer": "ipython3",
   "version": "3.7.7"
  }
 },
 "nbformat": 4,
 "nbformat_minor": 4
}
