{
 "cells": [
  {
   "cell_type": "code",
   "execution_count": 4,
   "metadata": {},
   "outputs": [],
   "source": [
    "import os\n",
    "import glob\n",
    "import spacy\n",
    "import pandas as pd\n",
    "import numpy as np\n",
    "from spacy.tokenizer import Tokenizer\n",
    "from spacy.lang.en import English\n",
    "import gensim\n",
    "import string\n",
    "from gensim.utils import simple_preprocess\n",
    "from gensim.parsing.preprocessing import STOPWORDS\n",
    "from nltk.stem import WordNetLemmatizer, SnowballStemmer\n",
    "from nltk.corpus import stopwords\n",
    "from nltk.tokenize import word_tokenize\n",
    "import nltk\n",
    "import spacy\n",
    "import contextualSpellCheck\n",
    "import re\n",
    "from collections import Counter"
   ]
  },
  {
   "cell_type": "code",
   "execution_count": 38,
   "metadata": {
    "collapsed": true,
    "jupyter": {
     "outputs_hidden": true
    }
   },
   "outputs": [
    {
     "data": {
      "text/plain": [
       "[['In',\n",
       "  '1721,',\n",
       "  'Boston',\n",
       "  'experienced',\n",
       "  'its',\n",
       "  'worst',\n",
       "  'outbreak',\n",
       "  'of',\n",
       "  'smallpox',\n",
       "  '(also',\n",
       "  'known',\n",
       "  'as',\n",
       "  'variola)'],\n",
       " ['5,759',\n",
       "  'people',\n",
       "  'out',\n",
       "  'of',\n",
       "  'around',\n",
       "  '10,600',\n",
       "  'in',\n",
       "  'Boston',\n",
       "  'were',\n",
       "  'infected',\n",
       "  'and',\n",
       "  '844',\n",
       "  'were',\n",
       "  'recorded',\n",
       "  'to',\n",
       "  'have',\n",
       "  'died',\n",
       "  'between',\n",
       "  'April',\n",
       "  '1721',\n",
       "  'and',\n",
       "  'February',\n",
       "  '1722'],\n",
       " ['The',\n",
       "  'outbreak',\n",
       "  'would',\n",
       "  'motivate',\n",
       "  'Puritan',\n",
       "  'minister',\n",
       "  'Cotton',\n",
       "  'Mather',\n",
       "  'and',\n",
       "  'Harvard',\n",
       "  'physician',\n",
       "  'Zabdiel',\n",
       "  'Boylston',\n",
       "  'to',\n",
       "  'variolate',\n",
       "  'hundreds',\n",
       "  'of',\n",
       "  'Bostonians',\n",
       "  'in',\n",
       "  'the',\n",
       "  'Thirteen',\n",
       "  \"Colonies'\",\n",
       "  'earliest',\n",
       "  'experiment',\n",
       "  'with',\n",
       "  'public',\n",
       "  'inoculation'],\n",
       " ['Their',\n",
       "  'efforts',\n",
       "  'would',\n",
       "  'inspire',\n",
       "  'further',\n",
       "  'use',\n",
       "  'and',\n",
       "  'research',\n",
       "  'of',\n",
       "  'variolation',\n",
       "  'for',\n",
       "  'immunizing',\n",
       "  'people',\n",
       "  'from',\n",
       "  'smallpox,',\n",
       "  'placing',\n",
       "  'the',\n",
       "  'Massachusetts',\n",
       "  'Bay',\n",
       "  'Colony',\n",
       "  'at',\n",
       "  'the',\n",
       "  'epicenter',\n",
       "  'of',\n",
       "  'the',\n",
       "  \"Colonies'\",\n",
       "  'first',\n",
       "  'inoculation',\n",
       "  'debate',\n",
       "  'and',\n",
       "  'profoundly',\n",
       "  'impacting',\n",
       "  'Western',\n",
       "  \"society's\",\n",
       "  'medical',\n",
       "  'treatment',\n",
       "  'of',\n",
       "  'the',\n",
       "  'disease'],\n",
       " ['The',\n",
       "  'outbreak',\n",
       "  'also',\n",
       "  'permanently',\n",
       "  'changed',\n",
       "  'social',\n",
       "  'and',\n",
       "  'religious',\n",
       "  'public',\n",
       "  'discourse',\n",
       "  'about',\n",
       "  'disease,',\n",
       "  'as',\n",
       "  \"Boston's\",\n",
       "  'newspapers',\n",
       "  'published',\n",
       "  'various',\n",
       "  'pamphlets',\n",
       "  'opposing',\n",
       "  'and',\n",
       "  'supporting',\n",
       "  'the',\n",
       "  'inoculation',\n",
       "  'efforts'],\n",
       " ['==',\n",
       "  'Smallpox',\n",
       "  'in',\n",
       "  'Boston',\n",
       "  '==',\n",
       "  'On',\n",
       "  '22',\n",
       "  'April',\n",
       "  '1721',\n",
       "  'the',\n",
       "  'British',\n",
       "  'passenger',\n",
       "  'ship',\n",
       "  'HMS',\n",
       "  'Seahorse',\n",
       "  'arrived',\n",
       "  'at',\n",
       "  'Boston',\n",
       "  'from',\n",
       "  'Barbados,',\n",
       "  'after',\n",
       "  'one',\n",
       "  'stop',\n",
       "  'at',\n",
       "  'Tortuga,',\n",
       "  'with',\n",
       "  'a',\n",
       "  'crew',\n",
       "  'of',\n",
       "  'sailors',\n",
       "  \"who'd\",\n",
       "  'just',\n",
       "  'survived',\n",
       "  'smallpox'],\n",
       " [\"Customs'\",\n",
       "  'quarantine',\n",
       "  'hospital',\n",
       "  'at',\n",
       "  'Spectacle',\n",
       "  'Island',\n",
       "  'was',\n",
       "  'tasked',\n",
       "  'with',\n",
       "  'containing',\n",
       "  'individuals',\n",
       "  'who',\n",
       "  'had',\n",
       "  'contagious',\n",
       "  'diseases,',\n",
       "  'with',\n",
       "  'a',\n",
       "  'case',\n",
       "  'of',\n",
       "  'smallpox',\n",
       "  'contained',\n",
       "  'successfully',\n",
       "  'the',\n",
       "  'previous',\n",
       "  'fall'],\n",
       " ['But',\n",
       "  'one',\n",
       "  'of',\n",
       "  \"Seahorse's\",\n",
       "  'sailors',\n",
       "  'fell',\n",
       "  'ill',\n",
       "  'in',\n",
       "  'Boston',\n",
       "  'Harbor',\n",
       "  'a',\n",
       "  'day',\n",
       "  'after',\n",
       "  'arrival,',\n",
       "  'and',\n",
       "  'exposed',\n",
       "  'other',\n",
       "  'sailors',\n",
       "  'to',\n",
       "  'variola'],\n",
       " [\"Boston's\",\n",
       "  'water',\n",
       "  'bailiff',\n",
       "  'inspected',\n",
       "  'Seahorse',\n",
       "  'and',\n",
       "  'discovered',\n",
       "  'another',\n",
       "  'two',\n",
       "  'or',\n",
       "  'three',\n",
       "  'cases',\n",
       "  'of',\n",
       "  'smallpox',\n",
       "  'in',\n",
       "  'various',\n",
       "  'stages',\n",
       "  'before',\n",
       "  'ordering',\n",
       "  'the',\n",
       "  'ship',\n",
       "  'to',\n",
       "  'leave',\n",
       "  'the',\n",
       "  'harbor'],\n",
       " ['Despite',\n",
       "  'the',\n",
       "  'sailor',\n",
       "  'being',\n",
       "  'hurriedly',\n",
       "  'quarantined',\n",
       "  'in',\n",
       "  'the',\n",
       "  'lodging',\n",
       "  'house',\n",
       "  'where',\n",
       "  'he',\n",
       "  'fell',\n",
       "  'ill,',\n",
       "  'nine',\n",
       "  'other',\n",
       "  'sailors',\n",
       "  'at',\n",
       "  'Boston',\n",
       "  'Harbor',\n",
       "  'exposed',\n",
       "  'to',\n",
       "  'him',\n",
       "  'came',\n",
       "  'down',\n",
       "  'with',\n",
       "  'smallpox',\n",
       "  'in',\n",
       "  'early',\n",
       "  'May'],\n",
       " ['The',\n",
       "  'sailors',\n",
       "  'were',\n",
       "  'quarantined',\n",
       "  'on',\n",
       "  'Spectacle',\n",
       "  \"Island's\",\n",
       "  'very-rudimentary',\n",
       "  'hospital',\n",
       "  'but',\n",
       "  'staff',\n",
       "  'and',\n",
       "  'customs',\n",
       "  'were',\n",
       "  'unable',\n",
       "  'to',\n",
       "  'contain',\n",
       "  'the',\n",
       "  'virus'],\n",
       " ['On',\n",
       "  '26',\n",
       "  'May',\n",
       "  'Cotton',\n",
       "  'Mather',\n",
       "  'wrote',\n",
       "  'in',\n",
       "  'his',\n",
       "  'diary:',\n",
       "  '\"The',\n",
       "  'grievous',\n",
       "  'calamity',\n",
       "  'of',\n",
       "  'the',\n",
       "  'small',\n",
       "  'pox',\n",
       "  'has',\n",
       "  'now',\n",
       "  'entered',\n",
       "  'the',\n",
       "  'town'],\n",
       " ['\"Boston\\'s',\n",
       "  'last',\n",
       "  'smallpox',\n",
       "  'outbreak',\n",
       "  'was',\n",
       "  'in',\n",
       "  '1703,',\n",
       "  'and',\n",
       "  'a',\n",
       "  'new',\n",
       "  'generation',\n",
       "  'of',\n",
       "  'non',\n",
       "  'immune',\n",
       "  'children',\n",
       "  'and',\n",
       "  'young',\n",
       "  'adults',\n",
       "  'were',\n",
       "  'vulnerable'],\n",
       " ['By',\n",
       "  'June',\n",
       "  'the',\n",
       "  'town',\n",
       "  'was',\n",
       "  'faced',\n",
       "  'with',\n",
       "  'a',\n",
       "  'major',\n",
       "  'public',\n",
       "  'health',\n",
       "  'crisis',\n",
       "  'and',\n",
       "  'the',\n",
       "  'religious',\n",
       "  'public',\n",
       "  'became',\n",
       "  'increasingly',\n",
       "  'worried',\n",
       "  'that',\n",
       "  'they',\n",
       "  'were',\n",
       "  'the',\n",
       "  'subjects',\n",
       "  'of',\n",
       "  'divine',\n",
       "  'punishment'],\n",
       " ['Around',\n",
       "  '900',\n",
       "  'people',\n",
       "  'fled',\n",
       "  'Boston',\n",
       "  'into',\n",
       "  'the',\n",
       "  'countryside,',\n",
       "  'likely',\n",
       "  'spreading',\n",
       "  'the',\n",
       "  'virus'],\n",
       " ['The',\n",
       "  'General',\n",
       "  'Court,',\n",
       "  'colonial',\n",
       "  \"Massachusetts'\",\n",
       "  'legislating',\n",
       "  'body,',\n",
       "  'moved',\n",
       "  'from',\n",
       "  'Boston',\n",
       "  'to',\n",
       "  'Cambridge',\n",
       "  'at',\n",
       "  \"summer's\",\n",
       "  'end,',\n",
       "  'but',\n",
       "  'smallpox',\n",
       "  'cases',\n",
       "  'began',\n",
       "  'appearing',\n",
       "  'in',\n",
       "  'Cambridge',\n",
       "  'in',\n",
       "  'August'],\n",
       " ['James',\n",
       "  \"Franklin's\",\n",
       "  'The',\n",
       "  'New',\n",
       "  'England',\n",
       "  'Courant',\n",
       "  'was',\n",
       "  'founded',\n",
       "  'in',\n",
       "  'August',\n",
       "  'amid',\n",
       "  'the',\n",
       "  'outbreak',\n",
       "  'and',\n",
       "  'the',\n",
       "  'issue',\n",
       "  'of',\n",
       "  'smallpox',\n",
       "  'and',\n",
       "  'preservation',\n",
       "  'from',\n",
       "  'it',\n",
       "  'became',\n",
       "  'front',\n",
       "  'page',\n",
       "  'news'],\n",
       " ['The',\n",
       "  'Courant',\n",
       "  'was',\n",
       "  'ordered',\n",
       "  'in',\n",
       "  'early',\n",
       "  'October',\n",
       "  'by',\n",
       "  'the',\n",
       "  'town',\n",
       "  'council',\n",
       "  'to',\n",
       "  'publish',\n",
       "  'a',\n",
       "  'house-by-house',\n",
       "  'count',\n",
       "  'on',\n",
       "  'those',\n",
       "  'affected',\n",
       "  'so',\n",
       "  'far',\n",
       "  'by',\n",
       "  'smallpox:',\n",
       "  '2,757',\n",
       "  'cases,',\n",
       "  '1,499',\n",
       "  'recoveries',\n",
       "  'and',\n",
       "  '203',\n",
       "  'deaths',\n",
       "  'were',\n",
       "  'counted'],\n",
       " ['The',\n",
       "  'outbreak',\n",
       "  'peaked',\n",
       "  'in',\n",
       "  'October',\n",
       "  'when',\n",
       "  '411',\n",
       "  'people',\n",
       "  'died',\n",
       "  'in',\n",
       "  'that',\n",
       "  'month',\n",
       "  'alone'],\n",
       " ['Judge',\n",
       "  'Samuel',\n",
       "  'Sewall',\n",
       "  'recorded',\n",
       "  'in',\n",
       "  'his',\n",
       "  'diary',\n",
       "  'the',\n",
       "  'deaths',\n",
       "  'of',\n",
       "  'his',\n",
       "  'friends',\n",
       "  'and',\n",
       "  'neighbors',\n",
       "  'like',\n",
       "  'one',\n",
       "  'Madam',\n",
       "  'Checkly',\n",
       "  'on',\n",
       "  '18',\n",
       "  'October'],\n",
       " ['Thanksgiving',\n",
       "  'sermons',\n",
       "  'were',\n",
       "  'also',\n",
       "  'affected',\n",
       "  'by',\n",
       "  'the',\n",
       "  'outbreak,',\n",
       "  'and',\n",
       "  'on',\n",
       "  '26',\n",
       "  'October',\n",
       "  'most',\n",
       "  'congregations',\n",
       "  'held',\n",
       "  'a',\n",
       "  'single',\n",
       "  'sermon',\n",
       "  'at',\n",
       "  '11',\n",
       "  'in',\n",
       "  'the',\n",
       "  'morning',\n",
       "  'out',\n",
       "  'of',\n",
       "  'fear',\n",
       "  'of',\n",
       "  'smallpox',\n",
       "  'spreading',\n",
       "  'during',\n",
       "  'gatherings'],\n",
       " ['The',\n",
       "  'next',\n",
       "  'day',\n",
       "  'Judge',\n",
       "  'Sewell',\n",
       "  'attended',\n",
       "  'the',\n",
       "  'funeral',\n",
       "  'of',\n",
       "  'local',\n",
       "  'child',\n",
       "  'Edward',\n",
       "  'Rawson',\n",
       "  'before',\n",
       "  'attending',\n",
       "  'the',\n",
       "  'burial',\n",
       "  'of',\n",
       "  'one',\n",
       "  'of',\n",
       "  \"Sewell's\",\n",
       "  'own',\n",
       "  'tenants,',\n",
       "  'while',\n",
       "  'a',\n",
       "  'local',\n",
       "  'college',\n",
       "  'student',\n",
       "  'and',\n",
       "  '\"many',\n",
       "  'others\"',\n",
       "  'were',\n",
       "  'buried',\n",
       "  'that',\n",
       "  'Friday',\n",
       "  'night'],\n",
       " ['8%',\n",
       "  'of',\n",
       "  \"Boston's\",\n",
       "  'population',\n",
       "  'would',\n",
       "  'die',\n",
       "  'during',\n",
       "  'the',\n",
       "  'epidemic,',\n",
       "  'and',\n",
       "  'hundreds',\n",
       "  'of',\n",
       "  'other',\n",
       "  'Bostonians',\n",
       "  'would',\n",
       "  'recover',\n",
       "  'with',\n",
       "  'severe',\n",
       "  'scarring',\n",
       "  'or',\n",
       "  'disabilities'],\n",
       " ['===',\n",
       "  'Public',\n",
       "  'inoculation',\n",
       "  'campaign',\n",
       "  '===',\n",
       "  'Cotton',\n",
       "  'Mather',\n",
       "  'sent',\n",
       "  'letters',\n",
       "  'to',\n",
       "  \"Boston's\",\n",
       "  '14',\n",
       "  'other',\n",
       "  'physicians',\n",
       "  'in',\n",
       "  'response',\n",
       "  'to',\n",
       "  'the',\n",
       "  'outbreak',\n",
       "  'imploring',\n",
       "  'them',\n",
       "  'to',\n",
       "  'wage',\n",
       "  'a',\n",
       "  'medical',\n",
       "  'campaign',\n",
       "  'against',\n",
       "  'smallpox',\n",
       "  'by',\n",
       "  'inoculating',\n",
       "  'their',\n",
       "  'own',\n",
       "  'patients',\n",
       "  'or',\n",
       "  'volunteers'],\n",
       " ['Mather',\n",
       "  'had',\n",
       "  'been',\n",
       "  'interested',\n",
       "  'in',\n",
       "  'inoculation',\n",
       "  'since',\n",
       "  '1715',\n",
       "  'when',\n",
       "  'his',\n",
       "  'slave,',\n",
       "  'Onesimus,',\n",
       "  'informed',\n",
       "  'Mather',\n",
       "  'about',\n",
       "  'a',\n",
       "  'procedure',\n",
       "  'in',\n",
       "  'Africa',\n",
       "  'which',\n",
       "  'made',\n",
       "  'him',\n",
       "  'immune',\n",
       "  'to',\n",
       "  'smallpox',\n",
       "  'for',\n",
       "  'life'],\n",
       " ['Mather',\n",
       "  'read',\n",
       "  'physician',\n",
       "  'Emmanuel',\n",
       "  \"Timoni's\",\n",
       "  'description',\n",
       "  'of',\n",
       "  'a',\n",
       "  'similar',\n",
       "  'procedure',\n",
       "  'witnessed',\n",
       "  'while',\n",
       "  'serving',\n",
       "  'Great',\n",
       "  \"Britain's\",\n",
       "  'ambassador',\n",
       "  'in',\n",
       "  'Turkey'],\n",
       " ['The',\n",
       "  'procedure',\n",
       "  'Timoni',\n",
       "  'called',\n",
       "  'inoculation',\n",
       "  'involved',\n",
       "  'drying',\n",
       "  'pus',\n",
       "  'from',\n",
       "  'a',\n",
       "  'smallpox',\n",
       "  'patient',\n",
       "  'and',\n",
       "  'rubbing',\n",
       "  'or',\n",
       "  'scraping',\n",
       "  'it',\n",
       "  'into',\n",
       "  'the',\n",
       "  'skin',\n",
       "  'of',\n",
       "  'a',\n",
       "  'healthy',\n",
       "  'person,',\n",
       "  'giving',\n",
       "  'them',\n",
       "  'a',\n",
       "  'mild',\n",
       "  'case',\n",
       "  'of',\n",
       "  'pox',\n",
       "  'that',\n",
       "  'conferred',\n",
       "  'lifetime',\n",
       "  'immunity'],\n",
       " ['Mather',\n",
       "  'wanted',\n",
       "  'to',\n",
       "  'prove',\n",
       "  'variolation',\n",
       "  'was',\n",
       "  'a',\n",
       "  'relatively',\n",
       "  'very',\n",
       "  'safe',\n",
       "  'and',\n",
       "  'effective',\n",
       "  'procedure',\n",
       "  'to',\n",
       "  'protect',\n",
       "  'people',\n",
       "  'against',\n",
       "  'smallpox'],\n",
       " ['Most',\n",
       "  'physicians,',\n",
       "  'however,',\n",
       "  'feared',\n",
       "  'the',\n",
       "  'possibility',\n",
       "  'of',\n",
       "  'smallpox',\n",
       "  'fatally',\n",
       "  'spreading',\n",
       "  'and',\n",
       "  'the',\n",
       "  'social',\n",
       "  'implications',\n",
       "  'of',\n",
       "  'deliberately',\n",
       "  'infecting',\n",
       "  'others'],\n",
       " ['Zabdiel',\n",
       "  'Boylston',\n",
       "  'of',\n",
       "  'Harvard',\n",
       "  'University',\n",
       "  'was',\n",
       "  'the',\n",
       "  'only',\n",
       "  'doctor',\n",
       "  'who',\n",
       "  'positively',\n",
       "  'responded',\n",
       "  'to',\n",
       "  \"Mather's\",\n",
       "  'call',\n",
       "  'to',\n",
       "  'action,',\n",
       "  'beginning',\n",
       "  \"America's\",\n",
       "  'first',\n",
       "  'public',\n",
       "  'campaign',\n",
       "  'of',\n",
       "  'inoculation'],\n",
       " ['On',\n",
       "  '26',\n",
       "  'June',\n",
       "  '1721,',\n",
       "  'Boylston',\n",
       "  'first',\n",
       "  'inoculated',\n",
       "  'his',\n",
       "  'six',\n",
       "  'year-old',\n",
       "  'son',\n",
       "  'Thomas,',\n",
       "  'and',\n",
       "  'then',\n",
       "  'his',\n",
       "  '36',\n",
       "  'year-old',\n",
       "  'slave',\n",
       "  'and',\n",
       "  'the',\n",
       "  \"slave's\",\n",
       "  'two',\n",
       "  'year',\n",
       "  'old',\n",
       "  'son'],\n",
       " ['To',\n",
       "  'the',\n",
       "  \"doctor's\",\n",
       "  'relief,',\n",
       "  'all',\n",
       "  'survived',\n",
       "  'relatively',\n",
       "  'mild',\n",
       "  'cases',\n",
       "  'of',\n",
       "  'smallpox',\n",
       "  'without',\n",
       "  'disability',\n",
       "  'or',\n",
       "  'disfigurement'],\n",
       " ['Boylston',\n",
       "  'then',\n",
       "  'felt',\n",
       "  'confident',\n",
       "  'enough',\n",
       "  'about',\n",
       "  'the',\n",
       "  \"procedure's\",\n",
       "  'safety,',\n",
       "  'and',\n",
       "  'over',\n",
       "  'a',\n",
       "  'period',\n",
       "  'of',\n",
       "  'five',\n",
       "  'months',\n",
       "  'during',\n",
       "  'the',\n",
       "  'outbreak',\n",
       "  'inoculated',\n",
       "  '247',\n",
       "  'people',\n",
       "  'in',\n",
       "  'and',\n",
       "  'around',\n",
       "  'Boston',\n",
       "  '(with',\n",
       "  '6',\n",
       "  'fatalities)'],\n",
       " ['On',\n",
       "  'the',\n",
       "  '25',\n",
       "  'November',\n",
       "  '1721,',\n",
       "  'he',\n",
       "  'inoculated',\n",
       "  '15',\n",
       "  'individuals',\n",
       "  'at',\n",
       "  'Harvard:',\n",
       "  'thirteen',\n",
       "  'Harvard',\n",
       "  'students,',\n",
       "  'professor',\n",
       "  'Edward',\n",
       "  'Wiglesworth,',\n",
       "  'and',\n",
       "  'tutor',\n",
       "  'William',\n",
       "  'Welsted'],\n",
       " ['They,',\n",
       "  'too,',\n",
       "  'survived',\n",
       "  'and',\n",
       "  'the',\n",
       "  \"university's\",\n",
       "  'student',\n",
       "  'body',\n",
       "  'and',\n",
       "  'faculty',\n",
       "  'were',\n",
       "  'both',\n",
       "  'fascinated',\n",
       "  'by',\n",
       "  'the',\n",
       "  'novel',\n",
       "  'procedure'],\n",
       " ['Cotton',\n",
       "  'Mather',\n",
       "  'writes',\n",
       "  'in',\n",
       "  'a',\n",
       "  'letter',\n",
       "  'detailing',\n",
       "  \"Boylston's\",\n",
       "  'work',\n",
       "  'in',\n",
       "  'Boston:',\n",
       "  '\"The',\n",
       "  'experiment',\n",
       "  'has',\n",
       "  'now',\n",
       "  'been',\n",
       "  'made',\n",
       "  'on',\n",
       "  'several',\n",
       "  'hundreds',\n",
       "  'of',\n",
       "  'persons,',\n",
       "  'upon',\n",
       "  'both',\n",
       "  'male',\n",
       "  'and',\n",
       "  'female,',\n",
       "  'upon',\n",
       "  'both',\n",
       "  'old',\n",
       "  'and',\n",
       "  'young,',\n",
       "  'upon',\n",
       "  'both',\n",
       "  'strong',\n",
       "  'and',\n",
       "  'weak,',\n",
       "  'upon',\n",
       "  'both',\n",
       "  'white',\n",
       "  'and',\n",
       "  'black'],\n",
       " ['\"Boylston',\n",
       "  'was',\n",
       "  'unable',\n",
       "  'to',\n",
       "  'continue',\n",
       "  'his',\n",
       "  'inoculation',\n",
       "  'campaign',\n",
       "  'beyond',\n",
       "  'November',\n",
       "  'due',\n",
       "  'to',\n",
       "  'opposition',\n",
       "  'from',\n",
       "  \"Boston's\",\n",
       "  'Selectmen',\n",
       "  'restricting',\n",
       "  'him,',\n",
       "  'as',\n",
       "  'well',\n",
       "  'as',\n",
       "  'occasional',\n",
       "  'violence',\n",
       "  'from',\n",
       "  'the',\n",
       "  'public'],\n",
       " ['But',\n",
       "  'a',\n",
       "  'tutor',\n",
       "  'at',\n",
       "  'Harvard',\n",
       "  'inspired',\n",
       "  'by',\n",
       "  'his',\n",
       "  'research,',\n",
       "  'Thomas',\n",
       "  'Robie,',\n",
       "  'continued',\n",
       "  'vaccinating',\n",
       "  'patients',\n",
       "  'at',\n",
       "  'Spectacle',\n",
       "  'Island'],\n",
       " ['One',\n",
       "  'of',\n",
       "  'his',\n",
       "  'patients',\n",
       "  'was',\n",
       "  'another',\n",
       "  'tutor,',\n",
       "  'Nicholas',\n",
       "  'Sevier,',\n",
       "  'who',\n",
       "  'returned',\n",
       "  'to',\n",
       "  'Harvard',\n",
       "  'sixteen',\n",
       "  'days',\n",
       "  'after',\n",
       "  'he',\n",
       "  'was',\n",
       "  'inoculated',\n",
       "  'to',\n",
       "  'report',\n",
       "  'on',\n",
       "  'the',\n",
       "  'success',\n",
       "  'of',\n",
       "  'his',\n",
       "  'procedure'],\n",
       " [\"Harvard's\",\n",
       "  'academic',\n",
       "  'community',\n",
       "  'became',\n",
       "  'more',\n",
       "  'accepting',\n",
       "  'inoculation',\n",
       "  'after',\n",
       "  'the',\n",
       "  'successful',\n",
       "  'experiments',\n",
       "  'of',\n",
       "  'Boylston',\n",
       "  'and',\n",
       "  'Nicholas',\n",
       "  'Sevier'],\n",
       " ['==',\n",
       "  'Inoculation',\n",
       "  'controversy',\n",
       "  'and',\n",
       "  'violence',\n",
       "  '==',\n",
       "  'Cotton',\n",
       "  'Mather',\n",
       "  'believed',\n",
       "  'inoculation',\n",
       "  'was',\n",
       "  'a',\n",
       "  'divine',\n",
       "  'gift',\n",
       "  'to',\n",
       "  'protect',\n",
       "  'people',\n",
       "  'from',\n",
       "  'smallpox',\n",
       "  'and',\n",
       "  'Boylston',\n",
       "  'felt',\n",
       "  'duty-bound',\n",
       "  'to',\n",
       "  'use',\n",
       "  'inoculation',\n",
       "  'to',\n",
       "  'protect',\n",
       "  'his',\n",
       "  'children',\n",
       "  'and',\n",
       "  'others',\n",
       "  'from',\n",
       "  'smallpox'],\n",
       " ['But',\n",
       "  'many',\n",
       "  'contemporaries,',\n",
       "  'especially',\n",
       "  'regular',\n",
       "  'Bostonians',\n",
       "  'with',\n",
       "  'no',\n",
       "  'knowledge',\n",
       "  'or',\n",
       "  'interest',\n",
       "  'for',\n",
       "  'inoculation,',\n",
       "  'were',\n",
       "  'terrified',\n",
       "  'of',\n",
       "  'smallpox',\n",
       "  'spreading',\n",
       "  'from',\n",
       "  'inoculated',\n",
       "  'patients',\n",
       "  'and',\n",
       "  'outraged',\n",
       "  'at',\n",
       "  'the',\n",
       "  'idea',\n",
       "  'of',\n",
       "  'deliberately',\n",
       "  'infecting',\n",
       "  'people'],\n",
       " ['Inoculation', 'also', 'evoked', 'anger', 'from', 'dubious', 'physicians'],\n",
       " ['William',\n",
       "  'Douglass',\n",
       "  'was',\n",
       "  'a',\n",
       "  'vehement',\n",
       "  'inoculation',\n",
       "  'opponent',\n",
       "  'who',\n",
       "  'published',\n",
       "  'anti-inoculation',\n",
       "  'pamphlets',\n",
       "  'in',\n",
       "  'response',\n",
       "  'to',\n",
       "  \"Mather's\",\n",
       "  'experiment'],\n",
       " ['One',\n",
       "  'pamphlet',\n",
       "  'published',\n",
       "  'in',\n",
       "  'The',\n",
       "  'New',\n",
       "  'England',\n",
       "  'Courant',\n",
       "  'read',\n",
       "  '\"Some',\n",
       "  'have',\n",
       "  'been',\n",
       "  'carrying',\n",
       "  'about',\n",
       "  'instruments',\n",
       "  'of',\n",
       "  'inoculation,',\n",
       "  'and',\n",
       "  'bottles',\n",
       "  'of',\n",
       "  'poisonous',\n",
       "  'humor,',\n",
       "  'to',\n",
       "  'infect',\n",
       "  'all',\n",
       "  'who',\n",
       "  'were',\n",
       "  'willing',\n",
       "  'to',\n",
       "  'submit',\n",
       "  'to',\n",
       "  'it'],\n",
       " ['Can',\n",
       "  'any',\n",
       "  'man',\n",
       "  'infect',\n",
       "  'a',\n",
       "  'family',\n",
       "  'in',\n",
       "  'the',\n",
       "  'morning,',\n",
       "  'and',\n",
       "  'pray',\n",
       "  'to',\n",
       "  'God',\n",
       "  'in',\n",
       "  'the',\n",
       "  'evening',\n",
       "  'that',\n",
       "  'the',\n",
       "  'distemper',\n",
       "  'will',\n",
       "  'not',\n",
       "  'spread?\"',\n",
       "  'Douglass',\n",
       "  'believed',\n",
       "  'only',\n",
       "  'accredited',\n",
       "  'medical',\n",
       "  'professionals',\n",
       "  'like',\n",
       "  'himself',\n",
       "  'should',\n",
       "  'conduct',\n",
       "  'such',\n",
       "  'dangerous',\n",
       "  'procedures,',\n",
       "  'while',\n",
       "  'he',\n",
       "  'personally',\n",
       "  'opposed',\n",
       "  'inoculation'],\n",
       " ['Boylston',\n",
       "  'was',\n",
       "  'ridiculed',\n",
       "  'and',\n",
       "  'satirized',\n",
       "  'in',\n",
       "  'the',\n",
       "  'newspapers,',\n",
       "  'portrayed',\n",
       "  'as',\n",
       "  'a',\n",
       "  'quack',\n",
       "  'by',\n",
       "  'Douglass',\n",
       "  'and',\n",
       "  'a',\n",
       "  'French',\n",
       "  'local',\n",
       "  'physician',\n",
       "  'named',\n",
       "  'Dalhonde'],\n",
       " ['Variolation',\n",
       "  'did',\n",
       "  'present',\n",
       "  'an',\n",
       "  'inherent',\n",
       "  'risk',\n",
       "  'of',\n",
       "  'death',\n",
       "  'for',\n",
       "  '2%',\n",
       "  'of',\n",
       "  'those',\n",
       "  'undergoing',\n",
       "  'the',\n",
       "  'procedure'],\n",
       " ['This',\n",
       "  'provided',\n",
       "  'fertile',\n",
       "  'ground',\n",
       "  'for',\n",
       "  'voices',\n",
       "  'opposed',\n",
       "  'to',\n",
       "  'it'],\n",
       " ['Furious',\n",
       "  'rumors',\n",
       "  'swirled',\n",
       "  'around',\n",
       "  'inoculation',\n",
       "  'as',\n",
       "  'The',\n",
       "  'New',\n",
       "  'England',\n",
       "  'Courant',\n",
       "  'published',\n",
       "  'Douglass',\n",
       "  'and',\n",
       "  \"Dalhonde's\",\n",
       "  'sensationalist',\n",
       "  'articles',\n",
       "  'against',\n",
       "  'inoculation'],\n",
       " ['One',\n",
       "  'article',\n",
       "  'by',\n",
       "  'Douglass',\n",
       "  'darkly',\n",
       "  'joked',\n",
       "  'about',\n",
       "  'using',\n",
       "  'smallpox',\n",
       "  'in',\n",
       "  'inoculations',\n",
       "  'to',\n",
       "  'kill',\n",
       "  'off',\n",
       "  'surrounding',\n",
       "  'native',\n",
       "  'communities'],\n",
       " ['Inoculation',\n",
       "  'made',\n",
       "  'Boylston',\n",
       "  'notorious,',\n",
       "  'and',\n",
       "  'a',\n",
       "  'colonial',\n",
       "  'government',\n",
       "  'that',\n",
       "  'rejected',\n",
       "  'the',\n",
       "  'notion',\n",
       "  'of',\n",
       "  'inoculation',\n",
       "  'was',\n",
       "  'deeply',\n",
       "  'skeptical',\n",
       "  'of',\n",
       "  'his',\n",
       "  'and',\n",
       "  \"Mather's\",\n",
       "  'experiment'],\n",
       " ['The',\n",
       "  'Boston',\n",
       "  'City',\n",
       "  'Council',\n",
       "  'summoned',\n",
       "  'Boylston',\n",
       "  'in',\n",
       "  'early',\n",
       "  'August',\n",
       "  'to',\n",
       "  'explain,',\n",
       "  'and',\n",
       "  'the',\n",
       "  'Council',\n",
       "  'condemned',\n",
       "  'inoculation',\n",
       "  'and',\n",
       "  'ordered',\n",
       "  'him',\n",
       "  'to',\n",
       "  'desist',\n",
       "  'immediately'],\n",
       " ['Despite',\n",
       "  'the',\n",
       "  'opposition,',\n",
       "  'Boylston',\n",
       "  'garnered',\n",
       "  'support',\n",
       "  'of',\n",
       "  'local',\n",
       "  'learned',\n",
       "  'men',\n",
       "  'like',\n",
       "  \"Cotton's\",\n",
       "  'father',\n",
       "  'Increase',\n",
       "  'Mather',\n",
       "  'and',\n",
       "  'four',\n",
       "  'other',\n",
       "  '\"inoculation',\n",
       "  'ministers\"',\n",
       "  '(Benjamin',\n",
       "  'Coleman,',\n",
       "  'Thomas',\n",
       "  'Prince,',\n",
       "  'John',\n",
       "  'Webb,',\n",
       "  'and',\n",
       "  'William',\n",
       "  'Cooper)',\n",
       "  'and',\n",
       "  'defiantly',\n",
       "  'resumed',\n",
       "  'inoculating',\n",
       "  'patients',\n",
       "  'two',\n",
       "  'day',\n",
       "  'later'],\n",
       " ['Boylston', 'was', 'assaulted', 'in', 'the', 'streets', 'for', 'this'],\n",
       " ['Eventually',\n",
       "  'his',\n",
       "  'life',\n",
       "  'was',\n",
       "  'threatened',\n",
       "  'to',\n",
       "  'the',\n",
       "  'point',\n",
       "  'where',\n",
       "  'Boylston',\n",
       "  'secretly',\n",
       "  'hid',\n",
       "  'in',\n",
       "  'his',\n",
       "  'house',\n",
       "  'for',\n",
       "  'two',\n",
       "  'weeks'],\n",
       " ['Cotton',\n",
       "  'Mather',\n",
       "  'was',\n",
       "  'also',\n",
       "  'terrorized',\n",
       "  'by',\n",
       "  'an',\n",
       "  'angry',\n",
       "  'public',\n",
       "  'as',\n",
       "  'rumors',\n",
       "  'spread',\n",
       "  'wildly',\n",
       "  'about',\n",
       "  'inoculations'],\n",
       " ['Angry',\n",
       "  'mobs',\n",
       "  'eventually',\n",
       "  'began',\n",
       "  'forcing',\n",
       "  'the',\n",
       "  'variolated',\n",
       "  'to',\n",
       "  'isolate',\n",
       "  'themselves',\n",
       "  'in',\n",
       "  'Spectacle',\n",
       "  \"Island's\",\n",
       "  'quarantine',\n",
       "  'house'],\n",
       " ['Cotton',\n",
       "  'Mather',\n",
       "  'had',\n",
       "  'his',\n",
       "  'nephew',\n",
       "  'Reverend',\n",
       "  'Walter',\n",
       "  'inoculated',\n",
       "  'and',\n",
       "  'offered',\n",
       "  'to',\n",
       "  'let',\n",
       "  'him',\n",
       "  'stay',\n",
       "  'at',\n",
       "  \"Mather's\",\n",
       "  'home',\n",
       "  'while',\n",
       "  'he',\n",
       "  'recovered',\n",
       "  'from',\n",
       "  'smallpox,',\n",
       "  'but',\n",
       "  'a',\n",
       "  'fearful',\n",
       "  'mob',\n",
       "  'attacked',\n",
       "  'the',\n",
       "  'house',\n",
       "  'and',\n",
       "  'threw',\n",
       "  'a',\n",
       "  'crude',\n",
       "  'bomb',\n",
       "  'directly',\n",
       "  'into',\n",
       "  'the',\n",
       "  'room',\n",
       "  'where',\n",
       "  'Walter',\n",
       "  'was',\n",
       "  'staying'],\n",
       " ['The',\n",
       "  'device',\n",
       "  'failed',\n",
       "  'to',\n",
       "  'explode,',\n",
       "  'but',\n",
       "  'a',\n",
       "  'note',\n",
       "  'tied',\n",
       "  'to',\n",
       "  'the',\n",
       "  'device',\n",
       "  'was',\n",
       "  'found',\n",
       "  'that',\n",
       "  'read',\n",
       "  '\"Cotton',\n",
       "  'Mather,',\n",
       "  'I',\n",
       "  'was',\n",
       "  'once',\n",
       "  'of',\n",
       "  'your',\n",
       "  'meeting,',\n",
       "  'but',\n",
       "  'the',\n",
       "  'cursed',\n",
       "  'lye',\n",
       "  'you',\n",
       "  'told',\n",
       "  'of',\n",
       "  '-',\n",
       "  'you',\n",
       "  'know',\n",
       "  'who,',\n",
       "  'made',\n",
       "  'me',\n",
       "  'leave',\n",
       "  'you,',\n",
       "  'you',\n",
       "  'dog,',\n",
       "  'and',\n",
       "  'damn',\n",
       "  'you,',\n",
       "  'I',\n",
       "  'will',\n",
       "  'inoculate',\n",
       "  'you',\n",
       "  'with',\n",
       "  'this,',\n",
       "  'with',\n",
       "  'a',\n",
       "  'pox',\n",
       "  'on',\n",
       "  'you!\"A',\n",
       "  'prominent',\n",
       "  'member',\n",
       "  'of',\n",
       "  \"Boston's\",\n",
       "  'clergy',\n",
       "  'to',\n",
       "  'oppose',\n",
       "  'inoculation',\n",
       "  'was',\n",
       "  'John',\n",
       "  'Williams'],\n",
       " ['Williams',\n",
       "  'criticized',\n",
       "  'variolation',\n",
       "  'as',\n",
       "  'sinful',\n",
       "  'and',\n",
       "  '\"not',\n",
       "  'in',\n",
       "  'the',\n",
       "  'Rules',\n",
       "  'of',\n",
       "  'Natural',\n",
       "  'Physick'],\n",
       " ['\"',\n",
       "  'Cotton',\n",
       "  'Mather',\n",
       "  'countered',\n",
       "  'that',\n",
       "  'to',\n",
       "  'reject',\n",
       "  'inoculation',\n",
       "  'would',\n",
       "  'be',\n",
       "  'a',\n",
       "  'violation',\n",
       "  'of',\n",
       "  'the',\n",
       "  \"Bible's\",\n",
       "  '6th',\n",
       "  'Commandment',\n",
       "  'since',\n",
       "  'many',\n",
       "  'people',\n",
       "  'would',\n",
       "  'die'],\n",
       " ['==',\n",
       "  'Social',\n",
       "  'and',\n",
       "  'scientific',\n",
       "  'impact',\n",
       "  '==',\n",
       "  'The',\n",
       "  'outbreak',\n",
       "  'was',\n",
       "  'the',\n",
       "  'first',\n",
       "  'time',\n",
       "  'in',\n",
       "  'American',\n",
       "  'medicine',\n",
       "  'where',\n",
       "  'the',\n",
       "  'press',\n",
       "  'was',\n",
       "  'used',\n",
       "  'to',\n",
       "  'inform',\n",
       "  '(or',\n",
       "  'alarm)',\n",
       "  'the',\n",
       "  'general',\n",
       "  'public',\n",
       "  'about',\n",
       "  'a',\n",
       "  'health',\n",
       "  'crisis'],\n",
       " ['The',\n",
       "  'New',\n",
       "  'England',\n",
       "  'Courant,',\n",
       "  'under',\n",
       "  'the',\n",
       "  'leadership',\n",
       "  'of',\n",
       "  'its',\n",
       "  'new',\n",
       "  'editor',\n",
       "  '16',\n",
       "  'year-old',\n",
       "  'Benjamin',\n",
       "  'Franklin,',\n",
       "  'continued',\n",
       "  'to',\n",
       "  'publish',\n",
       "  'satirical',\n",
       "  'articles',\n",
       "  'about',\n",
       "  'the',\n",
       "  'Mathers',\n",
       "  'and',\n",
       "  'inoculation',\n",
       "  'in',\n",
       "  'the',\n",
       "  'months',\n",
       "  'following',\n",
       "  'the',\n",
       "  'epidemic'],\n",
       " ['Boylston',\n",
       "  'wrote',\n",
       "  'an',\n",
       "  'account',\n",
       "  'of',\n",
       "  'his',\n",
       "  'experiences',\n",
       "  'with',\n",
       "  'inoculation',\n",
       "  'in',\n",
       "  'An',\n",
       "  'Historical',\n",
       "  'Account',\n",
       "  'of',\n",
       "  'the',\n",
       "  'Small',\n",
       "  'Pox',\n",
       "  'Inoculated',\n",
       "  'in',\n",
       "  'New',\n",
       "  'England'],\n",
       " ['Most',\n",
       "  'of',\n",
       "  \"Boston's\",\n",
       "  'clergy',\n",
       "  'seemed',\n",
       "  'to',\n",
       "  'have',\n",
       "  'supported',\n",
       "  'inoculation,',\n",
       "  'and',\n",
       "  'some',\n",
       "  'wrote',\n",
       "  'an',\n",
       "  'op-ed',\n",
       "  'opposing',\n",
       "  'Williams',\n",
       "  'and',\n",
       "  \"Douglass's\",\n",
       "  'criticism:',\n",
       "  '\"tho',\n",
       "  '[Dr'],\n",
       " ['Boylston]', 'has', 'not', 'had'],\n",
       " [],\n",
       " [],\n",
       " ['an',\n",
       "  'Academic',\n",
       "  'Education,',\n",
       "  'and',\n",
       "  'congruently',\n",
       "  'not',\n",
       "  'the',\n",
       "  'Letters',\n",
       "  'of',\n",
       "  'some',\n",
       "  'Physicians',\n",
       "  'in',\n",
       "  'town,',\n",
       "  'yet',\n",
       "  'he',\n",
       "  'ought',\n",
       "  'by',\n",
       "  'no',\n",
       "  'means',\n",
       "  'be',\n",
       "  'called',\n",
       "  'Illiterate,',\n",
       "  'Ignorant,',\n",
       "  'etc'],\n",
       " ['Would', 'the', 'town', 'bear', '[sic]', 'that', 'Dr'],\n",
       " ['Cutter', 'or', 'Dr'],\n",
       " ['Davis',\n",
       "  'be',\n",
       "  'so',\n",
       "  'treated?\"',\n",
       "  'Minister',\n",
       "  'Benjamin',\n",
       "  'Coleman,',\n",
       "  'believing',\n",
       "  'in',\n",
       "  'inoculation,',\n",
       "  'collected',\n",
       "  'inoculation',\n",
       "  'stories',\n",
       "  'from',\n",
       "  'slaves',\n",
       "  'similar',\n",
       "  'to',\n",
       "  \"Onesimus'\",\n",
       "  'account',\n",
       "  'and',\n",
       "  'published',\n",
       "  '\"Some',\n",
       "  'observations',\n",
       "  'on',\n",
       "  'the',\n",
       "  'new',\n",
       "  'method',\n",
       "  'of',\n",
       "  'receiving',\n",
       "  'the',\n",
       "  'small',\n",
       "  'pox',\n",
       "  'by',\n",
       "  'ingrafting',\n",
       "  'or',\n",
       "  'inoculation\"',\n",
       "  'in',\n",
       "  'opposition',\n",
       "  'to',\n",
       "  'Douglass'],\n",
       " [\"Boston's\",\n",
       "  'smallpox',\n",
       "  'outbreak',\n",
       "  'of',\n",
       "  '1721',\n",
       "  'is',\n",
       "  'unique',\n",
       "  'for',\n",
       "  'motivating',\n",
       "  \"America's\",\n",
       "  'first',\n",
       "  'public',\n",
       "  'inoculation',\n",
       "  'campaign,',\n",
       "  'and',\n",
       "  'the',\n",
       "  'controversy',\n",
       "  'that',\n",
       "  'surrounded',\n",
       "  'it'],\n",
       " ['On',\n",
       "  'the',\n",
       "  '22',\n",
       "  'February',\n",
       "  '1722',\n",
       "  'it',\n",
       "  'was',\n",
       "  'officially',\n",
       "  'announced',\n",
       "  'that',\n",
       "  'no',\n",
       "  'new',\n",
       "  'cases',\n",
       "  'of',\n",
       "  'smallpox',\n",
       "  'were',\n",
       "  'appearing',\n",
       "  'in',\n",
       "  'Boston',\n",
       "  'and',\n",
       "  'the',\n",
       "  'disease',\n",
       "  'was',\n",
       "  'in',\n",
       "  'decline'],\n",
       " ['In',\n",
       "  'the',\n",
       "  \"outbreak's\",\n",
       "  'aftermath,',\n",
       "  'with',\n",
       "  'over',\n",
       "  '800',\n",
       "  'Bostonians',\n",
       "  'dead',\n",
       "  'and',\n",
       "  'many',\n",
       "  'more',\n",
       "  'disfigured',\n",
       "  'from',\n",
       "  'smallpox,',\n",
       "  \"Boylston's\",\n",
       "  '247',\n",
       "  'inoculated',\n",
       "  'patients',\n",
       "  'had',\n",
       "  'a',\n",
       "  '2%',\n",
       "  'death',\n",
       "  'rate',\n",
       "  'versus',\n",
       "  'the',\n",
       "  '15%',\n",
       "  'of',\n",
       "  'people',\n",
       "  'who',\n",
       "  'died',\n",
       "  'if',\n",
       "  'they',\n",
       "  'got',\n",
       "  'smallpox',\n",
       "  'naturally'],\n",
       " [\"Boylston's\",\n",
       "  'successful',\n",
       "  'experiments',\n",
       "  'on',\n",
       "  'students',\n",
       "  'and',\n",
       "  'faculty',\n",
       "  'at',\n",
       "  'Harvard',\n",
       "  'lead',\n",
       "  'to',\n",
       "  'early',\n",
       "  'acceptance',\n",
       "  'in',\n",
       "  \"Boston's\",\n",
       "  'powerful',\n",
       "  'academic',\n",
       "  'community',\n",
       "  'for',\n",
       "  'the',\n",
       "  'procedure'],\n",
       " ['After',\n",
       "  'Mather',\n",
       "  'and',\n",
       "  \"Boylston's\",\n",
       "  'highly-publicized',\n",
       "  'experiments',\n",
       "  'with',\n",
       "  'inoculation,',\n",
       "  'and',\n",
       "  'Lady',\n",
       "  'Mary',\n",
       "  'Wortley',\n",
       "  \"Montagu's\",\n",
       "  'similar',\n",
       "  'experiments',\n",
       "  'during',\n",
       "  'a',\n",
       "  'simultaneous',\n",
       "  'outbreak',\n",
       "  'in',\n",
       "  'London,',\n",
       "  'variolation',\n",
       "  'would',\n",
       "  'become',\n",
       "  'a',\n",
       "  'widespread',\n",
       "  'and',\n",
       "  'well-researched',\n",
       "  'technique',\n",
       "  'in',\n",
       "  'the',\n",
       "  'West',\n",
       "  'decades',\n",
       "  'before',\n",
       "  'Edward',\n",
       "  \"Jenner's\",\n",
       "  'discovery',\n",
       "  'of',\n",
       "  'vaccination',\n",
       "  'with',\n",
       "  'cowpox'],\n",
       " ['==', 'References', '==']]"
      ]
     },
     "execution_count": 38,
     "metadata": {},
     "output_type": "execute_result"
    }
   ],
   "source": [
    "#[[w for w in s.split()] for s in data.split('.')]"
   ]
  },
  {
   "cell_type": "code",
   "execution_count": 5,
   "metadata": {},
   "outputs": [],
   "source": [
    "os.chdir(\"C:/Users/raymo/code/pin-lpt/uncancelled_master/data\")\n",
    "df = pd.read_csv('wiki_edit_content_contro_cleaned.csv')"
   ]
  },
  {
   "cell_type": "code",
   "execution_count": 6,
   "metadata": {},
   "outputs": [
    {
     "data": {
      "text/html": [
       "<div>\n",
       "<style scoped>\n",
       "    .dataframe tbody tr th:only-of-type {\n",
       "        vertical-align: middle;\n",
       "    }\n",
       "\n",
       "    .dataframe tbody tr th {\n",
       "        vertical-align: top;\n",
       "    }\n",
       "\n",
       "    .dataframe thead th {\n",
       "        text-align: right;\n",
       "    }\n",
       "</style>\n",
       "<table border=\"1\" class=\"dataframe\">\n",
       "  <thead>\n",
       "    <tr style=\"text-align: right;\">\n",
       "      <th></th>\n",
       "      <th>Unnamed: 0</th>\n",
       "      <th>index</th>\n",
       "      <th>page_title</th>\n",
       "      <th>content</th>\n",
       "      <th>controversy</th>\n",
       "      <th>rank</th>\n",
       "      <th>total</th>\n",
       "      <th>month</th>\n",
       "      <th>clean_text</th>\n",
       "    </tr>\n",
       "  </thead>\n",
       "  <tbody>\n",
       "    <tr>\n",
       "      <th>0</th>\n",
       "      <td>0</td>\n",
       "      <td>0</td>\n",
       "      <td>\"Polish death camp\" controversy</td>\n",
       "      <td>\"Polish death camp\" and \"Polish concentration ...</td>\n",
       "      <td>1</td>\n",
       "      <td>29</td>\n",
       "      <td>529</td>\n",
       "      <td>2/1/2018</td>\n",
       "      <td>polish death camp polish camp news public worl...</td>\n",
       "    </tr>\n",
       "    <tr>\n",
       "      <th>1</th>\n",
       "      <td>1</td>\n",
       "      <td>1</td>\n",
       "      <td>'Ubadah ibn al-Samit</td>\n",
       "      <td>`Ubadah ibn al-Samit (Arabic: عبادة بن الصامت‎...</td>\n",
       "      <td>1</td>\n",
       "      <td>79</td>\n",
       "      <td>372</td>\n",
       "      <td>1/1/2020</td>\n",
       "      <td>companion chieftain ansar tribe scholar bin ca...</td>\n",
       "    </tr>\n",
       "    <tr>\n",
       "      <th>2</th>\n",
       "      <td>2</td>\n",
       "      <td>2</td>\n",
       "      <td>116th United States Congress</td>\n",
       "      <td>The 116th United States Congress is the curren...</td>\n",
       "      <td>1</td>\n",
       "      <td>17</td>\n",
       "      <td>651</td>\n",
       "      <td>11/1/2018</td>\n",
       "      <td>unit current meet branch unit govern end fourt...</td>\n",
       "    </tr>\n",
       "    <tr>\n",
       "      <th>3</th>\n",
       "      <td>3</td>\n",
       "      <td>3</td>\n",
       "      <td>13 Reasons Why</td>\n",
       "      <td>13 Reasons Why (stylized onscreen as TH1RTEEN ...</td>\n",
       "      <td>1</td>\n",
       "      <td>22</td>\n",
       "      <td>641</td>\n",
       "      <td>4/1/2017</td>\n",
       "      <td>teen drama web thirteen high school student cl...</td>\n",
       "    </tr>\n",
       "    <tr>\n",
       "      <th>4</th>\n",
       "      <td>4</td>\n",
       "      <td>4</td>\n",
       "      <td>1721 Boston smallpox outbreak</td>\n",
       "      <td>In 1721, Boston experienced its worst outbreak...</td>\n",
       "      <td>1</td>\n",
       "      <td>57</td>\n",
       "      <td>360</td>\n",
       "      <td>6/1/2019</td>\n",
       "      <td>boston outbreak smallpox variola outbreak cott...</td>\n",
       "    </tr>\n",
       "  </tbody>\n",
       "</table>\n",
       "</div>"
      ],
      "text/plain": [
       "   Unnamed: 0  index                       page_title  \\\n",
       "0           0      0  \"Polish death camp\" controversy   \n",
       "1           1      1             'Ubadah ibn al-Samit   \n",
       "2           2      2     116th United States Congress   \n",
       "3           3      3                   13 Reasons Why   \n",
       "4           4      4    1721 Boston smallpox outbreak   \n",
       "\n",
       "                                             content  controversy  rank  \\\n",
       "0  \"Polish death camp\" and \"Polish concentration ...            1    29   \n",
       "1  `Ubadah ibn al-Samit (Arabic: عبادة بن الصامت‎...            1    79   \n",
       "2  The 116th United States Congress is the curren...            1    17   \n",
       "3  13 Reasons Why (stylized onscreen as TH1RTEEN ...            1    22   \n",
       "4  In 1721, Boston experienced its worst outbreak...            1    57   \n",
       "\n",
       "   total      month                                         clean_text  \n",
       "0    529   2/1/2018  polish death camp polish camp news public worl...  \n",
       "1    372   1/1/2020  companion chieftain ansar tribe scholar bin ca...  \n",
       "2    651  11/1/2018  unit current meet branch unit govern end fourt...  \n",
       "3    641   4/1/2017  teen drama web thirteen high school student cl...  \n",
       "4    360   6/1/2019  boston outbreak smallpox variola outbreak cott...  "
      ]
     },
     "execution_count": 6,
     "metadata": {},
     "output_type": "execute_result"
    }
   ],
   "source": [
    "df.head()"
   ]
  },
  {
   "cell_type": "code",
   "execution_count": 10,
   "metadata": {},
   "outputs": [],
   "source": [
    "df.drop(columns=['Unnamed: 0','index'], inplace=True)"
   ]
  },
  {
   "cell_type": "code",
   "execution_count": 76,
   "metadata": {},
   "outputs": [],
   "source": [
    "df_test = pd.read_csv('C:/Users/raymo/code/pin-lpt/uncancelled_master/data/Controversial_Tweet.csv', encoding= 'unicode_escape')"
   ]
  },
  {
   "cell_type": "code",
   "execution_count": 24,
   "metadata": {},
   "outputs": [],
   "source": [
    "#df_con = df[df['controversy'] == 1]"
   ]
  },
  {
   "cell_type": "code",
   "execution_count": 4,
   "metadata": {},
   "outputs": [],
   "source": [
    "#df_con.head()"
   ]
  },
  {
   "cell_type": "code",
   "execution_count": 5,
   "metadata": {},
   "outputs": [],
   "source": [
    "#df_test['Tweet']"
   ]
  },
  {
   "cell_type": "code",
   "execution_count": 23,
   "metadata": {},
   "outputs": [],
   "source": [
    "with open('english_stopwords.txt', 'r') as f:\n",
    "    stop_words = [line.strip() for line in f]"
   ]
  },
  {
   "cell_type": "code",
   "execution_count": 24,
   "metadata": {},
   "outputs": [],
   "source": [
    "def rev_punc(text):\n",
    "    for punctuation in string.punctuation:\n",
    "        text = text.replace(punctuation,'') \n",
    "    return text\n",
    "\n",
    "def cre_low(text):\n",
    "    word_tokens = word_tokenize(text) \n",
    "    text = [w.lower() for w in word_tokens]\n",
    "    return ' '.join(text)\n",
    "\n",
    "def rev_num(text):\n",
    "    word_tokens = word_tokenize(text) \n",
    "    text = [w for w in word_tokens if not w.isdigit()] \n",
    "    return ' '.join(text)\n",
    "\n",
    "def rev_stop(text):\n",
    "    word_tokens = word_tokenize(text) \n",
    "    text = [w for w in word_tokens if not w in stop_words] \n",
    "    return ' '.join(text)\n",
    "\n",
    "def keep_noun(text):\n",
    "    word_tokens = word_tokenize(text) \n",
    "    text = [w for (w, pos) in nltk.pos_tag(word_tokens) if pos == 'NN' or pos == 'JJ'] \n",
    "    return ' '.join(text)\n",
    "\n",
    "stemmer = SnowballStemmer(\"english\")\n",
    "def word_lem(text):\n",
    "    word_tokens = word_tokenize(text)\n",
    "    text = [stemmer.stem(w) for w in word_tokens]\n",
    "    return ' '.join(text)\n",
    "\n",
    "words = set(nltk.corpus.words.words())\n",
    "def rev_nonen(text):\n",
    "    word_tokens = word_tokenize(text) \n",
    "    text = [w for w in word_tokens if w in words] \n",
    "    return ' '.join(text)\n",
    "\n",
    "def remove_urls(text):\n",
    "    url_pattern = re.compile(r'https?://\\S+|www\\.\\S+')\n",
    "    return url_pattern.sub(r'', text)"
   ]
  },
  {
   "cell_type": "code",
   "execution_count": 30,
   "metadata": {},
   "outputs": [],
   "source": [
    "df['clean_text'] = df['content'].apply(rev_punc).apply(cre_low).apply(rev_num).apply(rev_stop).apply(keep_noun).apply(rev_nonen).apply(word_lem)"
   ]
  },
  {
   "cell_type": "code",
   "execution_count": 32,
   "metadata": {},
   "outputs": [],
   "source": [
    "#df_con.to_csv(\"wiki_edit_content_contro_cleaned.csv\")"
   ]
  },
  {
   "cell_type": "code",
   "execution_count": 54,
   "metadata": {},
   "outputs": [],
   "source": [
    "# def spell_check(text):\n",
    "#     nlp = spacy.load('en_core_web_sm')\n",
    "#     contextualSpellCheck.add_to_pipe(nlp)\n",
    "#     doc = nlp(text)\n",
    "#     return doc._.outcome_spellCheck"
   ]
  },
  {
   "cell_type": "code",
   "execution_count": 153,
   "metadata": {},
   "outputs": [],
   "source": [
    "#df_test['Tweet_sc'] = df_test['Tweet'].apply(spell_check)"
   ]
  },
  {
   "cell_type": "code",
   "execution_count": 35,
   "metadata": {},
   "outputs": [
    {
     "data": {
      "text/html": [
       "<div>\n",
       "<style scoped>\n",
       "    .dataframe tbody tr th:only-of-type {\n",
       "        vertical-align: middle;\n",
       "    }\n",
       "\n",
       "    .dataframe tbody tr th {\n",
       "        vertical-align: top;\n",
       "    }\n",
       "\n",
       "    .dataframe thead th {\n",
       "        text-align: right;\n",
       "    }\n",
       "</style>\n",
       "<table border=\"1\" class=\"dataframe\">\n",
       "  <thead>\n",
       "    <tr style=\"text-align: right;\">\n",
       "      <th></th>\n",
       "      <th>page_title</th>\n",
       "      <th>content</th>\n",
       "      <th>controversy</th>\n",
       "      <th>rank</th>\n",
       "      <th>total</th>\n",
       "      <th>month</th>\n",
       "      <th>clean_text</th>\n",
       "    </tr>\n",
       "  </thead>\n",
       "  <tbody>\n",
       "    <tr>\n",
       "      <th>0</th>\n",
       "      <td>\"Polish death camp\" controversy</td>\n",
       "      <td>\"Polish death camp\" and \"Polish concentration ...</td>\n",
       "      <td>1</td>\n",
       "      <td>29</td>\n",
       "      <td>529</td>\n",
       "      <td>2/1/2018</td>\n",
       "      <td>polish death camp polish concentr camp controv...</td>\n",
       "    </tr>\n",
       "    <tr>\n",
       "      <th>1</th>\n",
       "      <td>'Ubadah ibn al-Samit</td>\n",
       "      <td>`Ubadah ibn al-Samit (Arabic: عبادة بن الصامت‎...</td>\n",
       "      <td>1</td>\n",
       "      <td>79</td>\n",
       "      <td>372</td>\n",
       "      <td>1/1/2020</td>\n",
       "      <td>companion chieftain ansar confeder battl offic...</td>\n",
       "    </tr>\n",
       "    <tr>\n",
       "      <th>2</th>\n",
       "      <td>116th United States Congress</td>\n",
       "      <td>The 116th United States Congress is the curren...</td>\n",
       "      <td>1</td>\n",
       "      <td>17</td>\n",
       "      <td>651</td>\n",
       "      <td>11/1/2018</td>\n",
       "      <td>unit current meet legisl branch unit feder gov...</td>\n",
       "    </tr>\n",
       "    <tr>\n",
       "      <th>3</th>\n",
       "      <td>13 Reasons Why</td>\n",
       "      <td>13 Reasons Why (stylized onscreen as TH1RTEEN ...</td>\n",
       "      <td>1</td>\n",
       "      <td>22</td>\n",
       "      <td>641</td>\n",
       "      <td>4/1/2017</td>\n",
       "      <td>teen drama web televis seri thirteen seri high...</td>\n",
       "    </tr>\n",
       "    <tr>\n",
       "      <th>4</th>\n",
       "      <td>1721 Boston smallpox outbreak</td>\n",
       "      <td>In 1721, Boston experienced its worst outbreak...</td>\n",
       "      <td>1</td>\n",
       "      <td>57</td>\n",
       "      <td>360</td>\n",
       "      <td>6/1/2019</td>\n",
       "      <td>boston outbreak smallpox variola outbreak moti...</td>\n",
       "    </tr>\n",
       "  </tbody>\n",
       "</table>\n",
       "</div>"
      ],
      "text/plain": [
       "                        page_title  \\\n",
       "0  \"Polish death camp\" controversy   \n",
       "1             'Ubadah ibn al-Samit   \n",
       "2     116th United States Congress   \n",
       "3                   13 Reasons Why   \n",
       "4    1721 Boston smallpox outbreak   \n",
       "\n",
       "                                             content  controversy  rank  \\\n",
       "0  \"Polish death camp\" and \"Polish concentration ...            1    29   \n",
       "1  `Ubadah ibn al-Samit (Arabic: عبادة بن الصامت‎...            1    79   \n",
       "2  The 116th United States Congress is the curren...            1    17   \n",
       "3  13 Reasons Why (stylized onscreen as TH1RTEEN ...            1    22   \n",
       "4  In 1721, Boston experienced its worst outbreak...            1    57   \n",
       "\n",
       "   total      month                                         clean_text  \n",
       "0    529   2/1/2018  polish death camp polish concentr camp controv...  \n",
       "1    372   1/1/2020  companion chieftain ansar confeder battl offic...  \n",
       "2    651  11/1/2018  unit current meet legisl branch unit feder gov...  \n",
       "3    641   4/1/2017  teen drama web televis seri thirteen seri high...  \n",
       "4    360   6/1/2019  boston outbreak smallpox variola outbreak moti...  "
      ]
     },
     "execution_count": 35,
     "metadata": {},
     "output_type": "execute_result"
    }
   ],
   "source": [
    "df.head()"
   ]
  },
  {
   "cell_type": "code",
   "execution_count": 43,
   "metadata": {},
   "outputs": [],
   "source": [
    "all_text = []\n",
    "for i in range(10):\n",
    "    all_text.append(word_tokenize(df['clean_text'][i]))\n",
    "\n",
    "all_text = [item for sublist in all_text for item in sublist]"
   ]
  },
  {
   "cell_type": "code",
   "execution_count": 45,
   "metadata": {},
   "outputs": [
    {
     "data": {
      "text/plain": [
       "[('season', 159),\n",
       " ('polish', 94),\n",
       " ('final', 92),\n",
       " ('seri', 77),\n",
       " ('second', 54),\n",
       " ('death', 53),\n",
       " ('high', 52),\n",
       " ('hous', 49),\n",
       " ('cartel', 49),\n",
       " ('film', 47),\n",
       " ('suicid', 46),\n",
       " ('unit', 42),\n",
       " ('caliph', 39),\n",
       " ('liberti', 39),\n",
       " ('new', 38),\n",
       " ('german', 37),\n",
       " ('govern', 37),\n",
       " ('famili', 36),\n",
       " ('drug', 32),\n",
       " ('camp', 30),\n",
       " ('campaign', 30),\n",
       " ('time', 30),\n",
       " ('inocul', 30),\n",
       " ('gulf', 30),\n",
       " ('respons', 29),\n",
       " ('presid', 29),\n",
       " ('war', 28),\n",
       " ('congress', 28),\n",
       " ('june', 27),\n",
       " ('life', 27),\n",
       " ('public', 26),\n",
       " ('nation', 25),\n",
       " ('march', 25),\n",
       " ('battl', 25),\n",
       " ('school', 24),\n",
       " ('committe', 23),\n",
       " ('health', 23),\n",
       " ('student', 23),\n",
       " ('act', 22),\n",
       " ('critic', 22),\n",
       " ('concentr', 21),\n",
       " ('law', 21),\n",
       " ('armi', 21),\n",
       " ('general', 20),\n",
       " ('use', 19),\n",
       " ('investig', 19),\n",
       " ('televis', 18),\n",
       " ('leader', 18),\n",
       " ('militari', 18),\n",
       " ('abu', 18),\n",
       " ('inform', 18),\n",
       " ('polic', 18),\n",
       " ('holocaust', 17),\n",
       " ('express', 17),\n",
       " ('major', 17),\n",
       " ('senat', 17),\n",
       " ('mosqu', 17),\n",
       " ('world', 16),\n",
       " ('intern', 16),\n",
       " ('state', 16),\n",
       " ('mental', 16),\n",
       " ('releas', 16),\n",
       " ('cast', 16),\n",
       " ('smallpox', 16),\n",
       " ('report', 15),\n",
       " ('young', 15),\n",
       " ('offic', 15),\n",
       " ('day', 15),\n",
       " ('fourth', 15),\n",
       " ('clay', 15),\n",
       " ('child', 15),\n",
       " ('controversi', 14),\n",
       " ('legisl', 14),\n",
       " ('local', 14),\n",
       " ('success', 14),\n",
       " ('leadership', 14),\n",
       " ('citi', 14),\n",
       " ('republican', 14),\n",
       " ('rate', 14),\n",
       " ('averag', 14),\n",
       " ('histori', 13),\n",
       " ('histor', 13),\n",
       " ('council', 13),\n",
       " ('content', 13),\n",
       " ('person', 13),\n",
       " ('chief', 13),\n",
       " ('night', 13),\n",
       " ('feder', 13),\n",
       " ('team', 13),\n",
       " ('josh', 13),\n",
       " ('episod', 13),\n",
       " ('maint', 13),\n",
       " ('minist', 12),\n",
       " ('servic', 12),\n",
       " ('chairman', 12),\n",
       " ('support', 12),\n",
       " ('group', 12),\n",
       " ('end', 12),\n",
       " ('august', 12),\n",
       " ('scene', 12)]"
      ]
     },
     "execution_count": 45,
     "metadata": {},
     "output_type": "execute_result"
    }
   ],
   "source": [
    "co_all = Counter(all_text)\n",
    "co_all.most_common(100)"
   ]
  },
  {
   "cell_type": "code",
   "execution_count": 65,
   "metadata": {},
   "outputs": [],
   "source": [
    "no_mean = ['season', 'final', 'seri', 'second','high','hous', 'film','unit','new','time', 'june','student','person','day','success','averag','night', 'team','group','august']\n",
    "def rev_nomean(text):\n",
    "    word_tokens = word_tokenize(text) \n",
    "    text = [w for w in word_tokens if not w in stop_words] \n",
    "    return ' '.join(text)"
   ]
  },
  {
   "cell_type": "code",
   "execution_count": 66,
   "metadata": {},
   "outputs": [],
   "source": [
    "df['clean_text'] = df['clean_text'].apply(rev_nomean)"
   ]
  },
  {
   "cell_type": "code",
   "execution_count": 67,
   "metadata": {},
   "outputs": [
    {
     "data": {
      "text/plain": [
       "0       polish death camp polish concentr camp controv...\n",
       "1       companion chieftain ansar confeder battl offic...\n",
       "2       unit current meet legisl branch unit feder gov...\n",
       "3       teen drama web televis seri thirteen seri high...\n",
       "4       boston outbreak smallpox variola outbreak moti...\n",
       "5       war film sam film mark strong madden colin fir...\n",
       "6       divis outdoor track field june tad stadium uni...\n",
       "7       unit drug enforc administr feder bureau invest...\n",
       "8       divis outdoor track field june stadium state u...\n",
       "9       realiti televis cabl channel cancel famili bob...\n",
       "10      scienc fiction action film banner second franc...\n",
       "11      divis outdoor track field divis track field di...\n",
       "12      tsunami tidal wave volcan erupt island sea act...\n",
       "13      divis indoor track field divis indoor track fi...\n",
       "14      divis indoor track field divis indoor track fi...\n",
       "15      local elector calendar recal retent nation spe...\n",
       "16      championship cup edit championship footbal cha...\n",
       "17      footbal leagu season season elit footbal compe...\n",
       "18      atlant hurrican season hurrican season major s...\n",
       "19      truck market kaiser memori church berlin dead ...\n",
       "20      tram sharp bend junction total sustain incid u...\n",
       "21      govern seri issuanc new exchang prime minist a...\n",
       "22      earthquak earthquak new multipl earthquak comp...\n",
       "23      music ahoy time place second time citi venu pr...\n",
       "24      divis footbal season level colleg footbal comp...\n",
       "25      season season histori nation footbal leagu sea...\n",
       "26      unexplod new york metropolitan area wound morn...\n",
       "27      north ocean cyclon season event annual cycl tr...\n",
       "28      pacif hurrican season activ season record alon...\n",
       "29      pacif typhoon season start pacif typhoon seaso...\n",
       "                              ...                        \n",
       "2328    annual profession wrestl event network event r...\n",
       "2329    annual profession wrestl network event raw bra...\n",
       "2330    wise film historian critic editor publish foun...\n",
       "2331    superhero film seri fiction superhero team ser...\n",
       "2332    honor essenti growth success adult publish fou...\n",
       "2333    june rapper singer controversi figur legal cul...\n",
       "2334    ye eighth studio album rapper west june good m...\n",
       "2335    hain drama televis seri march star rhea plot s...\n",
       "2336    stori languag age romant period drama televis ...\n",
       "2337    yellow movement yellow movement movement econo...\n",
       "2338    yeomanri cavalri compon volunt corp militari a...\n",
       "2339    video seri portal interact recap viral music y...\n",
       "2340    san shooter exterior park garag outdoor patio ...\n",
       "2341    need calm song swift june second singl seventh...\n",
       "2342    young justic season superhero seri young justi...\n",
       "2343    youth intern parti yip radic revolutionari off...\n",
       "2344    age larg period time past present futur kali c...\n",
       "2345    yummi song singer lyric video jam singl fifth ...\n",
       "2346    ice ice anim televis seri figur seri origin ch...\n",
       "2347                                 languag realiti danc\n",
       "2348    club club club profession footbal team premier...\n",
       "2349    general author church day church death new yor...\n",
       "2350    energi possibl energi quantum mechan classic q...\n",
       "2351    zero romant film colour yellow red khan rukh k...\n",
       "2352    hedg libertarian financi news extern hedg bear...\n",
       "2353    zoom video technolog compani san chat platform...\n",
       "2354    hous dar ta palac centuri renaiss privat garde...\n",
       "2355    saint church cathol church saint church rue ru...\n",
       "2356    album collect audio collect compact disc vinyl...\n",
       "2357    interstellar object solar telescop observatori...\n",
       "Name: clean_text, Length: 2358, dtype: object"
      ]
     },
     "execution_count": 67,
     "metadata": {},
     "output_type": "execute_result"
    }
   ],
   "source": [
    "df['clean_text']"
   ]
  },
  {
   "cell_type": "code",
   "execution_count": 77,
   "metadata": {},
   "outputs": [],
   "source": [
    "df_test['clean_text'] = df_test['Tweet'].apply(remove_urls)"
   ]
  },
  {
   "cell_type": "code",
   "execution_count": 78,
   "metadata": {},
   "outputs": [],
   "source": [
    "df_test['clean_text'] = df_test['clean_text'].apply(rev_punc).apply(cre_low).apply(rev_num).apply(rev_stop).apply(word_lem)"
   ]
  },
  {
   "cell_type": "code",
   "execution_count": 50,
   "metadata": {},
   "outputs": [],
   "source": [
    "def getUniqueWords(text):\n",
    "    word_tokens = word_tokenize(text)\n",
    "    uniqueWords = [] \n",
    "    for i in word_tokens:\n",
    "        if not i in uniqueWords:\n",
    "            uniqueWords.append(i)\n",
    "    return uniqueWords"
   ]
  },
  {
   "cell_type": "code",
   "execution_count": 80,
   "metadata": {},
   "outputs": [],
   "source": [
    "df_test['test_doc'] = df_test['clean_text'].apply(getUniqueWords)"
   ]
  },
  {
   "cell_type": "code",
   "execution_count": 105,
   "metadata": {},
   "outputs": [],
   "source": [
    "#df_test.to_csv(\"Controversial_Tweet_Clean.csv\")"
   ]
  },
  {
   "cell_type": "code",
   "execution_count": 156,
   "metadata": {},
   "outputs": [],
   "source": [
    "df_con.reset_index(inplace=True)"
   ]
  },
  {
   "cell_type": "code",
   "execution_count": 68,
   "metadata": {},
   "outputs": [],
   "source": [
    "docs = []\n",
    "for i in range(len(df)):\n",
    "    docs.append([df['clean_text'][i]])"
   ]
  },
  {
   "cell_type": "code",
   "execution_count": 69,
   "metadata": {},
   "outputs": [],
   "source": [
    "docs_common = []\n",
    "for  i in range(len(df)):\n",
    "    Co = Counter(word_tokenize(docs[i][0]))\n",
    "    most_occur = Co.most_common(20)\n",
    "    docs_common.append([most_occur[i][0] for i in range(len(most_occur))])"
   ]
  },
  {
   "cell_type": "code",
   "execution_count": 70,
   "metadata": {},
   "outputs": [
    {
     "data": {
      "text/plain": [
       "['film',\n",
       " 'crore',\n",
       " 'day',\n",
       " 'team',\n",
       " 'work',\n",
       " 'second',\n",
       " 'equival',\n",
       " 'mobil',\n",
       " 'releas',\n",
       " 'schedul',\n",
       " 'visual',\n",
       " 'citi',\n",
       " 'cell',\n",
       " 'phone',\n",
       " 'bird',\n",
       " 'busi',\n",
       " 'origin',\n",
       " 'robot',\n",
       " 'radiat',\n",
       " 'half']"
      ]
     },
     "execution_count": 70,
     "metadata": {},
     "output_type": "execute_result"
    }
   ],
   "source": [
    "docs_common[10]"
   ]
  },
  {
   "cell_type": "code",
   "execution_count": 47,
   "metadata": {
    "jupyter": {
     "source_hidden": true
    }
   },
   "outputs": [],
   "source": [
    "# def getUniqueWords(allWords) :\n",
    "#     uniqueWords = [] \n",
    "#     for i in allWords:\n",
    "#         if not i in uniqueWords:\n",
    "#             uniqueWords.append(i)\n",
    "#     return uniqueWords"
   ]
  },
  {
   "cell_type": "code",
   "execution_count": 127,
   "metadata": {},
   "outputs": [
    {
     "data": {
      "text/plain": [
       "['war film sam film mark strong madden colin firth benedict time world war i place german retreat line film young attack import attack project june chapman rest cast march place june cinematograph roger editor lee long film unit unit kingdom entertain film widespread critic box success visual sound mix film sound sound award sound film golden globe bafta film director golden film nation board review film aerial german sector western northern franc retreat withdraw new line overwhelm field young veteran blake general colonel second battalion regiment morn blake cross reach abandon german rat blake german plane shot dogfight aircraft blake save pilot pilot pilot shot dead mission write tag letter unit canal cross sniper sniper shoot conscious night town woman infant food milk farm plea clock time german death river riverbank d attack colonel time open battlefield way meet attack wave mission brother dead pass tag upset brother write mother photograph wife product new project june sam screenplay film roger chapman month compos score march month benedict colin firth mark strong madden jami parker cast august child fragment time i i war western i import free good film roger film fourth camera effect shot black hour film conscious night fact i afternoon dusk night dawn i film shot digit cinema camera use camera format sensor origin begin week focal film river june common surrey concern plain product disturb survey construct background film shot low river june product staff area site river drone cast crew local outdoor music score film royal film perform film limit unit wide studio film home digit march ultra march recept box unit total product budget net profit film film day limit open weekend gross film total limit wide day night gross weekend origin film star box second weekend wide film day finish second bad life second weekend film weekend critic review rotten film rate review rate consensus impress technic world war i raw film weight score favor film f scale film linden report write time film stand film motion certain motion major accomplish film join canon way visual i effect arent familiar unleash review chang posit film technic spectacular style impress new york film war modern showmanship alison war film sound mix visual golden globe motion drama director director film film director outstand film nation board review film year film german withdraw new line place march main new york playwright war concern human life high command young true great war scale loss historian film german line line unit attack film cast black number black world war i like regiment war black group regiment west end western east real time quiet western list world war i extern']"
      ]
     },
     "execution_count": 127,
     "metadata": {},
     "output_type": "execute_result"
    }
   ],
   "source": [
    "docs[5]"
   ]
  },
  {
   "cell_type": "code",
   "execution_count": 71,
   "metadata": {},
   "outputs": [],
   "source": [
    "vocab = set(x for doc in docs_common for x in doc)"
   ]
  },
  {
   "cell_type": "code",
   "execution_count": 72,
   "metadata": {},
   "outputs": [
    {
     "data": {
      "text/plain": [
       "5030"
      ]
     },
     "execution_count": 72,
     "metadata": {},
     "output_type": "execute_result"
    }
   ],
   "source": [
    "len(vocab)"
   ]
  },
  {
   "cell_type": "code",
   "execution_count": 62,
   "metadata": {
    "jupyter": {
     "source_hidden": true
    }
   },
   "outputs": [],
   "source": [
    "from numpy.random import multinomial\n",
    "from numpy import log, exp\n",
    "from numpy import argmax\n",
    "from tqdm import tqdm\n",
    "import json\n",
    "\n",
    "class MovieGroupProcess:\n",
    "    def __init__(self, K=8, alpha=0.1, beta=0.1, n_iters=30):\n",
    "        '''\n",
    "        A MovieGroupProcess is a conceptual model introduced by Yin and Wang 2014 to\n",
    "        describe their Gibbs sampling algorithm for a Dirichlet Mixture Model for the\n",
    "        clustering short text documents.\n",
    "        Reference: http://dbgroup.cs.tsinghua.edu.cn/wangjy/papers/KDD14-GSDMM.pdf\n",
    "        Imagine a professor is leading a film class. At the start of the class, the students\n",
    "        are randomly assigned to K tables. Before class begins, the students make lists of\n",
    "        their favorite films. The teacher reads the role n_iters times. When\n",
    "        a student is called, the student must select a new table satisfying either:\n",
    "            1) The new table has more students than the current table.\n",
    "        OR\n",
    "            2) The new table has students with similar lists of favorite movies.\n",
    "        :param K: int\n",
    "            Upper bound on the number of possible clusters. Typically many fewer\n",
    "        :param alpha: float between 0 and 1\n",
    "            Alpha controls the probability that a student will join a table that is currently empty\n",
    "            When alpha is 0, no one will join an empty table.\n",
    "        :param beta: float between 0 and 1\n",
    "            Beta controls the student's affinity for other students with similar interests. A low beta means\n",
    "            that students desire to sit with students of similar interests. A high beta means they are less\n",
    "            concerned with affinity and are more influenced by the popularity of a table\n",
    "        :param n_iters:\n",
    "        '''\n",
    "        self.K = K\n",
    "        self.alpha = alpha\n",
    "        self.beta = beta\n",
    "        self.n_iters = n_iters\n",
    "\n",
    "        # slots for computed variables\n",
    "        self.number_docs = None\n",
    "        self.vocab_size = None\n",
    "        self.cluster_doc_count = [0 for _ in range(K)]\n",
    "        self.cluster_word_count = [0 for _ in range(K)]\n",
    "        self.cluster_word_distribution = [{} for i in range(K)]\n",
    "\n",
    "    @staticmethod\n",
    "    def from_data(K, alpha, beta, D, vocab_size, cluster_doc_count, cluster_word_count, cluster_word_distribution):\n",
    "        '''\n",
    "        Reconstitute a MovieGroupProcess from previously fit data\n",
    "        :param K:\n",
    "        :param alpha:\n",
    "        :param beta:\n",
    "        :param D:\n",
    "        :param vocab_size:\n",
    "        :param cluster_doc_count:\n",
    "        :param cluster_word_count:\n",
    "        :param cluster_word_distribution:\n",
    "        :return:\n",
    "        '''\n",
    "        mgp = MovieGroupProcess(K, alpha, beta, n_iters=30)\n",
    "        mgp.number_docs = D\n",
    "        mgp.vocab_size = vocab_size\n",
    "        mgp.cluster_doc_count = cluster_doc_count\n",
    "        mgp.cluster_word_count = cluster_word_count\n",
    "        mgp.cluster_word_distribution = cluster_word_distribution\n",
    "        return mgp\n",
    "\n",
    "    @staticmethod\n",
    "    def _sample(p):\n",
    "        '''\n",
    "        Sample with probability vector p from a multinomial distribution\n",
    "        :param p: list\n",
    "            List of probabilities representing probability vector for the multinomial distribution\n",
    "        :return: int\n",
    "            index of randomly selected output\n",
    "        '''\n",
    "        return [i for i, entry in enumerate(multinomial(1, p)) if entry != 0][0]\n",
    "\n",
    "    def fit(self, docs, vocab_size):\n",
    "        '''\n",
    "        Cluster the input documents\n",
    "        :param docs: list of list\n",
    "            list of lists containing the unique token set of each document\n",
    "        :param V: total vocabulary size for each document\n",
    "        :return: list of length len(doc)\n",
    "            cluster label for each document\n",
    "        '''\n",
    "        alpha, beta, K, n_iters, V = self.alpha, self.beta, self.K, self.n_iters, vocab_size\n",
    "\n",
    "        D = len(docs)\n",
    "        self.number_docs = D\n",
    "        self.vocab_size = vocab_size\n",
    "\n",
    "        # unpack to easy var names\n",
    "        m_z, n_z, n_z_w = self.cluster_doc_count, self.cluster_word_count, self.cluster_word_distribution\n",
    "        cluster_count = K\n",
    "        d_z = [None for i in range(len(docs))]\n",
    "\n",
    "        # initialize the clusters\n",
    "        for i, doc in enumerate(docs):\n",
    "\n",
    "            # choose a random  initial cluster for the doc\n",
    "            z = self._sample([1.0 / K for _ in range(K)])\n",
    "            d_z[i] = z\n",
    "            m_z[z] += 1\n",
    "            n_z[z] += len(doc)\n",
    "\n",
    "            for word in doc:\n",
    "                if word not in n_z_w[z]:\n",
    "                    n_z_w[z][word] = 0\n",
    "                n_z_w[z][word] += 1\n",
    "\n",
    "        for _iter in tqdm(range(n_iters)):\n",
    "            total_transfers = 0\n",
    "\n",
    "            for i, doc in enumerate(docs):\n",
    "\n",
    "                # remove the doc from it's current cluster\n",
    "                z_old = d_z[i]\n",
    "\n",
    "                m_z[z_old] -= 1\n",
    "                n_z[z_old] -= len(doc)\n",
    "\n",
    "                for word in doc:\n",
    "                    n_z_w[z_old][word] -= 1\n",
    "\n",
    "                    # compact dictionary to save space\n",
    "                    if n_z_w[z_old][word] == 0:\n",
    "                        del n_z_w[z_old][word]\n",
    "\n",
    "                # draw sample from distribution to find new cluster\n",
    "                p = self.score(doc)\n",
    "                z_new = self._sample(p)\n",
    "\n",
    "                # transfer doc to the new cluster\n",
    "                if z_new != z_old:\n",
    "                    total_transfers += 1\n",
    "\n",
    "                d_z[i] = z_new\n",
    "                m_z[z_new] += 1\n",
    "                n_z[z_new] += len(doc)\n",
    "\n",
    "                for word in doc:\n",
    "                    if word not in n_z_w[z_new]:\n",
    "                        n_z_w[z_new][word] = 0\n",
    "                    n_z_w[z_new][word] += 1\n",
    "\n",
    "            cluster_count_new = sum([1 for v in m_z if v > 0])\n",
    "            print(\"In stage %d: transferred %d clusters with %d clusters populated\" % (\n",
    "            _iter, total_transfers, cluster_count_new))\n",
    "            if total_transfers == 0 and cluster_count_new == cluster_count and _iter>25:\n",
    "                print(\"Converged.  Breaking out.\")\n",
    "                break\n",
    "            cluster_count = cluster_count_new\n",
    "        self.cluster_word_distribution = n_z_w\n",
    "        return d_z\n",
    "\n",
    "    def score(self, doc):\n",
    "        '''\n",
    "        Score a document\n",
    "        Implements formula (3) of Yin and Wang 2014.\n",
    "        http://dbgroup.cs.tsinghua.edu.cn/wangjy/papers/KDD14-GSDMM.pdf\n",
    "        :param doc: list[str]: The doc token stream\n",
    "        :return: list[float]: A length K probability vector where each component represents\n",
    "                              the probability of the document appearing in a particular cluster\n",
    "        '''\n",
    "        alpha, beta, K, V, D = self.alpha, self.beta, self.K, self.vocab_size, self.number_docs\n",
    "        m_z, n_z, n_z_w = self.cluster_doc_count, self.cluster_word_count, self.cluster_word_distribution\n",
    "\n",
    "        p = [0 for _ in range(K)]\n",
    "\n",
    "        #  We break the formula into the following pieces\n",
    "        #  p = N1*N2/(D1*D2) = exp(lN1 - lD1 + lN2 - lD2)\n",
    "        #  lN1 = log(m_z[z] + alpha)\n",
    "        #  lN2 = log(D - 1 + K*alpha)\n",
    "        #  lN2 = log(product(n_z_w[w] + beta)) = sum(log(n_z_w[w] + beta))\n",
    "        #  lD2 = log(product(n_z[d] + V*beta + i -1)) = sum(log(n_z[d] + V*beta + i -1))\n",
    "\n",
    "        lD1 = log(D - 1 + K * alpha)\n",
    "        doc_size = len(doc)\n",
    "        for label in range(K):\n",
    "            lN1 = log(m_z[label] + alpha)\n",
    "            lN2 = 0\n",
    "            lD2 = 0\n",
    "            for word in doc:\n",
    "                lN2 += log(n_z_w[label].get(word, 0) + beta)\n",
    "            for j in range(1, doc_size +1):\n",
    "                lD2 += log(n_z[label] + V * beta + j - 1)\n",
    "            p[label] = exp(lN1 - lD1 + lN2 - lD2)\n",
    "\n",
    "        # normalize the probability vector\n",
    "        pnorm = sum(p)\n",
    "        pnorm = pnorm if pnorm>0 else 1\n",
    "        return [pp/pnorm for pp in p]\n",
    "\n",
    "    def choose_best_label(self, doc):\n",
    "        '''\n",
    "        Choose the highest probability label for the input document\n",
    "        :param doc: list[str]: The doc token stream\n",
    "        :return:\n",
    "        '''\n",
    "        p = self.score(doc)\n",
    "        return argmax(p),max(p)"
   ]
  },
  {
   "cell_type": "code",
   "execution_count": 98,
   "metadata": {},
   "outputs": [
    {
     "name": "stderr",
     "output_type": "stream",
     "text": [
      "c:\\users\\raymo\\.venvs\\lewagon\\lib\\site-packages\\ipykernel_launcher.py:1: FutureWarning: The signature of `Series.to_csv` was aligned to that of `DataFrame.to_csv`, and argument 'header' will change its default value from False to True: please pass an explicit value to suppress this warning.\n",
      "  \"\"\"Entry point for launching an IPython kernel.\n"
     ]
    }
   ],
   "source": [
    "df['page_title'].to_csv('wiki_page_title.csv')"
   ]
  },
  {
   "cell_type": "code",
   "execution_count": 94,
   "metadata": {
    "collapsed": true,
    "jupyter": {
     "outputs_hidden": true
    }
   },
   "outputs": [
    {
     "name": "stderr",
     "output_type": "stream",
     "text": [
      "  2%|▏         | 1/50 [00:01<00:52,  1.07s/it]"
     ]
    },
    {
     "name": "stdout",
     "output_type": "stream",
     "text": [
      "In stage 0: transferred 1693 clusters with 5 clusters populated\n"
     ]
    },
    {
     "name": "stderr",
     "output_type": "stream",
     "text": [
      "  6%|▌         | 3/50 [00:03<00:50,  1.07s/it]"
     ]
    },
    {
     "name": "stdout",
     "output_type": "stream",
     "text": [
      "In stage 1: transferred 732 clusters with 5 clusters populated\n",
      "In stage 2: transferred 271 clusters with 5 clusters populated\n"
     ]
    },
    {
     "name": "stderr",
     "output_type": "stream",
     "text": [
      "  8%|▊         | 4/50 [00:04<00:48,  1.06s/it]"
     ]
    },
    {
     "name": "stdout",
     "output_type": "stream",
     "text": [
      "In stage 3: transferred 167 clusters with 5 clusters populated\n"
     ]
    },
    {
     "name": "stderr",
     "output_type": "stream",
     "text": [
      " 10%|█         | 5/50 [00:05<00:46,  1.04s/it]"
     ]
    },
    {
     "name": "stdout",
     "output_type": "stream",
     "text": [
      "In stage 4: transferred 70 clusters with 5 clusters populated\n"
     ]
    },
    {
     "name": "stderr",
     "output_type": "stream",
     "text": [
      " 14%|█▍        | 7/50 [00:07<00:46,  1.08s/it]"
     ]
    },
    {
     "name": "stdout",
     "output_type": "stream",
     "text": [
      "In stage 5: transferred 65 clusters with 5 clusters populated\n",
      "In stage 6: transferred 67 clusters with 5 clusters populated\n"
     ]
    },
    {
     "name": "stderr",
     "output_type": "stream",
     "text": [
      " 16%|█▌        | 8/50 [00:08<00:44,  1.05s/it]"
     ]
    },
    {
     "name": "stdout",
     "output_type": "stream",
     "text": [
      "In stage 7: transferred 62 clusters with 5 clusters populated\n",
      "In stage 8: transferred 59 clusters with 5 clusters populated"
     ]
    },
    {
     "name": "stderr",
     "output_type": "stream",
     "text": [
      " 18%|█▊        | 9/50 [00:09<00:43,  1.07s/it]"
     ]
    },
    {
     "name": "stdout",
     "output_type": "stream",
     "text": [
      "\n"
     ]
    },
    {
     "name": "stderr",
     "output_type": "stream",
     "text": [
      " 20%|██        | 10/50 [00:10<00:43,  1.08s/it]"
     ]
    },
    {
     "name": "stdout",
     "output_type": "stream",
     "text": [
      "In stage 9: transferred 64 clusters with 5 clusters populated\n"
     ]
    },
    {
     "name": "stderr",
     "output_type": "stream",
     "text": [
      " 24%|██▍       | 12/50 [00:12<00:39,  1.03s/it]"
     ]
    },
    {
     "name": "stdout",
     "output_type": "stream",
     "text": [
      "In stage 10: transferred 63 clusters with 5 clusters populated\n",
      "In stage 11: transferred 62 clusters with 5 clusters populated\n"
     ]
    },
    {
     "name": "stderr",
     "output_type": "stream",
     "text": [
      " 28%|██▊       | 14/50 [00:14<00:37,  1.03s/it]"
     ]
    },
    {
     "name": "stdout",
     "output_type": "stream",
     "text": [
      "In stage 12: transferred 51 clusters with 5 clusters populated\n",
      "In stage 13: transferred 42 clusters with 5 clusters populated\n"
     ]
    },
    {
     "name": "stderr",
     "output_type": "stream",
     "text": [
      " 30%|███       | 15/50 [00:15<00:35,  1.01s/it]"
     ]
    },
    {
     "name": "stdout",
     "output_type": "stream",
     "text": [
      "In stage 14: transferred 50 clusters with 5 clusters populated\n"
     ]
    },
    {
     "name": "stderr",
     "output_type": "stream",
     "text": [
      " 32%|███▏      | 16/50 [00:16<00:35,  1.04s/it]"
     ]
    },
    {
     "name": "stdout",
     "output_type": "stream",
     "text": [
      "In stage 15: transferred 54 clusters with 5 clusters populated\n"
     ]
    },
    {
     "name": "stderr",
     "output_type": "stream",
     "text": [
      " 34%|███▍      | 17/50 [00:18<00:36,  1.11s/it]"
     ]
    },
    {
     "name": "stdout",
     "output_type": "stream",
     "text": [
      "In stage 16: transferred 42 clusters with 5 clusters populated\n"
     ]
    },
    {
     "name": "stderr",
     "output_type": "stream",
     "text": [
      " 40%|████      | 20/50 [00:20<00:30,  1.01s/it]"
     ]
    },
    {
     "name": "stdout",
     "output_type": "stream",
     "text": [
      "In stage 17: transferred 53 clusters with 5 clusters populated\n",
      "In stage 18: transferred 33 clusters with 5 clusters populated\n",
      "In stage 19: transferred 42 clusters with 5 clusters populated\n"
     ]
    },
    {
     "name": "stderr",
     "output_type": "stream",
     "text": [
      " 42%|████▏     | 21/50 [00:22<00:30,  1.06s/it]"
     ]
    },
    {
     "name": "stdout",
     "output_type": "stream",
     "text": [
      "In stage 20: transferred 38 clusters with 5 clusters populated\n"
     ]
    },
    {
     "name": "stderr",
     "output_type": "stream",
     "text": [
      " 44%|████▍     | 22/50 [00:23<00:29,  1.05s/it]"
     ]
    },
    {
     "name": "stdout",
     "output_type": "stream",
     "text": [
      "In stage 21: transferred 34 clusters with 5 clusters populated\n"
     ]
    },
    {
     "name": "stderr",
     "output_type": "stream",
     "text": [
      " 46%|████▌     | 23/50 [00:24<00:29,  1.09s/it]"
     ]
    },
    {
     "name": "stdout",
     "output_type": "stream",
     "text": [
      "In stage 22: transferred 37 clusters with 5 clusters populated\n"
     ]
    },
    {
     "name": "stderr",
     "output_type": "stream",
     "text": [
      " 50%|█████     | 25/50 [00:26<00:27,  1.09s/it]"
     ]
    },
    {
     "name": "stdout",
     "output_type": "stream",
     "text": [
      "In stage 23: transferred 40 clusters with 5 clusters populated\n",
      "In stage 24: transferred 48 clusters with 5 clusters populated\n"
     ]
    },
    {
     "name": "stderr",
     "output_type": "stream",
     "text": [
      " 54%|█████▍    | 27/50 [00:28<00:24,  1.08s/it]"
     ]
    },
    {
     "name": "stdout",
     "output_type": "stream",
     "text": [
      "In stage 25: transferred 34 clusters with 5 clusters populated\n",
      "In stage 26: transferred 38 clusters with 5 clusters populated\n"
     ]
    },
    {
     "name": "stderr",
     "output_type": "stream",
     "text": [
      " 56%|█████▌    | 28/50 [00:29<00:22,  1.02s/it]"
     ]
    },
    {
     "name": "stdout",
     "output_type": "stream",
     "text": [
      "In stage 27: transferred 43 clusters with 5 clusters populated\n"
     ]
    },
    {
     "name": "stderr",
     "output_type": "stream",
     "text": [
      " 60%|██████    | 30/50 [00:31<00:20,  1.04s/it]"
     ]
    },
    {
     "name": "stdout",
     "output_type": "stream",
     "text": [
      "In stage 28: transferred 44 clusters with 5 clusters populated\n",
      "In stage 29: transferred 35 clusters with 5 clusters populated\n",
      "In stage 30: transferred 44 clusters with 5 clusters populated"
     ]
    },
    {
     "name": "stderr",
     "output_type": "stream",
     "text": [
      " 64%|██████▍   | 32/50 [00:33<00:18,  1.02s/it]"
     ]
    },
    {
     "name": "stdout",
     "output_type": "stream",
     "text": [
      "\n",
      "In stage 31: transferred 41 clusters with 5 clusters populated\n",
      "In stage 32: transferred 43 clusters with 5 clusters populated"
     ]
    },
    {
     "name": "stderr",
     "output_type": "stream",
     "text": [
      " 66%|██████▌   | 33/50 [00:34<00:17,  1.02s/it]"
     ]
    },
    {
     "name": "stdout",
     "output_type": "stream",
     "text": [
      "\n"
     ]
    },
    {
     "name": "stderr",
     "output_type": "stream",
     "text": [
      " 68%|██████▊   | 34/50 [00:35<00:16,  1.02s/it]"
     ]
    },
    {
     "name": "stdout",
     "output_type": "stream",
     "text": [
      "In stage 33: transferred 46 clusters with 5 clusters populated\n"
     ]
    },
    {
     "name": "stderr",
     "output_type": "stream",
     "text": [
      " 72%|███████▏  | 36/50 [00:37<00:14,  1.04s/it]"
     ]
    },
    {
     "name": "stdout",
     "output_type": "stream",
     "text": [
      "In stage 34: transferred 40 clusters with 5 clusters populated\n",
      "In stage 35: transferred 41 clusters with 5 clusters populated\n",
      "In stage 36: transferred 43 clusters with 5 clusters populated"
     ]
    },
    {
     "name": "stderr",
     "output_type": "stream",
     "text": [
      " 78%|███████▊  | 39/50 [00:40<00:11,  1.01s/it]"
     ]
    },
    {
     "name": "stdout",
     "output_type": "stream",
     "text": [
      "\n",
      "In stage 37: transferred 38 clusters with 5 clusters populated\n",
      "In stage 38: transferred 41 clusters with 5 clusters populated\n"
     ]
    },
    {
     "name": "stderr",
     "output_type": "stream",
     "text": [
      " 80%|████████  | 40/50 [00:41<00:10,  1.02s/it]"
     ]
    },
    {
     "name": "stdout",
     "output_type": "stream",
     "text": [
      "In stage 39: transferred 45 clusters with 5 clusters populated\n",
      "In stage 40: transferred 45 clusters with 5 clusters populated\n"
     ]
    },
    {
     "name": "stderr",
     "output_type": "stream",
     "text": [
      " 84%|████████▍ | 42/50 [00:43<00:08,  1.04s/it]"
     ]
    },
    {
     "name": "stdout",
     "output_type": "stream",
     "text": [
      "In stage 41: transferred 39 clusters with 5 clusters populated\n"
     ]
    },
    {
     "name": "stderr",
     "output_type": "stream",
     "text": [
      " 88%|████████▊ | 44/50 [00:46<00:06,  1.08s/it]"
     ]
    },
    {
     "name": "stdout",
     "output_type": "stream",
     "text": [
      "In stage 42: transferred 43 clusters with 5 clusters populated\n",
      "In stage 43: transferred 35 clusters with 5 clusters populated\n"
     ]
    },
    {
     "name": "stderr",
     "output_type": "stream",
     "text": [
      " 90%|█████████ | 45/50 [00:47<00:05,  1.11s/it]"
     ]
    },
    {
     "name": "stdout",
     "output_type": "stream",
     "text": [
      "In stage 44: transferred 37 clusters with 5 clusters populated\n"
     ]
    },
    {
     "name": "stderr",
     "output_type": "stream",
     "text": [
      " 92%|█████████▏| 46/50 [00:48<00:04,  1.17s/it]"
     ]
    },
    {
     "name": "stdout",
     "output_type": "stream",
     "text": [
      "In stage 45: transferred 48 clusters with 5 clusters populated\n"
     ]
    },
    {
     "name": "stderr",
     "output_type": "stream",
     "text": [
      " 96%|█████████▌| 48/50 [00:51<00:02,  1.23s/it]"
     ]
    },
    {
     "name": "stdout",
     "output_type": "stream",
     "text": [
      "In stage 46: transferred 47 clusters with 5 clusters populated\n",
      "In stage 47: transferred 41 clusters with 5 clusters populated\n"
     ]
    },
    {
     "name": "stderr",
     "output_type": "stream",
     "text": [
      " 98%|█████████▊| 49/50 [00:52<00:01,  1.23s/it]"
     ]
    },
    {
     "name": "stdout",
     "output_type": "stream",
     "text": [
      "In stage 48: transferred 41 clusters with 5 clusters populated\n"
     ]
    },
    {
     "name": "stderr",
     "output_type": "stream",
     "text": [
      "100%|██████████| 50/50 [00:53<00:00,  1.07s/it]"
     ]
    },
    {
     "name": "stdout",
     "output_type": "stream",
     "text": [
      "In stage 49: transferred 41 clusters with 5 clusters populated\n"
     ]
    },
    {
     "name": "stderr",
     "output_type": "stream",
     "text": [
      "\n",
      "  4%|▍         | 2/50 [00:03<01:32,  1.94s/it]"
     ]
    },
    {
     "name": "stdout",
     "output_type": "stream",
     "text": [
      "In stage 0: transferred 1911 clusters with 10 clusters populated\n",
      "In stage 1: transferred 850 clusters with 10 clusters populated\n"
     ]
    },
    {
     "name": "stderr",
     "output_type": "stream",
     "text": [
      "  6%|▌         | 3/50 [00:05<01:31,  1.96s/it]"
     ]
    },
    {
     "name": "stdout",
     "output_type": "stream",
     "text": [
      "In stage 2: transferred 355 clusters with 10 clusters populated\n"
     ]
    },
    {
     "name": "stderr",
     "output_type": "stream",
     "text": [
      "  8%|▊         | 4/50 [00:07<01:29,  1.95s/it]"
     ]
    },
    {
     "name": "stdout",
     "output_type": "stream",
     "text": [
      "In stage 3: transferred 178 clusters with 10 clusters populated\n"
     ]
    },
    {
     "name": "stderr",
     "output_type": "stream",
     "text": [
      " 10%|█         | 5/50 [00:09<01:28,  1.96s/it]"
     ]
    },
    {
     "name": "stdout",
     "output_type": "stream",
     "text": [
      "In stage 4: transferred 117 clusters with 10 clusters populated\n"
     ]
    },
    {
     "name": "stderr",
     "output_type": "stream",
     "text": [
      " 12%|█▏        | 6/50 [00:11<01:25,  1.94s/it]"
     ]
    },
    {
     "name": "stdout",
     "output_type": "stream",
     "text": [
      "In stage 5: transferred 73 clusters with 10 clusters populated\n"
     ]
    },
    {
     "name": "stderr",
     "output_type": "stream",
     "text": [
      " 14%|█▍        | 7/50 [00:13<01:24,  1.96s/it]"
     ]
    },
    {
     "name": "stdout",
     "output_type": "stream",
     "text": [
      "In stage 6: transferred 71 clusters with 10 clusters populated\n"
     ]
    },
    {
     "name": "stderr",
     "output_type": "stream",
     "text": [
      " 16%|█▌        | 8/50 [00:15<01:22,  1.97s/it]"
     ]
    },
    {
     "name": "stdout",
     "output_type": "stream",
     "text": [
      "In stage 7: transferred 72 clusters with 10 clusters populated\n"
     ]
    },
    {
     "name": "stderr",
     "output_type": "stream",
     "text": [
      " 18%|█▊        | 9/50 [00:17<01:19,  1.95s/it]"
     ]
    },
    {
     "name": "stdout",
     "output_type": "stream",
     "text": [
      "In stage 8: transferred 77 clusters with 10 clusters populated\n"
     ]
    },
    {
     "name": "stderr",
     "output_type": "stream",
     "text": [
      " 20%|██        | 10/50 [00:19<01:18,  1.96s/it]"
     ]
    },
    {
     "name": "stdout",
     "output_type": "stream",
     "text": [
      "In stage 9: transferred 65 clusters with 10 clusters populated\n"
     ]
    },
    {
     "name": "stderr",
     "output_type": "stream",
     "text": [
      " 22%|██▏       | 11/50 [00:21<01:19,  2.03s/it]"
     ]
    },
    {
     "name": "stdout",
     "output_type": "stream",
     "text": [
      "In stage 10: transferred 53 clusters with 10 clusters populated\n"
     ]
    },
    {
     "name": "stderr",
     "output_type": "stream",
     "text": [
      " 26%|██▌       | 13/50 [00:25<01:13,  2.00s/it]"
     ]
    },
    {
     "name": "stdout",
     "output_type": "stream",
     "text": [
      "In stage 11: transferred 60 clusters with 10 clusters populated\n",
      "In stage 12: transferred 56 clusters with 10 clusters populated\n"
     ]
    },
    {
     "name": "stderr",
     "output_type": "stream",
     "text": [
      " 30%|███       | 15/50 [00:30<01:12,  2.07s/it]"
     ]
    },
    {
     "name": "stdout",
     "output_type": "stream",
     "text": [
      "In stage 13: transferred 54 clusters with 10 clusters populated\n",
      "In stage 14: transferred 66 clusters with 10 clusters populated\n"
     ]
    },
    {
     "name": "stderr",
     "output_type": "stream",
     "text": [
      " 32%|███▏      | 16/50 [00:31<01:07,  1.98s/it]"
     ]
    },
    {
     "name": "stdout",
     "output_type": "stream",
     "text": [
      "In stage 15: transferred 58 clusters with 10 clusters populated\n"
     ]
    },
    {
     "name": "stderr",
     "output_type": "stream",
     "text": [
      " 34%|███▍      | 17/50 [00:33<01:04,  1.95s/it]"
     ]
    },
    {
     "name": "stdout",
     "output_type": "stream",
     "text": [
      "In stage 16: transferred 58 clusters with 10 clusters populated\n"
     ]
    },
    {
     "name": "stderr",
     "output_type": "stream",
     "text": [
      " 36%|███▌      | 18/50 [00:35<01:02,  1.95s/it]"
     ]
    },
    {
     "name": "stdout",
     "output_type": "stream",
     "text": [
      "In stage 17: transferred 60 clusters with 10 clusters populated\n"
     ]
    },
    {
     "name": "stderr",
     "output_type": "stream",
     "text": [
      " 40%|████      | 20/50 [00:39<00:57,  1.92s/it]"
     ]
    },
    {
     "name": "stdout",
     "output_type": "stream",
     "text": [
      "In stage 18: transferred 51 clusters with 10 clusters populated\n",
      "In stage 19: transferred 54 clusters with 10 clusters populated\n"
     ]
    },
    {
     "name": "stderr",
     "output_type": "stream",
     "text": [
      " 42%|████▏     | 21/50 [00:41<00:55,  1.92s/it]"
     ]
    },
    {
     "name": "stdout",
     "output_type": "stream",
     "text": [
      "In stage 20: transferred 59 clusters with 10 clusters populated\n"
     ]
    },
    {
     "name": "stderr",
     "output_type": "stream",
     "text": [
      " 44%|████▍     | 22/50 [00:43<00:56,  2.00s/it]"
     ]
    },
    {
     "name": "stdout",
     "output_type": "stream",
     "text": [
      "In stage 21: transferred 60 clusters with 10 clusters populated\n"
     ]
    },
    {
     "name": "stderr",
     "output_type": "stream",
     "text": [
      " 46%|████▌     | 23/50 [00:45<00:53,  1.97s/it]"
     ]
    },
    {
     "name": "stdout",
     "output_type": "stream",
     "text": [
      "In stage 22: transferred 60 clusters with 10 clusters populated\n"
     ]
    },
    {
     "name": "stderr",
     "output_type": "stream",
     "text": [
      " 48%|████▊     | 24/50 [00:47<00:52,  2.02s/it]"
     ]
    },
    {
     "name": "stdout",
     "output_type": "stream",
     "text": [
      "In stage 23: transferred 52 clusters with 10 clusters populated\n"
     ]
    },
    {
     "name": "stderr",
     "output_type": "stream",
     "text": [
      " 50%|█████     | 25/50 [00:49<00:51,  2.05s/it]"
     ]
    },
    {
     "name": "stdout",
     "output_type": "stream",
     "text": [
      "In stage 24: transferred 55 clusters with 10 clusters populated\n"
     ]
    },
    {
     "name": "stderr",
     "output_type": "stream",
     "text": [
      " 52%|█████▏    | 26/50 [00:52<00:53,  2.24s/it]"
     ]
    },
    {
     "name": "stdout",
     "output_type": "stream",
     "text": [
      "In stage 25: transferred 55 clusters with 10 clusters populated\n"
     ]
    },
    {
     "name": "stderr",
     "output_type": "stream",
     "text": [
      " 54%|█████▍    | 27/50 [00:54<00:51,  2.24s/it]"
     ]
    },
    {
     "name": "stdout",
     "output_type": "stream",
     "text": [
      "In stage 26: transferred 52 clusters with 10 clusters populated\n"
     ]
    },
    {
     "name": "stderr",
     "output_type": "stream",
     "text": [
      " 56%|█████▌    | 28/50 [00:56<00:48,  2.20s/it]"
     ]
    },
    {
     "name": "stdout",
     "output_type": "stream",
     "text": [
      "In stage 27: transferred 57 clusters with 10 clusters populated\n"
     ]
    },
    {
     "name": "stderr",
     "output_type": "stream",
     "text": [
      " 58%|█████▊    | 29/50 [00:58<00:46,  2.21s/it]"
     ]
    },
    {
     "name": "stdout",
     "output_type": "stream",
     "text": [
      "In stage 28: transferred 50 clusters with 10 clusters populated\n"
     ]
    },
    {
     "name": "stderr",
     "output_type": "stream",
     "text": [
      " 60%|██████    | 30/50 [01:00<00:42,  2.12s/it]"
     ]
    },
    {
     "name": "stdout",
     "output_type": "stream",
     "text": [
      "In stage 29: transferred 57 clusters with 10 clusters populated\n"
     ]
    },
    {
     "name": "stderr",
     "output_type": "stream",
     "text": [
      " 62%|██████▏   | 31/50 [01:02<00:39,  2.10s/it]"
     ]
    },
    {
     "name": "stdout",
     "output_type": "stream",
     "text": [
      "In stage 30: transferred 60 clusters with 10 clusters populated\n",
      "In stage 31: transferred 52 clusters with 10 clusters populated"
     ]
    },
    {
     "name": "stderr",
     "output_type": "stream",
     "text": [
      " 64%|██████▍   | 32/50 [01:04<00:36,  2.02s/it]"
     ]
    },
    {
     "name": "stdout",
     "output_type": "stream",
     "text": [
      "\n"
     ]
    },
    {
     "name": "stderr",
     "output_type": "stream",
     "text": [
      " 66%|██████▌   | 33/50 [01:06<00:34,  2.00s/it]"
     ]
    },
    {
     "name": "stdout",
     "output_type": "stream",
     "text": [
      "In stage 32: transferred 47 clusters with 10 clusters populated\n"
     ]
    },
    {
     "name": "stderr",
     "output_type": "stream",
     "text": [
      " 70%|███████   | 35/50 [01:10<00:30,  2.02s/it]"
     ]
    },
    {
     "name": "stdout",
     "output_type": "stream",
     "text": [
      "In stage 33: transferred 46 clusters with 10 clusters populated\n",
      "In stage 34: transferred 51 clusters with 10 clusters populated\n"
     ]
    },
    {
     "name": "stderr",
     "output_type": "stream",
     "text": [
      " 72%|███████▏  | 36/50 [01:12<00:27,  1.99s/it]"
     ]
    },
    {
     "name": "stdout",
     "output_type": "stream",
     "text": [
      "In stage 35: transferred 59 clusters with 10 clusters populated\n"
     ]
    },
    {
     "name": "stderr",
     "output_type": "stream",
     "text": [
      " 74%|███████▍  | 37/50 [01:15<00:27,  2.08s/it]"
     ]
    },
    {
     "name": "stdout",
     "output_type": "stream",
     "text": [
      "In stage 36: transferred 62 clusters with 10 clusters populated\n"
     ]
    },
    {
     "name": "stderr",
     "output_type": "stream",
     "text": [
      " 76%|███████▌  | 38/50 [01:17<00:27,  2.25s/it]"
     ]
    },
    {
     "name": "stdout",
     "output_type": "stream",
     "text": [
      "In stage 37: transferred 45 clusters with 10 clusters populated\n"
     ]
    },
    {
     "name": "stderr",
     "output_type": "stream",
     "text": [
      " 78%|███████▊  | 39/50 [01:20<00:26,  2.43s/it]"
     ]
    },
    {
     "name": "stdout",
     "output_type": "stream",
     "text": [
      "In stage 38: transferred 33 clusters with 10 clusters populated\n"
     ]
    },
    {
     "name": "stderr",
     "output_type": "stream",
     "text": [
      " 82%|████████▏ | 41/50 [01:24<00:20,  2.26s/it]"
     ]
    },
    {
     "name": "stdout",
     "output_type": "stream",
     "text": [
      "In stage 39: transferred 46 clusters with 10 clusters populated\n",
      "In stage 40: transferred 44 clusters with 10 clusters populated\n"
     ]
    },
    {
     "name": "stderr",
     "output_type": "stream",
     "text": [
      " 84%|████████▍ | 42/50 [01:26<00:17,  2.17s/it]"
     ]
    },
    {
     "name": "stdout",
     "output_type": "stream",
     "text": [
      "In stage 41: transferred 58 clusters with 10 clusters populated\n"
     ]
    },
    {
     "name": "stderr",
     "output_type": "stream",
     "text": [
      " 86%|████████▌ | 43/50 [01:28<00:15,  2.17s/it]"
     ]
    },
    {
     "name": "stdout",
     "output_type": "stream",
     "text": [
      "In stage 42: transferred 55 clusters with 10 clusters populated\n"
     ]
    },
    {
     "name": "stderr",
     "output_type": "stream",
     "text": [
      " 88%|████████▊ | 44/50 [01:31<00:12,  2.17s/it]"
     ]
    },
    {
     "name": "stdout",
     "output_type": "stream",
     "text": [
      "In stage 43: transferred 58 clusters with 10 clusters populated\n"
     ]
    },
    {
     "name": "stderr",
     "output_type": "stream",
     "text": [
      " 90%|█████████ | 45/50 [01:33<00:10,  2.12s/it]"
     ]
    },
    {
     "name": "stdout",
     "output_type": "stream",
     "text": [
      "In stage 44: transferred 61 clusters with 10 clusters populated\n",
      "In stage 45: transferred 50 clusters with 10 clusters populated"
     ]
    },
    {
     "name": "stderr",
     "output_type": "stream",
     "text": [
      " 94%|█████████▍| 47/50 [01:36<00:05,  1.99s/it]"
     ]
    },
    {
     "name": "stdout",
     "output_type": "stream",
     "text": [
      "\n",
      "In stage 46: transferred 48 clusters with 10 clusters populated\n"
     ]
    },
    {
     "name": "stderr",
     "output_type": "stream",
     "text": [
      " 96%|█████████▌| 48/50 [01:38<00:03,  1.97s/it]"
     ]
    },
    {
     "name": "stdout",
     "output_type": "stream",
     "text": [
      "In stage 47: transferred 48 clusters with 10 clusters populated\n"
     ]
    },
    {
     "name": "stderr",
     "output_type": "stream",
     "text": [
      "100%|██████████| 50/50 [01:42<00:00,  1.97s/it]"
     ]
    },
    {
     "name": "stdout",
     "output_type": "stream",
     "text": [
      "In stage 48: transferred 50 clusters with 10 clusters populated\n",
      "In stage 49: transferred 43 clusters with 10 clusters populated\n"
     ]
    },
    {
     "name": "stderr",
     "output_type": "stream",
     "text": [
      "100%|██████████| 50/50 [01:42<00:00,  2.05s/it]\n",
      "  2%|▏         | 1/50 [00:02<02:10,  2.67s/it]"
     ]
    },
    {
     "name": "stdout",
     "output_type": "stream",
     "text": [
      "In stage 0: transferred 2022 clusters with 15 clusters populated\n"
     ]
    },
    {
     "name": "stderr",
     "output_type": "stream",
     "text": [
      "  4%|▍         | 2/50 [00:05<02:10,  2.71s/it]"
     ]
    },
    {
     "name": "stdout",
     "output_type": "stream",
     "text": [
      "In stage 1: transferred 857 clusters with 15 clusters populated\n"
     ]
    },
    {
     "name": "stderr",
     "output_type": "stream",
     "text": [
      "  8%|▊         | 4/50 [00:10<02:04,  2.71s/it]"
     ]
    },
    {
     "name": "stdout",
     "output_type": "stream",
     "text": [
      "In stage 2: transferred 414 clusters with 15 clusters populated\n",
      "In stage 3: transferred 241 clusters with 15 clusters populated\n"
     ]
    },
    {
     "name": "stderr",
     "output_type": "stream",
     "text": [
      " 10%|█         | 5/50 [00:13<02:02,  2.71s/it]"
     ]
    },
    {
     "name": "stdout",
     "output_type": "stream",
     "text": [
      "In stage 4: transferred 180 clusters with 15 clusters populated\n"
     ]
    },
    {
     "name": "stderr",
     "output_type": "stream",
     "text": [
      " 14%|█▍        | 7/50 [00:19<01:57,  2.74s/it]"
     ]
    },
    {
     "name": "stdout",
     "output_type": "stream",
     "text": [
      "In stage 5: transferred 144 clusters with 15 clusters populated\n",
      "In stage 6: transferred 126 clusters with 15 clusters populated\n"
     ]
    },
    {
     "name": "stderr",
     "output_type": "stream",
     "text": [
      " 18%|█▊        | 9/50 [00:24<01:52,  2.73s/it]"
     ]
    },
    {
     "name": "stdout",
     "output_type": "stream",
     "text": [
      "In stage 7: transferred 128 clusters with 15 clusters populated\n",
      "In stage 8: transferred 124 clusters with 15 clusters populated\n"
     ]
    },
    {
     "name": "stderr",
     "output_type": "stream",
     "text": [
      " 20%|██        | 10/50 [00:27<01:52,  2.82s/it]"
     ]
    },
    {
     "name": "stdout",
     "output_type": "stream",
     "text": [
      "In stage 9: transferred 112 clusters with 15 clusters populated\n"
     ]
    },
    {
     "name": "stderr",
     "output_type": "stream",
     "text": [
      " 22%|██▏       | 11/50 [00:30<01:50,  2.84s/it]"
     ]
    },
    {
     "name": "stdout",
     "output_type": "stream",
     "text": [
      "In stage 10: transferred 102 clusters with 15 clusters populated\n"
     ]
    },
    {
     "name": "stderr",
     "output_type": "stream",
     "text": [
      " 26%|██▌       | 13/50 [00:35<01:42,  2.77s/it]"
     ]
    },
    {
     "name": "stdout",
     "output_type": "stream",
     "text": [
      "In stage 11: transferred 68 clusters with 15 clusters populated\n",
      "In stage 12: transferred 71 clusters with 15 clusters populated\n"
     ]
    },
    {
     "name": "stderr",
     "output_type": "stream",
     "text": [
      " 28%|██▊       | 14/50 [00:38<01:40,  2.80s/it]"
     ]
    },
    {
     "name": "stdout",
     "output_type": "stream",
     "text": [
      "In stage 13: transferred 69 clusters with 15 clusters populated\n"
     ]
    },
    {
     "name": "stderr",
     "output_type": "stream",
     "text": [
      " 30%|███       | 15/50 [00:41<01:37,  2.80s/it]"
     ]
    },
    {
     "name": "stdout",
     "output_type": "stream",
     "text": [
      "In stage 14: transferred 61 clusters with 15 clusters populated\n"
     ]
    },
    {
     "name": "stderr",
     "output_type": "stream",
     "text": [
      " 32%|███▏      | 16/50 [00:44<01:37,  2.87s/it]"
     ]
    },
    {
     "name": "stdout",
     "output_type": "stream",
     "text": [
      "In stage 15: transferred 59 clusters with 15 clusters populated\n"
     ]
    },
    {
     "name": "stderr",
     "output_type": "stream",
     "text": [
      " 36%|███▌      | 18/50 [00:50<01:30,  2.82s/it]"
     ]
    },
    {
     "name": "stdout",
     "output_type": "stream",
     "text": [
      "In stage 16: transferred 57 clusters with 15 clusters populated\n",
      "In stage 17: transferred 61 clusters with 15 clusters populated\n"
     ]
    },
    {
     "name": "stderr",
     "output_type": "stream",
     "text": [
      " 38%|███▊      | 19/50 [00:52<01:27,  2.82s/it]"
     ]
    },
    {
     "name": "stdout",
     "output_type": "stream",
     "text": [
      "In stage 18: transferred 59 clusters with 15 clusters populated\n"
     ]
    },
    {
     "name": "stderr",
     "output_type": "stream",
     "text": [
      " 42%|████▏     | 21/50 [00:58<01:21,  2.80s/it]"
     ]
    },
    {
     "name": "stdout",
     "output_type": "stream",
     "text": [
      "In stage 19: transferred 57 clusters with 15 clusters populated\n",
      "In stage 20: transferred 56 clusters with 15 clusters populated\n"
     ]
    },
    {
     "name": "stderr",
     "output_type": "stream",
     "text": [
      " 44%|████▍     | 22/50 [01:01<01:18,  2.81s/it]"
     ]
    },
    {
     "name": "stdout",
     "output_type": "stream",
     "text": [
      "In stage 21: transferred 66 clusters with 15 clusters populated\n"
     ]
    },
    {
     "name": "stderr",
     "output_type": "stream",
     "text": [
      " 46%|████▌     | 23/50 [01:04<01:15,  2.80s/it]"
     ]
    },
    {
     "name": "stdout",
     "output_type": "stream",
     "text": [
      "In stage 22: transferred 61 clusters with 15 clusters populated\n"
     ]
    },
    {
     "name": "stderr",
     "output_type": "stream",
     "text": [
      " 50%|█████     | 25/50 [01:09<01:09,  2.77s/it]"
     ]
    },
    {
     "name": "stdout",
     "output_type": "stream",
     "text": [
      "In stage 23: transferred 51 clusters with 15 clusters populated\n",
      "In stage 24: transferred 58 clusters with 15 clusters populated\n"
     ]
    },
    {
     "name": "stderr",
     "output_type": "stream",
     "text": [
      " 52%|█████▏    | 26/50 [01:12<01:05,  2.74s/it]"
     ]
    },
    {
     "name": "stdout",
     "output_type": "stream",
     "text": [
      "In stage 25: transferred 60 clusters with 15 clusters populated\n"
     ]
    },
    {
     "name": "stderr",
     "output_type": "stream",
     "text": [
      " 54%|█████▍    | 27/50 [01:15<01:02,  2.73s/it]"
     ]
    },
    {
     "name": "stdout",
     "output_type": "stream",
     "text": [
      "In stage 26: transferred 69 clusters with 15 clusters populated\n"
     ]
    },
    {
     "name": "stderr",
     "output_type": "stream",
     "text": [
      " 56%|█████▌    | 28/50 [01:17<01:00,  2.74s/it]"
     ]
    },
    {
     "name": "stdout",
     "output_type": "stream",
     "text": [
      "In stage 27: transferred 55 clusters with 15 clusters populated\n"
     ]
    },
    {
     "name": "stderr",
     "output_type": "stream",
     "text": [
      " 58%|█████▊    | 29/50 [01:20<00:58,  2.76s/it]"
     ]
    },
    {
     "name": "stdout",
     "output_type": "stream",
     "text": [
      "In stage 28: transferred 55 clusters with 15 clusters populated\n"
     ]
    },
    {
     "name": "stderr",
     "output_type": "stream",
     "text": [
      " 62%|██████▏   | 31/50 [01:26<00:53,  2.80s/it]"
     ]
    },
    {
     "name": "stdout",
     "output_type": "stream",
     "text": [
      "In stage 29: transferred 45 clusters with 15 clusters populated\n",
      "In stage 30: transferred 53 clusters with 15 clusters populated\n",
      "In stage 31: transferred 68 clusters with 15 clusters populated"
     ]
    },
    {
     "name": "stderr",
     "output_type": "stream",
     "text": [
      " 64%|██████▍   | 32/50 [01:29<00:50,  2.79s/it]"
     ]
    },
    {
     "name": "stdout",
     "output_type": "stream",
     "text": [
      "\n"
     ]
    },
    {
     "name": "stderr",
     "output_type": "stream",
     "text": [
      " 66%|██████▌   | 33/50 [01:31<00:47,  2.78s/it]"
     ]
    },
    {
     "name": "stdout",
     "output_type": "stream",
     "text": [
      "In stage 32: transferred 53 clusters with 15 clusters populated\n"
     ]
    },
    {
     "name": "stderr",
     "output_type": "stream",
     "text": [
      " 72%|███████▏  | 36/50 [01:40<00:38,  2.76s/it]"
     ]
    },
    {
     "name": "stdout",
     "output_type": "stream",
     "text": [
      "In stage 33: transferred 54 clusters with 15 clusters populated\n",
      "In stage 34: transferred 44 clusters with 15 clusters populated\n",
      "In stage 35: transferred 40 clusters with 15 clusters populated\n"
     ]
    },
    {
     "name": "stderr",
     "output_type": "stream",
     "text": [
      " 74%|███████▍  | 37/50 [01:42<00:35,  2.74s/it]"
     ]
    },
    {
     "name": "stdout",
     "output_type": "stream",
     "text": [
      "In stage 36: transferred 60 clusters with 15 clusters populated\n",
      "In stage 37: transferred 58 clusters with 15 clusters populated"
     ]
    },
    {
     "name": "stderr",
     "output_type": "stream",
     "text": [
      " 76%|███████▌  | 38/50 [01:45<00:33,  2.75s/it]"
     ]
    },
    {
     "name": "stdout",
     "output_type": "stream",
     "text": [
      "\n"
     ]
    },
    {
     "name": "stderr",
     "output_type": "stream",
     "text": [
      " 80%|████████  | 40/50 [01:50<00:27,  2.74s/it]"
     ]
    },
    {
     "name": "stdout",
     "output_type": "stream",
     "text": [
      "In stage 38: transferred 49 clusters with 15 clusters populated\n",
      "In stage 39: transferred 51 clusters with 15 clusters populated\n"
     ]
    },
    {
     "name": "stderr",
     "output_type": "stream",
     "text": [
      " 82%|████████▏ | 41/50 [01:53<00:24,  2.71s/it]"
     ]
    },
    {
     "name": "stdout",
     "output_type": "stream",
     "text": [
      "In stage 40: transferred 56 clusters with 15 clusters populated\n"
     ]
    },
    {
     "name": "stderr",
     "output_type": "stream",
     "text": [
      " 86%|████████▌ | 43/50 [01:59<00:18,  2.71s/it]"
     ]
    },
    {
     "name": "stdout",
     "output_type": "stream",
     "text": [
      "In stage 41: transferred 64 clusters with 15 clusters populated\n",
      "In stage 42: transferred 57 clusters with 15 clusters populated\n"
     ]
    },
    {
     "name": "stderr",
     "output_type": "stream",
     "text": [
      " 88%|████████▊ | 44/50 [02:01<00:16,  2.70s/it]"
     ]
    },
    {
     "name": "stdout",
     "output_type": "stream",
     "text": [
      "In stage 43: transferred 60 clusters with 15 clusters populated\n"
     ]
    },
    {
     "name": "stderr",
     "output_type": "stream",
     "text": [
      " 90%|█████████ | 45/50 [02:04<00:13,  2.72s/it]"
     ]
    },
    {
     "name": "stdout",
     "output_type": "stream",
     "text": [
      "In stage 44: transferred 60 clusters with 15 clusters populated\n"
     ]
    },
    {
     "name": "stderr",
     "output_type": "stream",
     "text": [
      " 92%|█████████▏| 46/50 [02:07<00:10,  2.74s/it]"
     ]
    },
    {
     "name": "stdout",
     "output_type": "stream",
     "text": [
      "In stage 45: transferred 58 clusters with 15 clusters populated\n"
     ]
    },
    {
     "name": "stderr",
     "output_type": "stream",
     "text": [
      " 96%|█████████▌| 48/50 [02:12<00:05,  2.74s/it]"
     ]
    },
    {
     "name": "stdout",
     "output_type": "stream",
     "text": [
      "In stage 46: transferred 65 clusters with 15 clusters populated\n",
      "In stage 47: transferred 63 clusters with 15 clusters populated\n"
     ]
    },
    {
     "name": "stderr",
     "output_type": "stream",
     "text": [
      "100%|██████████| 50/50 [02:18<00:00,  2.77s/it]"
     ]
    },
    {
     "name": "stdout",
     "output_type": "stream",
     "text": [
      "In stage 48: transferred 62 clusters with 15 clusters populated\n",
      "In stage 49: transferred 67 clusters with 15 clusters populated\n"
     ]
    },
    {
     "name": "stderr",
     "output_type": "stream",
     "text": [
      "100%|██████████| 50/50 [02:18<00:00,  2.77s/it]\n",
      "  2%|▏         | 1/50 [00:03<03:04,  3.77s/it]"
     ]
    },
    {
     "name": "stdout",
     "output_type": "stream",
     "text": [
      "In stage 0: transferred 2087 clusters with 20 clusters populated\n"
     ]
    },
    {
     "name": "stderr",
     "output_type": "stream",
     "text": [
      "  4%|▍         | 2/50 [00:07<02:58,  3.72s/it]"
     ]
    },
    {
     "name": "stdout",
     "output_type": "stream",
     "text": [
      "In stage 1: transferred 811 clusters with 20 clusters populated\n"
     ]
    },
    {
     "name": "stderr",
     "output_type": "stream",
     "text": [
      "  6%|▌         | 3/50 [00:10<02:51,  3.66s/it]"
     ]
    },
    {
     "name": "stdout",
     "output_type": "stream",
     "text": [
      "In stage 2: transferred 334 clusters with 20 clusters populated\n"
     ]
    },
    {
     "name": "stderr",
     "output_type": "stream",
     "text": [
      " 10%|█         | 5/50 [00:18<02:46,  3.69s/it]"
     ]
    },
    {
     "name": "stdout",
     "output_type": "stream",
     "text": [
      "In stage 3: transferred 186 clusters with 20 clusters populated\n",
      "In stage 4: transferred 99 clusters with 20 clusters populated\n"
     ]
    },
    {
     "name": "stderr",
     "output_type": "stream",
     "text": [
      " 14%|█▍        | 7/50 [00:25<02:37,  3.67s/it]"
     ]
    },
    {
     "name": "stdout",
     "output_type": "stream",
     "text": [
      "In stage 5: transferred 84 clusters with 20 clusters populated\n",
      "In stage 6: transferred 89 clusters with 20 clusters populated\n"
     ]
    },
    {
     "name": "stderr",
     "output_type": "stream",
     "text": [
      " 16%|█▌        | 8/50 [00:29<02:33,  3.65s/it]"
     ]
    },
    {
     "name": "stdout",
     "output_type": "stream",
     "text": [
      "In stage 7: transferred 80 clusters with 20 clusters populated\n"
     ]
    },
    {
     "name": "stderr",
     "output_type": "stream",
     "text": [
      " 18%|█▊        | 9/50 [00:32<02:30,  3.68s/it]"
     ]
    },
    {
     "name": "stdout",
     "output_type": "stream",
     "text": [
      "In stage 8: transferred 79 clusters with 20 clusters populated\n"
     ]
    },
    {
     "name": "stderr",
     "output_type": "stream",
     "text": [
      " 20%|██        | 10/50 [00:36<02:25,  3.63s/it]"
     ]
    },
    {
     "name": "stdout",
     "output_type": "stream",
     "text": [
      "In stage 9: transferred 71 clusters with 20 clusters populated\n"
     ]
    },
    {
     "name": "stderr",
     "output_type": "stream",
     "text": [
      " 24%|██▍       | 12/50 [00:43<02:17,  3.61s/it]"
     ]
    },
    {
     "name": "stdout",
     "output_type": "stream",
     "text": [
      "In stage 10: transferred 76 clusters with 20 clusters populated\n",
      "In stage 11: transferred 76 clusters with 20 clusters populated\n"
     ]
    },
    {
     "name": "stderr",
     "output_type": "stream",
     "text": [
      " 28%|██▊       | 14/50 [00:50<02:09,  3.59s/it]"
     ]
    },
    {
     "name": "stdout",
     "output_type": "stream",
     "text": [
      "In stage 12: transferred 64 clusters with 20 clusters populated\n",
      "In stage 13: transferred 64 clusters with 20 clusters populated\n"
     ]
    },
    {
     "name": "stderr",
     "output_type": "stream",
     "text": [
      " 30%|███       | 15/50 [00:54<02:06,  3.61s/it]"
     ]
    },
    {
     "name": "stdout",
     "output_type": "stream",
     "text": [
      "In stage 14: transferred 66 clusters with 20 clusters populated\n"
     ]
    },
    {
     "name": "stderr",
     "output_type": "stream",
     "text": [
      " 32%|███▏      | 16/50 [00:58<02:03,  3.65s/it]"
     ]
    },
    {
     "name": "stdout",
     "output_type": "stream",
     "text": [
      "In stage 15: transferred 58 clusters with 20 clusters populated\n"
     ]
    },
    {
     "name": "stderr",
     "output_type": "stream",
     "text": [
      " 34%|███▍      | 17/50 [01:01<01:59,  3.61s/it]"
     ]
    },
    {
     "name": "stdout",
     "output_type": "stream",
     "text": [
      "In stage 16: transferred 55 clusters with 20 clusters populated\n"
     ]
    },
    {
     "name": "stderr",
     "output_type": "stream",
     "text": [
      " 36%|███▌      | 18/50 [01:05<01:56,  3.64s/it]"
     ]
    },
    {
     "name": "stdout",
     "output_type": "stream",
     "text": [
      "In stage 17: transferred 55 clusters with 20 clusters populated\n"
     ]
    },
    {
     "name": "stderr",
     "output_type": "stream",
     "text": [
      " 38%|███▊      | 19/50 [01:09<01:53,  3.66s/it]"
     ]
    },
    {
     "name": "stdout",
     "output_type": "stream",
     "text": [
      "In stage 18: transferred 67 clusters with 20 clusters populated\n"
     ]
    },
    {
     "name": "stderr",
     "output_type": "stream",
     "text": [
      " 40%|████      | 20/50 [01:12<01:50,  3.69s/it]"
     ]
    },
    {
     "name": "stdout",
     "output_type": "stream",
     "text": [
      "In stage 19: transferred 54 clusters with 20 clusters populated\n"
     ]
    },
    {
     "name": "stderr",
     "output_type": "stream",
     "text": [
      " 42%|████▏     | 21/50 [01:16<01:46,  3.67s/it]"
     ]
    },
    {
     "name": "stdout",
     "output_type": "stream",
     "text": [
      "In stage 20: transferred 47 clusters with 20 clusters populated\n"
     ]
    },
    {
     "name": "stderr",
     "output_type": "stream",
     "text": [
      " 44%|████▍     | 22/50 [01:20<01:42,  3.66s/it]"
     ]
    },
    {
     "name": "stdout",
     "output_type": "stream",
     "text": [
      "In stage 21: transferred 43 clusters with 20 clusters populated\n"
     ]
    },
    {
     "name": "stderr",
     "output_type": "stream",
     "text": [
      " 46%|████▌     | 23/50 [01:23<01:38,  3.63s/it]"
     ]
    },
    {
     "name": "stdout",
     "output_type": "stream",
     "text": [
      "In stage 22: transferred 52 clusters with 20 clusters populated\n"
     ]
    },
    {
     "name": "stderr",
     "output_type": "stream",
     "text": [
      " 50%|█████     | 25/50 [01:30<01:28,  3.54s/it]"
     ]
    },
    {
     "name": "stdout",
     "output_type": "stream",
     "text": [
      "In stage 23: transferred 54 clusters with 20 clusters populated\n",
      "In stage 24: transferred 51 clusters with 20 clusters populated\n"
     ]
    },
    {
     "name": "stderr",
     "output_type": "stream",
     "text": [
      " 52%|█████▏    | 26/50 [01:34<01:25,  3.55s/it]"
     ]
    },
    {
     "name": "stdout",
     "output_type": "stream",
     "text": [
      "In stage 25: transferred 62 clusters with 20 clusters populated\n",
      "In stage 26: transferred 59 clusters with 20 clusters populated"
     ]
    },
    {
     "name": "stderr",
     "output_type": "stream",
     "text": [
      " 56%|█████▌    | 28/50 [01:41<01:19,  3.60s/it]"
     ]
    },
    {
     "name": "stdout",
     "output_type": "stream",
     "text": [
      "\n",
      "In stage 27: transferred 39 clusters with 20 clusters populated\n"
     ]
    },
    {
     "name": "stderr",
     "output_type": "stream",
     "text": [
      " 58%|█████▊    | 29/50 [01:45<01:15,  3.60s/it]"
     ]
    },
    {
     "name": "stdout",
     "output_type": "stream",
     "text": [
      "In stage 28: transferred 45 clusters with 20 clusters populated\n"
     ]
    },
    {
     "name": "stderr",
     "output_type": "stream",
     "text": [
      " 60%|██████    | 30/50 [01:48<01:11,  3.58s/it]"
     ]
    },
    {
     "name": "stdout",
     "output_type": "stream",
     "text": [
      "In stage 29: transferred 53 clusters with 20 clusters populated\n"
     ]
    },
    {
     "name": "stderr",
     "output_type": "stream",
     "text": [
      " 62%|██████▏   | 31/50 [01:52<01:07,  3.57s/it]"
     ]
    },
    {
     "name": "stdout",
     "output_type": "stream",
     "text": [
      "In stage 30: transferred 50 clusters with 20 clusters populated\n"
     ]
    },
    {
     "name": "stderr",
     "output_type": "stream",
     "text": [
      " 66%|██████▌   | 33/50 [01:59<01:00,  3.55s/it]"
     ]
    },
    {
     "name": "stdout",
     "output_type": "stream",
     "text": [
      "In stage 31: transferred 61 clusters with 20 clusters populated\n",
      "In stage 32: transferred 55 clusters with 20 clusters populated\n"
     ]
    },
    {
     "name": "stderr",
     "output_type": "stream",
     "text": [
      " 68%|██████▊   | 34/50 [02:02<00:57,  3.56s/it]"
     ]
    },
    {
     "name": "stdout",
     "output_type": "stream",
     "text": [
      "In stage 33: transferred 56 clusters with 20 clusters populated\n"
     ]
    },
    {
     "name": "stderr",
     "output_type": "stream",
     "text": [
      " 72%|███████▏  | 36/50 [02:09<00:49,  3.56s/it]"
     ]
    },
    {
     "name": "stdout",
     "output_type": "stream",
     "text": [
      "In stage 34: transferred 69 clusters with 20 clusters populated\n",
      "In stage 35: transferred 57 clusters with 20 clusters populated\n"
     ]
    },
    {
     "name": "stderr",
     "output_type": "stream",
     "text": [
      " 74%|███████▍  | 37/50 [02:13<00:46,  3.55s/it]"
     ]
    },
    {
     "name": "stdout",
     "output_type": "stream",
     "text": [
      "In stage 36: transferred 53 clusters with 20 clusters populated\n"
     ]
    },
    {
     "name": "stderr",
     "output_type": "stream",
     "text": [
      " 78%|███████▊  | 39/50 [02:20<00:39,  3.61s/it]"
     ]
    },
    {
     "name": "stdout",
     "output_type": "stream",
     "text": [
      "In stage 37: transferred 60 clusters with 20 clusters populated\n",
      "In stage 38: transferred 52 clusters with 20 clusters populated\n"
     ]
    },
    {
     "name": "stderr",
     "output_type": "stream",
     "text": [
      " 80%|████████  | 40/50 [02:24<00:35,  3.56s/it]"
     ]
    },
    {
     "name": "stdout",
     "output_type": "stream",
     "text": [
      "In stage 39: transferred 63 clusters with 20 clusters populated\n"
     ]
    },
    {
     "name": "stderr",
     "output_type": "stream",
     "text": [
      " 82%|████████▏ | 41/50 [02:27<00:32,  3.60s/it]"
     ]
    },
    {
     "name": "stdout",
     "output_type": "stream",
     "text": [
      "In stage 40: transferred 67 clusters with 20 clusters populated\n"
     ]
    },
    {
     "name": "stderr",
     "output_type": "stream",
     "text": [
      " 84%|████████▍ | 42/50 [02:32<00:31,  3.90s/it]"
     ]
    },
    {
     "name": "stdout",
     "output_type": "stream",
     "text": [
      "In stage 41: transferred 58 clusters with 20 clusters populated\n"
     ]
    },
    {
     "name": "stderr",
     "output_type": "stream",
     "text": [
      " 86%|████████▌ | 43/50 [02:37<00:29,  4.26s/it]"
     ]
    },
    {
     "name": "stdout",
     "output_type": "stream",
     "text": [
      "In stage 42: transferred 50 clusters with 20 clusters populated\n"
     ]
    },
    {
     "name": "stderr",
     "output_type": "stream",
     "text": [
      " 88%|████████▊ | 44/50 [02:42<00:26,  4.43s/it]"
     ]
    },
    {
     "name": "stdout",
     "output_type": "stream",
     "text": [
      "In stage 43: transferred 55 clusters with 20 clusters populated\n",
      "In stage 44: transferred 48 clusters with 20 clusters populated"
     ]
    },
    {
     "name": "stderr",
     "output_type": "stream",
     "text": [
      " 90%|█████████ | 45/50 [02:46<00:21,  4.28s/it]"
     ]
    },
    {
     "name": "stdout",
     "output_type": "stream",
     "text": [
      "\n"
     ]
    },
    {
     "name": "stderr",
     "output_type": "stream",
     "text": [
      " 92%|█████████▏| 46/50 [02:50<00:16,  4.11s/it]"
     ]
    },
    {
     "name": "stdout",
     "output_type": "stream",
     "text": [
      "In stage 45: transferred 49 clusters with 20 clusters populated\n"
     ]
    },
    {
     "name": "stderr",
     "output_type": "stream",
     "text": [
      " 94%|█████████▍| 47/50 [02:53<00:11,  3.95s/it]"
     ]
    },
    {
     "name": "stdout",
     "output_type": "stream",
     "text": [
      "In stage 46: transferred 57 clusters with 20 clusters populated\n"
     ]
    },
    {
     "name": "stderr",
     "output_type": "stream",
     "text": [
      " 98%|█████████▊| 49/50 [03:01<00:03,  3.81s/it]"
     ]
    },
    {
     "name": "stdout",
     "output_type": "stream",
     "text": [
      "In stage 47: transferred 53 clusters with 20 clusters populated\n",
      "In stage 48: transferred 62 clusters with 20 clusters populated\n",
      "In stage 49: transferred 57 clusters with 20 clusters populated\n"
     ]
    },
    {
     "name": "stderr",
     "output_type": "stream",
     "text": [
      "100%|██████████| 50/50 [03:04<00:00,  3.69s/it]\n",
      "  2%|▏         | 1/50 [00:05<04:10,  5.11s/it]"
     ]
    },
    {
     "name": "stdout",
     "output_type": "stream",
     "text": [
      "In stage 0: transferred 2101 clusters with 25 clusters populated\n"
     ]
    },
    {
     "name": "stderr",
     "output_type": "stream",
     "text": [
      "  4%|▍         | 2/50 [00:09<03:56,  4.92s/it]"
     ]
    },
    {
     "name": "stdout",
     "output_type": "stream",
     "text": [
      "In stage 1: transferred 792 clusters with 25 clusters populated\n"
     ]
    },
    {
     "name": "stderr",
     "output_type": "stream",
     "text": [
      "  6%|▌         | 3/50 [00:14<03:48,  4.85s/it]"
     ]
    },
    {
     "name": "stdout",
     "output_type": "stream",
     "text": [
      "In stage 2: transferred 264 clusters with 25 clusters populated\n"
     ]
    },
    {
     "name": "stderr",
     "output_type": "stream",
     "text": [
      "  8%|▊         | 4/50 [00:19<03:48,  4.96s/it]"
     ]
    },
    {
     "name": "stdout",
     "output_type": "stream",
     "text": [
      "In stage 3: transferred 165 clusters with 25 clusters populated\n"
     ]
    },
    {
     "name": "stderr",
     "output_type": "stream",
     "text": [
      " 10%|█         | 5/50 [00:25<03:59,  5.32s/it]"
     ]
    },
    {
     "name": "stdout",
     "output_type": "stream",
     "text": [
      "In stage 4: transferred 135 clusters with 25 clusters populated\n"
     ]
    },
    {
     "name": "stderr",
     "output_type": "stream",
     "text": [
      " 12%|█▏        | 6/50 [00:31<04:02,  5.50s/it]"
     ]
    },
    {
     "name": "stdout",
     "output_type": "stream",
     "text": [
      "In stage 5: transferred 137 clusters with 25 clusters populated\n"
     ]
    },
    {
     "name": "stderr",
     "output_type": "stream",
     "text": [
      " 14%|█▍        | 7/50 [00:36<03:47,  5.29s/it]"
     ]
    },
    {
     "name": "stdout",
     "output_type": "stream",
     "text": [
      "In stage 6: transferred 98 clusters with 24 clusters populated\n"
     ]
    },
    {
     "name": "stderr",
     "output_type": "stream",
     "text": [
      " 16%|█▌        | 8/50 [00:40<03:30,  5.01s/it]"
     ]
    },
    {
     "name": "stdout",
     "output_type": "stream",
     "text": [
      "In stage 7: transferred 104 clusters with 25 clusters populated\n"
     ]
    },
    {
     "name": "stderr",
     "output_type": "stream",
     "text": [
      " 18%|█▊        | 9/50 [00:45<03:19,  4.86s/it]"
     ]
    },
    {
     "name": "stdout",
     "output_type": "stream",
     "text": [
      "In stage 8: transferred 87 clusters with 24 clusters populated\n"
     ]
    },
    {
     "name": "stderr",
     "output_type": "stream",
     "text": [
      " 20%|██        | 10/50 [00:49<03:08,  4.72s/it]"
     ]
    },
    {
     "name": "stdout",
     "output_type": "stream",
     "text": [
      "In stage 9: transferred 93 clusters with 25 clusters populated\n"
     ]
    },
    {
     "name": "stderr",
     "output_type": "stream",
     "text": [
      " 22%|██▏       | 11/50 [00:54<03:10,  4.90s/it]"
     ]
    },
    {
     "name": "stdout",
     "output_type": "stream",
     "text": [
      "In stage 10: transferred 83 clusters with 24 clusters populated\n"
     ]
    },
    {
     "name": "stderr",
     "output_type": "stream",
     "text": [
      " 24%|██▍       | 12/50 [00:59<03:06,  4.91s/it]"
     ]
    },
    {
     "name": "stdout",
     "output_type": "stream",
     "text": [
      "In stage 11: transferred 77 clusters with 24 clusters populated\n"
     ]
    },
    {
     "name": "stderr",
     "output_type": "stream",
     "text": [
      " 26%|██▌       | 13/50 [01:04<03:03,  4.96s/it]"
     ]
    },
    {
     "name": "stdout",
     "output_type": "stream",
     "text": [
      "In stage 12: transferred 69 clusters with 24 clusters populated\n"
     ]
    },
    {
     "name": "stderr",
     "output_type": "stream",
     "text": [
      " 28%|██▊       | 14/50 [01:09<02:57,  4.94s/it]"
     ]
    },
    {
     "name": "stdout",
     "output_type": "stream",
     "text": [
      "In stage 13: transferred 64 clusters with 24 clusters populated\n"
     ]
    },
    {
     "name": "stderr",
     "output_type": "stream",
     "text": [
      " 30%|███       | 15/50 [01:15<02:55,  5.01s/it]"
     ]
    },
    {
     "name": "stdout",
     "output_type": "stream",
     "text": [
      "In stage 14: transferred 77 clusters with 24 clusters populated\n"
     ]
    },
    {
     "name": "stderr",
     "output_type": "stream",
     "text": [
      " 32%|███▏      | 16/50 [01:20<02:56,  5.19s/it]"
     ]
    },
    {
     "name": "stdout",
     "output_type": "stream",
     "text": [
      "In stage 15: transferred 84 clusters with 24 clusters populated\n"
     ]
    },
    {
     "name": "stderr",
     "output_type": "stream",
     "text": [
      " 34%|███▍      | 17/50 [01:26<03:00,  5.46s/it]"
     ]
    },
    {
     "name": "stdout",
     "output_type": "stream",
     "text": [
      "In stage 16: transferred 77 clusters with 24 clusters populated\n"
     ]
    },
    {
     "name": "stderr",
     "output_type": "stream",
     "text": [
      " 36%|███▌      | 18/50 [01:33<03:07,  5.86s/it]"
     ]
    },
    {
     "name": "stdout",
     "output_type": "stream",
     "text": [
      "In stage 17: transferred 94 clusters with 25 clusters populated\n"
     ]
    },
    {
     "name": "stderr",
     "output_type": "stream",
     "text": [
      " 40%|████      | 20/50 [01:42<02:36,  5.23s/it]"
     ]
    },
    {
     "name": "stdout",
     "output_type": "stream",
     "text": [
      "In stage 18: transferred 92 clusters with 25 clusters populated\n",
      "In stage 19: transferred 93 clusters with 24 clusters populated\n"
     ]
    },
    {
     "name": "stderr",
     "output_type": "stream",
     "text": [
      " 44%|████▍     | 22/50 [01:51<02:15,  4.83s/it]"
     ]
    },
    {
     "name": "stdout",
     "output_type": "stream",
     "text": [
      "In stage 20: transferred 81 clusters with 25 clusters populated\n",
      "In stage 21: transferred 70 clusters with 25 clusters populated\n"
     ]
    },
    {
     "name": "stderr",
     "output_type": "stream",
     "text": [
      " 46%|████▌     | 23/50 [01:56<02:07,  4.72s/it]"
     ]
    },
    {
     "name": "stdout",
     "output_type": "stream",
     "text": [
      "In stage 22: transferred 75 clusters with 24 clusters populated\n"
     ]
    },
    {
     "name": "stderr",
     "output_type": "stream",
     "text": [
      " 48%|████▊     | 24/50 [02:01<02:06,  4.86s/it]"
     ]
    },
    {
     "name": "stdout",
     "output_type": "stream",
     "text": [
      "In stage 23: transferred 67 clusters with 24 clusters populated\n"
     ]
    },
    {
     "name": "stderr",
     "output_type": "stream",
     "text": [
      " 50%|█████     | 25/50 [02:06<02:05,  5.00s/it]"
     ]
    },
    {
     "name": "stdout",
     "output_type": "stream",
     "text": [
      "In stage 24: transferred 68 clusters with 24 clusters populated\n"
     ]
    },
    {
     "name": "stderr",
     "output_type": "stream",
     "text": [
      " 52%|█████▏    | 26/50 [02:11<01:58,  4.93s/it]"
     ]
    },
    {
     "name": "stdout",
     "output_type": "stream",
     "text": [
      "In stage 25: transferred 75 clusters with 24 clusters populated\n"
     ]
    },
    {
     "name": "stderr",
     "output_type": "stream",
     "text": [
      " 54%|█████▍    | 27/50 [02:16<01:53,  4.96s/it]"
     ]
    },
    {
     "name": "stdout",
     "output_type": "stream",
     "text": [
      "In stage 26: transferred 84 clusters with 25 clusters populated\n"
     ]
    },
    {
     "name": "stderr",
     "output_type": "stream",
     "text": [
      " 56%|█████▌    | 28/50 [02:21<01:50,  5.02s/it]"
     ]
    },
    {
     "name": "stdout",
     "output_type": "stream",
     "text": [
      "In stage 27: transferred 74 clusters with 24 clusters populated\n"
     ]
    },
    {
     "name": "stderr",
     "output_type": "stream",
     "text": [
      " 58%|█████▊    | 29/50 [02:26<01:43,  4.94s/it]"
     ]
    },
    {
     "name": "stdout",
     "output_type": "stream",
     "text": [
      "In stage 28: transferred 73 clusters with 25 clusters populated\n"
     ]
    },
    {
     "name": "stderr",
     "output_type": "stream",
     "text": [
      " 60%|██████    | 30/50 [02:31<01:36,  4.83s/it]"
     ]
    },
    {
     "name": "stdout",
     "output_type": "stream",
     "text": [
      "In stage 29: transferred 74 clusters with 24 clusters populated\n"
     ]
    },
    {
     "name": "stderr",
     "output_type": "stream",
     "text": [
      " 62%|██████▏   | 31/50 [02:35<01:29,  4.72s/it]"
     ]
    },
    {
     "name": "stdout",
     "output_type": "stream",
     "text": [
      "In stage 30: transferred 75 clusters with 24 clusters populated\n"
     ]
    },
    {
     "name": "stderr",
     "output_type": "stream",
     "text": [
      " 64%|██████▍   | 32/50 [02:40<01:24,  4.68s/it]"
     ]
    },
    {
     "name": "stdout",
     "output_type": "stream",
     "text": [
      "In stage 31: transferred 63 clusters with 24 clusters populated\n"
     ]
    },
    {
     "name": "stderr",
     "output_type": "stream",
     "text": [
      " 68%|██████▊   | 34/50 [02:48<01:10,  4.42s/it]"
     ]
    },
    {
     "name": "stdout",
     "output_type": "stream",
     "text": [
      "In stage 32: transferred 68 clusters with 24 clusters populated\n",
      "In stage 33: transferred 61 clusters with 25 clusters populated\n"
     ]
    },
    {
     "name": "stderr",
     "output_type": "stream",
     "text": [
      " 70%|███████   | 35/50 [02:52<01:06,  4.42s/it]"
     ]
    },
    {
     "name": "stdout",
     "output_type": "stream",
     "text": [
      "In stage 34: transferred 64 clusters with 24 clusters populated\n"
     ]
    },
    {
     "name": "stderr",
     "output_type": "stream",
     "text": [
      " 72%|███████▏  | 36/50 [02:57<01:00,  4.35s/it]"
     ]
    },
    {
     "name": "stdout",
     "output_type": "stream",
     "text": [
      "In stage 35: transferred 67 clusters with 24 clusters populated\n"
     ]
    },
    {
     "name": "stderr",
     "output_type": "stream",
     "text": [
      " 74%|███████▍  | 37/50 [03:01<00:56,  4.38s/it]"
     ]
    },
    {
     "name": "stdout",
     "output_type": "stream",
     "text": [
      "In stage 36: transferred 72 clusters with 24 clusters populated\n"
     ]
    },
    {
     "name": "stderr",
     "output_type": "stream",
     "text": [
      " 76%|███████▌  | 38/50 [03:05<00:52,  4.36s/it]"
     ]
    },
    {
     "name": "stdout",
     "output_type": "stream",
     "text": [
      "In stage 37: transferred 69 clusters with 24 clusters populated\n"
     ]
    },
    {
     "name": "stderr",
     "output_type": "stream",
     "text": [
      " 78%|███████▊  | 39/50 [03:10<00:48,  4.44s/it]"
     ]
    },
    {
     "name": "stdout",
     "output_type": "stream",
     "text": [
      "In stage 38: transferred 75 clusters with 24 clusters populated\n"
     ]
    },
    {
     "name": "stderr",
     "output_type": "stream",
     "text": [
      " 80%|████████  | 40/50 [03:14<00:44,  4.42s/it]"
     ]
    },
    {
     "name": "stdout",
     "output_type": "stream",
     "text": [
      "In stage 39: transferred 62 clusters with 24 clusters populated\n"
     ]
    },
    {
     "name": "stderr",
     "output_type": "stream",
     "text": [
      " 84%|████████▍ | 42/50 [03:23<00:34,  4.36s/it]"
     ]
    },
    {
     "name": "stdout",
     "output_type": "stream",
     "text": [
      "In stage 40: transferred 66 clusters with 24 clusters populated\n",
      "In stage 41: transferred 74 clusters with 24 clusters populated\n"
     ]
    },
    {
     "name": "stderr",
     "output_type": "stream",
     "text": [
      " 86%|████████▌ | 43/50 [03:27<00:30,  4.33s/it]"
     ]
    },
    {
     "name": "stdout",
     "output_type": "stream",
     "text": [
      "In stage 42: transferred 73 clusters with 25 clusters populated\n"
     ]
    },
    {
     "name": "stderr",
     "output_type": "stream",
     "text": [
      " 90%|█████████ | 45/50 [03:36<00:21,  4.33s/it]"
     ]
    },
    {
     "name": "stdout",
     "output_type": "stream",
     "text": [
      "In stage 43: transferred 51 clusters with 25 clusters populated\n",
      "In stage 44: transferred 79 clusters with 24 clusters populated\n"
     ]
    },
    {
     "name": "stderr",
     "output_type": "stream",
     "text": [
      " 92%|█████████▏| 46/50 [03:41<00:18,  4.56s/it]"
     ]
    },
    {
     "name": "stdout",
     "output_type": "stream",
     "text": [
      "In stage 45: transferred 76 clusters with 24 clusters populated\n"
     ]
    },
    {
     "name": "stderr",
     "output_type": "stream",
     "text": [
      " 94%|█████████▍| 47/50 [03:46<00:13,  4.58s/it]"
     ]
    },
    {
     "name": "stdout",
     "output_type": "stream",
     "text": [
      "In stage 46: transferred 76 clusters with 24 clusters populated\n"
     ]
    },
    {
     "name": "stderr",
     "output_type": "stream",
     "text": [
      " 96%|█████████▌| 48/50 [03:50<00:09,  4.54s/it]"
     ]
    },
    {
     "name": "stdout",
     "output_type": "stream",
     "text": [
      "In stage 47: transferred 75 clusters with 24 clusters populated\n"
     ]
    },
    {
     "name": "stderr",
     "output_type": "stream",
     "text": [
      " 98%|█████████▊| 49/50 [03:55<00:04,  4.60s/it]"
     ]
    },
    {
     "name": "stdout",
     "output_type": "stream",
     "text": [
      "In stage 48: transferred 76 clusters with 25 clusters populated\n"
     ]
    },
    {
     "name": "stderr",
     "output_type": "stream",
     "text": [
      "100%|██████████| 50/50 [03:59<00:00,  4.79s/it]\n",
      "  2%|▏         | 1/50 [00:06<05:33,  6.81s/it]"
     ]
    },
    {
     "name": "stdout",
     "output_type": "stream",
     "text": [
      "In stage 49: transferred 58 clusters with 25 clusters populated\n",
      "In stage 0: transferred 2126 clusters with 30 clusters populated\n"
     ]
    },
    {
     "name": "stderr",
     "output_type": "stream",
     "text": [
      "  4%|▍         | 2/50 [00:13<05:23,  6.75s/it]"
     ]
    },
    {
     "name": "stdout",
     "output_type": "stream",
     "text": [
      "In stage 1: transferred 776 clusters with 30 clusters populated\n"
     ]
    },
    {
     "name": "stderr",
     "output_type": "stream",
     "text": [
      "  6%|▌         | 3/50 [00:19<05:05,  6.49s/it]"
     ]
    },
    {
     "name": "stdout",
     "output_type": "stream",
     "text": [
      "In stage 2: transferred 302 clusters with 30 clusters populated\n"
     ]
    },
    {
     "name": "stderr",
     "output_type": "stream",
     "text": [
      "  8%|▊         | 4/50 [00:26<05:02,  6.58s/it]"
     ]
    },
    {
     "name": "stdout",
     "output_type": "stream",
     "text": [
      "In stage 3: transferred 178 clusters with 30 clusters populated\n"
     ]
    },
    {
     "name": "stderr",
     "output_type": "stream",
     "text": [
      " 10%|█         | 5/50 [00:32<04:50,  6.45s/it]"
     ]
    },
    {
     "name": "stdout",
     "output_type": "stream",
     "text": [
      "In stage 4: transferred 133 clusters with 29 clusters populated\n"
     ]
    },
    {
     "name": "stderr",
     "output_type": "stream",
     "text": [
      " 12%|█▏        | 6/50 [00:39<04:48,  6.56s/it]"
     ]
    },
    {
     "name": "stdout",
     "output_type": "stream",
     "text": [
      "In stage 5: transferred 108 clusters with 28 clusters populated\n"
     ]
    },
    {
     "name": "stderr",
     "output_type": "stream",
     "text": [
      " 14%|█▍        | 7/50 [00:45<04:40,  6.53s/it]"
     ]
    },
    {
     "name": "stdout",
     "output_type": "stream",
     "text": [
      "In stage 6: transferred 102 clusters with 28 clusters populated\n"
     ]
    },
    {
     "name": "stderr",
     "output_type": "stream",
     "text": [
      " 16%|█▌        | 8/50 [00:52<04:43,  6.75s/it]"
     ]
    },
    {
     "name": "stdout",
     "output_type": "stream",
     "text": [
      "In stage 7: transferred 94 clusters with 29 clusters populated\n"
     ]
    },
    {
     "name": "stderr",
     "output_type": "stream",
     "text": [
      " 18%|█▊        | 9/50 [00:59<04:40,  6.83s/it]"
     ]
    },
    {
     "name": "stdout",
     "output_type": "stream",
     "text": [
      "In stage 8: transferred 94 clusters with 29 clusters populated\n"
     ]
    },
    {
     "name": "stderr",
     "output_type": "stream",
     "text": [
      " 20%|██        | 10/50 [01:07<04:38,  6.97s/it]"
     ]
    },
    {
     "name": "stdout",
     "output_type": "stream",
     "text": [
      "In stage 9: transferred 106 clusters with 29 clusters populated\n"
     ]
    },
    {
     "name": "stderr",
     "output_type": "stream",
     "text": [
      " 22%|██▏       | 11/50 [01:12<04:15,  6.56s/it]"
     ]
    },
    {
     "name": "stdout",
     "output_type": "stream",
     "text": [
      "In stage 10: transferred 83 clusters with 29 clusters populated\n"
     ]
    },
    {
     "name": "stderr",
     "output_type": "stream",
     "text": [
      " 24%|██▍       | 12/50 [01:18<03:56,  6.23s/it]"
     ]
    },
    {
     "name": "stdout",
     "output_type": "stream",
     "text": [
      "In stage 11: transferred 80 clusters with 29 clusters populated\n"
     ]
    },
    {
     "name": "stderr",
     "output_type": "stream",
     "text": [
      " 26%|██▌       | 13/50 [01:25<04:00,  6.50s/it]"
     ]
    },
    {
     "name": "stdout",
     "output_type": "stream",
     "text": [
      "In stage 12: transferred 73 clusters with 28 clusters populated\n"
     ]
    },
    {
     "name": "stderr",
     "output_type": "stream",
     "text": [
      " 28%|██▊       | 14/50 [01:31<03:53,  6.48s/it]"
     ]
    },
    {
     "name": "stdout",
     "output_type": "stream",
     "text": [
      "In stage 13: transferred 64 clusters with 29 clusters populated\n"
     ]
    },
    {
     "name": "stderr",
     "output_type": "stream",
     "text": [
      " 30%|███       | 15/50 [01:38<03:46,  6.47s/it]"
     ]
    },
    {
     "name": "stdout",
     "output_type": "stream",
     "text": [
      "In stage 14: transferred 92 clusters with 28 clusters populated\n"
     ]
    },
    {
     "name": "stderr",
     "output_type": "stream",
     "text": [
      " 32%|███▏      | 16/50 [01:43<03:32,  6.25s/it]"
     ]
    },
    {
     "name": "stdout",
     "output_type": "stream",
     "text": [
      "In stage 15: transferred 78 clusters with 29 clusters populated\n"
     ]
    },
    {
     "name": "stderr",
     "output_type": "stream",
     "text": [
      " 34%|███▍      | 17/50 [01:49<03:22,  6.14s/it]"
     ]
    },
    {
     "name": "stdout",
     "output_type": "stream",
     "text": [
      "In stage 16: transferred 76 clusters with 29 clusters populated\n"
     ]
    },
    {
     "name": "stderr",
     "output_type": "stream",
     "text": [
      " 36%|███▌      | 18/50 [01:54<03:06,  5.82s/it]"
     ]
    },
    {
     "name": "stdout",
     "output_type": "stream",
     "text": [
      "In stage 17: transferred 78 clusters with 29 clusters populated\n"
     ]
    },
    {
     "name": "stderr",
     "output_type": "stream",
     "text": [
      " 38%|███▊      | 19/50 [01:59<02:52,  5.56s/it]"
     ]
    },
    {
     "name": "stdout",
     "output_type": "stream",
     "text": [
      "In stage 18: transferred 70 clusters with 28 clusters populated\n"
     ]
    },
    {
     "name": "stderr",
     "output_type": "stream",
     "text": [
      " 40%|████      | 20/50 [02:05<02:43,  5.45s/it]"
     ]
    },
    {
     "name": "stdout",
     "output_type": "stream",
     "text": [
      "In stage 19: transferred 77 clusters with 29 clusters populated\n"
     ]
    },
    {
     "name": "stderr",
     "output_type": "stream",
     "text": [
      " 42%|████▏     | 21/50 [02:10<02:37,  5.44s/it]"
     ]
    },
    {
     "name": "stdout",
     "output_type": "stream",
     "text": [
      "In stage 20: transferred 70 clusters with 29 clusters populated\n"
     ]
    },
    {
     "name": "stderr",
     "output_type": "stream",
     "text": [
      " 44%|████▍     | 22/50 [02:15<02:30,  5.39s/it]"
     ]
    },
    {
     "name": "stdout",
     "output_type": "stream",
     "text": [
      "In stage 21: transferred 57 clusters with 29 clusters populated\n"
     ]
    },
    {
     "name": "stderr",
     "output_type": "stream",
     "text": [
      " 46%|████▌     | 23/50 [02:22<02:32,  5.66s/it]"
     ]
    },
    {
     "name": "stdout",
     "output_type": "stream",
     "text": [
      "In stage 22: transferred 82 clusters with 28 clusters populated\n"
     ]
    },
    {
     "name": "stderr",
     "output_type": "stream",
     "text": [
      " 48%|████▊     | 24/50 [02:27<02:28,  5.72s/it]"
     ]
    },
    {
     "name": "stdout",
     "output_type": "stream",
     "text": [
      "In stage 23: transferred 59 clusters with 28 clusters populated\n"
     ]
    },
    {
     "name": "stderr",
     "output_type": "stream",
     "text": [
      " 50%|█████     | 25/50 [02:33<02:21,  5.67s/it]"
     ]
    },
    {
     "name": "stdout",
     "output_type": "stream",
     "text": [
      "In stage 24: transferred 61 clusters with 28 clusters populated\n"
     ]
    },
    {
     "name": "stderr",
     "output_type": "stream",
     "text": [
      " 52%|█████▏    | 26/50 [02:39<02:18,  5.76s/it]"
     ]
    },
    {
     "name": "stdout",
     "output_type": "stream",
     "text": [
      "In stage 25: transferred 79 clusters with 27 clusters populated\n"
     ]
    },
    {
     "name": "stderr",
     "output_type": "stream",
     "text": [
      " 54%|█████▍    | 27/50 [02:44<02:09,  5.65s/it]"
     ]
    },
    {
     "name": "stdout",
     "output_type": "stream",
     "text": [
      "In stage 26: transferred 77 clusters with 28 clusters populated\n"
     ]
    },
    {
     "name": "stderr",
     "output_type": "stream",
     "text": [
      " 56%|█████▌    | 28/50 [02:50<02:01,  5.52s/it]"
     ]
    },
    {
     "name": "stdout",
     "output_type": "stream",
     "text": [
      "In stage 27: transferred 71 clusters with 28 clusters populated\n"
     ]
    },
    {
     "name": "stderr",
     "output_type": "stream",
     "text": [
      " 58%|█████▊    | 29/50 [02:55<01:56,  5.53s/it]"
     ]
    },
    {
     "name": "stdout",
     "output_type": "stream",
     "text": [
      "In stage 28: transferred 73 clusters with 29 clusters populated\n"
     ]
    },
    {
     "name": "stderr",
     "output_type": "stream",
     "text": [
      " 60%|██████    | 30/50 [03:00<01:48,  5.41s/it]"
     ]
    },
    {
     "name": "stdout",
     "output_type": "stream",
     "text": [
      "In stage 29: transferred 68 clusters with 28 clusters populated\n"
     ]
    },
    {
     "name": "stderr",
     "output_type": "stream",
     "text": [
      " 62%|██████▏   | 31/50 [03:05<01:39,  5.25s/it]"
     ]
    },
    {
     "name": "stdout",
     "output_type": "stream",
     "text": [
      "In stage 30: transferred 68 clusters with 28 clusters populated\n"
     ]
    },
    {
     "name": "stderr",
     "output_type": "stream",
     "text": [
      " 64%|██████▍   | 32/50 [03:10<01:34,  5.27s/it]"
     ]
    },
    {
     "name": "stdout",
     "output_type": "stream",
     "text": [
      "In stage 31: transferred 68 clusters with 28 clusters populated\n"
     ]
    },
    {
     "name": "stderr",
     "output_type": "stream",
     "text": [
      " 66%|██████▌   | 33/50 [03:16<01:29,  5.26s/it]"
     ]
    },
    {
     "name": "stdout",
     "output_type": "stream",
     "text": [
      "In stage 32: transferred 63 clusters with 28 clusters populated\n"
     ]
    },
    {
     "name": "stderr",
     "output_type": "stream",
     "text": [
      " 68%|██████▊   | 34/50 [03:21<01:23,  5.24s/it]"
     ]
    },
    {
     "name": "stdout",
     "output_type": "stream",
     "text": [
      "In stage 33: transferred 69 clusters with 28 clusters populated\n"
     ]
    },
    {
     "name": "stderr",
     "output_type": "stream",
     "text": [
      " 70%|███████   | 35/50 [03:26<01:19,  5.33s/it]"
     ]
    },
    {
     "name": "stdout",
     "output_type": "stream",
     "text": [
      "In stage 34: transferred 66 clusters with 28 clusters populated\n"
     ]
    },
    {
     "name": "stderr",
     "output_type": "stream",
     "text": [
      " 72%|███████▏  | 36/50 [03:32<01:15,  5.36s/it]"
     ]
    },
    {
     "name": "stdout",
     "output_type": "stream",
     "text": [
      "In stage 35: transferred 71 clusters with 28 clusters populated\n"
     ]
    },
    {
     "name": "stderr",
     "output_type": "stream",
     "text": [
      " 74%|███████▍  | 37/50 [03:37<01:09,  5.35s/it]"
     ]
    },
    {
     "name": "stdout",
     "output_type": "stream",
     "text": [
      "In stage 36: transferred 55 clusters with 29 clusters populated\n"
     ]
    },
    {
     "name": "stderr",
     "output_type": "stream",
     "text": [
      " 76%|███████▌  | 38/50 [03:42<01:03,  5.26s/it]"
     ]
    },
    {
     "name": "stdout",
     "output_type": "stream",
     "text": [
      "In stage 37: transferred 70 clusters with 30 clusters populated\n"
     ]
    },
    {
     "name": "stderr",
     "output_type": "stream",
     "text": [
      " 78%|███████▊  | 39/50 [03:47<00:57,  5.25s/it]"
     ]
    },
    {
     "name": "stdout",
     "output_type": "stream",
     "text": [
      "In stage 38: transferred 54 clusters with 28 clusters populated\n"
     ]
    },
    {
     "name": "stderr",
     "output_type": "stream",
     "text": [
      " 80%|████████  | 40/50 [03:52<00:51,  5.19s/it]"
     ]
    },
    {
     "name": "stdout",
     "output_type": "stream",
     "text": [
      "In stage 39: transferred 57 clusters with 28 clusters populated\n"
     ]
    },
    {
     "name": "stderr",
     "output_type": "stream",
     "text": [
      " 82%|████████▏ | 41/50 [03:58<00:47,  5.24s/it]"
     ]
    },
    {
     "name": "stdout",
     "output_type": "stream",
     "text": [
      "In stage 40: transferred 59 clusters with 30 clusters populated\n"
     ]
    },
    {
     "name": "stderr",
     "output_type": "stream",
     "text": [
      " 84%|████████▍ | 42/50 [04:03<00:42,  5.28s/it]"
     ]
    },
    {
     "name": "stdout",
     "output_type": "stream",
     "text": [
      "In stage 41: transferred 52 clusters with 28 clusters populated\n"
     ]
    },
    {
     "name": "stderr",
     "output_type": "stream",
     "text": [
      " 86%|████████▌ | 43/50 [04:09<00:37,  5.40s/it]"
     ]
    },
    {
     "name": "stdout",
     "output_type": "stream",
     "text": [
      "In stage 42: transferred 70 clusters with 29 clusters populated\n"
     ]
    },
    {
     "name": "stderr",
     "output_type": "stream",
     "text": [
      " 88%|████████▊ | 44/50 [04:15<00:34,  5.77s/it]"
     ]
    },
    {
     "name": "stdout",
     "output_type": "stream",
     "text": [
      "In stage 43: transferred 64 clusters with 29 clusters populated\n"
     ]
    },
    {
     "name": "stderr",
     "output_type": "stream",
     "text": [
      " 90%|█████████ | 45/50 [04:22<00:29,  5.87s/it]"
     ]
    },
    {
     "name": "stdout",
     "output_type": "stream",
     "text": [
      "In stage 44: transferred 58 clusters with 30 clusters populated\n"
     ]
    },
    {
     "name": "stderr",
     "output_type": "stream",
     "text": [
      " 92%|█████████▏| 46/50 [04:27<00:22,  5.74s/it]"
     ]
    },
    {
     "name": "stdout",
     "output_type": "stream",
     "text": [
      "In stage 45: transferred 67 clusters with 28 clusters populated\n"
     ]
    },
    {
     "name": "stderr",
     "output_type": "stream",
     "text": [
      " 94%|█████████▍| 47/50 [04:32<00:16,  5.59s/it]"
     ]
    },
    {
     "name": "stdout",
     "output_type": "stream",
     "text": [
      "In stage 46: transferred 55 clusters with 28 clusters populated\n"
     ]
    },
    {
     "name": "stderr",
     "output_type": "stream",
     "text": [
      " 96%|█████████▌| 48/50 [04:40<00:12,  6.12s/it]"
     ]
    },
    {
     "name": "stdout",
     "output_type": "stream",
     "text": [
      "In stage 47: transferred 60 clusters with 28 clusters populated\n"
     ]
    },
    {
     "name": "stderr",
     "output_type": "stream",
     "text": [
      " 98%|█████████▊| 49/50 [04:47<00:06,  6.58s/it]"
     ]
    },
    {
     "name": "stdout",
     "output_type": "stream",
     "text": [
      "In stage 48: transferred 56 clusters with 28 clusters populated\n"
     ]
    },
    {
     "name": "stderr",
     "output_type": "stream",
     "text": [
      "100%|██████████| 50/50 [04:53<00:00,  5.87s/it]"
     ]
    },
    {
     "name": "stdout",
     "output_type": "stream",
     "text": [
      "In stage 49: transferred 61 clusters with 28 clusters populated\n"
     ]
    },
    {
     "name": "stderr",
     "output_type": "stream",
     "text": [
      "\n"
     ]
    }
   ],
   "source": [
    "K_num = [5,10,15,20,25,30]\n",
    "K_results = []\n",
    "for i in K_num:\n",
    "    mgp = MovieGroupProcess(K=i, alpha=0.4, beta=0.1, n_iters=50)\n",
    "    y = mgp.fit(docs_common, len(vocab))\n",
    "    prob_v1_15_40_20 = df_test['test_doc'].apply(prob)\n",
    "    pred_v1 = prob_v1_15_40_20.map(lambda x: 1 if x>=0.7 else 0)\n",
    "    K_results.append(accuracy_score(df_test['Controversy'], pred_v1))"
   ]
  },
  {
   "cell_type": "code",
   "execution_count": 88,
   "metadata": {},
   "outputs": [],
   "source": [
    "#Use Most Common 20 Words\n",
    "mgp = MovieGroupProcess(K=6, alpha=0.4, beta=0.1, n_iters=50)"
   ]
  },
  {
   "cell_type": "code",
   "execution_count": 89,
   "metadata": {
    "collapsed": true,
    "jupyter": {
     "outputs_hidden": true
    }
   },
   "outputs": [
    {
     "name": "stderr",
     "output_type": "stream",
     "text": [
      "  2%|▏         | 1/50 [00:01<01:08,  1.39s/it]"
     ]
    },
    {
     "name": "stdout",
     "output_type": "stream",
     "text": [
      "In stage 0: transferred 1753 clusters with 6 clusters populated\n",
      "In stage 1: transferred 883 clusters with 6 clusters populated"
     ]
    },
    {
     "name": "stderr",
     "output_type": "stream",
     "text": [
      "  6%|▌         | 3/50 [00:03<00:59,  1.26s/it]"
     ]
    },
    {
     "name": "stdout",
     "output_type": "stream",
     "text": [
      "\n",
      "In stage 2: transferred 245 clusters with 6 clusters populated\n"
     ]
    },
    {
     "name": "stderr",
     "output_type": "stream",
     "text": [
      "  8%|▊         | 4/50 [00:04<00:56,  1.22s/it]"
     ]
    },
    {
     "name": "stdout",
     "output_type": "stream",
     "text": [
      "In stage 3: transferred 112 clusters with 6 clusters populated\n",
      "In stage 4: transferred 84 clusters with 6 clusters populated\n"
     ]
    },
    {
     "name": "stderr",
     "output_type": "stream",
     "text": [
      " 12%|█▏        | 6/50 [00:07<00:52,  1.20s/it]"
     ]
    },
    {
     "name": "stdout",
     "output_type": "stream",
     "text": [
      "In stage 5: transferred 57 clusters with 6 clusters populated\n"
     ]
    },
    {
     "name": "stderr",
     "output_type": "stream",
     "text": [
      " 14%|█▍        | 7/50 [00:08<00:53,  1.24s/it]"
     ]
    },
    {
     "name": "stdout",
     "output_type": "stream",
     "text": [
      "In stage 6: transferred 53 clusters with 6 clusters populated\n"
     ]
    },
    {
     "name": "stderr",
     "output_type": "stream",
     "text": [
      " 16%|█▌        | 8/50 [00:09<00:51,  1.23s/it]"
     ]
    },
    {
     "name": "stdout",
     "output_type": "stream",
     "text": [
      "In stage 7: transferred 48 clusters with 6 clusters populated\n"
     ]
    },
    {
     "name": "stderr",
     "output_type": "stream",
     "text": [
      " 18%|█▊        | 9/50 [00:10<00:49,  1.21s/it]"
     ]
    },
    {
     "name": "stdout",
     "output_type": "stream",
     "text": [
      "In stage 8: transferred 41 clusters with 6 clusters populated\n"
     ]
    },
    {
     "name": "stderr",
     "output_type": "stream",
     "text": [
      " 22%|██▏       | 11/50 [00:13<00:48,  1.24s/it]"
     ]
    },
    {
     "name": "stdout",
     "output_type": "stream",
     "text": [
      "In stage 9: transferred 40 clusters with 6 clusters populated\n",
      "In stage 10: transferred 45 clusters with 6 clusters populated\n"
     ]
    },
    {
     "name": "stderr",
     "output_type": "stream",
     "text": [
      " 24%|██▍       | 12/50 [00:14<00:47,  1.25s/it]"
     ]
    },
    {
     "name": "stdout",
     "output_type": "stream",
     "text": [
      "In stage 11: transferred 44 clusters with 6 clusters populated\n"
     ]
    },
    {
     "name": "stderr",
     "output_type": "stream",
     "text": [
      " 26%|██▌       | 13/50 [00:16<00:47,  1.28s/it]"
     ]
    },
    {
     "name": "stdout",
     "output_type": "stream",
     "text": [
      "In stage 12: transferred 45 clusters with 6 clusters populated\n"
     ]
    },
    {
     "name": "stderr",
     "output_type": "stream",
     "text": [
      " 28%|██▊       | 14/50 [00:17<00:48,  1.34s/it]"
     ]
    },
    {
     "name": "stdout",
     "output_type": "stream",
     "text": [
      "In stage 13: transferred 48 clusters with 6 clusters populated\n"
     ]
    },
    {
     "name": "stderr",
     "output_type": "stream",
     "text": [
      " 30%|███       | 15/50 [00:18<00:47,  1.36s/it]"
     ]
    },
    {
     "name": "stdout",
     "output_type": "stream",
     "text": [
      "In stage 14: transferred 46 clusters with 6 clusters populated\n"
     ]
    },
    {
     "name": "stderr",
     "output_type": "stream",
     "text": [
      " 32%|███▏      | 16/50 [00:20<00:45,  1.35s/it]"
     ]
    },
    {
     "name": "stdout",
     "output_type": "stream",
     "text": [
      "In stage 15: transferred 47 clusters with 6 clusters populated\n"
     ]
    },
    {
     "name": "stderr",
     "output_type": "stream",
     "text": [
      " 34%|███▍      | 17/50 [00:21<00:43,  1.30s/it]"
     ]
    },
    {
     "name": "stdout",
     "output_type": "stream",
     "text": [
      "In stage 16: transferred 49 clusters with 6 clusters populated\n"
     ]
    },
    {
     "name": "stderr",
     "output_type": "stream",
     "text": [
      " 36%|███▌      | 18/50 [00:22<00:41,  1.30s/it]"
     ]
    },
    {
     "name": "stdout",
     "output_type": "stream",
     "text": [
      "In stage 17: transferred 39 clusters with 6 clusters populated\n"
     ]
    },
    {
     "name": "stderr",
     "output_type": "stream",
     "text": [
      " 38%|███▊      | 19/50 [00:23<00:38,  1.24s/it]"
     ]
    },
    {
     "name": "stdout",
     "output_type": "stream",
     "text": [
      "In stage 18: transferred 39 clusters with 6 clusters populated\n"
     ]
    },
    {
     "name": "stderr",
     "output_type": "stream",
     "text": [
      " 40%|████      | 20/50 [00:25<00:36,  1.22s/it]"
     ]
    },
    {
     "name": "stdout",
     "output_type": "stream",
     "text": [
      "In stage 19: transferred 46 clusters with 6 clusters populated\n"
     ]
    },
    {
     "name": "stderr",
     "output_type": "stream",
     "text": [
      " 42%|████▏     | 21/50 [00:26<00:37,  1.29s/it]"
     ]
    },
    {
     "name": "stdout",
     "output_type": "stream",
     "text": [
      "In stage 20: transferred 38 clusters with 6 clusters populated\n"
     ]
    },
    {
     "name": "stderr",
     "output_type": "stream",
     "text": [
      " 44%|████▍     | 22/50 [00:27<00:37,  1.34s/it]"
     ]
    },
    {
     "name": "stdout",
     "output_type": "stream",
     "text": [
      "In stage 21: transferred 39 clusters with 6 clusters populated\n"
     ]
    },
    {
     "name": "stderr",
     "output_type": "stream",
     "text": [
      " 46%|████▌     | 23/50 [00:29<00:41,  1.53s/it]"
     ]
    },
    {
     "name": "stdout",
     "output_type": "stream",
     "text": [
      "In stage 22: transferred 41 clusters with 6 clusters populated\n"
     ]
    },
    {
     "name": "stderr",
     "output_type": "stream",
     "text": [
      " 50%|█████     | 25/50 [00:32<00:34,  1.39s/it]"
     ]
    },
    {
     "name": "stdout",
     "output_type": "stream",
     "text": [
      "In stage 23: transferred 35 clusters with 6 clusters populated\n",
      "In stage 24: transferred 34 clusters with 6 clusters populated\n"
     ]
    },
    {
     "name": "stderr",
     "output_type": "stream",
     "text": [
      " 52%|█████▏    | 26/50 [00:33<00:32,  1.37s/it]"
     ]
    },
    {
     "name": "stdout",
     "output_type": "stream",
     "text": [
      "In stage 25: transferred 36 clusters with 6 clusters populated\n"
     ]
    },
    {
     "name": "stderr",
     "output_type": "stream",
     "text": [
      " 54%|█████▍    | 27/50 [00:35<00:30,  1.35s/it]"
     ]
    },
    {
     "name": "stdout",
     "output_type": "stream",
     "text": [
      "In stage 26: transferred 45 clusters with 6 clusters populated\n"
     ]
    },
    {
     "name": "stderr",
     "output_type": "stream",
     "text": [
      " 56%|█████▌    | 28/50 [00:36<00:30,  1.36s/it]"
     ]
    },
    {
     "name": "stdout",
     "output_type": "stream",
     "text": [
      "In stage 27: transferred 34 clusters with 6 clusters populated\n"
     ]
    },
    {
     "name": "stderr",
     "output_type": "stream",
     "text": [
      " 58%|█████▊    | 29/50 [00:37<00:28,  1.34s/it]"
     ]
    },
    {
     "name": "stdout",
     "output_type": "stream",
     "text": [
      "In stage 28: transferred 37 clusters with 6 clusters populated\n"
     ]
    },
    {
     "name": "stderr",
     "output_type": "stream",
     "text": [
      " 60%|██████    | 30/50 [00:39<00:26,  1.34s/it]"
     ]
    },
    {
     "name": "stdout",
     "output_type": "stream",
     "text": [
      "In stage 29: transferred 38 clusters with 6 clusters populated\n"
     ]
    },
    {
     "name": "stderr",
     "output_type": "stream",
     "text": [
      " 62%|██████▏   | 31/50 [00:40<00:27,  1.47s/it]"
     ]
    },
    {
     "name": "stdout",
     "output_type": "stream",
     "text": [
      "In stage 30: transferred 38 clusters with 6 clusters populated\n"
     ]
    },
    {
     "name": "stderr",
     "output_type": "stream",
     "text": [
      " 64%|██████▍   | 32/50 [00:42<00:28,  1.61s/it]"
     ]
    },
    {
     "name": "stdout",
     "output_type": "stream",
     "text": [
      "In stage 31: transferred 40 clusters with 6 clusters populated\n"
     ]
    },
    {
     "name": "stderr",
     "output_type": "stream",
     "text": [
      " 66%|██████▌   | 33/50 [00:44<00:28,  1.70s/it]"
     ]
    },
    {
     "name": "stdout",
     "output_type": "stream",
     "text": [
      "In stage 32: transferred 36 clusters with 6 clusters populated\n"
     ]
    },
    {
     "name": "stderr",
     "output_type": "stream",
     "text": [
      " 70%|███████   | 35/50 [00:47<00:22,  1.53s/it]"
     ]
    },
    {
     "name": "stdout",
     "output_type": "stream",
     "text": [
      "In stage 33: transferred 38 clusters with 6 clusters populated\n",
      "In stage 34: transferred 46 clusters with 6 clusters populated\n"
     ]
    },
    {
     "name": "stderr",
     "output_type": "stream",
     "text": [
      " 72%|███████▏  | 36/50 [00:49<00:22,  1.58s/it]"
     ]
    },
    {
     "name": "stdout",
     "output_type": "stream",
     "text": [
      "In stage 35: transferred 28 clusters with 6 clusters populated\n"
     ]
    },
    {
     "name": "stderr",
     "output_type": "stream",
     "text": [
      " 74%|███████▍  | 37/50 [00:50<00:20,  1.59s/it]"
     ]
    },
    {
     "name": "stdout",
     "output_type": "stream",
     "text": [
      "In stage 36: transferred 29 clusters with 6 clusters populated\n"
     ]
    },
    {
     "name": "stderr",
     "output_type": "stream",
     "text": [
      " 76%|███████▌  | 38/50 [00:52<00:19,  1.60s/it]"
     ]
    },
    {
     "name": "stdout",
     "output_type": "stream",
     "text": [
      "In stage 37: transferred 33 clusters with 6 clusters populated\n"
     ]
    },
    {
     "name": "stderr",
     "output_type": "stream",
     "text": [
      " 80%|████████  | 40/50 [00:55<00:14,  1.46s/it]"
     ]
    },
    {
     "name": "stdout",
     "output_type": "stream",
     "text": [
      "In stage 38: transferred 42 clusters with 6 clusters populated\n",
      "In stage 39: transferred 34 clusters with 6 clusters populated\n"
     ]
    },
    {
     "name": "stderr",
     "output_type": "stream",
     "text": [
      " 82%|████████▏ | 41/50 [00:56<00:13,  1.52s/it]"
     ]
    },
    {
     "name": "stdout",
     "output_type": "stream",
     "text": [
      "In stage 40: transferred 43 clusters with 6 clusters populated\n"
     ]
    },
    {
     "name": "stderr",
     "output_type": "stream",
     "text": [
      " 84%|████████▍ | 42/50 [00:58<00:12,  1.61s/it]"
     ]
    },
    {
     "name": "stdout",
     "output_type": "stream",
     "text": [
      "In stage 41: transferred 38 clusters with 6 clusters populated\n"
     ]
    },
    {
     "name": "stderr",
     "output_type": "stream",
     "text": [
      " 86%|████████▌ | 43/50 [00:59<00:10,  1.54s/it]"
     ]
    },
    {
     "name": "stdout",
     "output_type": "stream",
     "text": [
      "In stage 42: transferred 27 clusters with 6 clusters populated\n"
     ]
    },
    {
     "name": "stderr",
     "output_type": "stream",
     "text": [
      " 88%|████████▊ | 44/50 [01:01<00:08,  1.47s/it]"
     ]
    },
    {
     "name": "stdout",
     "output_type": "stream",
     "text": [
      "In stage 43: transferred 38 clusters with 6 clusters populated\n",
      "In stage 44: transferred 31 clusters with 6 clusters populated"
     ]
    },
    {
     "name": "stderr",
     "output_type": "stream",
     "text": [
      " 90%|█████████ | 45/50 [01:02<00:06,  1.39s/it]"
     ]
    },
    {
     "name": "stdout",
     "output_type": "stream",
     "text": [
      "\n"
     ]
    },
    {
     "name": "stderr",
     "output_type": "stream",
     "text": [
      " 92%|█████████▏| 46/50 [01:03<00:05,  1.33s/it]"
     ]
    },
    {
     "name": "stdout",
     "output_type": "stream",
     "text": [
      "In stage 45: transferred 40 clusters with 6 clusters populated\n"
     ]
    },
    {
     "name": "stderr",
     "output_type": "stream",
     "text": [
      " 94%|█████████▍| 47/50 [01:04<00:03,  1.29s/it]"
     ]
    },
    {
     "name": "stdout",
     "output_type": "stream",
     "text": [
      "In stage 46: transferred 32 clusters with 6 clusters populated\n"
     ]
    },
    {
     "name": "stderr",
     "output_type": "stream",
     "text": [
      " 96%|█████████▌| 48/50 [01:05<00:02,  1.25s/it]"
     ]
    },
    {
     "name": "stdout",
     "output_type": "stream",
     "text": [
      "In stage 47: transferred 33 clusters with 6 clusters populated\n"
     ]
    },
    {
     "name": "stderr",
     "output_type": "stream",
     "text": [
      " 98%|█████████▊| 49/50 [01:07<00:01,  1.26s/it]"
     ]
    },
    {
     "name": "stdout",
     "output_type": "stream",
     "text": [
      "In stage 48: transferred 35 clusters with 6 clusters populated\n"
     ]
    },
    {
     "name": "stderr",
     "output_type": "stream",
     "text": [
      "100%|██████████| 50/50 [01:08<00:00,  1.37s/it]"
     ]
    },
    {
     "name": "stdout",
     "output_type": "stream",
     "text": [
      "In stage 49: transferred 41 clusters with 6 clusters populated\n"
     ]
    },
    {
     "name": "stderr",
     "output_type": "stream",
     "text": [
      "\n"
     ]
    }
   ],
   "source": [
    "y = mgp.fit(docs_common, len(vocab))"
   ]
  },
  {
   "cell_type": "code",
   "execution_count": 87,
   "metadata": {},
   "outputs": [],
   "source": [
    "import pickle\n",
    "\n",
    "filename = 'model_v1.model'\n",
    "pickle.dump(mgp, open(filename, 'wb'))"
   ]
  },
  {
   "cell_type": "code",
   "execution_count": 341,
   "metadata": {},
   "outputs": [],
   "source": [
    "def cluster_importance(mgp):\n",
    "    n_z_w = mgp.cluster_word_distribution\n",
    "    beta, V, K = mgp.beta, mgp.vocab_size, mgp.K\n",
    "    phi = [{} for i in range(K)]        \n",
    "    for z in range(K):\n",
    "        for w in n_z_w[z]:\n",
    "            phi[z][w] = (n_z_w[z][w]+beta)/(sum(n_z_w[z].values())+V*beta)\n",
    "    return phi\n",
    "phi = cluster_importance(mgp)"
   ]
  },
  {
   "cell_type": "code",
   "execution_count": 343,
   "metadata": {
    "collapsed": true,
    "jupyter": {
     "outputs_hidden": true
    }
   },
   "outputs": [
    {
     "data": {
      "text/plain": [
       "{'gulf': 0.0010215498370384785,\n",
       " 'drug': 0.015128666634236515,\n",
       " 'govern': 0.027289974218027927,\n",
       " 'intern': 0.0019944544437417912,\n",
       " 'state': 0.017560928150994796,\n",
       " 'tropic': 0.02388480809456633,\n",
       " 'storm': 0.023398355791214673,\n",
       " 'season': 0.013669309724181546,\n",
       " 'depress': 0.012696405117478233,\n",
       " 'convect': 0.005399620567203386,\n",
       " 'low': 0.010264143600719951,\n",
       " 'north': 0.009777691297368295,\n",
       " 'major': 0.004426715960500073,\n",
       " 'august': 0.008318334387313326,\n",
       " 'coast': 0.005886072870555042,\n",
       " 'terrorist': 0.015128666634236515,\n",
       " 'new': 0.021452546577808047,\n",
       " 'day': 0.041397091015225956,\n",
       " 'time': 0.0019944544437417912,\n",
       " 'central': 0.003940263657148417,\n",
       " 'region': 0.00783188208396167,\n",
       " 'june': 0.012209952814126577,\n",
       " 'list': 0.017074475847643142,\n",
       " 'south': 0.009777691297368295,\n",
       " 'march': 0.031181592644841175,\n",
       " 'sever': 0.007345429780610012,\n",
       " 'mi': 0.004426715960500073,\n",
       " 'island': 0.005886072870555042,\n",
       " 'prime': 0.0015080021403901349,\n",
       " 'local': 0.0024809067470934476,\n",
       " 'number': 0.021452546577808047,\n",
       " 'week': 0.0015080021403901349,\n",
       " 'home': 0.002967359050445104,\n",
       " 'record': 0.0024809067470934476,\n",
       " 'san': 0.0015080021403901349,\n",
       " 'year': 0.0010215498370384785,\n",
       " 'nation': 0.009777691297368295,\n",
       " 'host': 0.0010215498370384785,\n",
       " 'rain': 0.0015080021403901349,\n",
       " 'area': 0.009777691297368295,\n",
       " 'unit': 0.006858977477258355,\n",
       " 'shear': 0.0034538113537967603,\n",
       " 'sea': 0.004913168263851729,\n",
       " 'district': 0.002967359050445104,\n",
       " 'typhoon': 0.0034538113537967603,\n",
       " 'japan': 0.0015080021403901349,\n",
       " 'report': 0.002967359050445104,\n",
       " 'woman': 0.0024809067470934476,\n",
       " 'center': 0.0034538113537967603,\n",
       " 'place': 0.015128666634236515,\n",
       " 'death': 0.011237048207423264,\n",
       " 'northern': 0.0015080021403901349,\n",
       " 'power': 0.007345429780610012,\n",
       " 'case': 0.016588023544291484,\n",
       " 'novel': 0.0010215498370384785,\n",
       " 'public': 0.016588023544291484,\n",
       " 'health': 0.028749331128082894,\n",
       " 'total': 0.032154497251544484,\n",
       " 'virus': 0.01172350051077492,\n",
       " 'posit': 0.013669309724181546,\n",
       " 'china': 0.007345429780610012,\n",
       " 'infect': 0.003940263657148417,\n",
       " 'medic': 0.0063725251739066985,\n",
       " 'protect': 0.0019944544437417912,\n",
       " 'outbreak': 0.004426715960500073,\n",
       " 'depart': 0.003940263657148417,\n",
       " 'test': 0.0019944544437417912,\n",
       " 'high': 0.0010215498370384785,\n",
       " 'toll': 0.0015080021403901349,\n",
       " 'consensus': 0.009777691297368295,\n",
       " 'bay': 0.0015080021403901349,\n",
       " 'peak': 0.0019944544437417912,\n",
       " 'western': 0.0010215498370384785,\n",
       " 'person': 0.0015080021403901349,\n",
       " 'patient': 0.0019944544437417912,\n",
       " 'social': 0.002967359050445104,\n",
       " 'terror': 0.015128666634236515,\n",
       " 'sign': 0.015128666634236515,\n",
       " 'violent': 0.015128666634236515,\n",
       " 'manual': 0.0024809067470934476,\n",
       " 'human': 0.0015080021403901349,\n",
       " 'viral': 0.0015080021403901349,\n",
       " 'deep': 0.0015080021403901349,\n",
       " 'treatment': 0.0010215498370384785,\n",
       " 'risk': 0.0024809067470934476,\n",
       " 'spread': 0.0024809067470934476,\n",
       " 'wind': 0.0015080021403901349,\n",
       " 'ocean': 0.004913168263851729,\n",
       " 'wave': 0.0010215498370384785,\n",
       " 'bom': 0.0010215498370384785,\n",
       " 'bring': 0.0010215498370384785,\n",
       " 'cold': 0.0010215498370384785,\n",
       " 'valley': 0.0019944544437417912,\n",
       " 'flood': 0.0019944544437417912,\n",
       " 'beach': 0.0010215498370384785,\n",
       " 'red': 0.0015080021403901349,\n",
       " 'indic': 0.005399620567203386,\n",
       " 'travel': 0.0024809067470934476,\n",
       " 'lake': 0.0010215498370384785,\n",
       " 'basin': 0.003940263657148417,\n",
       " 'man': 0.002967359050445104,\n",
       " 'level': 0.0010215498370384785,\n",
       " 'alert': 0.0010215498370384785,\n",
       " 'care': 0.002967359050445104,\n",
       " 'cape': 0.0010215498370384785,\n",
       " 'relief': 0.0019944544437417912,\n",
       " 'water': 0.0019944544437417912,\n",
       " 'month': 0.0015080021403901349,\n",
       " 'weak': 0.0015080021403901349,\n",
       " 'percent': 0.0015080021403901349,\n",
       " 'manila': 0.0010215498370384785,\n",
       " 'tornado': 0.0034538113537967603,\n",
       " 'roof': 0.0034538113537967603,\n",
       " 'strong': 0.0015080021403901349,\n",
       " 'road': 0.002967359050445104,\n",
       " 'line': 0.0010215498370384785,\n",
       " 'river': 0.0010215498370384785,\n",
       " 'strength': 0.0024809067470934476,\n",
       " 'path': 0.0015080021403901349,\n",
       " 'southern': 0.0010215498370384785,\n",
       " 'world': 0.0010215498370384785,\n",
       " 'fault': 0.0010215498370384785,\n",
       " 'male': 0.0010215498370384785,\n",
       " 'control': 0.0010215498370384785,\n",
       " 'order': 0.0015080021403901349,\n",
       " 'border': 0.0010215498370384785,\n",
       " 'trump': 0.0015080021403901349,\n",
       " 'tsunami': 0.0005350975336868221,\n",
       " 'la': 0.0010215498370384785,\n",
       " 'rate': 0.0010215498370384785,\n",
       " 'build': 0.0005350975336868221,\n",
       " 'canada': 0.0005350975336868221,\n",
       " 'wellington': 0.0005350975336868221,\n",
       " 'disturb': 0.0005350975336868221,\n",
       " 'outlook': 0.0005350975336868221,\n",
       " 'format': 0.0005350975336868221,\n",
       " 'democrat': 0.0005350975336868221,\n",
       " 'organ': 0.0005350975336868221,\n",
       " 'bureau': 0.0005350975336868221,\n",
       " 'remnant': 0.0005350975336868221,\n",
       " 'foreshock': 0.0005350975336868221,\n",
       " 'tree': 0.0005350975336868221,\n",
       " 'super': 0.0005350975336868221,\n",
       " 'rupiah': 0.0005350975336868221,\n",
       " 'aid': 0.0005350975336868221,\n",
       " 'bali': 0.0005350975336868221,\n",
       " 'ace': 0.0005350975336868221,\n",
       " 'median': 0.0005350975336868221,\n",
       " 'eastern': 0.0005350975336868221,\n",
       " 'index': 0.0005350975336868221,\n",
       " 'depend': 0.0005350975336868221,\n",
       " 'differ': 0.0005350975336868221,\n",
       " 'period': 0.0005350975336868221,\n",
       " 'van': 0.0005350975336868221,\n",
       " 'brazil': 0.0005350975336868221,\n",
       " 'rio': 0.0005350975336868221,\n",
       " 'chile': 0.0005350975336868221,\n",
       " 'previous': 0.0005350975336868221,\n",
       " 'franc': 0.0005350975336868221,\n",
       " 'german': 0.0005350975336868221,\n",
       " 'guernsey': 0.0005350975336868221,\n",
       " 'bailiwick': 0.0005350975336868221,\n",
       " 'zone': 0.0005350975336868221,\n",
       " 'movement': 0.0005350975336868221,\n",
       " 'face': 0.0005350975336868221,\n",
       " 'mayor': 0.0005350975336868221,\n",
       " 'secretariat': 0.0005350975336868221,\n",
       " 'morocco': 0.0005350975336868221,\n",
       " 'ford': 0.0005350975336868221,\n",
       " 'polish': 0.0005350975336868221,\n",
       " 'sahib': 0.0005350975336868221,\n",
       " 'tarn': 0.0005350975336868221,\n",
       " 'corona': 0.0005350975336868221,\n",
       " 'old': 0.0005350975336868221,\n",
       " 'russia': 0.0005350975336868221,\n",
       " 'start': 0.0005350975336868221,\n",
       " 'curfew': 0.0005350975336868221,\n",
       " 'church': 0.0005350975336868221,\n",
       " 'turkey': 0.0005350975336868221,\n",
       " 'maduro': 0.0005350975336868221,\n",
       " 'da': 0.0005350975336868221,\n",
       " 'school': 0.0005350975336868221,\n",
       " 'phase': 0.0005350975336868221,\n",
       " 'staff': 0.0005350975336868221,\n",
       " 'genom': 0.0005350975336868221,\n",
       " 'bat': 0.0005350975336868221,\n",
       " 'common': 0.0005350975336868221,\n",
       " 'coastal': 0.0005350975336868221,\n",
       " 'west': 0.0005350975336868221,\n",
       " 'tonga': 0.0005350975336868221,\n",
       " 'cross': 0.0005350975336868221,\n",
       " 'food': 0.0005350975336868221,\n",
       " 'sri': 0.0005350975336868221,\n",
       " 'stone': 0.0005350975336868221,\n",
       " 'spout': 0.0005350975336868221,\n",
       " 'pond': 0.0005350975336868221,\n",
       " 'project': 0.0005350975336868221,\n",
       " 'drink': 0.0005350975336868221,\n",
       " 'canal': 0.0005350975336868221,\n",
       " 'grand': 0.0005350975336868221,\n",
       " 'hanna': 0.0005350975336868221,\n",
       " 'corpus': 0.0005350975336868221,\n",
       " 'port': 0.0005350975336868221,\n",
       " 'hector': 0.0005350975336868221,\n",
       " 'eye': 0.0005350975336868221,\n",
       " 'minor': 0.0005350975336868221,\n",
       " 'saint': 0.0005350975336868221,\n",
       " 'status': 0.0005350975336868221,\n",
       " 'lane': 0.0005350975336868221,\n",
       " 'big': 0.0005350975336868221,\n",
       " 'late': 0.0005350975336868221,\n",
       " 'transit': 0.0005350975336868221,\n",
       " 'weaken': 0.0005350975336868221,\n",
       " 'maria': 0.0005350975336868221,\n",
       " 'base': 0.0005350975336868221,\n",
       " 'costa': 0.0005350975336868221,\n",
       " 'widespread': 0.0005350975336868221,\n",
       " 'weather': 0.0005350975336868221,\n",
       " 'kingdom': 0.0005350975336868221,\n",
       " 'chill': 0.0005350975336868221,\n",
       " 'polar': 0.0005350975336868221,\n",
       " 'vortex': 0.0005350975336868221,\n",
       " 'beni': 0.0005350975336868221,\n",
       " 'contact': 0.0005350975336868221,\n",
       " 'li': 0.0005350975336868221,\n",
       " 'doctor': 0.0005350975336868221,\n",
       " 'el': 0.0005350975336868221,\n",
       " 'sort': 0.0005350975336868221,\n",
       " 'islay': 0.0005350975336868221,\n",
       " 'mar': 0.0005350975336868221,\n",
       " 'victor': 0.0005350975336868221,\n",
       " 'racist': 0.0005350975336868221,\n",
       " 'racism': 0.0005350975336868221,\n",
       " 'descent': 0.0005350975336868221,\n",
       " 'typic': 0.0005350975336868221,\n",
       " 'reason': 0.0005350975336868221,\n",
       " 'stay': 0.0005350975336868221,\n",
       " 'row': 0.0005350975336868221,\n",
       " 'recent': 0.0005350975336868221,\n",
       " 'news': 0.0005350975336868221,\n",
       " 'misinform': 0.0005350975336868221,\n",
       " 'clinic': 0.0005350975336868221,\n",
       " 'shock': 0.0005350975336868221,\n",
       " 'strain': 0.0005350975336868221,\n",
       " 'protein': 0.0005350975336868221,\n",
       " 'receptor': 0.0005350975336868221,\n",
       " 'solar': 0.0005350975336868221,\n",
       " 'traffic': 0.0005350975336868221,\n",
       " 'event': 0.0005350975336868221,\n",
       " 'partial': 0.0005350975336868221,\n",
       " 'orangutan': 0.0005350975336868221,\n",
       " 'sumatra': 0.0005350975336868221,\n",
       " 'toru': 0.0005350975336868221,\n",
       " 'distinct': 0.0005350975336868221,\n",
       " 'genet': 0.0005350975336868221,\n",
       " 'habitat': 0.0005350975336868221,\n",
       " 'probabl': 0.0005350975336868221,\n",
       " 'diamond': 0.0005350975336868221,\n",
       " 'princess': 0.0005350975336868221,\n",
       " 'confirm': 0.0005350975336868221,\n",
       " 'brick': 0.0005350975336868221,\n",
       " 'east': 0.0005350975336868221,\n",
       " 'lee': 0.0005350975336868221,\n",
       " 'town': 0.0005350975336868221,\n",
       " 'dozen': 0.0005350975336868221,\n",
       " 'child': 0.0005350975336868221,\n",
       " 'migrant': 0.0005350975336868221,\n",
       " 'detent': 0.0005350975336868221,\n",
       " 'hong': 0.0005350975336868221,\n",
       " 'signal': 0.0005350975336868221,\n",
       " 'woolsey': 0.0005350975336868221,\n",
       " 'highway': 0.0005350975336868221,\n",
       " 'point': 0.0005350975336868221}"
      ]
     },
     "execution_count": 343,
     "metadata": {},
     "output_type": "execute_result"
    }
   ],
   "source": [
    "phi[8]"
   ]
  },
  {
   "cell_type": "code",
   "execution_count": 75,
   "metadata": {},
   "outputs": [
    {
     "name": "stdout",
     "output_type": "stream",
     "text": [
      "Number of documents per topic : [329  97 389 137 160 216 171 410  95 354]\n",
      "********************\n"
     ]
    }
   ],
   "source": [
    "doc_count = np.array(mgp.cluster_doc_count)\n",
    "print('Number of documents per topic :', doc_count)\n",
    "print('*'*20)"
   ]
  },
  {
   "cell_type": "code",
   "execution_count": 211,
   "metadata": {},
   "outputs": [
    {
     "name": "stdout",
     "output_type": "stream",
     "text": [
      "Most important clusters (by number of docs inside): [14  8  2  3 10  1 12  7  9  6]\n",
      "********************\n"
     ]
    }
   ],
   "source": [
    "# Topics sorted by the number of document they are allocated to\n",
    "top_index = doc_count.argsort()[-10:][::-1]\n",
    "print('Most important clusters (by number of docs inside):', top_index)\n",
    "print('*'*20)"
   ]
  },
  {
   "cell_type": "code",
   "execution_count": 82,
   "metadata": {},
   "outputs": [],
   "source": [
    "def prob(words):\n",
    "    label, probability = mgp.choose_best_label(words)\n",
    "    return probability"
   ]
  },
  {
   "cell_type": "code",
   "execution_count": 90,
   "metadata": {},
   "outputs": [],
   "source": [
    "prob_v1_15_40_20 = df_test['test_doc'].apply(prob)"
   ]
  },
  {
   "cell_type": "code",
   "execution_count": 91,
   "metadata": {
    "collapsed": true,
    "jupyter": {
     "outputs_hidden": true
    }
   },
   "outputs": [
    {
     "data": {
      "text/plain": [
       "[0.7269252017810955,\n",
       " 0.40450167500499895,\n",
       " 0.5231027376220234,\n",
       " 0.9826295932818304,\n",
       " 0.5642233974045135,\n",
       " 0.4227427558727659,\n",
       " 0.8894539845150681,\n",
       " 0.6020359108362477,\n",
       " 0.8336627684737389,\n",
       " 0.4179060683893412,\n",
       " 0.7173826122353384,\n",
       " 0.6694442414222189,\n",
       " 0.355866160159727,\n",
       " 0.9353013883017254,\n",
       " 0.4054356408659225,\n",
       " 0.45064771095221867,\n",
       " 0.17000434451245164,\n",
       " 0.7145948039401808,\n",
       " 0.6219488991503593,\n",
       " 0.48324368572400683,\n",
       " 0.9931833216383247,\n",
       " 0.3944005452696638,\n",
       " 0.9157666634910684,\n",
       " 0.8040909866542519,\n",
       " 0.9972343779486128,\n",
       " 0.9677803586645458,\n",
       " 0.9647113320631878,\n",
       " 0.8813540340361133,\n",
       " 0.9631218757134689,\n",
       " 0.9318180846240258,\n",
       " 0.9607631997001527,\n",
       " 0.6099615252616647,\n",
       " 0.9981277321651404,\n",
       " 0.8560304085258237,\n",
       " 0.34384104018847256,\n",
       " 0.7827562021070215,\n",
       " 0.5708359842096975,\n",
       " 0.7870509251602507,\n",
       " 0.7084665786727061,\n",
       " 0.9938768570699013,\n",
       " 0.919932289502832,\n",
       " 0.9321625703774314,\n",
       " 0.9990412387354718,\n",
       " 0.8237593747226036,\n",
       " 0.9959957637945349,\n",
       " 0.961245159585658,\n",
       " 0.6199457231163382,\n",
       " 0.4531425350253752,\n",
       " 0.9128334125216541,\n",
       " 0.9787762663739857,\n",
       " 0.6945961038120024,\n",
       " 0.9131970829357328,\n",
       " 0.9916519973686055,\n",
       " 0.9525560956781844,\n",
       " 0.9715208370770015,\n",
       " 0.9987220026833973,\n",
       " 0.4060855221270749,\n",
       " 0.9834109713666063,\n",
       " 0.46606659339138506,\n",
       " 0.98845361796855,\n",
       " 0.9991912574459383,\n",
       " 0.9328418605027659,\n",
       " 0.8584286499858174,\n",
       " 0.9539866216364495,\n",
       " 0.635162077951167,\n",
       " 0.9815596800372798,\n",
       " 0.9999987876276701,\n",
       " 0.9589082392680782,\n",
       " 0.7502175040876755,\n",
       " 0.9874824828763652,\n",
       " 0.5277596408136113,\n",
       " 0.9999972605780433,\n",
       " 0.7932642399200527,\n",
       " 0.7581078408579861,\n",
       " 0.9673776191204326,\n",
       " 0.43092857378810334,\n",
       " 0.6213009643568735,\n",
       " 0.9987894557374698,\n",
       " 0.6630595090264064,\n",
       " 0.8092500715104526,\n",
       " 0.8931955373055217,\n",
       " 0.9884844587858335,\n",
       " 0.9973106243341358,\n",
       " 0.45466763334182747,\n",
       " 0.5771142240653966,\n",
       " 0.33326517909380776,\n",
       " 0.5706447524449154,\n",
       " 0.9542177546543857,\n",
       " 0.7478551133284435,\n",
       " 0.55242421392872,\n",
       " 0.9922735577511996,\n",
       " 0.5288805586358786,\n",
       " 0.5297248874691431,\n",
       " 0.5907575756814076,\n",
       " 0.9913953925644782,\n",
       " 0.45929528558768,\n",
       " 0.5256571274096727,\n",
       " 0.9811962301597583,\n",
       " 0.8779336371330041,\n",
       " 0.6469822358432841,\n",
       " 0.961048287923779,\n",
       " 0.7861899041669599,\n",
       " 0.7016121208890388,\n",
       " 0.604073211111254,\n",
       " 0.8582387152803925,\n",
       " 0.978801304681289,\n",
       " 0.28988013194025375,\n",
       " 0.9906163231303967,\n",
       " 0.28988013194025375,\n",
       " 0.9061742481777864,\n",
       " 0.7884880132089064,\n",
       " 0.7418389857835712,\n",
       " 0.5108122828554766,\n",
       " 0.92778220716094,\n",
       " 0.6756045641292048,\n",
       " 0.3728275856901669,\n",
       " 0.44589207589058233,\n",
       " 0.3580740663358874,\n",
       " 0.6586888252431743,\n",
       " 0.3406809333257858,\n",
       " 0.6316823062292329,\n",
       " 0.7276650621780312,\n",
       " 0.9340475949611599,\n",
       " 0.9999231310102337,\n",
       " 0.46206379810600906,\n",
       " 0.9286278851254585,\n",
       " 0.48015197361156103,\n",
       " 0.9176468148070573,\n",
       " 0.9469072817868996,\n",
       " 0.9836789985539002,\n",
       " 0.38121078787275564,\n",
       " 0.5366157272224453,\n",
       " 0.9984103482867953,\n",
       " 0.5047526743684444,\n",
       " 0.7259654276699928,\n",
       " 0.6858270942335427,\n",
       " 0.9786768172960271,\n",
       " 0.6372532119257662,\n",
       " 0.8615135052180706,\n",
       " 0.4252067968290738,\n",
       " 0.9910260637827139,\n",
       " 0.7320859320859828,\n",
       " 0.9945942082817906,\n",
       " 0.8582387152803925,\n",
       " 0.6316823062292329,\n",
       " 0.31870080019823416,\n",
       " 0.7951838587199349,\n",
       " 0.9339611858337524,\n",
       " 0.3627859538920632,\n",
       " 0.9985649833921977,\n",
       " 0.9046366291901561,\n",
       " 0.28988013194025375,\n",
       " 0.3378063432890737,\n",
       " 0.9999999945522372,\n",
       " 0.9936022481321477,\n",
       " 0.7268897811266823,\n",
       " 0.5771119678028366,\n",
       " 0.2903935557179202,\n",
       " 0.963666806352552,\n",
       " 0.771273778788353,\n",
       " 0.8459608289504538,\n",
       " 0.8583647638766714,\n",
       " 0.9907304693814862,\n",
       " 0.6702867088381821,\n",
       " 0.8707820231558147,\n",
       " 0.5031961600205094,\n",
       " 0.7406829037474377,\n",
       " 0.8402023134618885,\n",
       " 0.8706686087870291,\n",
       " 0.8319387443792844,\n",
       " 0.7226331350761229,\n",
       " 0.9419978316679043,\n",
       " 0.62981554353369,\n",
       " 0.7828579400483041,\n",
       " 0.7433518000941506,\n",
       " 0.5860431583966683,\n",
       " 0.8502294977112279,\n",
       " 0.4842444343602298,\n",
       " 0.9947669733392764,\n",
       " 0.8061610150620758,\n",
       " 0.9722705290815956,\n",
       " 0.9978897739530461,\n",
       " 0.8675102972202846,\n",
       " 0.9936850329476712,\n",
       " 0.4807740081060198,\n",
       " 0.9947050016660581,\n",
       " 0.5432222019922516,\n",
       " 0.6592334947057662,\n",
       " 0.9999995852746307,\n",
       " 0.8943421753316096,\n",
       " 0.8599768660213382,\n",
       " 0.9892380343876672,\n",
       " 0.7664373392321157,\n",
       " 0.6920616876660509,\n",
       " 0.7205547374636765,\n",
       " 0.936996227419777,\n",
       " 0.9701728729622888,\n",
       " 0.7933122366945597,\n",
       " 0.7120672960025681,\n",
       " 0.7490450135633634]"
      ]
     },
     "execution_count": 91,
     "metadata": {},
     "output_type": "execute_result"
    }
   ],
   "source": [
    "list(prob_v1_15_40_20)"
   ]
  },
  {
   "cell_type": "code",
   "execution_count": 92,
   "metadata": {},
   "outputs": [],
   "source": [
    "pred_v1 = prob_v1_15_40_20.map(lambda x: 1 if x>=0.7 else 0)"
   ]
  },
  {
   "cell_type": "code",
   "execution_count": 93,
   "metadata": {},
   "outputs": [
    {
     "data": {
      "text/plain": [
       "0.49"
      ]
     },
     "execution_count": 93,
     "metadata": {},
     "output_type": "execute_result"
    }
   ],
   "source": [
    "from sklearn.metrics import accuracy_score\n",
    "accuracy_score(df_test['Controversy'], pred_v1)"
   ]
  },
  {
   "cell_type": "code",
   "execution_count": 344,
   "metadata": {},
   "outputs": [
    {
     "data": {
      "text/plain": [
       "0.52"
      ]
     },
     "execution_count": 344,
     "metadata": {},
     "output_type": "execute_result"
    }
   ],
   "source": [
    "prob_v2_10_40_10 = df_test['test_doc'].apply(prob)\n",
    "pred_v2 = prob_v2_10_40_10.map(lambda x: 1 if x>=0.5 else 0)\n",
    "accuracy_score(df_test['Controversy'], pred_v2)"
   ]
  },
  {
   "cell_type": "code",
   "execution_count": 345,
   "metadata": {
    "collapsed": true,
    "jupyter": {
     "outputs_hidden": true
    }
   },
   "outputs": [
    {
     "data": {
      "text/plain": [
       "0      1\n",
       "1      0\n",
       "2      1\n",
       "3      1\n",
       "4      1\n",
       "5      1\n",
       "6      1\n",
       "7      0\n",
       "8      0\n",
       "9      1\n",
       "10     1\n",
       "11     0\n",
       "12     1\n",
       "13     1\n",
       "14     0\n",
       "15     1\n",
       "16     0\n",
       "17     1\n",
       "18     0\n",
       "19     1\n",
       "20     1\n",
       "21     1\n",
       "22     1\n",
       "23     1\n",
       "24     1\n",
       "25     0\n",
       "26     1\n",
       "27     1\n",
       "28     1\n",
       "29     1\n",
       "      ..\n",
       "170    1\n",
       "171    1\n",
       "172    1\n",
       "173    1\n",
       "174    1\n",
       "175    1\n",
       "176    1\n",
       "177    1\n",
       "178    0\n",
       "179    1\n",
       "180    0\n",
       "181    1\n",
       "182    1\n",
       "183    1\n",
       "184    0\n",
       "185    0\n",
       "186    1\n",
       "187    1\n",
       "188    1\n",
       "189    1\n",
       "190    1\n",
       "191    1\n",
       "192    1\n",
       "193    1\n",
       "194    1\n",
       "195    1\n",
       "196    1\n",
       "197    0\n",
       "198    1\n",
       "199    1\n",
       "Name: test_doc, Length: 200, dtype: int64"
      ]
     },
     "execution_count": 345,
     "metadata": {},
     "output_type": "execute_result"
    }
   ],
   "source": [
    "pred_v2"
   ]
  },
  {
   "cell_type": "code",
   "execution_count": 312,
   "metadata": {
    "collapsed": true,
    "jupyter": {
     "outputs_hidden": true
    }
   },
   "outputs": [
    {
     "data": {
      "text/plain": [
       "0      [believ, global, warm, alarmist, unpatriot, ra...\n",
       "1      [jo, pa, insult, noclass, hawkey, fan, poor, t...\n",
       "2      [just, split, girlfriend, like, japanes, say, ...\n",
       "3      [wan, na, buy, malaysian, airlin, frequent, fl...\n",
       "4           [think, ebola, epidem, form, popul, control]\n",
       "5      [wish, dickhead, room, shut, learn, english, a...\n",
       "6      [perez, hilton, calld, douchebag, homi, shoot,...\n",
       "7           [rhianna, chris, brown, beat, your, pretti]\n",
       "8             [muslim, brotherhood, planet, ape, babyvj]\n",
       "9                          [peopl, realli, rape, rememb]\n",
       "10     [btw, dont, mention, pyramid, stack, stone, bl...\n",
       "11         [obama, gma, know, go, bad, die, day, presid]\n",
       "12     [did, god, men, penis, theyd, way, shut, woman...\n",
       "13     [million, uproar, cairo, rumor, heard, new, sp...\n",
       "14     [iron, detroit, known, motorc, know, fuck, drive]\n",
       "15     [icbi, bush, did, hitler, better, job, monkey,...\n",
       "16                                               [floyd]\n",
       "17     [littl, syrian, boy, cloth, fed, die, parent, ...\n",
       "18                      [want, christma, white, genocid]\n",
       "19     [barbara, bush, generous, smart, amaz, racist,...\n",
       "20     [boomer, nword, ageism, hip, flip, doe, make, ...\n",
       "21     [sorri, dont, feel, peopl, self, harm, commit...\n",
       "22     [just, rememb, home, onlin, crack, joke, artis...\n",
       "23     [politician, need, church, help, spread, fear,...\n",
       "24     [women, nword, world, rape, beaten, enslav, ma...\n",
       "25     [huror, home, tonight, kill, let, grown, man, ...\n",
       "26     [pattibacchus, cknw, child, poverti, cultur, p...\n",
       "27     [unpopular, opnion, donald, sterl, right, amer...\n",
       "28     [state, fail, black, peopl, yeah, like, agenc,...\n",
       "29     [success, rap, billionair, doubl, rich, jewish...\n",
       "                             ...                        \n",
       "170    [hey, actual, won, bracket, pool, bad, wasnt, ...\n",
       "171    [bad, nite, favorit, team, astro, spartan, los...\n",
       "172    [bodi, miss, northern, calif, girl, polic, rem...\n",
       "173    [mangaaa, hope, increas, capac, fast, yesterda...\n",
       "174    [paradisej, cool, kind, complaint, laptop, onl...\n",
       "175          [emili, glad, mommi, train, new, job, miss]\n",
       "176      [im, sooo, sad, kill, kutner, hous, whyyyyyyyy]\n",
       "177         [jacobsumm, sorri, tell, mea, culpa, realli]\n",
       "178    [mercedesashley, damn, grind, inspir, sadden, ...\n",
       "179      [hibanick, yeah, aw, know, wudnt, stand, chanc]\n",
       "180                 [hang, crooner, wan, na, sing, suck]\n",
       "181    [erresc, aaw, miss, ya, im, leav, bh, tomorrow...\n",
       "182    [know, life, flip, upsid, just, thought, head,...\n",
       "183    [thecoolestout, ehhh, dont, weather, gon, na, ...\n",
       "184         [chelserlynn, haha, cooooold, incred, stuff]\n",
       "185                     [hope, tummi, rumbl, away, soon]\n",
       "186    [im, miss, babe, long, aliv, happi, yawwwnn, t...\n",
       "187    [bridgetsbeach, thank, let, peopl, know, im, s...\n",
       "188    [india, miss, 100th, test, victori, 10th, cons...\n",
       "189    [intend, finish, edit, 536page, novel, manuscr...\n",
       "190    [mom, breast, cancer, wont, like, week, im, wo...\n",
       "191             [go, sleep, hope, tomorrow, better, day]\n",
       "192    [rumblepurr, lol, wish, understood, daylight, ...\n",
       "193                    [live, downtown, sure, isnt, fun]\n",
       "194    [jonathanchard, calori, wise, wish, junk, food...\n",
       "195                                    [man, work, hard]\n",
       "196                            [get, eyebrow, wax, pain]\n",
       "197                [phantasi, star, yesterday, go, work]\n",
       "198    [oh, just, got, macheist, app, sweet, didnt, e...\n",
       "199    [pick, mich, st, win, feel, pretti, good, way,...\n",
       "Name: test_doc, Length: 200, dtype: object"
      ]
     },
     "execution_count": 312,
     "metadata": {},
     "output_type": "execute_result"
    }
   ],
   "source": [
    "df_test['test_doc']"
   ]
  },
  {
   "cell_type": "code",
   "execution_count": 276,
   "metadata": {
    "collapsed": true,
    "jupyter": {
     "outputs_hidden": true
    }
   },
   "outputs": [
    {
     "data": {
      "text/plain": [
       "0      0\n",
       "1      0\n",
       "2      1\n",
       "3      1\n",
       "4      0\n",
       "5      0\n",
       "6      0\n",
       "7      0\n",
       "8      0\n",
       "9      0\n",
       "10     1\n",
       "11     0\n",
       "12     1\n",
       "13     1\n",
       "14     0\n",
       "15     1\n",
       "16     0\n",
       "17     0\n",
       "18     0\n",
       "19     0\n",
       "20     1\n",
       "21     1\n",
       "22     0\n",
       "23     1\n",
       "24     0\n",
       "25     1\n",
       "26     0\n",
       "27     1\n",
       "28     1\n",
       "29     0\n",
       "      ..\n",
       "170    1\n",
       "171    1\n",
       "172    0\n",
       "173    0\n",
       "174    0\n",
       "175    0\n",
       "176    0\n",
       "177    0\n",
       "178    1\n",
       "179    0\n",
       "180    1\n",
       "181    0\n",
       "182    0\n",
       "183    0\n",
       "184    0\n",
       "185    0\n",
       "186    0\n",
       "187    0\n",
       "188    0\n",
       "189    1\n",
       "190    0\n",
       "191    0\n",
       "192    0\n",
       "193    1\n",
       "194    1\n",
       "195    0\n",
       "196    0\n",
       "197    1\n",
       "198    0\n",
       "199    0\n",
       "Name: test_doc, Length: 200, dtype: int64"
      ]
     },
     "execution_count": 276,
     "metadata": {},
     "output_type": "execute_result"
    }
   ],
   "source": [
    "pred_v1"
   ]
  },
  {
   "cell_type": "code",
   "execution_count": 99,
   "metadata": {},
   "outputs": [],
   "source": [
    "df_reddit = pd.read_csv('reddit_posts.csv')"
   ]
  },
  {
   "cell_type": "code",
   "execution_count": 100,
   "metadata": {},
   "outputs": [],
   "source": [
    "df_reddit['clean_text'] = df_reddit['comments'].apply(rev_punc).apply(cre_low).apply(rev_num).apply(rev_stop).apply(keep_noun).apply(rev_nonen).apply(word_lem)"
   ]
  },
  {
   "cell_type": "code",
   "execution_count": 357,
   "metadata": {},
   "outputs": [],
   "source": [
    "docs_re = []\n",
    "for i in range(len(df_reddit)):\n",
    "    docs_re.append([df_reddit['clean_text'][i]])"
   ]
  },
  {
   "cell_type": "code",
   "execution_count": 360,
   "metadata": {},
   "outputs": [],
   "source": [
    "for  i in range(len(df_reddit)):\n",
    "    Co = Counter(word_tokenize(docs_re[i][0]))\n",
    "    most_occur = Co.most_common(30)\n",
    "    docs_common.append([most_occur[i][0] for i in range(len(most_occur))])"
   ]
  },
  {
   "cell_type": "code",
   "execution_count": 361,
   "metadata": {},
   "outputs": [],
   "source": [
    "vocab = set(x for doc in docs_common for x in doc)"
   ]
  },
  {
   "cell_type": "code",
   "execution_count": 362,
   "metadata": {},
   "outputs": [
    {
     "data": {
      "text/plain": [
       "5633"
      ]
     },
     "execution_count": 362,
     "metadata": {},
     "output_type": "execute_result"
    }
   ],
   "source": [
    "len(vocab)"
   ]
  },
  {
   "cell_type": "code",
   "execution_count": 377,
   "metadata": {},
   "outputs": [
    {
     "name": "stderr",
     "output_type": "stream",
     "text": [
      "  5%|▌         | 1/20 [00:04<01:27,  4.60s/it]"
     ]
    },
    {
     "name": "stdout",
     "output_type": "stream",
     "text": [
      "In stage 0: transferred 2415 clusters with 15 clusters populated\n"
     ]
    },
    {
     "name": "stderr",
     "output_type": "stream",
     "text": [
      " 10%|█         | 2/20 [00:09<01:21,  4.55s/it]"
     ]
    },
    {
     "name": "stdout",
     "output_type": "stream",
     "text": [
      "In stage 1: transferred 909 clusters with 15 clusters populated\n"
     ]
    },
    {
     "name": "stderr",
     "output_type": "stream",
     "text": [
      " 15%|█▌        | 3/20 [00:13<01:16,  4.52s/it]"
     ]
    },
    {
     "name": "stdout",
     "output_type": "stream",
     "text": [
      "In stage 2: transferred 343 clusters with 15 clusters populated\n"
     ]
    },
    {
     "name": "stderr",
     "output_type": "stream",
     "text": [
      " 20%|██        | 4/20 [00:17<01:11,  4.45s/it]"
     ]
    },
    {
     "name": "stdout",
     "output_type": "stream",
     "text": [
      "In stage 3: transferred 173 clusters with 15 clusters populated\n"
     ]
    },
    {
     "name": "stderr",
     "output_type": "stream",
     "text": [
      " 25%|██▌       | 5/20 [00:22<01:06,  4.41s/it]"
     ]
    },
    {
     "name": "stdout",
     "output_type": "stream",
     "text": [
      "In stage 4: transferred 117 clusters with 15 clusters populated\n"
     ]
    },
    {
     "name": "stderr",
     "output_type": "stream",
     "text": [
      " 30%|███       | 6/20 [00:26<01:01,  4.37s/it]"
     ]
    },
    {
     "name": "stdout",
     "output_type": "stream",
     "text": [
      "In stage 5: transferred 102 clusters with 15 clusters populated\n"
     ]
    },
    {
     "name": "stderr",
     "output_type": "stream",
     "text": [
      " 35%|███▌      | 7/20 [00:30<00:56,  4.32s/it]"
     ]
    },
    {
     "name": "stdout",
     "output_type": "stream",
     "text": [
      "In stage 6: transferred 98 clusters with 15 clusters populated\n"
     ]
    },
    {
     "name": "stderr",
     "output_type": "stream",
     "text": [
      " 40%|████      | 8/20 [00:34<00:51,  4.32s/it]"
     ]
    },
    {
     "name": "stdout",
     "output_type": "stream",
     "text": [
      "In stage 7: transferred 81 clusters with 15 clusters populated\n"
     ]
    },
    {
     "name": "stderr",
     "output_type": "stream",
     "text": [
      " 45%|████▌     | 9/20 [00:39<00:47,  4.29s/it]"
     ]
    },
    {
     "name": "stdout",
     "output_type": "stream",
     "text": [
      "In stage 8: transferred 75 clusters with 15 clusters populated\n"
     ]
    },
    {
     "name": "stderr",
     "output_type": "stream",
     "text": [
      " 50%|█████     | 10/20 [00:44<00:45,  4.56s/it]"
     ]
    },
    {
     "name": "stdout",
     "output_type": "stream",
     "text": [
      "In stage 9: transferred 82 clusters with 15 clusters populated\n"
     ]
    },
    {
     "name": "stderr",
     "output_type": "stream",
     "text": [
      " 55%|█████▌    | 11/20 [00:49<00:42,  4.73s/it]"
     ]
    },
    {
     "name": "stdout",
     "output_type": "stream",
     "text": [
      "In stage 10: transferred 72 clusters with 15 clusters populated\n"
     ]
    },
    {
     "name": "stderr",
     "output_type": "stream",
     "text": [
      " 60%|██████    | 12/20 [00:55<00:39,  4.99s/it]"
     ]
    },
    {
     "name": "stdout",
     "output_type": "stream",
     "text": [
      "In stage 11: transferred 68 clusters with 15 clusters populated\n"
     ]
    },
    {
     "name": "stderr",
     "output_type": "stream",
     "text": [
      " 65%|██████▌   | 13/20 [01:00<00:35,  5.07s/it]"
     ]
    },
    {
     "name": "stdout",
     "output_type": "stream",
     "text": [
      "In stage 12: transferred 89 clusters with 15 clusters populated\n"
     ]
    },
    {
     "name": "stderr",
     "output_type": "stream",
     "text": [
      " 70%|███████   | 14/20 [01:05<00:29,  4.99s/it]"
     ]
    },
    {
     "name": "stdout",
     "output_type": "stream",
     "text": [
      "In stage 13: transferred 72 clusters with 15 clusters populated\n"
     ]
    },
    {
     "name": "stderr",
     "output_type": "stream",
     "text": [
      " 75%|███████▌  | 15/20 [01:12<00:28,  5.75s/it]"
     ]
    },
    {
     "name": "stdout",
     "output_type": "stream",
     "text": [
      "In stage 14: transferred 67 clusters with 15 clusters populated\n"
     ]
    },
    {
     "name": "stderr",
     "output_type": "stream",
     "text": [
      " 80%|████████  | 16/20 [01:18<00:23,  5.78s/it]"
     ]
    },
    {
     "name": "stdout",
     "output_type": "stream",
     "text": [
      "In stage 15: transferred 63 clusters with 15 clusters populated\n"
     ]
    },
    {
     "name": "stderr",
     "output_type": "stream",
     "text": [
      " 85%|████████▌ | 17/20 [01:24<00:17,  5.79s/it]"
     ]
    },
    {
     "name": "stdout",
     "output_type": "stream",
     "text": [
      "In stage 16: transferred 56 clusters with 15 clusters populated\n"
     ]
    },
    {
     "name": "stderr",
     "output_type": "stream",
     "text": [
      " 90%|█████████ | 18/20 [01:29<00:11,  5.55s/it]"
     ]
    },
    {
     "name": "stdout",
     "output_type": "stream",
     "text": [
      "In stage 17: transferred 61 clusters with 15 clusters populated\n"
     ]
    },
    {
     "name": "stderr",
     "output_type": "stream",
     "text": [
      " 95%|█████████▌| 19/20 [01:35<00:05,  5.79s/it]"
     ]
    },
    {
     "name": "stdout",
     "output_type": "stream",
     "text": [
      "In stage 18: transferred 76 clusters with 15 clusters populated\n"
     ]
    },
    {
     "name": "stderr",
     "output_type": "stream",
     "text": [
      "100%|██████████| 20/20 [01:40<00:00,  5.03s/it]"
     ]
    },
    {
     "name": "stdout",
     "output_type": "stream",
     "text": [
      "In stage 19: transferred 86 clusters with 15 clusters populated\n"
     ]
    },
    {
     "name": "stderr",
     "output_type": "stream",
     "text": [
      "\n"
     ]
    }
   ],
   "source": [
    "mgp2 = MovieGroupProcess(K=15, alpha=0.4, beta=0.1, n_iters=20)\n",
    "y = mgp2.fit(docs_common, len(vocab))"
   ]
  },
  {
   "cell_type": "code",
   "execution_count": 379,
   "metadata": {},
   "outputs": [
    {
     "name": "stdout",
     "output_type": "stream",
     "text": [
      "Number of documents per topic : [235 138 195   6 133 155 163 470  92 298  56 357  11 386  65]\n",
      "********************\n"
     ]
    }
   ],
   "source": [
    "doc_count = np.array(mgp2.cluster_doc_count)\n",
    "print('Number of documents per topic :', doc_count)\n",
    "print('*'*20)"
   ]
  },
  {
   "cell_type": "code",
   "execution_count": 385,
   "metadata": {},
   "outputs": [],
   "source": [
    "test_doc = [\"The Gibbs Sampling Dirichlet Mixture Model (GSDMM) is an “altered” LDA algorithm, showing great results on STTM tasks, that makes the initial assumption: 1 topic ↔️1 document. The words within a document are generated using the same unique topic, and not from a mixture of topics as it was in the original LDA.Before diving into code and practical aspects, let’s understand GSDMM with an equivalent procedure called the Movie Group Process that will help us understand the different steps and process under the hood of STTM, and how to tune efficiently its hyper-parameters (we remember alpha and beta from the LDA part).\"]\n",
    "test_doc = [rev_nonen(word_lem(keep_noun(rev_stop(rev_num(cre_low(rev_punc(test_doc[0])))))))]\n",
    "test_doc = getUniqueWords(test_doc[0])"
   ]
  },
  {
   "cell_type": "code",
   "execution_count": 386,
   "metadata": {},
   "outputs": [
    {
     "data": {
      "text/plain": [
       "['model',\n",
       " 'algorithm',\n",
       " 'great',\n",
       " 'topic',\n",
       " 'document',\n",
       " 'origin',\n",
       " 'code',\n",
       " 'practic',\n",
       " 'group',\n",
       " 'process',\n",
       " 'help',\n",
       " 'differ',\n",
       " 'hood',\n",
       " 'tune',\n",
       " 'alpha',\n",
       " 'beta']"
      ]
     },
     "execution_count": 386,
     "metadata": {},
     "output_type": "execute_result"
    }
   ],
   "source": [
    "test_doc"
   ]
  },
  {
   "cell_type": "code",
   "execution_count": 387,
   "metadata": {},
   "outputs": [
    {
     "name": "stdout",
     "output_type": "stream",
     "text": [
      "4 0.9144024767178792\n"
     ]
    }
   ],
   "source": [
    "label, probability = mgp2.choose_best_label(test_doc)\n",
    "print(label, probability)"
   ]
  },
  {
   "cell_type": "code",
   "execution_count": 366,
   "metadata": {},
   "outputs": [
    {
     "data": {
      "text/plain": [
       "0.525"
      ]
     },
     "execution_count": 366,
     "metadata": {},
     "output_type": "execute_result"
    }
   ],
   "source": [
    "prob_v3_10_40_30 = df_test['test_doc'].apply(prob)\n",
    "pred_v3 = prob_v3_10_40_30.map(lambda x: 1 if x>=0.8 else 0)\n",
    "accuracy_score(df_test['Controversy'], pred_v3)"
   ]
  },
  {
   "cell_type": "markdown",
   "metadata": {},
   "source": [
    "import pyLDAvis\n",
    "import tqdm\n",
    "vocabulary = list(vocab)\n",
    "doc_topic_dists = [mgp.score(doc) for doc in tqdm(docs)]\n",
    "doc_lengths = [len(doc) for doc in tqdm(docs)]\n",
    "term_counts_map = {}\n",
    "for doc in tqdm(docs):\n",
    "    for term in doc:\n",
    "        term_counts_map[term] = term_counts_map.get(term, 0) + 1\n",
    "term_counts = [term_counts_map[term] for term in tqdm(vocabulary)]\n",
    "\n",
    "matrix = []\n",
    "for cluster in mgp.cluster_word_distribution:\n",
    "    total = sum([occurance for word, occurance in cluster.items()])\n",
    "    row = [cluster.get(term, 0) / total for term in vocabulary]\n",
    "    matrix.append(row)\n",
    "\n",
    "vis_data = pyLDAvis.prepare(matrix, doc_topic_dists, doc_lengths, vocabulary, term_counts)\n",
    "pyLDAvis.enable_notebook()\n",
    "pyLDAvis.display(vis_data)"
   ]
  }
 ],
 "metadata": {
  "kernelspec": {
   "display_name": "Python 3",
   "language": "python",
   "name": "python3"
  },
  "language_info": {
   "codemirror_mode": {
    "name": "ipython",
    "version": 3
   },
   "file_extension": ".py",
   "mimetype": "text/x-python",
   "name": "python",
   "nbconvert_exporter": "python",
   "pygments_lexer": "ipython3",
   "version": "3.7.7"
  }
 },
 "nbformat": 4,
 "nbformat_minor": 4
}
