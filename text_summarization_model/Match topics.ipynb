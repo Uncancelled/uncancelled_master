{
 "cells": [
  {
   "cell_type": "markdown",
   "metadata": {},
   "source": [
    "# Match TOPICS"
   ]
  },
  {
   "cell_type": "markdown",
   "metadata": {},
   "source": [
    "- using LDA to predict the topic of a text"
   ]
  },
  {
   "cell_type": "markdown",
   "metadata": {},
   "source": [
    "# Process the topic data"
   ]
  },
  {
   "cell_type": "markdown",
   "metadata": {},
   "source": [
    "### Preprocessing the data"
   ]
  },
  {
   "cell_type": "markdown",
   "metadata": {},
   "source": [
    "- *get the topic data*"
   ]
  },
  {
   "cell_type": "code",
   "execution_count": 1,
   "metadata": {},
   "outputs": [],
   "source": [
    "import pandas as pd"
   ]
  },
  {
   "cell_type": "code",
   "execution_count": 2,
   "metadata": {
    "collapsed": true,
    "jupyter": {
     "outputs_hidden": true
    }
   },
   "outputs": [
    {
     "name": "stdout",
     "output_type": "stream",
     "text": [
      "['\"Polish death camp\" controversy\\n', \"'Ubadah ibn al-Samit\\n\", '116th United States Congress\\n', '13 Reasons Why\\n', '1721 Boston smallpox outbreak\\n', '1900\\n', '1917 (2019 film)\\n', '1993 NCAA Division I Outdoor Track and Field Championships\\n', '1999 Matamoros standoff\\n', '1999 NCAA Division I Outdoor Track and Field Championships\\n', '19 Kids and Counting\\n', '2.0 (film)\\n', '2000 NCAA Division I Outdoor Track and Field Championships\\n', '2002 Stromboli tsunami\\n', '2007 NCAA Division I Indoor Track and Field Championships\\n', '2008 NCAA Division I Indoor Track and Field Championships\\n', '2010 in country music\\n', '2011 World Masters Athletics Championships\\n', '2013 local electoral calendar\\n', '2016 AFF Championship\\n', '2016 AFL season\\n', '2016 ATP Challenger Tour\\n', '2016 American League Championship Series\\n', '2016 American League Division Series\\n', '2016 Atlantic hurricane season\\n', '2016 Berlin truck attack\\n', '2016 Chicago Cubs season\\n', '2016 China Open Super Series Premier\\n', '2016 Croydon tram derailment\\n', '2016 Denmark Super Series Premier\\n', '2016 English Open (snooker)\\n', '2016 European Masters\\n', \"2016 European Women's Handball Championship\\n\", '2016 FIBA Asia Challenge\\n', '2016 FIFA Futsal World Cup\\n', '2016 French Super Series\\n', '2016 Grand Slam of Darts\\n', '2016 Hong Kong Super Series\\n', '2016 Indian banknote demonetisation\\n', '2016 Indonesian Masters Grand Prix Gold\\n', '2016 International Championship\\n', '2016 Japan Super Series\\n', '2016 Kabaddi World Cup (Standard style)\\n', '2016 Kaikōura earthquake\\n', '2016 Korea Open Super Series\\n', '2016 MTV Europe Music Awards\\n', '2016 Mnet Asian Music Awards\\n', '2016 NCAA Division I FBS football season\\n', '2016 NFL season\\n', '2016 National League Championship Series\\n', '2016 National League Division Series\\n', '2016 New England Patriots season\\n', '2016 New York and New Jersey bombings\\n', '2016 North Indian Ocean cyclone season\\n', '2016 Northern Ireland Open\\n', '2016 Pacific hurricane season\\n', '2016 Pacific typhoon season\\n', '2016 Paul Hunter Classic\\n', '2016 Russian Defence Ministry Tupolev Tu-154 crash\\n', '2016 Russian legislative election\\n', '2016 Scottish Open (snooker)\\n', '2016 Shanghai Masters\\n', '2016 South African municipal elections\\n', '2016 Summer Olympics\\n', '2016 Summer Olympics medal table\\n', '2016 Summer Paralympics medal table\\n', '2016 UK Championship\\n', '2016 US Open (tennis)\\n', \"2016 US Open – Men's Singles\\n\", '2016 United States presidential debates\\n', '2016 United States presidential election\\n', '2016 Uri attack\\n', '2016 WTA Finals\\n', '2016 World Cup of Hockey\\n', '2016 World Masters Athletics Championships\\n', '2016 World Series\\n', '2016 clown sightings\\n', '2016 in Philippine television\\n', '2016 in South Korean music\\n', '2016 in sports\\n', '2016–17 Australian region cyclone season\\n', '2016–17 Bangladesh Premier League\\n', '2016–17 Big Bash League season\\n', '2016–17 FA Cup\\n', '2016–17 FC Barcelona season\\n', '2016–17 I-League\\n', '2016–17 La Liga\\n', '2016–17 Liga MX season\\n', \"2016–17 NCAA Division I men's basketball season\\n\", '2016–17 NCAA football bowl games\\n', '2016–17 NFL playoffs\\n', '2016–17 Serie A\\n', '2016–17 South Pacific cyclone season\\n', '2016–17 Tractor S.C. season\\n', '2016–2018 India–Pakistan border skirmishes\\n', '2017\\n', '2017 AFC U-20 Futsal Championship\\n', '2017 AFF U-15 Championship\\n', '2017 AFF U-18 Youth Championship\\n', '2017 AFL season\\n', '2017 ATP Challenger Tour\\n', '2017 ATP Finals\\n', '2017 ATP World Tour\\n', '2017 American League Championship Series\\n', '2017 American League Division Series\\n', \"2017 Asian Women's U23 Volleyball Championship\\n\", \"2017 Asian Women's Volleyball Championship\\n\", '2017 Atlantic hurricane season\\n', '2017 Australian Open\\n', \"2017 Australian Open – Men's Singles\\n\", \"2017 Australian Open – Men's Singles Qualifying\\n\", \"2017 Australian Open – Women's Singles\\n\", '2017 Australian Super Series\\n', '2017 BDO World Darts Championship\\n', '2017 BNP Paribas Open\\n', \"2017 BNP Paribas Open – Men's Singles\\n\", \"2017 BNP Paribas Open – Women's Singles\\n\", '2017 BWF Super Series Finals\\n', '2017 Barcelona attacks\\n', '2017 Berkeley protests\\n', '2017 CONCACAF Gold Cup\\n', '2017 California wildfires\\n', '2017 Catalan independence referendum\\n', '2017 Catalan regional election\\n', '2017 Championship League\\n', '2017 Chiapas earthquake\\n', '2017 China Championship (snooker)\\n', '2017 China–India border standoff\\n', '2017 College Football Playoff National Championship\\n', '2017 Congressional baseball shooting\\n', '2017 Democratic National Committee chairmanship election\\n', \"2017 Dubai Tennis Championships – Women's Singles\\n\", '2017 Dutch–Turkish diplomatic incident\\n', '2017 English Open (snooker)\\n', '2017 European Curling Championships\\n', '2017 European Masters (snooker)\\n', '2017 European Team Championships\\n', '2017 FFA Cup preliminary rounds\\n', '2017 FIBA Asia Champions Cup\\n', '2017 FIBA Asia Cup\\n', '2017 FIBA Under-19 Basketball World Cup\\n', '2017 FIFA Beach Soccer World Cup qualification (UEFA)\\n', '2017 FIFA Confederations Cup squads\\n', '2017 FIFA U-17 World Cup\\n', '2017 FIFA U-20 World Cup\\n', '2017 FIVB Volleyball World Grand Prix\\n', '2017 FIVB Volleyball World League\\n', '2017 Finsbury Park attack\\n', '2017 French Open\\n', \"2017 French Open – Men's Singles\\n\", \"2017 French Open – Women's Singles\\n\", '2017 French Super Series\\n', '2017 French legislative election\\n', '2017 French presidential election\\n', '2017 G20 Hamburg summit\\n', '2017 German Masters\\n', '2017 German federal election\\n', '2017 Gibraltar Open\\n', '2017 Grand Slam of Darts\\n', '2017 Hong Kong Chief Executive election\\n', '2017 ICC Champions Trophy\\n', \"2017 ITF Men's Circuit (January–March)\\n\", \"2017 ITF Women's Circuit (January–March)\\n\", '2017 Indian Premier League\\n', '2017 International Champions Cup\\n', '2017 International Championship\\n', '2017 Iranian presidential election\\n', '2017 Iran–Iraq earthquake\\n', '2017 Iraqi–Kurdish conflict\\n', '2017 Japanese general election\\n', '2017 Jerusalem truck attack\\n', '2017 Kelantan FA season\\n', \"2017 Kids' Choice Awards\\n\", '2017 Kurdistan Region independence referendum\\n', '2017 Las Vegas shooting\\n', '2017 Liga 1\\n', '2017 London Bridge attack\\n', '2017 MTV Video Music Awards\\n', '2017 Malaysia Super Series Premier\\n', \"2017 Men's Junior World Handball Championship\\n\", '2017 Miami Open\\n', \"2017 Miami Open – Men's Singles\\n\", \"2017 Miami Open – Women's Singles\\n\", '2017 Mitre 10 Cup\\n', '2017 Mnet Asian Music Awards\\n', '2017 Monster Energy NASCAR Cup Series\\n', '2017 Monte-Carlo Rolex Masters – Singles\\n', '2017 NBA Finals\\n', '2017 NBA Summer League\\n', '2017 NBA draft\\n', '2017 NBA playoffs\\n', '2017 NCAA Division I Baseball Tournament\\n', \"2017 NCAA Division I Men's Basketball Tournament\\n\", '2017 NCAA Division I Softball Tournament\\n', \"2017 NCAA Division I Women's Basketball Tournament\\n\", '2017 NFL Draft\\n', '2017 NFL season\\n', '2017 NHL Entry Draft\\n', '2017 National League Championship Series\\n', '2017 National League Division Series\\n', '2017 New York City truck attack\\n', '2017 New Zealand general election\\n', '2017 North Indian Ocean cyclone season\\n', '2017 Northern Ireland Assembly election\\n', '2017 Northern Ireland Open\\n', '2017 PDC World Darts Championship\\n', '2017 Pacific hurricane season\\n', '2017 Pacific typhoon season\\n', '2017 Pakistan Super League\\n', '2017 Paul Hunter Classic\\n', \"2017 Players' Championship\\n\", '2017 Pro Bowl\\n', '2017 Puebla earthquake\\n', '2017 Resorts World Manila attack\\n', '2017 Riga Masters\\n', \"2017 Rogers Cup – Women's Singles\\n\", '2017 Rugby League World Cup\\n', '2017 SEABA Championship\\n', '2017 Saint Petersburg Metro bombing\\n', '2017 Scottish Open (snooker)\\n', '2017 Scottish local elections\\n', '2017 Shanghai Masters\\n', '2017 Shanghai Rolex Masters – Singles\\n', '2017 Shayrat missile strike\\n', '2017 Sinai mosque attack\\n', '2017 Southeast Asian Games\\n', '2017 Stanley Cup playoffs\\n', '2017 Stockholm truck attack\\n', '2017 Summer Universiade\\n', '2017 Swiss Open Grand Prix Gold\\n', '2017 Tehran attacks\\n', '2017 Tour de France\\n', '2017 Turku attack\\n', '2017 UEFA European Under-21 Championship\\n', '2017 UK Championship\\n', '2017 US Open (tennis)\\n', \"2017 US Open – Men's Singles\\n\", \"2017 US Open – Men's Singles Qualifying\\n\", \"2017 US Open – Women's Singles\\n\", '2017 United Kingdom general election\\n', '2017 United Kingdom local elections\\n', '2017 United States Senate special election in Alabama\\n', '2017 Uttar Pradesh Legislative Assembly election\\n', '2017 Virginia gubernatorial election\\n', '2017 WGC-Dell Technologies Match Play\\n', '2017 WTA Finals\\n', '2017 Washington train derailment\\n', '2017 Welsh Open (snooker)\\n', \"2017 Western & Southern Open – Women's Singles\\n\", '2017 Westminster attack\\n', '2017 William Jones Cup\\n', '2017 Wimbledon Championships\\n', \"2017 Wimbledon Championships – Men's Singles\\n\", \"2017 Wimbledon Championships – Men's Singles Qualifying\\n\", \"2017 Wimbledon Championships – Women's Singles\\n\", \"2017 Women's March\\n\", \"2017 Women's World Floorball Championships\\n\", '2017 World Baseball Classic\\n', '2017 World Baseball Classic rosters\\n', '2017 World Championships in Athletics\\n', '2017 World Grand Prix\\n', \"2017 World Men's Curling Championship\\n\", \"2017 World Men's Handball Championship\\n\", '2017 World Mixed Doubles Curling Championship\\n', '2017 World Open (snooker)\\n', '2017 World Series\\n', '2017 World Snooker Championship\\n', \"2017 World Women's Curling Championship\\n\", \"2017 World Women's Handball Championship\\n\", \"2017 Zimbabwean coup d'état\\n\", '2017 in American television\\n', '2017 in Philippine television\\n', '2017 in South Korean music\\n', '2017 in film\\n', '2017 in sports\\n', '2017 pro-jallikattu protests\\n', '2017–18 A.C. Milan season\\n', '2017–18 Arsenal F.C. season\\n', '2017–18 Australian parliamentary eligibility crisis\\n', '2017–18 Australian region cyclone season\\n', '2017–18 Bangladesh Premier League\\n', '2017–18 Chelsea F.C. season\\n', '2017–18 FA Cup qualifying rounds\\n', '2017–18 FA Youth Cup\\n', '2017–18 FC Barcelona season\\n', '2017–18 I-League\\n', '2017–18 ISU Grand Prix of Figure Skating\\n', '2017–18 Indian Super League season\\n', '2017–18 La Liga\\n', '2017–18 NCAA football bowl games\\n', '2017–18 NFL playoffs\\n', \"2017–18 Pac-12 Conference men's basketball season\\n\", '2017–18 Premier League\\n', '2017–18 Rugby Pro D2 season\\n', '2017–18 South-West Indian Ocean cyclone season\\n', '2017–18 UEFA Champions League qualifying phase and play-off round\\n', '2017–18 UEFA Europa League\\n', '2017–18 UEFA Europa League qualifying phase and play-off round\\n', '2017–18 United States network television schedule\\n', '2017–2018 Iranian protests\\n', '2017–2018 North Korea crisis\\n', '2017–2018 Spanish constitutional crisis\\n', '2017–2019 Romanian protests\\n', '2018\\n', '2018 AFC U-16 Championship\\n', '2018 AFC U-16 Championship qualification\\n', '2018 AFC U-19 Championship qualification\\n', '2018 AFC U-23 Championship\\n', '2018 AFC U-23 Championship qualification\\n', \"2018 AFC Women's Asian Cup qualification\\n\", '2018 AFF Championship\\n', '2018 AFF U-16 Youth Championship\\n', '2018 AFF U-19 Youth Championship\\n', '2018 AFL season\\n', '2018 ATP Challenger Tour\\n', '2018 ATP Finals\\n', '2018 ATP World Tour\\n', '2018 American League Championship Series\\n', '2018 American League Division Series\\n', '2018 Asia Cup\\n', '2018 Asia Cup Final\\n', \"2018 Asian Boys' U18 Volleyball Championship\\n\", '2018 Asian Games\\n', '2018 Asian Games medal table\\n', \"2018 Asian Men's U20 Volleyball Championship\\n\", '2018 Asian Para Games\\n', \"2018 Asian Women's U19 Volleyball Championship\\n\", \"2018 Asian Women's Volleyball Cup\\n\", '2018 Atlantic hurricane season\\n', '2018 Attica wildfires\\n', '2018 Australian Open\\n', \"2018 Australian Open – Men's Singles\\n\", \"2018 Australian Open – Men's Singles Qualifying\\n\", \"2018 Australian Open – Women's Singles\\n\", '2018 Australian ball-tampering scandal\\n', '2018 BDO World Darts Championship\\n', '2018 BNP Paribas Open\\n', \"2018 BNP Paribas Open – Men's Singles\\n\", \"2018 BNP Paribas Open – Women's Singles\\n\", '2018 BWF World Tour Finals\\n', '2018 Badminton Asia Championships\\n', '2018 Bangka Belitung Indonesia Masters\\n', '2018 Bangladesh road-safety protests\\n', '2018 Billboard Music Awards\\n', '2018 Brazilian general election\\n', '2018 CONCACAF U-20 Championship\\n', '2018 CONIFA World Football Cup\\n', '2018 California wildfires\\n', '2018 Caracas drone attack\\n', '2018 Championship League\\n', '2018 China Championship\\n', '2018 China Open (badminton)\\n', '2018 China Open (snooker)\\n', '2018 Chinese Taipei Open\\n', '2018 Commonwealth Games\\n', '2018 Commonwealth Games medal table\\n', '2018 Cricket World Cup Qualifier\\n', '2018 Dakar Rally\\n', '2018 Denmark Open\\n', '2018 English Open (snooker)\\n', '2018 European Aquatics Championships\\n', '2018 European Badminton Championships\\n', '2018 European Masters\\n', \"2018 European Men's Handball Championship\\n\", \"2018 European Women's Handball Championship\\n\", \"2018 FIFA U-20 Women's World Cup\\n\", '2018 FIFA World Cup\\n', '2018 FIFA World Cup Final\\n', '2018 FIFA World Cup disciplinary record\\n', '2018 FIFA World Cup knockout stage\\n', '2018 FIFA World Cup squads\\n', '2018 FIFA World Cup statistics\\n', \"2018 FIVB Volleyball Men's Nations League\\n\", \"2018 FIVB Volleyball Men's World Championship\\n\", \"2018 FIVB Volleyball Women's Nations League\\n\", \"2018 FIVB Volleyball Women's World Championship\\n\", '2018 French Open\\n', '2018 French Open (badminton)\\n', \"2018 French Open – Men's Singles\\n\", \"2018 French Open – Men's Singles Qualifying\\n\", \"2018 French Open – Women's Singles\\n\", '2018 Fuzhou China Open\\n', '2018 German Masters\\n', '2018 Gibraltar Open\\n', '2018 Grand Slam of Darts\\n', '2018 Hong Kong Open (badminton)\\n', '2018 Horizon Air Q400 incident\\n', '2018 Hyderabad Open (badminton)\\n', '2018 IAAF Continental Cup – Results\\n', '2018 IIHF World Championship\\n', '2018 IIHF World Championship Group A\\n', '2018 ISSF World Shooting Championships\\n', '2018 Indonesia Masters (badminton)\\n', '2018 International Championship\\n', '2018 Iraqi parliamentary election\\n', \"2018 Italian Open – Men's Singles\\n\", \"2018 Italian Open – Women's Singles\\n\", '2018 Italian general election\\n', '2018 Japan Open (badminton)\\n', '2018 Japan–South Korea radar lock-on dispute\\n', '2018 Karnataka Legislative Assembly election\\n', '2018 Kerala floods\\n', '2018 Korea Open (badminton)\\n', '2018 Lebanese general election\\n', '2018 Lewisham East by-election\\n', '2018 Liberal Party of Australia leadership spills\\n', '2018 Liga 1\\n', '2018 London Broncos season\\n', '2018 MTV Europe Music Awards\\n', '2018 Malaysia Open (badminton)\\n', '2018 Malaysian general election\\n', \"2018 Men's European Water Polo Championship\\n\", \"2018 Men's Hockey World Cup\\n\", '2018 Mexican general election\\n', '2018 Miami Open\\n', \"2018 Miami Open – Men's Singles\\n\", \"2018 Miami Open – Women's Singles\\n\", '2018 Mnet Asian Music Awards\\n', '2018 Monster Energy NASCAR Cup Series\\n', '2018 Moscow–Constantinople schism\\n', \"2018 Mutua Madrid Open – Women's Singles\\n\", '2018 Mzansi Super League\\n', '2018 NBA Summer League\\n', '2018 NBA draft\\n', '2018 NBA playoffs\\n', '2018 NCAA Division I Baseball Tournament\\n', \"2018 NCAA Division I Men's Basketball Tournament\\n\", '2018 NCAA Division I Softball Tournament\\n', \"2018 NCAA Division I Women's Basketball Tournament\\n\", '2018 NFL Draft\\n', '2018 NFL season\\n', '2018 NHL Entry Draft\\n', '2018 National League Championship Series\\n', '2018 National League Division Series\\n', '2018 Nippon Professional Baseball season\\n', '2018 North Indian Ocean cyclone season\\n', '2018 North Korea–United States Singapore Summit\\n', '2018 Northern Ireland Open\\n', '2018 Ontario general election\\n', '2018 PDC World Darts Championship\\n', '2018 Pacific hurricane season\\n', '2018 Pacific typhoon season\\n', '2018 Pakistan Super League\\n', '2018 Pakistani general election\\n', '2018 Paul Hunter Classic\\n', \"2018 Pennsylvania's 18th congressional district special election\\n\", '2018 Players Championship (snooker)\\n', '2018 Pro Bowl\\n', '2018 Progressive Conservative Party of Ontario leadership election\\n', '2018 Qatar Total Open – Singles\\n', '2018 Quebec general election\\n', '2018 Riga Masters\\n', \"2018 Rogers Cup – Women's Singles\\n\", '2018 Russian presidential election\\n', '2018 Russia–United States summit\\n', '2018 Scottish Open (snooker)\\n', '2018 Six-red World Championship\\n', '2018 Southern Syria offensive\\n', '2018 Stanley Cup playoffs\\n', '2018 Strasbourg attack\\n', '2018 Summer Youth Olympics medal table\\n', '2018 Sunda Strait tsunami\\n', '2018 Swedish general election\\n', '2018 Toronto municipal election\\n', '2018 Toronto shooting\\n', '2018 Tour de France\\n', '2018 U.S. Open Cup\\n', '2018 UEFA European Under-17 Championship qualification\\n', '2018 UK Championship\\n', '2018 US Open (tennis)\\n', \"2018 US Open – Men's Singles\\n\", \"2018 US Open – Women's Singles\\n\", \"2018 US Open – Women's Singles Qualifying\\n\", '2018 Under-19 Cricket World Cup\\n', '2018 United States House of Representatives elections\\n', '2018 United States House of Representatives elections in California\\n', '2018 United States Senate election in Arizona\\n', '2018 United States Senate elections\\n', '2018 United States elections\\n', '2018 V.League 1\\n', '2018 Venezuelan presidential election\\n', '2018 Vermont House of Representatives election\\n', '2018 Vietnam Open (badminton)\\n', '2018 WTA Finals\\n', '2018 WWE Superstar Shake-up\\n', '2018 Welsh Open (snooker)\\n', \"2018 Western & Southern Open – Women's Singles\\n\", '2018 William Jones Cup\\n', '2018 Wimbledon Championships\\n', \"2018 Wimbledon Championships – Men's Singles\\n\", \"2018 Wimbledon Championships – Men's Singles Qualifying\\n\", \"2018 Wimbledon Championships – Women's Singles\\n\", '2018 Winter Olympics\\n', '2018 Winter Olympics medal table\\n', \"2018 Women's Junior World Handball Championship\\n\", \"2018 Women's March\\n\", '2018 World Grand Prix\\n', '2018 World Lacrosse Championship\\n', '2018 World Mixed Doubles Curling Championship\\n', '2018 World Open (snooker)\\n', '2018 World Series\\n', '2018 World Snooker Championship\\n', \"2018 World Women's Curling Championship\\n\", '2018 in American television\\n', '2018 in Philippine television\\n', '2018 in South Korean music\\n', '2018 in film\\n', '2018 in hip hop music\\n', '2018 in spaceflight\\n', '2018 in sports\\n', '2018 missile strikes against Syria\\n', '2018 Équateur province Ebola outbreak\\n', '2018–19 A.C. Milan season\\n', '2018–19 Australian region cyclone season\\n', '2018–19 Bangladesh Premier League\\n', '2018–19 Big Bash League season\\n', '2018–19 Calcutta Premier Division\\n', '2018–19 Chelsea F.C. season\\n', '2018–19 Coupe de France\\n', '2018–19 FIS Ski Jumping World Cup\\n', '2018–19 Girabola\\n', '2018–19 I-League\\n', '2018–19 ICC T20 World Cup Europe Qualifier\\n', '2018–19 ISU Grand Prix of Figure Skating\\n', '2018–19 Indian Super League season\\n', '2018–19 Liverpool F.C. season\\n', '2018–19 NCAA football bowl games\\n', '2018–19 NFL playoffs\\n', '2018–19 Premier League\\n', '2018–19 RFU Championship Cup\\n', '2018–19 South-West Indian Ocean cyclone season\\n', '2018–19 UEFA Champions League\\n', '2018–19 UEFA Champions League qualifying phase and play-off round\\n', '2018–19 UEFA Europa League\\n', '2018–19 UEFA Europa League qualifying phase and play-off round (Main Path)\\n', '2018–19 United States network television schedule\\n', '2018–19 figure skating season\\n', '2018–2019 Gaza border protests\\n', '2018–2019 United States federal government shutdown\\n', '2019\\n', '2019 AFC Asian Cup\\n', '2019 AFC Asian Cup squads\\n', \"2019 AFC U-16 Women's Championship qualification\\n\", '2019 AFF U-18 Youth Championship\\n', '2019 ATP Challenger Tour\\n', '2019 ATP Tour\\n', '2019 Abqaiq–Khurais attack\\n', '2019 Africa Cup of Nations\\n', '2019 Akita Masters\\n', '2019 Albania earthquake\\n', '2019 Amazon rainforest wildfires\\n', '2019 American League Championship Series\\n', '2019 American League Division Series\\n', '2019 Andhra Pradesh Legislative Assembly election\\n', '2019 Ashes series\\n', \"2019 Asian Men's Club Volleyball Championship\\n\", \"2019 Asian Men's Volleyball Championship\\n\", \"2019 Asian Women's Volleyball Championship\\n\", '2019 Atlantic hurricane season\\n', '2019 Australian Open\\n', '2019 Australian Open (badminton)\\n', \"2019 Australian Open – Men's Singles\\n\", \"2019 Australian Open – Women's Singles\\n\", '2019 Australian federal election\\n', '2019 BFF U-18 Football Tournament\\n', '2019 BNP Paribas Open\\n', \"2019 BNP Paribas Open – Men's Singles\\n\", \"2019 BNP Paribas Open – Women's Singles\\n\", '2019 BWF World Tour Finals\\n', '2019 Badminton Asia Championships\\n', '2019 Balakot airstrike\\n', '2019 Bolivian political crisis\\n', '2019 Bolivian protests\\n', '2019 British prorogation controversy\\n', '2019 Canada Open (badminton)\\n', '2019 Canadian federal election\\n', '2019 Caribbean Premier League\\n', '2019 Championship League\\n', '2019 China Championship\\n', '2019 China Open (badminton)\\n', '2019 China Open (snooker)\\n', '2019 Chinese Taipei Open\\n', '2019 Conservative Party leadership election\\n', '2019 Continental Cup (cricket)\\n', '2019 Copa América\\n', '2019 Copa Perú\\n', '2019 Cricket World Cup\\n', '2019 Cricket World Cup Final\\n', '2019 Cricket World Cup group stage\\n', '2019 Cricket World Cup squads\\n', '2019 Cricket World Cup statistics\\n', '2019 Davis Cup Finals\\n', '2019 Dayton shooting\\n', '2019 Denmark Open\\n', '2019 Dutch Open (badminton)\\n', '2019 Ecuadorian protests\\n', '2019 El Paso shooting\\n', '2019 English Open (snooker)\\n', '2019 Euro Winners Cup\\n', '2019 European Baseball Championship\\n', '2019 European Curling Championships\\n', '2019 European Parliament election\\n', '2019 European Parliament election in the United Kingdom\\n', '2019 European Team Championships\\n', '2019 FIBA Basketball World Cup\\n', '2019 FIBA Basketball World Cup squads\\n', '2019 FIFA Beach Soccer World Cup\\n', '2019 FIFA U-17 World Cup\\n', '2019 FIFA U-20 World Cup\\n', \"2019 FIFA Women's World Cup\\n\", \"2019 FIFA Women's World Cup knockout stage\\n\", \"2019 FIVB Volleyball Boys' U19 World Championship\\n\", \"2019 FIVB Volleyball Girls' U18 World Championship\\n\", \"2019 FIVB Volleyball Men's Nations League\\n\", \"2019 FIVB Volleyball Men's U21 World Championship\\n\", \"2019 FIVB Volleyball Men's World Cup\\n\", \"2019 FIVB Volleyball Women's Nations League\\n\", \"2019 FIVB Volleyball Women's U20 World Championship\\n\", \"2019 FIVB Volleyball Women's World Cup\\n\", '2019 French Open\\n', '2019 French Open (badminton)\\n', \"2019 French Open – Men's Singles\\n\", \"2019 French Open – Men's Singles Qualifying\\n\", \"2019 French Open – Women's Singles\\n\", '2019 Fuzhou China Open\\n', '2019 German Masters\\n', '2019 Gibraltar Open\\n', '2019 Hong Kong Open (badminton)\\n', '2019 Hong Kong extradition bill\\n', '2019 Hong Kong local elections\\n', '2019 Hyderabad Open (badminton)\\n', '2019 Hyderabad gang rape\\n', \"2019 ICC Men's T20 World Cup Qualifier\\n\", '2019 IFMA World Muaythai Championships\\n', \"2019 IIHF Women's World Championship\\n\", '2019 IIHF World Championship\\n', \"2019 ITF Men's World Tennis Tour (July–September)\\n\", \"2019 ITF Women's World Tennis Tour (July–September)\\n\", '2019 India Open (badminton)\\n', '2019 Indian general election\\n', '2019 India–Pakistan border skirmishes\\n', '2019 Indonesia Masters (badminton)\\n', '2019 Indonesia Masters Super 100\\n', '2019 Indonesia Open (badminton)\\n', '2019 International Championship\\n', '2019 Iran floods\\n', '2019 Iranian shoot-down of American drone\\n', \"2019 Italian Open – Women's Singles\\n\", '2019 Japan Open (badminton)\\n', '2019 Jersey City shooting\\n', '2019 Jolo Cathedral bombings\\n', '2019 Kentucky gubernatorial election\\n', '2019 Kerala Legislative Assembly by-elections\\n', \"2019 Kids' Choice Awards\\n\", '2019 Korea Masters\\n', '2019 Korea Open (badminton)\\n', '2019 Koreas–United States DMZ Summit\\n', '2019 Lingshui China Masters\\n', '2019 London Bridge stabbing\\n', '2019 London Broncos season\\n', '2019 London Skolars season\\n', '2019 MTV Video Music Awards\\n', '2019 Macau Open (badminton)\\n', '2019 Malaysia Masters (badminton)\\n', '2019 Malaysia Open (badminton)\\n', '2019 Masters (snooker)\\n', \"2019 Men's European Volleyball Championship\\n\", \"2019 Men's Junior World Handball Championship\\n\", \"2019 Men's Youth World Handball Championship\\n\", '2019 Miami Open\\n', \"2019 Miami Open – Men's Singles\\n\", \"2019 Miami Open – Women's Singles\\n\", '2019 Michigan Wolverines football team\\n', '2019 NBA Finals\\n', '2019 NBA Summer League\\n', '2019 NBA draft\\n', '2019 NBA playoffs\\n', '2019 NCAA Division I Baseball Tournament\\n', '2019 NCAA Division I FBS football season\\n', \"2019 NCAA Division I Men's Basketball Tournament\\n\", '2019 NCAA Division I Outdoor Track and Field Championships\\n', '2019 NCAA Division I Softball Tournament\\n', '2019 NFL Draft\\n', '2019 NFL season\\n', '2019 NHL Entry Draft\\n', '2019 National League Championship Series\\n', '2019 National League Division Series\\n', '2019 Netball World Cup\\n', '2019 New South Wales state election\\n', '2019 New Zealand Open (badminton)\\n', '2019 North Indian Ocean cyclone season\\n', '2019 North Korea–United States Hanoi Summit\\n', '2019 Northern Ireland Open\\n', \"2019 PBA Commissioner's Cup\\n\", '2019 PDC World Darts Championship\\n', '2019 Pacific hurricane season\\n', '2019 Pacific typhoon season\\n', '2019 Pakistan Super League\\n', '2019 Pulwama attack\\n', '2019 Ridgecrest earthquakes\\n', '2019 Riga Masters\\n', \"2019 Rogers Cup – Women's Singles\\n\", '2019 Romanian presidential election\\n', '2019 Rugby World Cup\\n', '2019 Russian Open (badminton)\\n', '2019 Salute to America\\n', '2019 Scotties Tournament of Hearts\\n', '2019 Scottish Open (snooker)\\n', '2019 Sheikh Kamal International Club Cup\\n', '2019 Singapore Open (badminton)\\n', '2019 South Asian Games\\n', '2019 Sri Lanka Easter bombings\\n', '2019 Stanley Cup playoffs\\n', '2019 Syed Modi International\\n', '2019 T10 League\\n', '2019 Thai general election\\n', '2019 Tour Championship\\n', '2019 Tour de France\\n', '2019 Turkish offensive into north-eastern Syria\\n', '2019 U.S. Open (badminton)\\n', '2019 UEFA Champions League Final\\n', '2019 UK Championship\\n', '2019 US Open (tennis)\\n', \"2019 US Open – Men's Singles\\n\", \"2019 US Open – Women's Singles\\n\", \"2019 US Open – Women's Singles Qualifying\\n\", '2019 Ukrainian parliamentary election\\n', '2019 Ukrainian presidential election\\n', '2019 United Kingdom general election\\n', '2019 United Kingdom local elections\\n', '2019 Venezuelan blackouts\\n', '2019 Venezuelan uprising attempt\\n', '2019 Vietnam Open (badminton)\\n', '2019 Virginia Beach shooting\\n', '2019 WGC-Dell Technologies Match Play\\n', '2019 WMF World Cup\\n', '2019 WTA Tour\\n', '2019 WWE Draft\\n', '2019 WWE Superstar Shake-up\\n', '2019 Washington Nationals season\\n', '2019 Welsh Open (snooker)\\n', '2019 Whakaari / White Island eruption\\n', '2019 Wimbledon Championships\\n', \"2019 Wimbledon Championships – Men's Singles\\n\", \"2019 Wimbledon Championships – Women's Singles\\n\", \"2019 Wimbledon Championships – Women's Singles Qualifying\\n\", \"2019 Women's European Volleyball Championship\\n\", \"2019 Women's World Floorball Championships\\n\", '2019 World Aquatics Championships\\n', '2019 World Athletics Championships\\n', '2019 World Cup (snooker)\\n', '2019 World Grand Prix\\n', \"2019 World Men's Handball Championship\\n\", '2019 World Open (snooker)\\n', '2019 World Series\\n', '2019 World Snooker Championship\\n', \"2019 World Women's Handball Championship\\n\", '2019 college admissions bribery scandal\\n', '2019 in American television\\n', '2019 in Philippine television\\n', '2019 in South Korean music\\n', '2019 in film\\n', '2019 in sports\\n', '2019–2020 Chilean protests\\n', '2019–2020 Iranian protests\\n', '2019–2020 Lebanese protests\\n', '2019–2020 Maltese protests\\n', '2019–2020 Persian Gulf crisis\\n', '2019–2020 Western Libya campaign\\n', '2019–20 Australian bushfire season\\n', '2019–20 Australian region cyclone season\\n', '2019–20 Bangladesh Federation Cup\\n', '2019–20 Bangladesh Premier League\\n', '2019–20 Big Bash League season\\n', '2019–20 Championship League\\n', '2019–20 Chelsea F.C. season\\n', '2019–20 Croatian presidential election\\n', '2019–20 FIS Cross-Country World Cup\\n', '2019–20 Hong Kong protests\\n', '2019–20 I-League\\n', '2019–20 Indian Super League season\\n', '2019–20 La Liga\\n', '2019–20 Liverpool F.C. season\\n', '2019–20 Mohun Bagan A.C. season\\n', '2019–20 NCAA football bowl games\\n', '2019–20 NFL playoffs\\n', '2019–20 Premier League\\n', '2019–20 Serie A\\n', '2019–20 UEFA Champions League\\n', '2019–20 UEFA Champions League qualifying phase and play-off round\\n', '2019–20 UEFA Europa League\\n', '2019–20 UEFA Europa League qualifying phase and play-off round (Main Path)\\n', '2019–20 United States network television schedule\\n', '2019–20 figure skating season\\n', '2019–21 ICC World Test Championship\\n', '2020\\n', '2020 AFC U-16 Championship qualification\\n', '2020 AFC U-19 Championship qualification\\n', '2020 AFC U-23 Championship\\n', '2020 AFC U-23 Championship qualification\\n', '2020 ATP Challenger Tour\\n', '2020 ATP Cup\\n', '2020 ATP Tour\\n', '2020 Armenian–Azerbaijani skirmishes\\n', '2020 Asia Cup Qualifier\\n', '2020 Atlantic hurricane season\\n', '2020 Australian Open\\n', \"2020 Australian Open – Men's Singles\\n\", \"2020 Australian Open – Men's Singles Qualifying\\n\", \"2020 Australian Open – Women's Singles\\n\", '2020 Austrian Grand Prix\\n', '2020 Badminton Asia Team Championships\\n', '2020 Bangabandhu Cup\\n', '2020 Calabasas helicopter crash\\n', '2020 Championship League\\n', '2020 China–India skirmishes\\n', '2020 Conservative Party of Canada leadership election\\n', '2020 Delhi Legislative Assembly election\\n', '2020 Delhi riots\\n', '2020 Democratic Party presidential debates\\n', '2020 Democratic Party presidential primaries\\n', '2020 Easter tornado outbreak\\n', '2020 European Masters\\n', \"2020 European Men's Handball Championship\\n\", '2020 Formula One World Championship\\n', '2020 German Masters\\n', '2020 Gibraltar Open\\n', '2020 Indonesia Masters\\n', '2020 Iowa Democratic presidential caucuses\\n', '2020 Irish general election\\n', '2020 Jawaharlal Nehru University attack\\n', '2020 Labour Party deputy leadership election\\n', '2020 Labour Party leadership election (UK)\\n', '2020 Libertarian Party presidential primaries\\n', '2020 Malaysia Masters\\n', '2020 Masters (snooker)\\n', '2020 NASCAR Cup Series\\n', '2020 NFL Draft\\n', '2020 Nevada Democratic presidential caucuses\\n', '2020 New Hampshire Democratic presidential primary\\n', '2020 North Indian Ocean cyclone season\\n', '2020 Nova Scotia attacks\\n', '2020 PDC World Darts Championship\\n', '2020 Pacific hurricane season\\n', '2020 Pacific typhoon season\\n', '2020 Polish presidential election\\n', '2020 Reading stabbings\\n', '2020 Republican Party presidential primaries\\n', '2020 Scotties Tournament of Hearts\\n', '2020 Singaporean general election\\n', '2020 Streatham stabbing\\n', '2020 Styrian Grand Prix\\n', '2020 Taal Volcano eruption\\n', '2020 Thailand Masters (badminton)\\n', '2020 Twitter bitcoin scam\\n', '2020 Ulsan Hyundai FC season\\n', '2020 Under-19 Cricket World Cup\\n', '2020 United States House of Representatives elections\\n', '2020 United States House of Representatives elections in California\\n', '2020 United States House of Representatives elections in New York\\n', '2020 United States House of Representatives elections in Pennsylvania\\n', '2020 United States Senate elections\\n', '2020 United States presidential election\\n', '2020 Venezuelan National Assembly Delegated Committee election\\n', '2020 Welsh Open (snooker)\\n', '2020 World Grand Prix\\n', '2020 World Junior Ice Hockey Championships\\n', '2020 World Snooker Championship\\n', '2020 deployment of federal forces in the United States\\n', '2020 in American television\\n', '2020 in Philippine television\\n', '2020 in hip hop music\\n', '2020 stock market crash\\n', '2020–21 Liga 1\\n', '2020–21 UEFA Champions League\\n', '2022 FIFA World Cup qualification – AFC Second Round\\n', '2026 FIFA World Cup\\n', '2030 FIFA World Cup\\n', '20th century\\n', '21 Savage\\n', '24K Magic (song)\\n', '25 Days of Christmas\\n', '2I/Borisov\\n', '\"3, Triq ix-Xatt\"\\n', '486958 Arrokoth\\n', '4 Your Eyez Only\\n', '59th Annual Grammy Awards\\n', '5G\\n', '5 August 2018 Lombok earthquake\\n', '61st Annual Grammy Awards\\n', '62nd Annual Grammy Awards\\n', '6ix9ine\\n', '75th Golden Globe Awards\\n', '7 Rings\\n', '89th Academy Awards\\n', '90th Academy Awards\\n', '91st Academy Awards\\n', '92nd Academy Awards\\n', 'ABS-CBN franchise renewal controversy\\n', 'AMPRNet\\n', 'ARA San Juan (S-42)\\n', 'ATK Mohun Bagan FC\\n', 'A Haunting in Cawdor\\n', 'A Quiet Place (film)\\n', 'A Series of Unfortunate Events (TV series)\\n', \"A Soldier's Heart\\n\", 'A Star Is Born (2018 film)\\n', 'A Star Is Born (2018 soundtrack)\\n', 'A Surge of Power (Jen Reid) 2020\\n', 'A Way Out (video game)\\n', 'A Wrinkle in Time (2018 film)\\n', 'Aaron Hernandez\\n', 'Abdullah II of Jordan\\n', 'Abhijit Banerjee\\n', 'Abhinandan Varthaman\\n', 'Abiy Ahmed\\n', 'Abraham Lincoln\\n', 'Abu Bakr al-Baghdadi\\n', 'Accumulated cyclone energy\\n', 'Ace Of Space 1\\n', 'Ace of Space 2\\n', 'Acne\\n', 'Acquisition of 21st Century Fox by Disney\\n', 'Ad Astra (film)\\n', 'Adam West\\n', 'Adelaide Oval\\n', 'Adolf Cluss\\n', 'Advanced reprocessing of spent nuclear fuel\\n', 'Advertising management\\n', 'Aerial firefighting and forestry in southern Australia\\n', 'Aeroflot Flight 1492\\n', 'After Hours (The Weeknd album)\\n', 'Ahvaz military parade attack\\n', 'Air Berlin\\n', 'Ajamu Baraka\\n', 'Ajanta Caves\\n', 'Akbar Hashemi Rafsanjani\\n', 'Akshay Ramanlal Desai\\n', 'Ala Vaikunthapurramuloo\\n', 'Aladdin (2019 film)\\n', 'Alan Hinkes\\n', 'Alasdair Gray\\n', 'Albert Camus\\n', 'Albert Finney\\n', 'Albert Kesselring\\n', 'Aleppo offensive (November–December 2016)\\n', 'Aleppo offensive (September–October 2016)\\n', 'Alex Stenzel\\n', 'Alexandre Liautard\\n', 'Alexandria Ocasio-Cortez\\n', 'Alfred Hitchcock\\n', 'Alfred Waterhouse\\n', 'Algeria at the 2019 African Games\\n', 'Alien: Covenant\\n', 'Alita: Battle Angel\\n', \"All-time tennis records – men's singles\\n\", 'All Elite Wrestling\\n', 'All In (professional wrestling event)\\n', 'Allan Peiper\\n', 'Allied logistics in the Kokoda Track campaign\\n', 'Alodia\\n', 'Alphonse Mucha\\n', 'Alshon Jeffery\\n', 'Alt-left\\n', 'Alternative facts\\n', \"America's Got Talent: The Champions\\n\", \"America's Got Talent (season 11)\\n\", \"America's Got Talent (season 12)\\n\", \"America's Got Talent (season 13)\\n\", \"America's Got Talent (season 14)\\n\", \"America's Next Top Model (season 20)\\n\", \"America's Next Top Model (season 23)\\n\", \"America's Next Top Model (season 24)\\n\", 'American Banjo Museum\\n', 'American Bank Note Company Printing Plant\\n', 'American Horror Story: Apocalypse\\n', 'American Horror Story: Cult\\n', 'American Horror Story: Roanoke\\n', 'American Idol (season 16)\\n', 'American Idol (season 17)\\n', 'American Music Awards of 2017\\n', 'American Music Awards of 2019\\n', 'American Revolutionary War\\n', 'American Video Awards\\n', 'Americo Makk\\n', 'Amphibia (TV series)\\n', 'Amy Adams\\n', 'An Wasserflüssen Babylon\\n', 'Anarchism\\n', 'Andrea Palladio\\n', 'Andrei Karlov\\n', 'Andrew Jackson\\n', 'Andromeda (mythology)\\n', 'André Charles Boulle\\n', 'André Messager\\n', 'Andy Ngo\\n', 'Andy Ruiz Jr.\\n', 'Ang Probinsyano\\n', 'Anito\\n', 'Anna Girò\\n', 'Annabelle: Creation\\n', 'Annabelle Comes Home\\n', 'Anne Hathaway\\n', 'Annoyance factor\\n', 'Ansu Fati\\n', 'Ant-Man and the Wasp\\n', 'Anthony Bourdain\\n', 'Anthony Kohlmann\\n', 'Anthony Scaramucci\\n', 'Antifa (United States)\\n', 'Antisemitism in the UK Labour Party\\n', 'Antonio Brown\\n', 'Apollo 13\\n', 'April 2017 Champs-Élysées attack\\n', 'April 2019 Israeli legislative election\\n', 'April 2019 Spanish general election\\n', 'Aquaculture in the United Kingdom\\n', 'Aquaman (film)\\n', 'Arabic script\\n', 'Archdeacon of Kells\\n', 'Archie Mountbatten-Windsor\\n', 'Architecture of Liverpool\\n', 'Are You the One?\\n', 'Aretha Franklin\\n', 'Argentina at the 2019 Pan American Games\\n', 'Argentina national football team\\n', 'Aristotle\\n', 'Arizona Wildcats football\\n', 'Arjuna\\n', 'Arrival (film)\\n', 'Art Deco\\n', 'Art Deco in Paris\\n', 'Art Nouveau\\n', 'Art Nouveau in Paris\\n', 'Arthur Harry Blissett\\n', 'Arthur Sullivan\\n', 'Arturo Lomibao\\n', 'Arun Jaitley\\n', 'Ashleigh Barty\\n', 'Ashley Massaro\\n', \"Asia's Got Talent (season 2)\\n\", \"Asia's Next Top Model (season 5)\\n\", \"Asia's Next Top Model (season 6)\\n\", 'Asia Artist Awards\\n', 'Asia Bibi blasphemy case\\n', 'Aspergillus wentii\\n', 'Assassination of Andrei Karlov\\n', 'Assassination of Jamal Khashoggi\\n', 'Assassination of Qasem Soleimani\\n', 'Astroworld (album)\\n', 'Atal Bihari Vajpayee\\n', 'Athletics at the 2020 Summer Olympics – Qualification\\n', 'Atlas Air Flight 3591\\n', \"Attack on Richard Nixon's motorcade\\n\", 'Audrey Munson\\n', 'August 2016 Central Italy earthquake\\n', 'August Ames\\n', 'Aunt Jemima\\n', '\"Aurora, Illinois, shooting\"\\n', 'Austin serial bombings\\n', \"Australia's Got Talent (season 9)\\n\", 'Australia at the 2016 Summer Olympics\\n', 'Australia at the 2016 Summer Paralympics\\n', 'Australia at the 2018 Commonwealth Games\\n', 'Australian Marriage Law Postal Survey\\n', 'Australian Survivor: All Stars\\n', 'Australian Survivor (season 3)\\n', 'Australian Survivor (season 6)\\n', 'Avengers: Endgame\\n', 'Avengers: Infinity War\\n', 'Avicii\\n', 'Azerbaijan at the 2019 European Games\\n', 'Aztecs\\n', 'BAITSSS\\n', 'Baaghi 2\\n', 'Baahubali 2: The Conclusion\\n', 'Baby Driver\\n', 'Backlash (2017)\\n', 'Backlash (2018)\\n', 'Bad Boys for Life\\n', 'Badla (2019 film)\\n', 'Bailando 2016\\n', 'Bailando 2017\\n', 'Bailando 2018\\n', 'Bailando 2019\\n', 'Balangiga bells\\n', 'Balhae\\n', 'Barbara Bush\\n', 'Bari Weiss\\n', 'Baroque\\n', 'Baroque architecture\\n', 'Barrackpore mutiny of 1824\\n', 'Basil II\\n', 'Battle of Al Hudaydah\\n', 'Battle of Aleppo (2012–2016)\\n', 'Battle of Baghuz Fawqani\\n', 'Battle of Marawi\\n', 'Battle of Monmouth\\n', 'Battle of Mosul (2016–17)\\n', 'Battle of Raqqa (2017)\\n', 'Battle of al-Bab\\n', 'Battleground (2017)\\n', 'Batwoman (TV series)\\n', \"Beach volleyball at the 2016 Summer Olympics – Men's tournament\\n\", \"Beach volleyball at the 2016 Summer Olympics – Women's tournament\\n\", 'Beacham Theatre\\n', 'Bear\\n', 'Beauty and the Beast (2017 film)\\n', 'Behaviorism\\n', 'Bellwether\\n', 'Ben Affleck\\n', 'Ben Hur (1907 film)\\n', 'Benalla Tungamah Football League\\n', 'Benazir Bhutto\\n', 'Bendy and the Ink Machine\\n', 'Bengal famine of 1943\\n', 'Benjamin Harrison V\\n', 'Bepannah\\n', 'Bernie Sanders\\n', 'Betsy DeVos\\n', 'Beyhadh\\n', 'Bharat (film)\\n', 'Bharat Ane Nenu\\n', 'Bhumibol Adulyadej\\n', 'Biblical criticism\\n', 'Big Brother: Over the Top\\n', 'Big Brother (Australian season 12)\\n', 'Big Brother (British series 18)\\n', 'Big Brother (British series 19)\\n', 'Big Brother 18 (American season)\\n', 'Big Brother 19 (American season)\\n', 'Big Brother 20 (American season)\\n', 'Big Brother 21 (American season)\\n', 'Big Brother Canada (season 5)\\n', 'Big Brother Canada (season 6)\\n', 'Big Brother Canada (season 7)\\n', 'Big Brother Canada (season 8)\\n', 'Bigg Boss (Hindi season 10)\\n', 'Bigg Boss (Hindi season 11)\\n', 'Bigg Boss (Hindi season 12)\\n', 'Bigg Boss (Hindi season 13)\\n', 'Bigg Boss (Malayalam season 1)\\n', 'Bigg Boss (Malayalam season 2)\\n', 'Bigg Boss (Telugu season 1)\\n', 'Bigg Boss (Telugu season 2)\\n', 'Bigg Boss Kannada (season 5)\\n', 'Bigg Boss Tamil\\n', 'Bigg Boss Tamil 1\\n', 'Bigg Boss Tamil 2\\n', 'Bigg Boss Tamil 3\\n', 'Biggleswade\\n', 'Bigil\\n', 'Bill Elliott (musician)\\n', 'Bill English\\n', 'Bill Goldberg\\n', 'Bill Holman (musician)\\n', 'Billy Bush\\n', 'Billy Graham\\n', 'Binibining Pilipinas 2018\\n', 'Binibining Pilipinas 2019\\n', 'Bird Box (film)\\n', 'Birds in the Trap Sing McKnight\\n', 'Birds of Prey (2020 film)\\n', \"Bishop's College School\\n\", 'Black Lives Matter\\n', 'Black Mirror: Bandersnatch\\n', 'Black Panther (film)\\n', 'Black Panther (soundtrack)\\n', 'Black September\\n', 'Blackpink\\n', 'Bladder cancer\\n', 'Blade Runner 2049\\n', 'Blonde (Frank Ocean album)\\n', 'Boeing 737 MAX\\n', 'Boeing 737 MAX groundings\\n', 'Bohemian Rhapsody (film)\\n', 'Boogaloo movement\\n', 'Bord Gáis Energy Theatre\\n', 'Border control\\n', 'Boris Johnson\\n', 'Bowling Green massacre\\n', 'Boy with Luv\\n', '\"Brandon, Vermont\"\\n', 'Bravehound\\n', 'Brazil at the 2016 Summer Olympics\\n', 'Brazil at the 2016 Summer Paralympics\\n', 'Brazil at the 2019 Pan American Games\\n', 'Bread (1986 film)\\n', 'Breaking Clean\\n', 'Brett Kavanaugh\\n', 'Brett Kavanaugh Supreme Court nomination\\n', 'Brexit\\n', 'Brexit Party\\n', '\"Brich dem Hungrigen dein Brot, BWV 39\"\\n', 'Brigade Media\\n', 'Bright (film)\\n', 'Brightburn\\n', 'Brit Award for Rising Star\\n', \"Britain's Got Talent: The Champions\\n\", \"Britain's Got Talent (series 11)\\n\", \"Britain's Got Talent (series 12)\\n\", \"Britain's Got Talent (series 13)\\n\", 'British Israelism\\n', 'British home army in the First World War\\n', 'Bromsgrove\\n', 'Brown ministry\\n', 'Bruce Campbell\\n', '\"Bruno Fernandes (footballer, born 1994)\"\\n', 'Bulaqs\\n', 'Bumblebee (film)\\n', 'Burning Sun scandal\\n', 'Burt Reynolds\\n', 'Burton ale\\n', 'Bury F.C.\\n', 'Busemann function\\n', 'Bushfires in Australia\\n', 'C.D. Primeiro de Agosto in African football\\n', 'C/2020 F3 (NEOWISE)\\n', 'COVID-19 apps\\n', 'COVID-19 pandemic\\n', 'COVID-19 pandemic by country and territory\\n', 'COVID-19 pandemic in Africa\\n', 'COVID-19 pandemic in Argentina\\n', 'COVID-19 pandemic in Asia\\n', 'COVID-19 pandemic in Assam\\n', 'COVID-19 pandemic in Australia\\n', 'COVID-19 pandemic in Bangladesh\\n', 'COVID-19 pandemic in Belgium\\n', 'COVID-19 pandemic in Boston\\n', 'COVID-19 pandemic in Brazil\\n', 'COVID-19 pandemic in Bulgaria\\n', 'COVID-19 pandemic in California\\n', 'COVID-19 pandemic in Canada\\n', 'COVID-19 pandemic in Chile\\n', 'COVID-19 pandemic in Croatia\\n', 'COVID-19 pandemic in Europe\\n', 'COVID-19 pandemic in France\\n', 'COVID-19 pandemic in Germany\\n', 'COVID-19 pandemic in Greece\\n', 'COVID-19 pandemic in Guernsey\\n', 'COVID-19 pandemic in India\\n', 'COVID-19 pandemic in Indonesia\\n', 'COVID-19 pandemic in Iran\\n', 'COVID-19 pandemic in Israel\\n', 'COVID-19 pandemic in Italy\\n', 'COVID-19 pandemic in Karnataka\\n', 'COVID-19 pandemic in Kerala\\n', 'COVID-19 pandemic in Kosovo\\n', 'COVID-19 pandemic in Maharashtra\\n', 'COVID-19 pandemic in Malaysia\\n', 'COVID-19 pandemic in Massachusetts\\n', 'COVID-19 pandemic in Metro Manila\\n', 'COVID-19 pandemic in Mexico\\n', 'COVID-19 pandemic in Michigan\\n', 'COVID-19 pandemic in Morocco\\n', 'COVID-19 pandemic in Nepal\\n', 'COVID-19 pandemic in New York (state)\\n', 'COVID-19 pandemic in New Zealand\\n', 'COVID-19 pandemic in Ontario\\n', 'COVID-19 pandemic in Pakistan\\n', 'COVID-19 pandemic in Poland\\n', 'COVID-19 pandemic in Portugal\\n', '\"COVID-19 pandemic in Punjab, India\"\\n', 'COVID-19 pandemic in Quebec\\n', 'COVID-19 pandemic in Romania\\n', 'COVID-19 pandemic in Russia\\n', 'COVID-19 pandemic in Serbia\\n', 'COVID-19 pandemic in Singapore\\n', 'COVID-19 pandemic in Slovakia\\n', 'COVID-19 pandemic in South Africa\\n', 'COVID-19 pandemic in South Korea\\n', 'COVID-19 pandemic in Spain\\n', 'COVID-19 pandemic in Sweden\\n', 'COVID-19 pandemic in Tamil Nadu\\n', 'COVID-19 pandemic in Turkey\\n', 'COVID-19 pandemic in Venezuela\\n', 'COVID-19 pandemic in Vietnam\\n', 'COVID-19 pandemic in Washington (state)\\n', 'COVID-19 pandemic in West Bengal\\n', 'COVID-19 pandemic in mainland China\\n', 'COVID-19 pandemic in the Czech Republic\\n', 'COVID-19 pandemic in the Netherlands\\n', 'COVID-19 pandemic in the Philippines\\n', 'COVID-19 pandemic in the Republic of Ireland\\n', 'COVID-19 pandemic in the United Kingdom\\n', 'COVID-19 pandemic in the United States\\n', 'COVID-19 pandemic on cruise ships\\n', 'CUHK democracy wall standoff\\n', 'Cabinet of Donald Trump\\n', 'California high school basketball championship\\n', 'Call Me by Your Name (film)\\n', 'Call of Duty: WWII\\n', 'Cameron Boyce\\n', 'Camila (album)\\n', 'Camila Cabello\\n', 'Camp Fire (2018)\\n', 'Canada at the 2016 Summer Olympics\\n', 'Canada at the 2018 Winter Olympics\\n', 'Candidates Tournament 2018\\n', 'Candidates of the 2019 Australian federal election\\n', 'Canterbury Rugby Football Union\\n', 'Capital Gazette shooting\\n', 'Capitol Hill Autonomous Zone\\n', 'Captain Marvel (film)\\n', 'Captain Tom\\n', 'Cardinal Mazarin\\n', 'Caridad de la Luz\\n', 'Carillion\\n', 'Carle Hessay\\n', 'Carles Puigdemont\\n', 'Carmen Nigro\\n', 'Carolina Dog\\n', 'Caroline Calloway\\n', 'Caroline Flack\\n', 'Carrie Fisher\\n', 'Cars 3\\n', 'Cascade Mall shooting\\n', 'Catalan Republic (2017)\\n', 'Catalan declaration of independence\\n', 'Catriona Gray\\n', 'Cats (2019 film)\\n', 'Cecil B. DeMille\\n', 'Celebrity Big Brother (British series 18)\\n', 'Celebrity Big Brother (British series 19)\\n', 'Celebrity Big Brother (British series 20)\\n', 'Celebrity Big Brother (British series 21)\\n', 'Celebrity Big Brother (British series 22)\\n', 'Celebrity Big Brother 1 (American season)\\n', 'Celebrity Big Brother 2 (American season)\\n', 'Central Park jogger case\\n', 'Chained to the Rhythm\\n', 'Chandrayaan-2\\n', 'Change UK\\n', 'Changes (Justin Bieber album)\\n', 'Channel Awesome\\n', 'Characters in the Mahabharata\\n', 'Characters of the Marvel Cinematic Universe\\n', 'Charles H. Stonestreet\\n', 'Charles Krauthammer\\n', 'Charles Manson\\n', \"Charlie's Angels (2019 film)\\n\", 'Charlie Gard case\\n', 'Charlie Zeleny\\n', 'Chekka Chivantha Vaanam\\n', 'Chemin de fer de Petite Ceinture\\n', 'Chennaiyin FC\\n', 'Chernobyl (miniseries)\\n', 'Chess World Cup 2017\\n', 'Chess World Cup 2019\\n', 'Chester Bennington\\n', 'Chhapaak\\n', \"Child's Play (2019 film)\\n\", 'Chilling Adventures of Sabrina (TV series)\\n', 'China at the 2016 Summer Olympics\\n', 'China at the 2016 Summer Paralympics\\n', 'China at the 2018 Winter Olympics\\n', 'China–United States trade war\\n', 'Chinese Taipei at the 2018 Asian Games\\n', 'Chinese mythology\\n', 'Chinese theology\\n', 'Chow Tai Fook\\n', 'Chris Cornell\\n', 'Christ myth theory\\n', 'Christchurch mosque shootings\\n', 'Christine Blasey Ford\\n', 'Christopher Robin (film)\\n', 'Chromatica\\n', 'Chronological summary of the 2016 Summer Olympics\\n', 'Chronological summary of the 2018 Winter Olympics\\n', 'Cincinnati Union Terminal\\n', '\"Citizenship (Amendment) Act, 2019\"\\n', 'Citizenship Amendment Act protests\\n', 'Clash of Champions (2016)\\n', 'Clash of Champions (2017)\\n', 'Classical Hollywood cinema\\n', 'Claudio Monteverdi\\n', 'Cleavage (breasts)\\n', 'Cleopatra\\n', 'Climate change in New Zealand\\n', 'Clive Barda\\n', 'Coach Trip (series 14)\\n', 'Coach Trip (series 15)\\n', 'Coach Trip (series 16)\\n', 'Coastal GasLink Pipeline\\n', 'Coco (2017 film)\\n', 'Collaboration in German-occupied Poland\\n', 'Columbine High School massacre\\n', 'Combined statistical area\\n', 'Common Security and Defence Policy\\n', 'Conservative Revolution\\n', 'Conte II Cabinet\\n', 'Contemporary architecture\\n', 'Continuation War\\n', 'Coronavirus\\n', 'Coronavirus disease 2019\\n', 'Corowa Football Club\\n', 'Corporate haven\\n', 'Corporation tax in the Republic of Ireland\\n', 'Cory Booker 2020 presidential campaign\\n', 'Counting On\\n', 'Covington Catholic High School\\n', 'Cragside\\n', 'Craig Sager\\n', 'Cranial drill\\n', 'Crazy Rich Asians (film)\\n', 'Creed II\\n', 'Crew Dragon Demo-2\\n', 'Criollo people\\n', 'Crisis in Venezuela\\n', 'Crisis on Infinite Earths (Arrowverse)\\n', 'Cristiano Ronaldo\\n', 'Criticism of the Catholic Church\\n', 'Croatia national football team\\n', 'Crown Jewel (2018)\\n', 'Crown Jewel (2019)\\n', 'Crusader states\\n', 'Crusades\\n', 'Cubana de Aviación Flight 972\\n', 'Culture II\\n', 'Culture of England\\n', 'Culture of Hungary\\n', 'Curtis P. Iaukea\\n', 'Curzon Street Baroque\\n', 'Cut the Crap\\n', 'Cyclone Amphan\\n', 'Cyclone Harold\\n', 'Cyclone Idai\\n', 'Cyclone Ockhi\\n', 'Cyril Northam\\n', 'Cyril Ramaphosa\\n', 'Czech Republic at the 2016 Summer Olympics\\n', 'D. P. Singh\\n', 'DC Extended Universe\\n', 'Dabangg 3\\n', 'Dactyloidae\\n', 'Dakota Access Pipeline\\n', 'Dakota Access Pipeline protests\\n', 'Dalit\\n', 'Damn (Kendrick Lamar album)\\n', 'Dana Brooke\\n', 'Dancing on Ice (series 10)\\n', 'Dancing on Ice (series 11)\\n', 'Dancing with the Stars: Juniors\\n', 'Dancing with the Stars (American season 23)\\n', 'Dancing with the Stars (American season 24)\\n', 'Dancing with the Stars (American season 25)\\n', 'Dancing with the Stars (American season 26)\\n', 'Dancing with the Stars (American season 27)\\n', 'Dancing with the Stars (American season 28)\\n', 'Dancing with the Stars (Australian season 16)\\n', 'Dancing with the Stars (Australian season 17)\\n', 'Dancing with the Stars (Irish TV series)\\n', 'Dancing with the Stars (Irish series 3)\\n', 'Dangal (film)\\n', 'Danny Jacobs (actor)\\n', 'Danse avec les stars (season 9)\\n', 'Dark Phoenix (film)\\n', 'Datura metel\\n', 'David Bowie discography\\n', 'David Campese\\n', 'DeMarcus Cousins\\n', 'De De Pyaar De\\n', 'Deadpool 2\\n', 'Dear Zindagi\\n', 'Death and state funeral of Fidel Castro\\n', 'Death and state funeral of George H. W. Bush\\n', 'Death of Abu Bakr al-Baghdadi\\n', 'Death of Jeffrey Epstein\\n', 'Death of a Nation (2018 film)\\n', 'Deaths due to the Chernobyl disaster\\n', 'Deaths in 2000\\n', 'Deaths in 2001\\n', 'Deaths in 2017\\n', 'Deaths in 2018\\n', 'Deaths in 2019\\n', 'Deaths in 2020\\n', 'Deaths in December 2016\\n', 'Deaths in December 2018\\n', 'Debbie Reynolds\\n', 'December 2017 Southern California wildfires\\n', 'Deep vein thrombosis\\n', 'Deferred Action for Childhood Arrivals\\n', 'Deities of Slavic religion\\n', 'Dementia with Lewy bodies\\n', 'Demetrius III Eucaerus\\n', 'Democratic Unionist Party\\n', 'Designated Survivor (TV series)\\n', 'Despacito\\n', 'Destined to be Yours\\n', 'Detective Pikachu (film)\\n', 'Detroit Red Wings\\n', 'Dhadak\\n', 'Dhaka\\n', 'Dhunge dhara\\n', 'Diane Schuur\\n', 'Die transitorischen Störungen des Selbstbewusstseins\\n', 'Directive on Copyright in the Digital Single Market\\n', 'Discovery and development of direct Xa inhibitors\\n', 'Discovery and development of gastrointestinal lipase inhibitors\\n', 'Dismissal of James Comey\\n', 'Disney+\\n', 'Doble Kara\\n', 'Doctor Sleep (2019 film)\\n', 'Doctor Strange (2016 film)\\n', 'Doctor Who Magazine\\n', 'Dolittle (film)\\n', \"Dolores O'Riordan\\n\", 'Dom Pedro Hotels & Golf Collection\\n', 'Domesticated plants and animals of Austronesia\\n', 'Dominic Cummings\\n', \"Don't Start Now\\n\", 'Don Gregorio Antón\\n', 'Donald Trump\\n', 'Donald Trump 2016 presidential campaign\\n', 'Donald Trump Access Hollywood tape\\n', \"Donald Trump photo op at St. John's Church\\n\", 'Donald Trump sexual misconduct allegations\\n', 'Donna Strickland\\n', 'Doo-Wops & Hooligans\\n', 'Dookie United Football Club\\n', 'Doria Ragland\\n', 'Dorothy Lamb\\n', 'Double Irish arrangement\\n', 'Double or Nothing (2020)\\n', 'Doug Jones (politician)\\n', 'Douglas Albert Munro\\n', 'Douma chemical attack\\n', 'Downton Abbey (film)\\n', 'Dr. John\\n', 'Dragon Ball Super: Broly\\n', 'Dragonstone (Game of Thrones episode)\\n', \"Duke and Duchess of Windsor's 1937 tour of Germany\\n\", 'Dundalk F.C.\\n', 'Dunkirk (2017 film)\\n', 'Dunoon\\n', 'Dwayne Johnson\\n', 'Dynasty\\n', 'E3 2017\\n', 'E3 2018\\n', 'E3 2019\\n', 'ELEAGUE Major: Boston 2018\\n', 'Earl Scruggs\\n', 'Early Gothic architecture\\n', 'Eddie Garcia\\n', '\"Edge, Branscombe\"\\n', 'Education in Greece\\n', 'Edward Colston\\n', 'Edward Mason Eggleston\\n', 'El Camino: A Breaking Bad Movie\\n', 'El Coyote (character)\\n', 'El Gran Show (season 16)\\n', 'El Gran Show (season 19)\\n', 'El Gran Show (season 20)\\n', 'Electric Bond and Share Company\\n', 'Elijah Abel\\n', 'Elijah Daniel\\n', 'Elimination Chamber (2017)\\n', 'Elimination Chamber (2018)\\n', 'Elimination Chamber (2019)\\n', 'Eliud Kipchoge\\n', 'Elizabeth Warren\\n', 'Elizabeth Willing Powel\\n', \"Elon Musk's Tesla Roadster\\n\", 'Emil Van Horn\\n', 'Emiliano Sala\\n', 'Emirates Flight 521\\n', 'Emma Anderson (professor)\\n', 'Emmanuel Macron\\n', 'Emmerson Mnangagwa\\n', 'Encantadia (2016 TV series)\\n', 'EncroChat\\n', 'Endorsements in the 2017 United Kingdom general election\\n', 'Endorsements in the 2019 Conservative Party leadership election\\n', 'Endorsements in the 2019 United Kingdom general election\\n', 'Endorsements in the 2020 Democratic Party presidential primaries\\n', 'Enga Veetu Mapillai\\n', 'England at the 2018 Commonwealth Games\\n', 'English cricket team in Bangladesh in 2016–17\\n', 'English cricket team in India in 2016–17\\n', 'Ennio Morricone\\n', 'Environmental racism in Europe\\n', 'Eric Thorsen\\n', 'Erin Moran\\n', 'Erythranthe\\n', 'Escape the Night\\n', 'Essex lorry deaths\\n', 'Esteghlal F.C.\\n', 'Ethics in the Bible\\n', 'Ethiopian Airlines Flight 302\\n', 'Etika\\n', 'EuroBasket 2017\\n', 'EuroBasket 2017 qualification\\n', 'Europeans in Medieval China\\n', 'Eurovision Song Contest 2017\\n', 'Eurovision Song Contest 2018\\n', 'Eurovision Song Contest 2019\\n', 'Eurovision Song Contest 2020\\n', 'Everipedia\\n', 'Everything Is Love\\n', 'Executive Order 13769\\n', 'Executive Order 13780\\n', 'Exponential response formula\\n', 'Exposition Universelle (1900)\\n', 'Extreme Rules (2019)\\n', 'Ezra Miller\\n', 'F. Scott Fitzgerald\\n', 'FOCSA Building\\n', 'Fairfield University\\n', 'Faithless electors in the 2016 United States presidential election\\n', 'Fake News Awards\\n', 'Fake news website\\n', 'Falcon Heavy\\n', 'Falsifiability\\n', 'Families Belong Together\\n', 'Fantastic Beasts: The Crimes of Grindelwald\\n', 'Fantastic Beasts and Where to Find Them (film)\\n', 'Fastlane (2017)\\n', 'Fastlane (2018)\\n', 'Father of the Pride\\n', 'Fats Domino\\n', 'Faxon Atherton\\n', 'Faylaka Island attack\\n', 'Femina Miss India 2018\\n', 'Ferdinand Marcos\\n', 'Fifty Shades Darker (film)\\n', 'Fire and Fury\\n', \"First 100 days of Donald Trump's presidency\\n\", \"First 100 days of Imran Khan's prime ministership\\n\", 'First Johnson ministry\\n', 'First Man (film)\\n', 'Five Go Down to the Sea?\\n', \"Five Nights at Freddy's: Sister Location\\n\", 'Flag of Mississippi\\n', 'Flags of cities of the United States\\n', 'Flamboyant\\n', 'Fliegerführer Atlantik\\n', '\"Flippin, Kentucky\"\\n', 'Florida International University pedestrian bridge collapse\\n', 'Floyd Mayweather Jr. vs. Conor McGregor\\n', 'Flying ointment\\n', 'Folklore (Taylor Swift album)\\n', \"Football at the 2017 Southeast Asian Games – Men's tournament\\n\", \"Football at the 2018 Asian Games – Men's tournament\\n\", \"Football at the 2019 Southeast Asian Games – Men's tournament\\n\", 'Football in South America\\n', 'Ford Dabney\\n', 'Foreign policy of the George W. Bush administration\\n', 'Forests Commission Victoria\\n', 'Fort Lauderdale airport shooting\\n', 'France at the 2016 Summer Olympics\\n', \"Franklin's electrostatic machine\\n\", 'Franz Halder\\n', 'Frederica von Stade\\n', 'French Gothic architecture\\n', 'French sculpture\\n', 'Freud and Philosophy\\n', 'Frozen II\\n', 'Future Islands\\n', 'Fürstlich Sächsischer Hofbuchdruckerei zu Altenburg\\n', 'GW170817\\n', 'Game of Thrones (season 7)\\n', 'Game of Thrones (season 8)\\n', 'Game pieces of the Lewis chessmen hoard\\n', 'Garage rock\\n', 'Garry Marshall\\n', 'Gatwick Airport drone incident\\n', 'Gautamiputra Satakarni (film)\\n', 'Gaza–Israel clashes (November 2018)\\n', 'Gemini Man (film)\\n', 'General der Nachrichtenaufklärung\\n', 'Genoa\\n', 'George Armour\\n', 'George Charles Moʻoheau Beckley\\n', 'George Floyd\\n', 'George Floyd protests\\n', 'George Floyd protests in California\\n', 'George Floyd protests in Minneapolis–Saint Paul\\n', '\"George Floyd protests in Portland, Oregon\"\\n', 'George Floyd protests in the United Kingdom\\n', 'George H. W. Bush\\n', 'George Michael\\n', 'George Vincent (painter)\\n', 'George W. Christians\\n', 'George Washington\\n', \"George Washington's political evolution\\n\", 'George Washington and slavery\\n', \"Georgetown Hoyas men's basketball\\n\", 'Germanic peoples\\n', 'Germany at the 2016 Summer Olympics\\n', 'Germany at the 2018 Winter Olympics\\n', 'Germany at the 2019 European Games\\n', 'Gessner Harrison\\n', 'Get Out\\n', 'Ghana Library Authority\\n', 'Ghetto Day/What I Need\\n', 'Ghost Ship warehouse fire\\n', 'Ghost in the Shell (2017 film)\\n', 'Ghostbusters: Afterlife\\n', 'Gilroy Garlic Festival shooting\\n', 'Gina Haspel\\n', 'Girls Like You\\n', 'Glass (2019 film)\\n', 'Glen Cummings (musician)\\n', 'Glikeriya Bogdanova-Chesnokova\\n', 'Glory (Britney Spears album)\\n', 'Glossary of bird terms\\n', 'Glossary of chess\\n', 'Gloucestershire Regiment\\n', 'Gnosticism\\n', 'God Street Wine\\n', 'God of War (2018 video game)\\n', 'Godzilla: King of the Monsters (2019 film)\\n', \"Google's Ideological Echo Chamber\\n\", 'Goosebumps 2: Haunted Halloween\\n', 'Gothic architecture\\n', 'Gothic boxwood miniature\\n', 'Gothic cathedrals and churches\\n', 'Gottfried Heinrich Stölzel\\n', 'Government shutdowns in the United States\\n', 'Goûter Refuge\\n', 'Gran Hermano VIP (season 6)\\n', 'Grand Central Terminal\\n', 'Grateful (DJ Khaled album)\\n', 'Great Britain at the 2016 Summer Olympics\\n', 'Great Britain at the 2016 Summer Paralympics\\n', 'Great Britain at the 2018 Winter Olympics\\n', 'Great Britain at the 2019 European Games\\n', \"Greece's Next Top Model (season 4)\\n\", 'Greece at the 2016 Summer Olympics\\n', 'Greece at the 2016 Summer Paralympics\\n', 'Greece at the 2018 Mediterranean Games\\n', 'Greece at the 2019 European Games\\n', 'Greg Gianforte\\n', 'Greg Lake\\n', 'Gregorio Cortez\\n', 'Gregory Peck\\n', 'Grenfell Tower fire\\n', 'Greta Thunberg\\n', 'Grimsby Town F.C.\\n', 'Grunge\\n', 'Guardia Lombardi\\n', 'Guardian: The Lonely and Great God\\n', 'Guardians of the Galaxy Vol. 2\\n', 'Guide number\\n', 'Gully Boy\\n', 'Günther Rall\\n', 'H. Raja\\n', 'HBO\\n', 'Hagia Sophia\\n', 'Hair Peace Salon\\n', 'Haitian Creole vocabulary\\n', 'Haitian Vodou\\n', 'Halik (TV series)\\n', 'Halle synagogue shooting\\n', 'Halloween (2018 film)\\n', 'Hanau shootings\\n', 'Hannah Arendt\\n', 'Hans Jeschonnek\\n', 'Happy number\\n', 'Har Gobind Khorana\\n', 'Harem\\n', 'Harrison Wells\\n', 'Harrison family of Virginia\\n', 'Haruma Miura\\n', 'Harvard–Yale football rivalry\\n', 'Harvey Weinstein\\n', 'Harvey Weinstein sexual abuse cases\\n', 'Havana Plan Piloto\\n', 'Hayat Tahrir al-Sham\\n', 'Hearst Castle\\n', 'Heavy metals\\n', 'Hector Guimard\\n', 'Hefei\\n', 'Heinz Guderian\\n', 'Helene Fuld College of Nursing\\n', 'Hell (DC Comics)\\n', 'Hell in a Cell (2016)\\n', 'Hell in a Cell (2017)\\n', 'Hell in a Cell (2018)\\n', 'Hell in a Cell (2019)\\n', 'Hellboy (2019 film)\\n', 'Hellenistic art\\n', 'Helmut Kohl\\n', 'Henry Sutton (inventor)\\n', 'Heraclitus\\n', 'Hereditary (film)\\n', 'Herman Vandenburg Ames\\n', 'Hero (2016 TV series)\\n', 'Hero Alom\\n', 'Hidden Figures\\n', 'High Gothic\\n', 'Hispanic Heritage Baseball Museum\\n', 'History of Bangladesh\\n', 'History of Christian thought on persecution and tolerance\\n', '\"History of Tampa, Florida\"\\n', 'History of Tottenham Hotspur F.C.\\n', 'History of Xinjiang\\n', 'History of anarchism\\n', 'History of art\\n', 'History of gunpowder\\n', 'History of lute-family instruments\\n', 'History of the Dunedin urban area\\n', 'History of the metric system\\n', \"Hitler's prophecy\\n\", 'Hobbs & Shaw\\n', \"Hollywood's Bleeding\\n\", 'Holocaust Wall Hangings\\n', 'Honan Chapel\\n', 'Hong Kong national security law\\n', 'Hormone replacement therapy\\n', 'Hotel Transylvania 3: Summer Vacation\\n', 'House of Altoviti\\n', 'How to Train Your Dragon: The Hidden World\\n', 'Huey Long\\n', 'Hugo Sperrle\\n', 'Hugo W. Koehler\\n', 'Human brain\\n', 'Humanz\\n', 'Humboldt Broncos bus crash\\n', 'Humphrey Atherton\\n', '\"Humphrey Stafford, 1st Duke of Buckingham\"\\n', 'Hungarian handball clubs in European competitions\\n', 'Hungary at the 2016 Summer Olympics\\n', 'Hurricane Dorian\\n', 'Hurricane Florence\\n', 'Hurricane Hanna (2020)\\n', 'Hurricane Harvey\\n', 'Hurricane Hector (2018)\\n', 'Hurricane Hermine\\n', 'Hurricane Irma\\n', 'Hurricane Jose (2017)\\n', 'Hurricane Lane (2018)\\n', 'Hurricane Leslie (2018)\\n', 'Hurricane Maria\\n', 'Hurricane Matthew\\n', 'Hurricane Michael\\n', 'Hurricane Nate\\n', 'Hurricane Ophelia (2017)\\n', 'Hussein of Jordan\\n', 'Hustlers (film)\\n', 'Hyksos\\n', 'Hypatia\\n', \"I'm a Celebrity...Get Me Out of Here! (Australian season 5)\\n\", \"I'm a Celebrity...Get Me Out of Here! (British series 16)\\n\", \"I'm a Celebrity...Get Me Out of Here! (British series 17)\\n\", \"I'm a Celebrity...Get Me Out of Here! (British series 18)\\n\", \"I'm a Celebrity...Get Me Out of Here! (British series 19)\\n\", 'I-Land\\n', 'ICC Champions Trophy\\n', 'IDBI Bank\\n', 'IEBus\\n', 'IEK\\n', 'IPhone 11\\n', 'IPhone 11 Pro\\n', 'IPhone 7\\n', 'IPhone SE (2nd generation)\\n', 'IPhone X\\n', 'ITS Dental College\\n', 'IV of Spades\\n', 'Ibiza affair\\n', 'Ida Tarbell\\n', 'Iles Brody\\n', 'Ilhan Omar\\n', 'Ilkay Altintas\\n', 'Illyrian religion\\n', 'Iloilo City\\n', 'Imelda Marcos\\n', 'Impact Wrestling\\n', 'Impact of the COVID-19 pandemic on cinema\\n', 'Impact of the COVID-19 pandemic on sports\\n', 'Impact of the COVID-19 pandemic on television\\n', 'Impeachment inquiry against Donald Trump\\n', 'Impeachment of Donald Trump\\n', 'Impeachment trial of Donald Trump\\n', 'Imperial examination\\n', 'Imran Khan\\n', 'InSight\\n', 'Inauguration of Donald Trump\\n', 'Incel\\n', 'Incredibles 2\\n', 'Index of Austria-related articles\\n', 'Index of Bahamas-related articles\\n', 'Index of Barbados-related articles\\n', 'Index of Belize-related articles\\n', 'Index of Cyprus-related articles\\n', 'Index of Hawaii-related articles\\n', 'Index of Italy-related articles\\n', 'Index of Jainism-related articles\\n', 'Index of Switzerland-related articles\\n', 'Index of ancient Egypt–related articles\\n', 'Index of construction articles\\n', 'Index of gardening articles\\n', 'Index of music articles\\n', 'Index of painting-related articles\\n', 'India\\n', 'India at the 2016 Summer Olympics\\n', 'India at the 2018 Asian Games\\n', 'India at the 2018 Commonwealth Games\\n', 'India at the 2018 Summer Youth Olympics\\n', 'India national football team\\n', 'Indian Peace Commission\\n', 'Indian Premier League\\n', 'Indian painting\\n', 'Indian summiters of Mount Everest\\n', 'India–Pakistan cricket rivalry\\n', 'Indigenous Peoples March\\n', 'Indiggo\\n', 'Indonesia\\n', 'Indonesia at the 2017 Southeast Asian Games\\n', 'Indonesia at the 2018 Asian Games\\n', 'Indonesia at the 2019 Southeast Asian Games\\n', 'Injustice 2\\n', 'Insidious: The Last Key\\n', 'Instagram egg\\n', 'International System of Units\\n', 'International cricket in 2018–19\\n', 'International reactions to the 2016 United States presidential election\\n', 'International sanctions during the Venezuelan crisis\\n', 'Invasion of Privacy (album)\\n', 'Ionic Coulomb blockade\\n', 'Iran Aseman Airlines Flight 3704\\n', 'Iran at the 2016 Summer Paralympics\\n', 'Iran at the 2018 Asian Games\\n', 'Ireland as a tax haven\\n', 'Iron Fist (TV series)\\n', 'Irrfan Khan\\n', 'Ishq Mein Marjawan\\n', 'Isle of Wight\\n', 'Israeli occupation of the West Bank\\n', 'Istanbul nightclub shooting\\n', 'It (2017 film)\\n', 'It (miniseries)\\n', 'It Chapter Two\\n', 'Iveta Mukuchyan\\n', 'Iz*One\\n', 'J. Jayalalithaa\\n', 'Jab Harry Met Sejal\\n', 'Jacinda Ardern\\n', 'Jacksonville Landing shooting\\n', 'Jacqueline Susann\\n', 'Jagdgeschwader 1 (World War II)\\n', 'Jagdgeschwader 2\\n', 'Jagdgeschwader 27\\n', 'Jair Bolsonaro\\n', 'Jakarta\\n', 'Jamal Khashoggi\\n', 'James Campbell Besley\\n', 'James Comey\\n', 'James Ellsworth (wrestler)\\n', 'James Holzhauer\\n', 'James K. Polk\\n', 'James Madison\\n', \"James O'Keefe\\n\", 'Jammu and Kashmir (state)\\n', 'Jan-Michael Vincent\\n', 'Jane Austen\\n', 'January 2017 Melbourne car attack\\n', 'January–February 2019 North American cold wave\\n', 'Jared Kushner\\n', 'Jean Giraud\\n', 'Jeanine Áñez\\n', 'Jeanne Calment\\n', 'Jeff Sessions\\n', 'Jeffrey Epstein\\n', 'Jeffrey Epstein death conspiracy theories\\n', 'Jeremy Corbyn\\n', 'Jerry Lewis\\n', '\"Jesuits, etc. Act 1584\"\\n', 'Jesus Is King\\n', 'Jet Airways\\n', 'Jeļena Ostapenko\\n', 'Jill Stein\\n', '\"Jimin (singer, born 1995)\"\\n', 'Jinder Mahal\\n', 'Joan Rivers\\n', 'Joanne (album)\\n', 'Joe Arpaio\\n', 'Joe Biden sexual assault allegation\\n', 'John Adams\\n', 'John Bucchino\\n', 'John Glenn\\n', 'John Heisman\\n', 'John Lewis (civil rights leader)\\n', 'John McCain\\n', 'John Meston\\n', 'John Quincy Adams\\n', 'John Wayne Gacy\\n', 'John Wick: Chapter 2\\n', 'John Wick: Chapter 3 – Parabellum\\n', 'Johnny Hallyday\\n', 'Joker (2019 film)\\n', 'Jomo Kenyatta\\n', 'Jordan\\n', 'Joseph James DeAngelo\\n', 'Joseph Jenckes Jr.\\n', 'Joseph Stalin\\n', 'Juan Guaidó\\n', 'Judicial appointment history for United States federal courts\\n', 'Judy Mikovits\\n', 'Julia Stephen\\n', 'Julian Assange\\n', 'Julian of Norwich\\n', 'Julius Evola\\n', 'Jumanji: The Next Level\\n', 'Jumanji: Welcome to the Jungle\\n', 'Junaid Jamshed\\n', 'June 2019 Gulf of Oman incident\\n', 'Juneteenth\\n', 'Junior Eurovision Song Contest 2016\\n', 'Junior Eurovision Song Contest 2018\\n', 'Junior Eurovision Song Contest 2019\\n', 'Jurassic World: Fallen Kingdom\\n', 'Jussie Smollett\\n', 'Justice League (film)\\n', 'K.G.F: Chapter 1\\n', 'K2-18b\\n', 'KSI vs. Logan Paul\\n', 'Kaabil\\n', 'Kaal Bhairav Rahasya\\n', 'Kaala (2018 film)\\n', 'Kaappaan\\n', 'Kabir Singh\\n', 'Kalank\\n', 'Kali (demon)\\n', 'Kalākaua\\n', \"Kalākaua's 1874–75 state visit to the United States\\n\", \"Kalākaua's 1881 world tour\\n\", \"Kalākaua's Privy Council of State\\n\", 'Kamala Harris\\n', 'Kamikaze (Eminem album)\\n', 'Kanchana 3\\n', 'Kanye West 2020 presidential campaign\\n', 'Kara Mia\\n', 'Karl Dönitz\\n', 'Karl Lagerfeld\\n', 'Kartamyshevska Street\\n', 'Kasautii Zindagii Kay (2018 TV series)\\n', 'Kate Spade\\n', 'Kate Winslet\\n', 'Katie Bouman\\n', 'Kayleigh McEnany\\n', 'Keele University\\n', 'Keith Flint\\n', 'Kent Tate\\n', 'Kenzō Shirai\\n', 'Kerala Blasters FC\\n', 'Kerch Polytechnic College massacre\\n', 'Kerch Strait incident\\n', 'Kesari (2019 film)\\n', 'Kevin Horkin\\n', 'Kevin Spacey\\n', 'Khalid Masood\\n', 'Khan Shaykhun chemical attack\\n', 'Khem Veasna\\n', 'Khizr and Ghazala Khan\\n', 'Kidnapping of Jayme Closs\\n', 'Kids Baking Championship\\n', 'Kids See Ghosts (album)\\n', 'Kilkenny cats\\n', 'Killing of Ahmaud Arbery\\n', 'Killing of George Floyd\\n', 'Killing of Mollie Tibbetts\\n', 'Killing of Rayshard Brooks\\n', 'Killing of Vanessa Guillén\\n', 'Killshot (song)\\n', 'Kim Jong-hyun (singer)\\n', 'Kim Jong-nam\\n', 'Kim Seok-jin\\n', 'Kirk Douglas\\n', 'Kivu Ebola epidemic\\n', 'Knights of Columbus\\n', 'Knives Out\\n', 'Kobe Bryant\\n', 'Kokshetau Airport\\n', 'Kolkata Derby\\n', 'Kong: Skull Island\\n', 'Konstanze Klosterhalfen\\n', 'Kriegsspiel\\n', 'Kristina Paner\\n', 'Kryst the Conqueror\\n', 'Kulottunga I\\n', 'Kummanam Rajasekharan\\n', 'Kurukshetra (2019 film)\\n', 'Kyoto Animation arson attack\\n', 'LZ 127 Graf Zeppelin\\n', 'LaMia Flight 2933\\n', 'La La Land\\n', 'La Luna Sangre\\n', 'La République En Marche!\\n', 'Lady Bird (film)\\n', 'Lahore\\n', 'Larry Eyler\\n', 'Larry Nassar\\n', 'Latua\\n', 'Lauren Boebert\\n', 'Le Classique\\n', 'Lead\\n', 'Leaving Neverland\\n', 'Leccinellum lepidum\\n', '\"Leeds, Bradford and Halifax Junction Railway\"\\n', 'Legal challenges to the Trump travel ban\\n', 'Legalism (Chinese philosophy)\\n', 'Legends Never Die (Juice Wrld album)\\n', 'Leonard Cohen\\n', 'Leonard Neale\\n', 'Leonardo DiCaprio\\n', 'Lew Hoad\\n', 'Li Wenliang\\n', 'Ligas Departamentales del Perú\\n', 'Ligas Provinciales del Peru\\n', 'Lil Peep\\n', 'Liliʻuokalani\\n', 'Lingayatism\\n', 'Lion Air Flight 610\\n', 'Liquefied natural gas in Canada\\n', 'List of 1960s musical artists\\n', 'List of 2016 Summer Olympics medal winners\\n', \"List of 2017 Women's March locations\\n\", 'List of 2017 albums\\n', 'List of 2017–18 NBA season transactions\\n', \"List of 2018 Women's March locations\\n\", 'List of 2018–19 NBA season transactions\\n', 'List of 2019 albums\\n', 'List of 2019–20 NBA season transactions\\n', 'List of 2020 albums\\n', 'List of American Horror Story cast members\\n', 'List of American expatriate writers\\n', 'List of American film actresses\\n', 'List of American railroad accidents\\n', 'List of Andrew Yang 2020 presidential campaign endorsements\\n', 'List of Asian Academy Award winners and nominees\\n', 'List of Australian AM radio stations\\n', 'List of Bernie Sanders 2020 presidential campaign endorsements\\n', 'List of Bollywood films of 2018\\n', 'List of Bradford Bulls records and statistics\\n', 'List of Bulgarian football transfers summer 2017\\n', 'List of Canadian Jews\\n', 'List of Catalans Dragons records and statistics\\n', 'List of Celtic deities\\n', 'List of Chinese football transfers winter 2017\\n', 'List of Chinese football transfers winter 2018\\n', 'List of Chinese football transfers winter 2019\\n', 'List of Christian Brothers school alumni\\n', 'List of Confederate monuments and memorials\\n', 'List of Cricket World Cup finals\\n', 'List of Delhi Capitals records\\n', 'List of Donald Trump 2016 presidential campaign endorsements\\n', 'List of Donald Trump 2020 presidential campaign endorsements\\n', 'List of Doomsday Clock characters\\n', 'List of DuckTales (2017 TV series) episodes\\n', 'List of DuckTales characters\\n', 'List of Elizabeth Warren 2020 presidential campaign endorsements\\n', 'List of English football transfers summer 2017\\n', 'List of English novelists\\n', 'List of European countries by average wage\\n', 'List of FIFA World Cup goalscorers\\n', 'List of FK Budućnost seasons\\n', 'List of Falcon 9 and Falcon Heavy launches\\n', 'List of Flash animated television series\\n', 'List of French football transfers summer 2017\\n', 'List of French football transfers summer 2018\\n', 'List of George Floyd protests in the United States\\n', 'List of George Floyd protests outside the United States\\n', 'List of Greek Americans\\n', 'List of Greek football transfers summer 2017\\n', 'List of Greek football transfers summer 2018\\n', 'List of Guildford Flames records\\n', 'List of Hillary Clinton 2016 presidential campaign endorsements\\n', 'List of Hillary Clinton 2016 presidential campaign non-political endorsements\\n', 'List of Hispanic American Caudillos\\n', 'List of Igbo people\\n', 'List of Impact Wrestling personnel\\n', 'List of Iranian Americans\\n', 'List of Italian football transfers summer 2014 (co-ownership)\\n', 'List of Italian records in masters athletics\\n', 'List of Jam Urban Adventure Characters\\n', 'List of Jewish Academy Award winners and nominees\\n', 'List of Joe Biden 2020 presidential campaign endorsements\\n', 'List of Kamala Harris 2020 presidential campaign endorsements\\n', 'List of Kamen Rider Zero-One characters\\n', 'List of Kamen Rider Zi-O characters\\n', 'List of LGBTQ people from New York City\\n', 'List of Lassie episodes\\n', 'List of Major League Baseball home run records\\n', \"List of Man'yōshū poets\\n\", 'List of March for Our Lives locations\\n', 'List of Marvel Cinematic Universe films\\n', 'List of Marvel Comics superhero debuts\\n', 'List of Mexican football transfers summer 2017\\n', 'List of Mexican football transfers winter 2018–19\\n', 'List of National Democratic Alliance candidates in the 2019 Indian general election\\n', 'List of Netflix original programming\\n', 'List of New Deal sculpture\\n', 'List of New Testament minuscules (1–1000)\\n', 'List of Nintendo Switch games (A-L)\\n', 'List of Nintendo Switch games (A–L)\\n', 'List of Nobel laureates by university affiliation\\n', 'List of Oggy and the Cockroaches episodes\\n', 'List of P600 mountains in the British Isles\\n', 'List of Pakistan Super League records and statistics\\n', 'List of Pakistani family names\\n', 'List of Paris Saint-Germain F.C. players\\n', 'List of Peppa Pig characters\\n', 'List of Pokémon theme songs\\n', 'List of Primetime Emmy Awards received by Netflix\\n', 'List of Produce 101 Japan contestants\\n', 'List of Produce 101 contestants (season 2)\\n', 'List of Produce 48 contestants\\n', 'List of Produce X 101 contestants\\n', 'List of Qualcomm Snapdragon systems-on-chip\\n', 'List of Ragas in Hindustani classical music\\n', 'List of Republicans who opposed the 2016 Donald Trump presidential campaign\\n', 'List of Romanian football transfers summer 2017\\n', 'List of Romanian football transfers summer 2018\\n', 'List of Romanian football transfers summer 2019\\n', 'List of Romanian football transfers winter 2017–18\\n', 'List of Romanian football transfers winter 2018–19\\n', 'List of Royal Navy admirals (1707–current)\\n', 'List of Russian football transfers summer 2017\\n', 'List of Russian football transfers summer 2018\\n', 'List of Russian football transfers summer 2019\\n', 'List of Russian football transfers winter 2016–17\\n', 'List of Serbian football transfers summer 2017\\n', 'List of Serbian football transfers summer 2018\\n', 'List of Serbian football transfers winter 2016–17\\n', 'List of Serbian football transfers winter 2017–18\\n', 'List of Serbian football transfers winter 2018–19\\n', 'List of South Korean actresses\\n', 'List of South Korean dramas\\n', 'List of South Korean male actors\\n', 'List of Steven Universe episodes\\n', 'List of Stranger Things characters\\n', 'List of Tamil films of 2019\\n', 'List of The Loud House episodes\\n', 'List of The X Factor finalists (British series 13)\\n', 'List of The Young and the Restless characters\\n', 'List of Thomas & Friends railway engines\\n', 'List of Tiger Mask W characters\\n', 'List of Transformers film series characters\\n', 'List of UFC records\\n', 'List of UTC time offsets\\n', 'List of Ukrainian football transfers summer 2019\\n', 'List of United States presidential firsts\\n', 'List of United States records in masters athletics\\n', 'List of United States tornadoes in April 2019\\n', 'List of Vanderbilt University people\\n', 'List of White Pass and Yukon Route locomotives and cars\\n', 'List of Youth Olympic venues\\n', 'List of accolades received by Netflix\\n', 'List of accolades received by The Irishman\\n', 'List of adventure films of the 1950s\\n', 'List of adventure films of the 1960s\\n', 'List of adventure films of the 2000s\\n', 'List of adventure films of the 2010s\\n', 'List of aircraft of the Royal Australian Air Force\\n', 'List of ants of Australia\\n', 'List of appearances of Bob Grant on stage and screen\\n', 'List of awards and nominations received by Aishwarya Rai\\n', 'List of awards and nominations received by Britney Spears\\n', 'List of awards and nominations received by Dua Lipa\\n', 'List of awards and nominations received by Michael Jackson\\n', 'List of awards and nominations received by Shah Rukh Khan\\n', 'List of best-selling girl groups\\n', 'List of birds of Iran\\n', 'List of box office records set by Avatar\\n', 'List of bus routes in Singapore\\n', 'List of candidates in the 2018 Malaysian general election\\n', 'List of chorale harmonisations by Johann Sebastian Bach\\n', 'List of collectible card games\\n', 'List of colors (compact)\\n', 'List of combat vehicles of World War I\\n', 'List of companies listed on the Singapore Exchange\\n', 'List of compositions by Franz Schubert\\n', 'List of confectionery brands\\n', 'List of conspiracy theories\\n', 'List of contemporary ethnic groups\\n', 'List of countries by Nobel laureates per capita\\n', 'List of coupled cousins\\n', 'List of cover versions of Led Zeppelin songs\\n', 'List of cult video games\\n', 'List of current GMA Network talents\\n', 'List of current UFC fighters\\n', 'List of current United States district judges\\n', 'List of current boxing rankings\\n', 'List of current champions in WWE\\n', 'List of dances\\n', 'List of deaths due to COVID-19\\n', 'List of deaths from drug overdose and intoxication\\n', 'List of deaths in rock and roll\\n', 'List of defunct airlines of the United States\\n', 'List of dignitaries at the memorial service of Nelson Mandela\\n', 'List of earthquakes in 2016\\n', 'List of earthquakes in 2017\\n', 'List of earthquakes in 2018\\n', 'List of equipment of the Norwegian Army\\n', 'List of equipment of the Royal Thai Army\\n', 'List of events affected by the COVID-19 pandemic\\n', 'List of events at Madison Square Garden\\n', 'List of faculty and alumni of the Académie Julian\\n', 'List of federal agencies in the United States\\n', 'List of female dancers\\n', 'List of female poets\\n', 'List of fiction set in Chicago\\n', 'List of fictional gangs\\n', 'List of films: J–K\\n', 'List of films: N–O\\n', 'List of films: U–W\\n', 'List of films broadcast by Horror Channel\\n', 'List of films condemned by the Legion of Decency\\n', 'List of films featuring extraterrestrials\\n', 'List of football clubs in Peru\\n', 'List of footballers with 500 or more goals\\n', 'List of foreign football players in India\\n', 'List of goddesses\\n', 'List of hentai anime\\n', 'List of high-speed railway lines\\n', 'List of highest-grossing Indian films\\n', 'List of highest-grossing Pakistani films\\n', 'List of highest-grossing films\\n', 'List of highest-grossing media franchises\\n', 'List of hospitals in Quebec\\n', 'List of incidents of xenophobia and racism related to the COVID-19 pandemic\\n', 'List of islands of Italy\\n', 'List of major crimes in Singapore (2000–present)\\n', 'List of male K-pop artists\\n', 'List of manga published by Kodansha\\n', 'List of members of the 15th National Assembly of Pakistan\\n', 'List of members of the 17th Lok Sabha\\n', 'List of members of the United States House of Representatives who served a single term\\n', 'List of minor DC Comics characters\\n', 'List of monuments and memorials removed during the George Floyd protests\\n', 'List of most-disliked YouTube videos\\n', 'List of most-liked Instagram posts\\n', 'List of most-liked YouTube videos\\n', 'List of most-subscribed YouTube channels\\n', 'List of most-viewed YouTube videos\\n', 'List of most-viewed online videos in the first 24 hours\\n', 'List of most expensive association football transfers\\n', 'List of moths of Sri Lanka\\n', 'List of mythological objects (Hindu mythology)\\n', 'List of name changes due to the George Floyd protests\\n', 'List of national capitals serving as administrative divisions\\n', 'List of newspapers in North Carolina\\n', 'List of non-fiction writers\\n', 'List of notable surviving veterans of World War II\\n', 'List of offenders scheduled to be executed in the United States\\n', 'List of paratrooper forces\\n', 'List of people and organisations named in the Paradise Papers\\n', 'List of people declared venerable by Pope John Paul II\\n', 'List of people who disappeared mysteriously\\n', 'List of performances on Top of the Pops\\n', 'List of plays adapted into feature films\\n', 'List of power stations in California\\n', 'List of primates\\n', 'List of professional sports leagues\\n', 'List of programs aired by GMA Network\\n', 'List of programs broadcast by Colors\\n', 'List of programs broadcast by Jeepney TV\\n', 'List of programs broadcast by TV Land\\n', 'List of programs broadcast by Universal Kids\\n', 'List of public art in Copenhagen\\n', 'List of racing video games\\n', 'List of radio stations owned by iHeartMedia\\n', 'List of recipients of the Order of Industrial Heroism\\n', 'List of recordings by Judy Garland\\n', 'List of road routes in Tasmania\\n', 'List of rock music performers\\n', 'List of school shootings in the United States\\n', 'List of settlements in Leicestershire by population\\n', 'List of ships built by Fincantieri\\n', 'List of shipwrecks in 1836\\n', 'List of shipwrecks in 1837\\n', 'List of shipwrecks in 1839\\n', 'List of shipwrecks in 1840\\n', 'List of shipwrecks in 1841\\n', 'List of shipwrecks in 1842\\n', 'List of shipwrecks in 1843\\n', 'List of shipwrecks in 1898\\n', 'List of shipwrecks in 1904\\n', 'List of shipwrecks in 1905\\n', 'List of shipwrecks in 1906\\n', 'List of shipwrecks in 1907\\n', 'List of shipwrecks in 1908\\n', 'List of shipwrecks in 1909\\n', 'List of shopping malls in India\\n', 'List of songs recorded by Dolly Parton\\n', 'List of sources for the Crusades\\n', 'List of state highways in Iowa\\n', 'List of submissions to the 89th Academy Awards for Best Foreign Language Film\\n', 'List of superhero television series\\n', 'List of synagogues in Hungary\\n', 'List of terrorist incidents in April 2017\\n', 'List of terrorist incidents in April 2018\\n', 'List of terrorist incidents in August 2016\\n', 'List of terrorist incidents in August 2017\\n', 'List of terrorist incidents in December 2016\\n', 'List of terrorist incidents in December 2017\\n', 'List of terrorist incidents in December 2018\\n', 'List of terrorist incidents in February 2017\\n', 'List of terrorist incidents in February 2018\\n', 'List of terrorist incidents in February 2019\\n', 'List of terrorist incidents in January 2017\\n', 'List of terrorist incidents in January 2018\\n', 'List of terrorist incidents in January 2019\\n', 'List of terrorist incidents in July 2017\\n', 'List of terrorist incidents in July 2018\\n', 'List of terrorist incidents in June 2017\\n', 'List of terrorist incidents in June 2018\\n', 'List of terrorist incidents in March 2017\\n', 'List of terrorist incidents in March 2018\\n', 'List of terrorist incidents in March 2019\\n', 'List of terrorist incidents in May 2017\\n', 'List of terrorist incidents in May 2018\\n', 'List of terrorist incidents in May 2019\\n', 'List of terrorist incidents in November 2016\\n', 'List of terrorist incidents in November 2018\\n', 'List of terrorist incidents in October 2016\\n', 'List of terrorist incidents in October 2017\\n', 'List of terrorist incidents in October 2018\\n', 'List of terrorist incidents in September 2016\\n', 'List of terrorist incidents in September 2017\\n', 'List of terrorist incidents in September 2018\\n', 'List of the Cenozoic life of Washington (state)\\n', 'List of the busiest airports in Europe\\n', 'List of theoretical physicists\\n', 'List of township-level divisions of Hunan\\n', 'List of train surfing injuries and deaths\\n', 'List of tunnels in the United States\\n', 'List of universities in Greece\\n', 'List of unsuccessful major party candidates for President of the United States\\n', 'List of video game franchises\\n', 'List of video game publishers\\n', 'List of video games considered the best\\n', 'List of video games with LGBT characters\\n', 'List of women classical pianists\\n', 'List of works about Baruch Spinoza\\n', 'List of works about Rembrandt\\n', 'List of works by Sharaku\\n', 'List of works produced by Hanna-Barbera Productions\\n', 'List of years in Norwegian music\\n', 'List of years in film\\n', 'List of years in jazz\\n', 'Lists of African Americans\\n', 'Lists of Albanians\\n', 'Lists of law clerks of the Supreme Court of the United States\\n', 'Lists of mountains and hills in the British Isles\\n', 'Lists of mountains in Ireland\\n', 'Little Richard\\n', 'Little Women (2019 film)\\n', 'Liu Xiaobo\\n', 'Logan (film)\\n', 'Logan Paul\\n', 'Lonnie Mack\\n', 'Look What You Made Me Do\\n', 'Lost in Space (2018 TV series)\\n', 'Louie Louie discography\\n', 'Louis XV\\n', 'Lourett Russell Grant\\n', '\"Love, Simon\"\\n', '\"Love Island (2015 TV series, series 5)\"\\n', 'Love Island (American TV series)\\n', 'Love Thy Woman\\n', 'Lover (album)\\n', 'Lucy Heartfilia\\n', 'Ludwig Hahn\\n', 'Luka Dončić\\n', 'Luka Modrić\\n', 'Luke Cage (TV series)\\n', 'Luke Perry\\n', 'Lumumba Government\\n', 'Luxembourg national rugby union team\\n', 'Lyra McKee\\n', 'M.S. Dhoni: The Untold Story\\n', 'M60 tank\\n', 'MLS is Back Tournament\\n', 'MTA Regional Bus Operations bus fleet\\n', 'Macedonia (ancient kingdom)\\n', 'Madame Tussauds\\n', 'Madame X (album)\\n', 'Madeline (video game series)\\n', 'Madhubala\\n', 'Madhya Pradesh Legislative Assembly\\n', 'Mae Young Classic (2017)\\n', 'Maharlika Pilipinas Basketball League\\n', 'Malakia\\n', 'Malappuram district\\n', 'Malaysia at the 2017 Southeast Asian Games\\n', 'Malaysia at the 2018 Asian Games\\n', 'Malaysia at the 2018 Commonwealth Games\\n', 'Malaysia at the 2019 Southeast Asian Games\\n', 'Malaysia national football team\\n', 'Maleficent: Mistress of Evil\\n', 'Malleus Maleficarum\\n', 'Mamma Mia! Here We Go Again\\n', 'Manchester Arena bombing\\n', 'Manchán of Mohill\\n', 'Mangalore\\n', 'Manikarnika: The Queen of Jhansi\\n', 'Manjari Fadnis\\n', 'Mannequin Challenge\\n', 'Map of the Soul: Persona\\n', 'March 2017 North American blizzard\\n', 'March for Our Lives\\n', 'March for Science\\n', 'Marine life\\n', 'Mark E. Smith\\n', 'Mark Judge (writer)\\n', \"Marquette Golden Eagles men's basketball\\n\", 'Marsha P. Johnson\\n', 'Mary Poppins Returns\\n', 'Mary Tyler Moore\\n', 'Mass Effect: Andromeda\\n', 'MasterChef Australia (series 10)\\n', 'MasterChef Australia (series 11)\\n', 'MasterChef Australia (series 12)\\n', 'MasterChef Australia (series 9)\\n', 'Master (2020 film)\\n', 'Masters of the Universe\\n', 'Matese Legion\\n', 'Matt Hardy\\n', 'Matthew Whitaker\\n', 'Matuschka\\n', 'Me!\\n', 'Me Too movement\\n', 'Media coverage of Bernie Sanders\\n', 'Meditation\\n', 'Medumba language\\n', 'Megavitamin-B6 syndrome\\n', '\"Meghan, Duchess of Sussex\"\\n', 'Megxit\\n', 'Melancholie der Engel\\n', 'Melon Music Awards\\n', 'Meltdown (security vulnerability)\\n', 'Members of the 33rd Dáil\\n', 'Men in Black: International\\n', 'Meng Wanzhou\\n', 'Mersal (film)\\n', 'Methicillin-resistant Staphylococcus aureus\\n', 'Michael Bloomberg\\n', 'Michael Jackson\\n', 'Midland–Odessa shooting\\n', 'Midsommar (film)\\n', 'Mike Gruntman\\n', 'Military of the Han dynasty\\n', 'Millbrook A.F.C.\\n', 'Milo Yiannopoulos\\n', 'Minuta slavy\\n', 'Mir Sayyid Ali Hamadani\\n', 'Miscarriage\\n', 'Misinformation related to the COVID-19 pandemic\\n', 'Miss Earth 2016\\n', 'Miss Earth 2017\\n', 'Miss Earth 2018\\n', 'Miss Earth 2019\\n', 'Miss International 2018\\n', 'Miss International 2019\\n', \"Miss Peregrine's Home for Peculiar Children (film)\\n\", 'Miss Universe 2016\\n', 'Miss Universe 2017\\n', 'Miss Universe 2018\\n', 'Miss Universe 2019\\n', 'Miss World 2016\\n', 'Miss World 2017\\n', 'Miss World 2018\\n', 'Miss World 2019\\n', 'Miss World 2021\\n', 'Mission: Impossible – Fallout\\n', 'Mister Iks\\n', 'Mister World 2019\\n', 'Moana (2016 film)\\n', 'Mobile phone based sensing software\\n', 'Mohamed Seghir Boushaki\\n', 'Mohammad Abdullah (academic)\\n', 'Mohammed Al Shanfari\\n', 'Mohun Bagan A.C.\\n', 'Moldovan resistance during World War II\\n', 'Money in the Bank (2017)\\n', 'Money in the Bank (2018)\\n', 'Money in the Bank (2020)\\n', \"Mongolia's Next Top Model (season 2)\\n\", 'Monster Truck Madness\\n', 'Monstercat\\n', 'Moon Jae-in\\n', 'Moon Lovers: Scarlet Heart Ryeo\\n', 'Moonlight (2016 film)\\n', 'More Life\\n', 'Mother!\\n', 'Mueller Report\\n', 'Multan\\n', 'Multilateration\\n', 'Murder of Joey Fischer\\n', 'Murder of Mark Kilroy\\n', 'Murder of Seth Rich\\n', 'Murder of Sylvia Likens\\n', 'Murder on the Orient Express (2017 film)\\n', 'Murray Football League\\n', 'Music to Be Murdered By\\n', 'Mutya ng Pilipinas\\n', 'Muzon National High School\\n', 'My Kitchen Rules (series 10)\\n', 'My Kitchen Rules (series 11)\\n', 'My Kitchen Rules (series 8)\\n', 'My Kitchen Rules (series 9)\\n', 'My Little Pony: The Movie (2017 film)\\n', 'Myron Ebell\\n', 'Mysticons\\n', 'Myth of the clean Wehrmacht\\n', 'N. Chandrababu Naidu\\n', 'NEC V60\\n', 'NXT TakeOver: Toronto (2016)\\n', 'NXT TakeOver: WarGames (2019)\\n', 'Nach Baliye\\n', 'Nagpuri people\\n', 'Nakhon Ratchasima shootings\\n', 'Nancy Pelosi\\n', 'Naomi Osaka\\n', 'Nasir (album)\\n', 'Nathan Phillips (activist)\\n', 'Natina Reed\\n', 'National Emergency Concerning the Southern Border of the United States\\n', 'National Museum of Brazil fire\\n', 'National Radio Institute\\n', 'National day of mourning\\n', 'Nationwide opinion polling for the 2016 United States presidential election\\n', 'Nationwide opinion polling for the 2020 Democratic Party presidential primaries\\n', 'Natus Vincere\\n', 'Naval Air Station Pensacola shooting\\n', 'Naval Mobile Construction Battalion 11\\n', 'Naya Rivera\\n', 'Neferirkare Kakai\\n', 'Neil Gorsuch\\n', 'Netherlands at the 2016 Summer Olympics\\n', 'Netherlands at the 2018 Winter Olympics\\n', 'New Zealand Company ships\\n', 'New Zealand at the 2016 Summer Olympics\\n', 'New Zealand at the 2018 Commonwealth Games\\n', 'Newcastle & Hunter Rugby League\\n', 'Newspaper endorsements in the 2016 United States presidential election\\n', 'Ngā Taonga Sound & Vision\\n', 'Nick Cordero\\n', 'Nights: Journey of Dreams\\n', 'Nineteenth Amendment to the United States Constitution\\n', 'Nintendo Switch\\n', 'Nipsey Hussle\\n', 'Nisi Mac Niata\\n', 'NiziU\\n', \"No Man's Sky\\n\", 'No Mercy (2016)\\n', 'No Mercy (2017)\\n', 'No Tears Left to Cry\\n', 'No Time to Die\\n', 'Norman Fucking Rockwell!\\n', 'North Macedonia\\n', 'Northern England\\n', 'Northern Rakhine State clashes\\n', 'Northern gannet\\n', 'Northwestern Syria campaign (October 2017–February 2018)\\n', 'Northwestern Syria offensive (April–August 2019)\\n', 'Northwestern Syria offensive (December 2019–March 2020)\\n', 'Norway at the 2018 Winter Olympics\\n', 'Notre-Dame de Paris\\n', 'Notre-Dame de Paris fire\\n', 'Novichok agent\\n', 'Nuclear power\\n', 'Nudity\\n', 'Numberblocks\\n', 'Nunes memo\\n', 'Nursultan Nazarbayev International Airport\\n', \"O'Hare International Airport\\n\", \"Ocean's 8\\n\", 'October 2017 Northern California wildfires\\n', 'October 2018 United States mail bombing attempts\\n', \"Officers' Training Corps\\n\", 'Offshoots of Operation Car Wash\\n', 'Offshore financial centre\\n', 'Ohio State University attack\\n', 'Old Norse religion\\n', 'Old Town Road\\n', 'Olympic Athletes from Russia at the 2018 Winter Olympics\\n', 'Om Puri\\n', 'Omar Khadr\\n', 'Once Upon a Time in Hollywood\\n', 'OnePlus Nord\\n', 'One Love Manchester\\n', 'One More Light\\n', \"Open Era tennis records – men's singles\\n\", 'Operation Euphrates Shield\\n', 'Operation Gideon (2020)\\n', 'Operation Martyr Soleimani\\n', 'Operation Olive Branch\\n', 'Operation Steinbock\\n', 'Opinion polling for the 2017 French presidential election\\n', 'Opinion polling for the 2017 United Kingdom general election\\n', 'Opinion polling for the 2019 Indian general election\\n', 'Opinion polling for the 2019 United Kingdom general election\\n', 'Oral and maxillofacial surgery\\n', 'Origins of Christianity\\n', 'Orshi Drozdik\\n', 'Orson Welles radio credits\\n', 'Oscar C. Pfaus\\n', 'Otaibah\\n', 'Otto Warmbier\\n', 'Our Lady of Pompeii Church (Manhattan)\\n', 'Outline of marketing\\n', 'Outline of underwater diving\\n', 'P. V. Sindhu\\n', 'PAOK FC\\n', 'Padmaavat\\n', 'Paediatric multisystem inflammatory syndrome\\n', 'Pakistan Army\\n', 'Pakistan International Airlines Flight 661\\n', 'Pakistan International Airlines Flight 8303\\n', 'Pakistan Navy\\n', 'Palace of Versailles\\n', 'Palm Sunday church bombings\\n', 'Palmyra\\n', 'Palmyra offensive (December 2016)\\n', 'Panathinaikos B.C.\\n', 'Paradise Lost (TV series)\\n', 'Paradise Papers\\n', 'Parasite (2019 film)\\n', 'Paris Hilton\\n', 'Paris Saint-Germain F.C. supporters\\n', 'Parsons Green train bombing\\n', 'Passengers (2016 film)\\n', 'Pat Metheny\\n', 'Pat Metheny discography\\n', 'Patriot Prayer\\n', 'Patrol torpedo boat PT-109\\n', 'Patrol torpedo boat PT-59\\n', 'Paul Allen\\n', 'Payback (2017)\\n', 'Pedal steel guitar\\n', 'Peerage of the United Kingdom\\n', \"People's Party of Canada\\n\", 'Perak\\n', 'Perfect (Ed Sheeran song)\\n', 'Perfect Illusion\\n', 'Perpetual virginity of Mary\\n', 'Persib Bandung\\n', 'Persija Jakarta\\n', 'Peshawar\\n', 'Pete Buttigieg\\n', 'Peter Strzok\\n', 'PewDiePie vs T-Series\\n', 'Philippine Drug War\\n', 'Philippine mythology\\n', \"Philippines' Next Top Model (season 2)\\n\", 'Philippines at the 2017 Southeast Asian Games\\n', 'Philippines at the 2018 Asian Games\\n', 'Philippines at the 2019 Southeast Asian Games\\n', 'Phoenix Point\\n', 'Pierre Nkurunziza\\n', 'Pilot (television episode)\\n', 'Pinoy Big Brother: Lucky 7\\n', 'Pinoy Big Brother: Otso\\n', 'Pirates of the Caribbean: Dead Men Tell No Tales\\n', 'Pittsburgh synagogue shooting\\n', 'Pizzagate conspiracy theory\\n', 'Planet Nine\\n', 'Plants of the Reserva de la Biosfera Manantlan\\n', 'Plum Grove Junior High School\\n', 'Poisoning of Sergei and Yulia Skripal\\n', 'Pokémon Sword and Shield\\n', 'Poland at the 2016 Summer Olympics\\n', 'Poles in the United Kingdom\\n', 'Political appointments by Donald Trump\\n', 'Political positions of the 2020 Democratic Party presidential primary candidates\\n', 'Ponte Morandi\\n', 'Pop Warner\\n', 'Portsmouth\\n', 'Portsmouth F.C.\\n', 'Post-classical history\\n', 'Postage stamps and postal history of the Canal Zone\\n', 'Poway synagogue shooting\\n', 'PowerAnimator\\n', 'Power Rangers (film)\\n', 'Praying (song)\\n', 'Predation\\n', 'Pregabalin\\n', 'Pregnancy in art\\n', 'Presidential transition of Donald Trump\\n', '\"Prince Harry, Duke of Sussex\"\\n', 'Prince Louis of Cambridge\\n', 'Private biometrics\\n', 'Prodigy (rapper)\\n', 'Produce 101 (season 2)\\n', 'Prosper Mérimée\\n', 'Protests against Donald Trump\\n', 'Protests over responses to the COVID-19 pandemic\\n', 'Proxima Centauri b\\n', 'Puss in Boots (Shrek)\\n', 'Put on the green jersey\\n', 'Pyramid of Unas\\n', 'Q School 2017 – Event 1\\n', 'Q School 2018 – Event 1\\n', 'Q School 2018 – Event 2\\n', 'Q School 2018 – Event 3\\n', 'Q School 2019 – Event 1\\n', 'Q School 2019 – Event 2\\n', 'Qasem Soleimani\\n', 'Qatar diplomatic crisis\\n', 'Quebec City mosque shooting\\n', 'Queen (Nicki Minaj album)\\n', 'Race 3\\n', 'Rachel Riley\\n', 'Racial views of Donald Trump\\n', 'Radio Academy Awards\\n', 'Rahaf Mohammed\\n', 'Rahul Sipligunj\\n', 'Rain on Me (Lady Gaga and Ariana Grande song)\\n', 'Ralph Breaks the Internet\\n', 'Ralph Northam\\n', 'Ralphie May\\n', 'Ram Nath Kovind\\n', 'Rambo: Last Blood\\n', 'Rambo (franchise)\\n', 'Ramesses VI\\n', 'Rami Malek\\n', 'Ramkrishna Mukherjee\\n', 'Rampage (2018 film)\\n', 'Rangasthalam\\n', 'Raqqa campaign (2016–2017)\\n', 'Raw Air 2017\\n', 'Raëlism\\n', 'Reactions to the Manchester Arena bombing\\n', 'Reactions to the poisoning of Sergei and Yulia Skripal\\n', 'Ready Player One (film)\\n', 'Red Dead Redemption 2\\n', 'Red imported fire ant\\n', 'Reiwa\\n', 'Reliance Entertainment\\n', 'Religious views of Adolf Hitler\\n', 'Removal of Confederate monuments and memorials\\n', 'Reputation (Taylor Swift album)\\n', 'Resident Evil 7: Biohazard\\n', 'Results of the 2016 United Kingdom European Union membership referendum\\n', 'Results of the 2018 Malaysian general election by parliamentary constituency\\n', 'Results of the 2018 Malaysian state elections by constituency\\n', 'Results of the 2019 Canadian federal election by riding\\n', 'Results of the 2019 European Parliament election in the United Kingdom\\n', 'Results of the 2019 Indian general election\\n', 'Results of the 2019 United Kingdom general election\\n', 'Results of the 2020 Democratic Party presidential primaries\\n', 'Resurrection of Jesus\\n', 'Revival (Eminem album)\\n', 'Revocation of the special status of Jammu and Kashmir\\n', 'Rex Tillerson\\n', 'Reynhard Sinaga\\n', 'Rif Dimashq offensive (February–April 2018)\\n', 'Rishi Kapoor\\n', 'Rising Star (Indian season 2)\\n', 'Rising Star Indonesia (season 2)\\n', 'Roadblock: End of the Line\\n', 'Rob Gronkowski\\n', 'Rob Porter\\n', 'Robert Coles (settler)\\n', 'Robert Mugabe\\n', 'Robert Oke\\n', 'Rocketman (film)\\n', 'Roger Federer\\n', 'Roger Moore\\n', 'Rogue One\\n', 'Rohingya people\\n', 'Rohit Sharma\\n', 'Roman diocese\\n', 'Romance (Camila Cabello album)\\n', 'Romanesque architecture in France\\n', 'Roseanne\\n', '\"Rostami, Bushehr\"\\n', 'Roy Moore\\n', 'Roy Moore sexual misconduct allegations\\n', '\"Royal Navy Burying Ground (Halifax, Nova Scotia)\"\\n', 'Royal Rumble (2017)\\n', 'Royal Rumble (2018)\\n', 'Royal Rumble (2019)\\n', 'Royal Rumble (2020)\\n', 'Royal Thai Navy\\n', \"RuPaul's Drag Race (season 10)\\n\", \"RuPaul's Drag Race (season 11)\\n\", \"RuPaul's Drag Race (season 12)\\n\", \"RuPaul's Drag Race (season 9)\\n\", \"RuPaul's Drag Race All Stars (season 2)\\n\", \"RuPaul's Drag Race All Stars (season 3)\\n\", \"RuPaul's Drag Race All Stars (season 4)\\n\", \"RuPaul's Drag Race All Stars (season 5)\\n\", \"RuPaul's Drag Race UK (series 1)\\n\", 'Russia at the 2016 Summer Olympics\\n', 'Russia at the 2018 Summer Youth Olympics\\n', 'Russia at the 2019 European Games\\n', 'Russia at the 2019 Summer Universiade\\n', 'Russian interference in the 2016 United States elections\\n', 'Rustom (film)\\n', 'Ryan Lochte\\n', 'SEIU Healthcare\\n', 'SK Slavia Prague\\n', 'SNC-Lavalin affair\\n', 'SS Canastota\\n', 'SS Clifton\\n', 'STEM School Highlands Ranch shooting\\n', 'Saaho\\n', 'Sacred Games (TV series)\\n', 'Safecracker (video game)\\n', \"Saint Fin Barre's Cathedral\\n\", 'Sally Yates\\n', 'Salvator Mundi (Leonardo)\\n', 'Sam Snead\\n', 'Samsung Galaxy Note 7\\n', 'Sanchi\\n', 'Sanju\\n', 'Santa Fe High School shooting\\n', '\"Santi Pietro e Paolo, Brebbia\"\\n', 'Saoirse Ronan\\n', 'Sarah Bernhardt\\n', 'Saratov Airlines Flight 703\\n', 'Sarileru Neekevvaru\\n', 'Sasha Grey\\n', 'Sasuke Uchiha\\n', 'Sasural Simar Ka\\n', 'Satan\\n', 'Saturn Bomberman Fight!!\\n', 'Saugus High School shooting\\n', 'Sausage Party\\n', 'Say So (Doja Cat song)\\n', 'Scarlett Johansson\\n', 'Schiaparelli EDM\\n', 'Schizophrenia\\n', 'Schoharie limousine crash\\n', 'School of Philosophy and Economic Science\\n', 'School strike for climate\\n', 'Schweinfurt\\n', 'Scorpion (Drake album)\\n', 'Sean Spicer\\n', 'Seasonal affective disorder\\n', 'Sebastian Gorka\\n', 'Second Amendment sanctuary\\n', 'Secret Story: Desafio Final 4\\n', 'Secret Superstar\\n', 'Seifollah Kambakhshfard\\n', 'Selective norepinephrine reuptake inhibitor\\n', 'Selena Gomez\\n', 'Sentinelese\\n', 'Seoul Music Awards\\n', 'September 2019 Israeli legislative election\\n', 'September 2019 climate strikes\\n', 'Sergei Skripal\\n', 'Sergio García\\n', 'Seth Ledyard Phelps\\n', 'Severe acute respiratory syndrome coronavirus 2\\n', 'Sex Education (TV series)\\n', 'Sex and Candy\\n', 'Sexual Desire (book)\\n', 'Seán Gallagher\\n', \"Sgt. Pepper's Lonely Hearts Club Band\\n\", 'Shahid Khaqan Abbasi\\n', 'Shallow (Lady Gaga and Bradley Cooper song)\\n', 'Shanghai\\n', 'Sharon Pincott\\n', 'Sharon Stocker\\n', 'Shazam! (film)\\n', 'Shelly-Ann Fraser-Pryce\\n', 'Shimmer Volumes\\n', 'Shimon Peres\\n', 'Shinto\\n', 'Shiv Dayal Singh\\n', 'Shivakumara Swami\\n', '\"Shoot for the Stars, Aim for the Moon\"\\n', 'Shooting of Breonna Taylor\\n', 'Shooting of Colten Boushie\\n', 'Shooting of James Boyd\\n', 'Shooting of Keith Lamont Scott\\n', 'Shooting of Robert Godwin\\n', 'Shootings of Alfred and Rosemary Podgis\\n', 'Show Me the Money 8\\n', 'Si3 (film)\\n', 'Sicilian Baroque\\n', 'Sidney Hill\\n', 'Siegfried & Roy\\n', 'Silsila Badalte Rishton Ka\\n', 'Simmba\\n', 'Simone Biles\\n', 'Singapore at the 2019 Southeast Asian Games\\n', 'Sinking of MV Conception\\n', 'Sino-Roman relations\\n', '\"Sir Frederick Fletcher-Vane, 2nd Baronet\"\\n', 'Sissinghurst Castle Garden\\n', '\"Six Sonatas for Violin and Harpsichord, BWV 1014–1019\"\\n', 'Ski jumping\\n', 'Skin Wars\\n', 'SkyWay Group\\n', 'Skyscraper (2018 film)\\n', 'Slave labor on United States military installations 1799–1863\\n', 'Slavic Native Faith\\n', 'Slide guitar\\n', 'Slobodan Praljak\\n', 'Smile (Katy Perry album)\\n', 'Snatch Game\\n', 'Snooker world ranking points 2016/2017\\n', 'Snooker world ranking points 2017/2018\\n', 'Snooker world ranking points 2018/2019\\n', 'Social Mobility Commission\\n', 'Social distancing\\n', 'Social impact of the COVID-19 pandemic\\n', 'Sogdia\\n', '\"Solar eclipse of August 21, 2017\"\\n', 'Solo: A Star Wars Story\\n', 'Sonic Mania\\n', 'Sonic the Hedgehog (film)\\n', 'South Korea at the 2018 Winter Olympics\\n', 'Southwest Airlines Flight 1380\\n', 'Soyuz MS-10\\n', 'Spain at the 2016 Summer Olympics\\n', 'Spain at the 2018 Mediterranean Games\\n', 'Spanish conquest of Honduras\\n', 'Special Counsel investigation (2017–2019)\\n', 'Spectre (security vulnerability)\\n', 'Spider-Man: Far From Home\\n', 'Spider-Man: Homecoming\\n', 'Spider-Man: Into the Spider-Verse\\n', 'Spider-Man (2018 video game)\\n', 'Spiro Agnew\\n', 'Split (2016 American film)\\n', 'Sport in Montenegro\\n', 'Spyfall (Doctor Who)\\n', 'Squat Theatre\\n', 'Sridevi\\n', 'Ssshhhh...Koi Hai\\n', '\"St. Paul\\'s School, Darjeeling\"\\n', '\"St Bartholomew\\'s Church, Tong\"\\n', \"St Donat's Castle\\n\", 'Star Trek: Discovery\\n', 'Star Wars\\n', 'Star Wars: The Last Jedi\\n', 'Star Wars: The Rise of Skywalker\\n', 'Starboy (album)\\n', 'Stardust the Super Wizard\\n', 'Stargirl (TV series)\\n', 'State and UT Police Forces\\n', 'State collapse\\n', 'Statewide opinion polling for the 2016 United States presidential election\\n', 'Statue of Edward Colston\\n', 'Statue of Unity\\n', 'Steele dossier\\n', 'Stephen Hawking\\n', 'Stephen Hillenburg\\n', 'Stephen III of Moldavia\\n', 'Stephen Paddock\\n', 'Steve Bannon\\n', 'Steve Smith (cricketer)\\n', 'Stillman Pond\\n', 'Stirling\\n', 'Stone crosses in Cornwall\\n', 'Stoneman Douglas High School shooting\\n', 'Storm Area 51\\n', 'Storm Bay (British Columbia)\\n', 'Stranger Things\\n', 'Stranger Things (season 3)\\n', 'Stratego\\n', 'Stree (2018 film)\\n', 'Strictly Come Dancing (series 14)\\n', 'Strictly Come Dancing (series 15)\\n', 'Strictly Come Dancing (series 16)\\n', 'Strictly Come Dancing (series 17)\\n', 'Student of the Year 2\\n', 'Sturzkampfgeschwader 2\\n', 'Sturzkampfgeschwader 3\\n', 'Sub-national opinion polling for the April 2019 Spanish general election\\n', 'Suicide Squad (film)\\n', 'Sulli\\n', 'Sully (film)\\n', 'SummerSlam (2016)\\n', 'SummerSlam (2017)\\n', 'SummerSlam (2018)\\n', 'SummerSlam (2019)\\n', 'Summertime Ball\\n', 'Sungai Ruan\\n', 'Super Bowl LI\\n', 'Super Bowl LII\\n', 'Super Bowl LIII\\n', 'Super Bowl LIII halftime show\\n', 'Super Bowl LIV\\n', 'Super ShowDown (2019)\\n', 'Super ShowDown (2020)\\n', 'Superman\\n', 'Supermoon\\n', 'Supersymmetric theory of stochastic dynamics\\n', 'Supply management (Canada)\\n', 'Surabaya bombings\\n', 'Survey parties to the Northern Territory 1864–1870\\n', 'Survivor: Edge of Extinction\\n', 'Survivor: Game Changers\\n', 'Survivor: Ghost Island\\n', 'Survivor: Island of the Idols\\n', 'Survivor: Millennials vs. Gen X\\n', 'Survivor: Winners at War\\n', 'Survivor Series (2016)\\n', 'Survivor Series (2017)\\n', 'Survivor Series (2018)\\n', 'Survivor Series (2019)\\n', 'Susan Sweney\\n', 'Sushant Singh Rajput\\n', 'Sushma Swaraj\\n', 'Sutherland Springs church shooting\\n', 'Svatantrika–Prasaṅgika distinction\\n', 'Sven (Frozen)\\n', 'Sviatoshyn\\n', 'Sweden at the 2016 Summer Olympics\\n', 'Sweetener (album)\\n', 'Sye Raa Narasimha Reddy\\n', 'Sylhet Thunder\\n', 'Syriac Orthodox Church\\n', 'Syrian civil war\\n', 'Szlachta\\n', '\"TLC: Tables, Ladders & Chairs (2016)\"\\n', '\"TLC: Tables, Ladders & Chairs (2017)\"\\n', '\"TLC: Tables, Ladders & Chairs (2018)\"\\n', '\"TLC: Tables, Ladders & Chairs (2019)\"\\n', 'TRAPPIST-1\\n', 'Tablighi Jamaat\\n', 'Taboo (2017 TV series)\\n', 'Tamil inscriptions in Sri Lanka\\n', 'Tanhaji\\n', 'Taniec z Gwiazdami (season 19)\\n', 'Taniec z Gwiazdami (season 20)\\n', 'Taniec z Gwiazdami (season 21)\\n', 'Taniec z Gwiazdami (season 22)\\n', 'Taniec z Gwiazdami (season 23)\\n', 'Tapanuli orangutan\\n', 'Tasman Rugby Union\\n', 'Tawag ng Tanghalan: All-Star Grand Resbak\\n', 'Tawag ng Tanghalan (season 2)\\n', 'Tawag ng Tanghalan (season 3)\\n', 'Tax Cuts and Jobs Act of 2017\\n', 'Tax haven\\n', \"Taylor Swift's Reputation Stadium Tour\\n\", 'Technological Educational Institute of Central Greece\\n', 'Teen Titans Go! To the Movies\\n', '\"Teenage Mutant Ninja Turtles (2012 TV series, season 5)\"\\n', 'Tendency of the rate of profit to fall\\n', \"Tennis at the 2016 Summer Olympics – Women's singles\\n\", 'Terminator: Dark Fate\\n', 'Territorial Force\\n', 'Tha Carter V\\n', 'Thai literature\\n', 'Thailand at the 2016 Summer Paralympics\\n', 'Thailand at the 2018 Asian Games\\n', 'Tham Luang cave rescue\\n', '\"Thank U, Next (song)\"\\n', 'The Amazing Race 29\\n', 'The Amazing Race 30\\n', 'The Amazing Race 31\\n', 'The Amazing Race Australia 4\\n', 'The Amazing Race Canada 6\\n', 'The Angry Birds Movie 2\\n', 'The Apprentice (British series 12)\\n', 'The Bachelor (season 24)\\n', 'The Ballad of Buster Scruggs\\n', 'The Balme Library\\n', 'The Bells (Game of Thrones)\\n', 'The Bible and violence\\n', 'The Big Day (album)\\n', 'The Book of Giants\\n', 'The Carpenters\\n', 'The Challenge: Invasion of the Champions\\n', 'The Cloisters\\n', 'The Cloverfield Paradox\\n', 'The Crown (TV series)\\n', \"The Day Will Come When You Won't Be\\n\", 'The Face Men Thailand (season 1)\\n', 'The Face Thailand (season 3)\\n', 'The Fate of the Furious\\n', 'The Fight Within\\n', 'The Fosters (American TV series)\\n', 'The Foundations of Psychoanalysis\\n', 'The Grand Tour\\n', 'The Greatest Dancer\\n', 'The Greatest Showman\\n', 'The Grinch (film)\\n', 'The Holocaust\\n', 'The Horror Show at Extreme Rules\\n', 'The House of Flowers (TV series)\\n', 'The International 2018\\n', 'The International 2019\\n', 'The Irishman\\n', 'The Iron Throne (Game of Thrones)\\n', 'The Jam (comics)\\n', 'The King: Eternal Monarch\\n', 'The Last of Us Part II\\n', 'The Legend of Zelda: Breath of the Wild\\n', 'The Lego Batman Movie\\n', 'The Lego Movie 2: The Second Part\\n', 'The Lion King (2019 film)\\n', 'The Long Night (Game of Thrones)\\n', 'The Magnificent Seven (2016 film)\\n', 'The Mandalorian\\n', 'The Masked Singer (American TV series)\\n', 'The Masked Singer (American season 2)\\n', 'The Masked Singer (American season 3)\\n', 'The Masked Singer (Australian season 1)\\n', 'The Masked Singer (British TV series)\\n', 'The Meg\\n', 'The Mummy (2017 film)\\n', 'The New Celebrity Apprentice\\n', 'The New Edition Story\\n', 'The Nightly Show (British TV series)\\n', 'The Nun (2018 film)\\n', 'The Nutcracker and the Four Realms\\n', 'The Orville\\n', \"The President's Keepers\\n\", 'The Punisher (TV series)\\n', 'The Shape of Water\\n', 'The Shield (professional wrestling)\\n', 'The Stephanie Miller Show\\n', 'The Umbrella Academy (TV series)\\n', 'The Undertaker\\n', 'The View (talk show)\\n', 'The Voice (American season 11)\\n', 'The Voice (American season 12)\\n', 'The Voice (American season 13)\\n', 'The Voice (American season 14)\\n', 'The Voice (American season 15)\\n', 'The Voice (American season 16)\\n', 'The Voice (American season 17)\\n', 'The Voice (American season 18)\\n', 'The Voice (Australian season 8)\\n', 'The Voice Kids (British series 1)\\n', 'The Voice Kids (British series 2)\\n', 'The Voice UK (series 6)\\n', 'The Voice of Germany (season 9)\\n', 'The Walking Dead (season 9)\\n', 'The Witcher (TV series)\\n', 'The Woman Who Fell to Earth\\n', 'The Wrecking Crew (music)\\n', 'The X Factor: Celebrity\\n', 'The X Factor (British series 13)\\n', 'The X Factor (British series 14)\\n', 'The X Factor (British series 15)\\n', 'Thirty-sixth Amendment of the Constitution of Ireland\\n', 'This Is America (song)\\n', 'Thomas Cook Group\\n', 'Thomas F. Mulledy\\n', 'Thomas Fire\\n', 'Thomas P. Lowry\\n', 'Thomas Sanders (entertainer)\\n', 'Thor: Ragnarok\\n', 'Thornton Chase\\n', 'Thousand Oaks shooting\\n', '\"Three Billboards Outside Ebbing, Missouri\"\\n', 'Three Sisters (Oregon)\\n', 'Thrombosis prevention\\n', 'Thugs of Hindostan\\n', 'Tiger bone wine\\n', 'Tiki culture\\n', 'Timeline of European automobiles\\n', 'Timeline of North American automobiles\\n', 'Timeline of Philippine history\\n', 'Timeline of Russian interference in the 2016 United States elections\\n', 'Timeline of Welsh history\\n', 'Timeline of pterosaur research\\n', 'Timeline of the 2019–20 Hong Kong protests (June 2020)\\n', 'Timeline of the COVID-19 pandemic in April 2020\\n', 'Timeline of the COVID-19 pandemic in February 2020\\n', 'Timeline of the COVID-19 pandemic in India\\n', 'Timeline of the COVID-19 pandemic in January 2020\\n', 'Timeline of the COVID-19 pandemic in March 2020\\n', 'Timeline of the COVID-19 pandemic in May 2020\\n', 'Timeline of the COVID-19 pandemic in the United Kingdom\\n', 'Timeline of the Donald Trump presidency (2017 Q1)\\n', 'Timeline of the Ming dynasty\\n', 'Timeline of the Yuan dynasty\\n', 'Timeline of the gunpowder age\\n', 'Timeline of the war in Donbass (July–September 2016)\\n', 'Timeline of the war in Donbass (May–June 2019)\\n', 'Timeline of the war in Donbass (October–December 2016)\\n', 'Titans (2018 TV series)\\n', 'Toby Young\\n', 'Together at Home\\n', 'Tom Brady\\n', 'Tom Hyer\\n', 'Tom Petty\\n', 'Tomb Raider (film)\\n', 'Tommy Roberts (sports broadcaster)\\n', 'Tommy Robinson (activist)\\n', 'Tonya Harding\\n', 'Toon Boom Animation\\n', '\"Tornado outbreak of January 21–23, 2017\"\\n', '\"Tornado outbreak of March 2–3, 2020\"\\n', '\"Tornado outbreak of March 3, 2019\"\\n', 'Tornado outbreak sequence of May 2019\\n', 'Tornadoes of 2019\\n', 'Tornadoes of 2020\\n', 'Toronto Blessing\\n', 'Toronto Wolfpack records and statistics\\n', 'Toronto van attack\\n', 'Tottenham Hotspur Stadium\\n', 'Tourette syndrome\\n', 'TowIt\\n', 'Toy Story (franchise)\\n', 'Toy Story 4\\n', '\"Toys \"\"R\"\" Us\"\\n', 'Trans-Am Series\\n', 'Transformers: The Last Knight\\n', 'Travel restrictions related to the COVID-19 pandemic\\n', 'Travis Scott\\n', 'Trench (album)\\n', '\"Triple J Hottest 100, 2016\"\\n', '\"Triple J Hottest 100, 2019\"\\n', 'Trolls World Tour\\n', 'Tropical Storm Cristobal (2020)\\n', 'Tropical cyclones in 2018\\n', 'Tropical cyclones in 2019\\n', 'Tropical cyclones in 2020\\n', 'Trump Tower meeting\\n', 'Trump administration family separation policy\\n', 'Trump peace plan\\n', 'Trump–Ukraine scandal\\n', 'Tulsi Gabbard\\n', 'Turkey at the 2016 Summer Olympics\\n', 'Turks in Germany\\n', 'Twice Upon a Time (Doctor Who)\\n', 'Twin Peaks (season 3)\\n', 'Typhoon Mangkhut\\n', 'Từ hôm nay (Feel Like Ooh)\\n', 'U.S. Open Polo Championship\\n', 'U.S. presidential impeachment\\n', 'U.S. state and local government responses to the COVID-19 pandemic\\n', 'UAAP Season 79\\n', 'UEFA Euro 2020\\n', 'UFC 205\\n', 'UFC 217\\n', 'UFC 251\\n', 'UK Parliament petitions website\\n', 'UP–UST rivalry\\n', 'US-Bangla Airlines Flight 211\\n', 'USA Cross Country Championships\\n', 'USS Hobson (DD-464)\\n', 'US Airways Flight 1549\\n', 'Ukraine International Airlines Flight 752\\n', 'Ukraine at the 2016 Summer Olympics\\n', 'Ultrafast scanning electron microscopy\\n', 'Ulysses S. Grant\\n', 'Underworld Unleashed\\n', 'Unduk Ngadau\\n', 'Uniforms of the Italian Armed Forces\\n', 'Union Pacific 4014\\n', 'Unite the Right rally\\n', 'United Express Flight 3411 incident\\n', 'United Nations Security Council Resolution 2334\\n', 'United States Bullion Depository\\n', 'United States Climate Alliance\\n', 'United States at the 2016 Summer Olympics\\n', 'United States at the 2018 Winter Olympics\\n', 'United States at the 2019 Pan American Games\\n', \"United States men's national basketball team\\n\", 'United States recognition of Jerusalem as capital of Israel\\n', 'United States withdrawal from the Joint Comprehensive Plan of Action\\n', 'United States withdrawal from the Paris Agreement\\n', 'Universally unique identifier\\n', 'University of Ghana\\n', 'Upsilon Sigma Phi\\n', 'Urdu alphabet\\n', 'Uri: The Surgical Strike\\n', 'Ursula von der Leyen\\n', 'Us (2019 film)\\n', 'Utopia (Björk album)\\n', 'Utrecht tram shooting\\n', 'Uzbekistan at the 2016 Summer Olympics\\n', 'V. G. Siddhartha\\n', 'V. K. Sasikala\\n', 'V850\\n', 'Vagina\\n', 'Vajiralongkorn\\n', 'Valerian and the City of a Thousand Planets\\n', 'Value-form\\n', 'Vault 7\\n', 'Vedanta\\n', 'Veer-Zaara\\n', 'Venezuela Aid Live\\n', 'Venezuela at the 2019 Pan American Games\\n', 'Venezuelan presidential crisis\\n', 'Venom (2018 film)\\n', 'Ventnor\\n', 'Venu Madhav (actor)\\n', 'Verne Troyer\\n', 'Vevo\\n', 'Victims of Immigration Crime Engagement\\n', 'Victorian School of Forestry\\n', \"Vietnam's Next Top Model (season 8)\\n\", 'Vietnam War\\n', 'Vijay (actor)\\n', 'Villa Toeplitz (Varese)\\n', 'Vincent van Gogh\\n', 'Vinod Khanna\\n', 'Virginia Woolf\\n', 'Virtually Normal\\n', 'Visakhapatnam gas leak\\n', 'Volodymyr Zelensky\\n', 'WWE 24/7 Championship\\n', 'WWE 2K17\\n', 'WWE Championship\\n', 'WWE Evolution\\n', 'WWE Greatest Royal Rumble\\n', 'WWE Stomping Grounds\\n', 'WWE Universal Championship\\n', 'Walt Disney World Railroad\\n', 'WannaCry ransomware attack\\n', 'Wanna One\\n', 'War (2019 film)\\n', 'War for the Planet of the Apes\\n', 'War of 1812\\n', 'Wargame\\n', '\"Warhammer 40,000\"\\n', 'WarnerMedia\\n', '\"Was Gott tut, das ist wohlgetan\"\\n', 'Watch 1505\\n', 'Watchmen (TV series)\\n', \"Water polo at the 2017 World Aquatics Championships – Men's tournament\\n\", \"Water polo at the 2017 World Aquatics Championships – Women's tournament\\n\", 'Wedding of Prince Harry and Meghan Markle\\n', 'Weinstein effect\\n', 'Wesley Johnson (basketball)\\n', 'West Midlands Serious Crime Squad\\n', 'West Virginia High School Football State Championships and playoff history\\n', 'Western world\\n', 'Westworld (TV series)\\n', 'Wet market\\n', 'Whakaari / White Island\\n', 'Whataboutism\\n', 'White Pine Village\\n', 'White blood cell differential\\n', 'Wildcat\\n', 'Willesden Jewish Cemetery\\n', 'William Bowman (director)\\n', 'William Farrar (settler)\\n', 'William M. Branham\\n', 'William Nevin Tatlow Hurst\\n', 'William Shakespeare\\n', 'William T. Stearn\\n', 'Winnie Madikizela-Mandela\\n', 'Winston Churchill\\n', 'Wisbech\\n', 'Witness (Katy Perry album)\\n', 'Wolf Warrior 2\\n', \"Women's World Chess Championship 2018 (November)\\n\", 'Women in the Bible\\n', 'Wonder Woman (2017 film)\\n', 'Woolsey Fire\\n', 'World Chess Championship 2016\\n', 'World Chess Championship 2018\\n', 'World of Dance (season 2)\\n', 'World tour of Ulysses S. Grant\\n', 'WrestleMania 33\\n', 'WrestleMania 34\\n', 'WrestleMania 35\\n', 'WrestleMania 36\\n', 'Wyndham Wise\\n', 'X-Men (film series)\\n', 'XBIZ Award\\n', 'XXXTentacion\\n', 'Ye (album)\\n', 'Yeh Rishtey Hain Pyaar Ke\\n', 'Yeh Un Dinon Ki Baat Hai\\n', 'Yellow vests movement\\n', 'Yeomanry Cavalry\\n', 'YouTube Rewind\\n', 'YouTube headquarters shooting\\n', 'You Need to Calm Down\\n', 'Young Justice: Outsiders\\n', 'Youth International Party\\n', 'Yuga\\n', 'Yummy (Justin Bieber song)\\n', 'Yuri on Ice\\n', 'Yuttha Medai All Stars\\n', 'Zamalek SC\\n', 'Zebedee Coltrin\\n', 'Zero-point energy\\n', 'Zero (2018 film)\\n', 'Zero Hedge\\n', 'Zoom Video Communications\\n', 'Ædes Danielis\\n', 'Église Saint-Patern de Vannes\\n', '÷ (album)\\n', 'ʻOumuamua\\n']\n"
     ]
    }
   ],
   "source": [
    "with open(\"list_of_edits.txt\",encoding=\"utf-8\") as topic_file:\n",
    "    topics = [each for each in topic_file.readlines()]\n",
    "    print(topics)"
   ]
  },
  {
   "cell_type": "code",
   "execution_count": 3,
   "metadata": {},
   "outputs": [],
   "source": [
    "topics_df = pd.DataFrame(topics)"
   ]
  },
  {
   "cell_type": "code",
   "execution_count": 4,
   "metadata": {},
   "outputs": [],
   "source": [
    "topics_df = topics_df.rename(columns={0:\"topics\"})"
   ]
  },
  {
   "cell_type": "code",
   "execution_count": 5,
   "metadata": {},
   "outputs": [],
   "source": [
    "topics_df = topics_df[\"topics\"].apply(lambda x: x[:-1])"
   ]
  },
  {
   "cell_type": "code",
   "execution_count": 6,
   "metadata": {},
   "outputs": [],
   "source": [
    "topics_df = pd.DataFrame(topics_df)"
   ]
  },
  {
   "cell_type": "code",
   "execution_count": 7,
   "metadata": {},
   "outputs": [
    {
     "data": {
      "text/html": [
       "<div>\n",
       "<style scoped>\n",
       "    .dataframe tbody tr th:only-of-type {\n",
       "        vertical-align: middle;\n",
       "    }\n",
       "\n",
       "    .dataframe tbody tr th {\n",
       "        vertical-align: top;\n",
       "    }\n",
       "\n",
       "    .dataframe thead th {\n",
       "        text-align: right;\n",
       "    }\n",
       "</style>\n",
       "<table border=\"1\" class=\"dataframe\">\n",
       "  <thead>\n",
       "    <tr style=\"text-align: right;\">\n",
       "      <th></th>\n",
       "      <th>topics</th>\n",
       "    </tr>\n",
       "  </thead>\n",
       "  <tbody>\n",
       "    <tr>\n",
       "      <th>0</th>\n",
       "      <td>\"Polish death camp\" controversy</td>\n",
       "    </tr>\n",
       "    <tr>\n",
       "      <th>1</th>\n",
       "      <td>'Ubadah ibn al-Samit</td>\n",
       "    </tr>\n",
       "    <tr>\n",
       "      <th>2</th>\n",
       "      <td>116th United States Congress</td>\n",
       "    </tr>\n",
       "    <tr>\n",
       "      <th>3</th>\n",
       "      <td>13 Reasons Why</td>\n",
       "    </tr>\n",
       "    <tr>\n",
       "      <th>4</th>\n",
       "      <td>1721 Boston smallpox outbreak</td>\n",
       "    </tr>\n",
       "    <tr>\n",
       "      <th>...</th>\n",
       "      <td>...</td>\n",
       "    </tr>\n",
       "    <tr>\n",
       "      <th>3478</th>\n",
       "      <td>Zoom Video Communications</td>\n",
       "    </tr>\n",
       "    <tr>\n",
       "      <th>3479</th>\n",
       "      <td>Ædes Danielis</td>\n",
       "    </tr>\n",
       "    <tr>\n",
       "      <th>3480</th>\n",
       "      <td>Église Saint-Patern de Vannes</td>\n",
       "    </tr>\n",
       "    <tr>\n",
       "      <th>3481</th>\n",
       "      <td>÷ (album)</td>\n",
       "    </tr>\n",
       "    <tr>\n",
       "      <th>3482</th>\n",
       "      <td>ʻOumuamua</td>\n",
       "    </tr>\n",
       "  </tbody>\n",
       "</table>\n",
       "<p>3483 rows × 1 columns</p>\n",
       "</div>"
      ],
      "text/plain": [
       "                               topics\n",
       "0     \"Polish death camp\" controversy\n",
       "1                'Ubadah ibn al-Samit\n",
       "2        116th United States Congress\n",
       "3                      13 Reasons Why\n",
       "4       1721 Boston smallpox outbreak\n",
       "...                               ...\n",
       "3478        Zoom Video Communications\n",
       "3479                    Ædes Danielis\n",
       "3480    Église Saint-Patern de Vannes\n",
       "3481                        ÷ (album)\n",
       "3482                        ʻOumuamua\n",
       "\n",
       "[3483 rows x 1 columns]"
      ]
     },
     "execution_count": 7,
     "metadata": {},
     "output_type": "execute_result"
    }
   ],
   "source": [
    "topics_df"
   ]
  },
  {
   "cell_type": "markdown",
   "metadata": {},
   "source": [
    "- *remove punctuation*"
   ]
  },
  {
   "cell_type": "code",
   "execution_count": 8,
   "metadata": {},
   "outputs": [],
   "source": [
    "import string"
   ]
  },
  {
   "cell_type": "code",
   "execution_count": 9,
   "metadata": {},
   "outputs": [],
   "source": [
    "def remov_punc(data):\n",
    "    for each in string.punctuation:\n",
    "        data[\"topics\"] = data[\"topics\"].apply(lambda x: x.replace(each,' '))\n",
    "    return data"
   ]
  },
  {
   "cell_type": "code",
   "execution_count": 10,
   "metadata": {},
   "outputs": [
    {
     "data": {
      "text/html": [
       "<div>\n",
       "<style scoped>\n",
       "    .dataframe tbody tr th:only-of-type {\n",
       "        vertical-align: middle;\n",
       "    }\n",
       "\n",
       "    .dataframe tbody tr th {\n",
       "        vertical-align: top;\n",
       "    }\n",
       "\n",
       "    .dataframe thead th {\n",
       "        text-align: right;\n",
       "    }\n",
       "</style>\n",
       "<table border=\"1\" class=\"dataframe\">\n",
       "  <thead>\n",
       "    <tr style=\"text-align: right;\">\n",
       "      <th></th>\n",
       "      <th>topics</th>\n",
       "    </tr>\n",
       "  </thead>\n",
       "  <tbody>\n",
       "    <tr>\n",
       "      <th>0</th>\n",
       "      <td>Polish death camp  controversy</td>\n",
       "    </tr>\n",
       "    <tr>\n",
       "      <th>1</th>\n",
       "      <td>Ubadah ibn al Samit</td>\n",
       "    </tr>\n",
       "    <tr>\n",
       "      <th>2</th>\n",
       "      <td>116th United States Congress</td>\n",
       "    </tr>\n",
       "    <tr>\n",
       "      <th>3</th>\n",
       "      <td>13 Reasons Why</td>\n",
       "    </tr>\n",
       "    <tr>\n",
       "      <th>4</th>\n",
       "      <td>1721 Boston smallpox outbreak</td>\n",
       "    </tr>\n",
       "    <tr>\n",
       "      <th>...</th>\n",
       "      <td>...</td>\n",
       "    </tr>\n",
       "    <tr>\n",
       "      <th>3478</th>\n",
       "      <td>Zoom Video Communications</td>\n",
       "    </tr>\n",
       "    <tr>\n",
       "      <th>3479</th>\n",
       "      <td>Ædes Danielis</td>\n",
       "    </tr>\n",
       "    <tr>\n",
       "      <th>3480</th>\n",
       "      <td>Église Saint Patern de Vannes</td>\n",
       "    </tr>\n",
       "    <tr>\n",
       "      <th>3481</th>\n",
       "      <td>÷  album</td>\n",
       "    </tr>\n",
       "    <tr>\n",
       "      <th>3482</th>\n",
       "      <td>ʻOumuamua</td>\n",
       "    </tr>\n",
       "  </tbody>\n",
       "</table>\n",
       "<p>3483 rows × 1 columns</p>\n",
       "</div>"
      ],
      "text/plain": [
       "                               topics\n",
       "0      Polish death camp  controversy\n",
       "1                 Ubadah ibn al Samit\n",
       "2        116th United States Congress\n",
       "3                      13 Reasons Why\n",
       "4       1721 Boston smallpox outbreak\n",
       "...                               ...\n",
       "3478        Zoom Video Communications\n",
       "3479                    Ædes Danielis\n",
       "3480    Église Saint Patern de Vannes\n",
       "3481                        ÷  album \n",
       "3482                        ʻOumuamua\n",
       "\n",
       "[3483 rows x 1 columns]"
      ]
     },
     "execution_count": 10,
     "metadata": {},
     "output_type": "execute_result"
    }
   ],
   "source": [
    "cleaning_data = remov_punc(topics_df)\n",
    "cleaning_data"
   ]
  },
  {
   "cell_type": "markdown",
   "metadata": {},
   "source": [
    "- *remove special punctuation*"
   ]
  },
  {
   "cell_type": "code",
   "execution_count": 11,
   "metadata": {},
   "outputs": [],
   "source": [
    "from nltk.tokenize import word_tokenize"
   ]
  },
  {
   "cell_type": "code",
   "execution_count": 12,
   "metadata": {},
   "outputs": [
    {
     "data": {
      "text/plain": [
       "False"
      ]
     },
     "execution_count": 12,
     "metadata": {},
     "output_type": "execute_result"
    }
   ],
   "source": [
    "cleaning_data.loc[3481,\"topics\"][0].isalnum()"
   ]
  },
  {
   "cell_type": "code",
   "execution_count": 13,
   "metadata": {},
   "outputs": [
    {
     "data": {
      "text/plain": [
       "True"
      ]
     },
     "execution_count": 13,
     "metadata": {},
     "output_type": "execute_result"
    }
   ],
   "source": [
    "cleaning_data.loc[3481,\"topics\"][3].isalnum()"
   ]
  },
  {
   "cell_type": "code",
   "execution_count": 14,
   "metadata": {},
   "outputs": [
    {
     "data": {
      "text/plain": [
       "False"
      ]
     },
     "execution_count": 14,
     "metadata": {},
     "output_type": "execute_result"
    }
   ],
   "source": [
    "cleaning_data.loc[3481,\"topics\"][1].isalnum()"
   ]
  },
  {
   "cell_type": "code",
   "execution_count": 15,
   "metadata": {},
   "outputs": [],
   "source": [
    "def remove_special_punc(data):\n",
    "    index = 0\n",
    "    for each_topic in data[\"content\"].apply(lambda x: word_tokenize(x)):\n",
    "        topic = []\n",
    "        for each_word in each_topic:\n",
    "            word = \"\"\n",
    "            for each_letter in each_word:\n",
    "                if each_letter.isalnum():\n",
    "                    word += each_letter\n",
    "            topic.append(word)\n",
    "        topic_sentence = ' '.join(topic)\n",
    "        data.loc[index:\"content\"] = topic_sentence\n",
    "        index += 1\n",
    "    return data"
   ]
  },
  {
   "cell_type": "code",
   "execution_count": 16,
   "metadata": {},
   "outputs": [
    {
     "data": {
      "text/html": [
       "<div>\n",
       "<style scoped>\n",
       "    .dataframe tbody tr th:only-of-type {\n",
       "        vertical-align: middle;\n",
       "    }\n",
       "\n",
       "    .dataframe tbody tr th {\n",
       "        vertical-align: top;\n",
       "    }\n",
       "\n",
       "    .dataframe thead th {\n",
       "        text-align: right;\n",
       "    }\n",
       "</style>\n",
       "<table border=\"1\" class=\"dataframe\">\n",
       "  <thead>\n",
       "    <tr style=\"text-align: right;\">\n",
       "      <th></th>\n",
       "      <th>topics</th>\n",
       "    </tr>\n",
       "  </thead>\n",
       "  <tbody>\n",
       "    <tr>\n",
       "      <th>0</th>\n",
       "      <td>Polish death camp controversy</td>\n",
       "    </tr>\n",
       "    <tr>\n",
       "      <th>1</th>\n",
       "      <td>Ubadah ibn al Samit</td>\n",
       "    </tr>\n",
       "    <tr>\n",
       "      <th>2</th>\n",
       "      <td>116th United States Congress</td>\n",
       "    </tr>\n",
       "    <tr>\n",
       "      <th>3</th>\n",
       "      <td>13 Reasons Why</td>\n",
       "    </tr>\n",
       "    <tr>\n",
       "      <th>4</th>\n",
       "      <td>1721 Boston smallpox outbreak</td>\n",
       "    </tr>\n",
       "    <tr>\n",
       "      <th>...</th>\n",
       "      <td>...</td>\n",
       "    </tr>\n",
       "    <tr>\n",
       "      <th>3478</th>\n",
       "      <td>Zoom Video Communications</td>\n",
       "    </tr>\n",
       "    <tr>\n",
       "      <th>3479</th>\n",
       "      <td>Ædes Danielis</td>\n",
       "    </tr>\n",
       "    <tr>\n",
       "      <th>3480</th>\n",
       "      <td>Église Saint Patern de Vannes</td>\n",
       "    </tr>\n",
       "    <tr>\n",
       "      <th>3481</th>\n",
       "      <td>album</td>\n",
       "    </tr>\n",
       "    <tr>\n",
       "      <th>3482</th>\n",
       "      <td>ʻOumuamua</td>\n",
       "    </tr>\n",
       "  </tbody>\n",
       "</table>\n",
       "<p>3483 rows × 1 columns</p>\n",
       "</div>"
      ],
      "text/plain": [
       "                             topics\n",
       "0     Polish death camp controversy\n",
       "1               Ubadah ibn al Samit\n",
       "2      116th United States Congress\n",
       "3                    13 Reasons Why\n",
       "4     1721 Boston smallpox outbreak\n",
       "...                             ...\n",
       "3478      Zoom Video Communications\n",
       "3479                  Ædes Danielis\n",
       "3480  Église Saint Patern de Vannes\n",
       "3481                          album\n",
       "3482                      ʻOumuamua\n",
       "\n",
       "[3483 rows x 1 columns]"
      ]
     },
     "execution_count": 16,
     "metadata": {},
     "output_type": "execute_result"
    }
   ],
   "source": [
    "remove_special_punc(cleaning_data)"
   ]
  },
  {
   "cell_type": "markdown",
   "metadata": {},
   "source": [
    "- *Stop word*"
   ]
  },
  {
   "cell_type": "code",
   "execution_count": 17,
   "metadata": {},
   "outputs": [],
   "source": [
    "from nltk.corpus import stopwords "
   ]
  },
  {
   "cell_type": "code",
   "execution_count": 18,
   "metadata": {},
   "outputs": [],
   "source": [
    "def remove_stopword(data):\n",
    "    stop_words = set(stopwords.words('english'))\n",
    "    index = 0\n",
    "    for each_words in data[\"topics\"].apply(lambda x: word_tokenize(x)):\n",
    "        words = [w for w in each_words if not w in stop_words]\n",
    "        data.loc[index,\"topics\"] = \" \".join(words)\n",
    "        index += 1\n",
    "    return data"
   ]
  },
  {
   "cell_type": "code",
   "execution_count": 19,
   "metadata": {},
   "outputs": [],
   "source": [
    "cleaning_data = remove_stopword(cleaning_data)"
   ]
  },
  {
   "cell_type": "code",
   "execution_count": 20,
   "metadata": {},
   "outputs": [
    {
     "data": {
      "text/html": [
       "<div>\n",
       "<style scoped>\n",
       "    .dataframe tbody tr th:only-of-type {\n",
       "        vertical-align: middle;\n",
       "    }\n",
       "\n",
       "    .dataframe tbody tr th {\n",
       "        vertical-align: top;\n",
       "    }\n",
       "\n",
       "    .dataframe thead th {\n",
       "        text-align: right;\n",
       "    }\n",
       "</style>\n",
       "<table border=\"1\" class=\"dataframe\">\n",
       "  <thead>\n",
       "    <tr style=\"text-align: right;\">\n",
       "      <th></th>\n",
       "      <th>topics</th>\n",
       "    </tr>\n",
       "  </thead>\n",
       "  <tbody>\n",
       "    <tr>\n",
       "      <th>0</th>\n",
       "      <td>Polish death camp controversy</td>\n",
       "    </tr>\n",
       "    <tr>\n",
       "      <th>1</th>\n",
       "      <td>Ubadah ibn al Samit</td>\n",
       "    </tr>\n",
       "    <tr>\n",
       "      <th>2</th>\n",
       "      <td>116th United States Congress</td>\n",
       "    </tr>\n",
       "    <tr>\n",
       "      <th>3</th>\n",
       "      <td>13 Reasons Why</td>\n",
       "    </tr>\n",
       "    <tr>\n",
       "      <th>4</th>\n",
       "      <td>1721 Boston smallpox outbreak</td>\n",
       "    </tr>\n",
       "    <tr>\n",
       "      <th>...</th>\n",
       "      <td>...</td>\n",
       "    </tr>\n",
       "    <tr>\n",
       "      <th>3478</th>\n",
       "      <td>Zoom Video Communications</td>\n",
       "    </tr>\n",
       "    <tr>\n",
       "      <th>3479</th>\n",
       "      <td>Ædes Danielis</td>\n",
       "    </tr>\n",
       "    <tr>\n",
       "      <th>3480</th>\n",
       "      <td>Église Saint Patern de Vannes</td>\n",
       "    </tr>\n",
       "    <tr>\n",
       "      <th>3481</th>\n",
       "      <td>album</td>\n",
       "    </tr>\n",
       "    <tr>\n",
       "      <th>3482</th>\n",
       "      <td>ʻOumuamua</td>\n",
       "    </tr>\n",
       "  </tbody>\n",
       "</table>\n",
       "<p>3483 rows × 1 columns</p>\n",
       "</div>"
      ],
      "text/plain": [
       "                             topics\n",
       "0     Polish death camp controversy\n",
       "1               Ubadah ibn al Samit\n",
       "2      116th United States Congress\n",
       "3                    13 Reasons Why\n",
       "4     1721 Boston smallpox outbreak\n",
       "...                             ...\n",
       "3478      Zoom Video Communications\n",
       "3479                  Ædes Danielis\n",
       "3480  Église Saint Patern de Vannes\n",
       "3481                          album\n",
       "3482                      ʻOumuamua\n",
       "\n",
       "[3483 rows x 1 columns]"
      ]
     },
     "execution_count": 20,
     "metadata": {},
     "output_type": "execute_result"
    }
   ],
   "source": [
    "cleaning_data"
   ]
  },
  {
   "cell_type": "markdown",
   "metadata": {},
   "source": [
    "- *Lower case*"
   ]
  },
  {
   "cell_type": "code",
   "execution_count": 21,
   "metadata": {},
   "outputs": [],
   "source": [
    "def lower_case(data):\n",
    "    data[\"topics\"] = data[\"topics\"].apply(lambda x: x.lower())\n",
    "    return data"
   ]
  },
  {
   "cell_type": "code",
   "execution_count": 22,
   "metadata": {},
   "outputs": [],
   "source": [
    "cleaning_data = lower_case(cleaning_data)"
   ]
  },
  {
   "cell_type": "code",
   "execution_count": 23,
   "metadata": {},
   "outputs": [
    {
     "data": {
      "text/html": [
       "<div>\n",
       "<style scoped>\n",
       "    .dataframe tbody tr th:only-of-type {\n",
       "        vertical-align: middle;\n",
       "    }\n",
       "\n",
       "    .dataframe tbody tr th {\n",
       "        vertical-align: top;\n",
       "    }\n",
       "\n",
       "    .dataframe thead th {\n",
       "        text-align: right;\n",
       "    }\n",
       "</style>\n",
       "<table border=\"1\" class=\"dataframe\">\n",
       "  <thead>\n",
       "    <tr style=\"text-align: right;\">\n",
       "      <th></th>\n",
       "      <th>topics</th>\n",
       "    </tr>\n",
       "  </thead>\n",
       "  <tbody>\n",
       "    <tr>\n",
       "      <th>0</th>\n",
       "      <td>polish death camp controversy</td>\n",
       "    </tr>\n",
       "    <tr>\n",
       "      <th>1</th>\n",
       "      <td>ubadah ibn al samit</td>\n",
       "    </tr>\n",
       "    <tr>\n",
       "      <th>2</th>\n",
       "      <td>116th united states congress</td>\n",
       "    </tr>\n",
       "    <tr>\n",
       "      <th>3</th>\n",
       "      <td>13 reasons why</td>\n",
       "    </tr>\n",
       "    <tr>\n",
       "      <th>4</th>\n",
       "      <td>1721 boston smallpox outbreak</td>\n",
       "    </tr>\n",
       "    <tr>\n",
       "      <th>...</th>\n",
       "      <td>...</td>\n",
       "    </tr>\n",
       "    <tr>\n",
       "      <th>3478</th>\n",
       "      <td>zoom video communications</td>\n",
       "    </tr>\n",
       "    <tr>\n",
       "      <th>3479</th>\n",
       "      <td>ædes danielis</td>\n",
       "    </tr>\n",
       "    <tr>\n",
       "      <th>3480</th>\n",
       "      <td>église saint patern de vannes</td>\n",
       "    </tr>\n",
       "    <tr>\n",
       "      <th>3481</th>\n",
       "      <td>album</td>\n",
       "    </tr>\n",
       "    <tr>\n",
       "      <th>3482</th>\n",
       "      <td>ʻoumuamua</td>\n",
       "    </tr>\n",
       "  </tbody>\n",
       "</table>\n",
       "<p>3483 rows × 1 columns</p>\n",
       "</div>"
      ],
      "text/plain": [
       "                             topics\n",
       "0     polish death camp controversy\n",
       "1               ubadah ibn al samit\n",
       "2      116th united states congress\n",
       "3                    13 reasons why\n",
       "4     1721 boston smallpox outbreak\n",
       "...                             ...\n",
       "3478      zoom video communications\n",
       "3479                  ædes danielis\n",
       "3480  église saint patern de vannes\n",
       "3481                          album\n",
       "3482                      ʻoumuamua\n",
       "\n",
       "[3483 rows x 1 columns]"
      ]
     },
     "execution_count": 23,
     "metadata": {},
     "output_type": "execute_result"
    }
   ],
   "source": [
    "cleaning_data"
   ]
  },
  {
   "cell_type": "markdown",
   "metadata": {},
   "source": [
    "- *Lemmatize*"
   ]
  },
  {
   "cell_type": "code",
   "execution_count": 24,
   "metadata": {},
   "outputs": [],
   "source": [
    "from nltk.stem import WordNetLemmatizer"
   ]
  },
  {
   "cell_type": "code",
   "execution_count": 25,
   "metadata": {},
   "outputs": [],
   "source": [
    "def lemmatize_word(data):\n",
    "    index = 0\n",
    "    lemmatizer = WordNetLemmatizer()\n",
    "    for each_text in data[\"topics\"].apply(lambda x: word_tokenize(x)):\n",
    "        words = [w for w in each_text]\n",
    "        lemmatized = [lemmatizer.lemmatize(word) for word in words]\n",
    "        data.loc[index,\"topics\"] = \" \".join(lemmatized)\n",
    "        index += 1\n",
    "    return data"
   ]
  },
  {
   "cell_type": "code",
   "execution_count": 26,
   "metadata": {},
   "outputs": [],
   "source": [
    "cleaning_data = lemmatize_word(cleaning_data)"
   ]
  },
  {
   "cell_type": "code",
   "execution_count": 27,
   "metadata": {},
   "outputs": [
    {
     "data": {
      "text/html": [
       "<div>\n",
       "<style scoped>\n",
       "    .dataframe tbody tr th:only-of-type {\n",
       "        vertical-align: middle;\n",
       "    }\n",
       "\n",
       "    .dataframe tbody tr th {\n",
       "        vertical-align: top;\n",
       "    }\n",
       "\n",
       "    .dataframe thead th {\n",
       "        text-align: right;\n",
       "    }\n",
       "</style>\n",
       "<table border=\"1\" class=\"dataframe\">\n",
       "  <thead>\n",
       "    <tr style=\"text-align: right;\">\n",
       "      <th></th>\n",
       "      <th>topics</th>\n",
       "    </tr>\n",
       "  </thead>\n",
       "  <tbody>\n",
       "    <tr>\n",
       "      <th>0</th>\n",
       "      <td>polish death camp controversy</td>\n",
       "    </tr>\n",
       "    <tr>\n",
       "      <th>1</th>\n",
       "      <td>ubadah ibn al samit</td>\n",
       "    </tr>\n",
       "    <tr>\n",
       "      <th>2</th>\n",
       "      <td>116th united state congress</td>\n",
       "    </tr>\n",
       "    <tr>\n",
       "      <th>3</th>\n",
       "      <td>13 reason why</td>\n",
       "    </tr>\n",
       "    <tr>\n",
       "      <th>4</th>\n",
       "      <td>1721 boston smallpox outbreak</td>\n",
       "    </tr>\n",
       "    <tr>\n",
       "      <th>...</th>\n",
       "      <td>...</td>\n",
       "    </tr>\n",
       "    <tr>\n",
       "      <th>3478</th>\n",
       "      <td>zoom video communication</td>\n",
       "    </tr>\n",
       "    <tr>\n",
       "      <th>3479</th>\n",
       "      <td>ædes danielis</td>\n",
       "    </tr>\n",
       "    <tr>\n",
       "      <th>3480</th>\n",
       "      <td>église saint patern de vannes</td>\n",
       "    </tr>\n",
       "    <tr>\n",
       "      <th>3481</th>\n",
       "      <td>album</td>\n",
       "    </tr>\n",
       "    <tr>\n",
       "      <th>3482</th>\n",
       "      <td>ʻoumuamua</td>\n",
       "    </tr>\n",
       "  </tbody>\n",
       "</table>\n",
       "<p>3483 rows × 1 columns</p>\n",
       "</div>"
      ],
      "text/plain": [
       "                             topics\n",
       "0     polish death camp controversy\n",
       "1               ubadah ibn al samit\n",
       "2       116th united state congress\n",
       "3                     13 reason why\n",
       "4     1721 boston smallpox outbreak\n",
       "...                             ...\n",
       "3478       zoom video communication\n",
       "3479                  ædes danielis\n",
       "3480  église saint patern de vannes\n",
       "3481                          album\n",
       "3482                      ʻoumuamua\n",
       "\n",
       "[3483 rows x 1 columns]"
      ]
     },
     "execution_count": 27,
     "metadata": {},
     "output_type": "execute_result"
    }
   ],
   "source": [
    "cleaning_data"
   ]
  },
  {
   "cell_type": "markdown",
   "metadata": {},
   "source": [
    "# Summarization modeling"
   ]
  },
  {
   "cell_type": "markdown",
   "metadata": {},
   "source": [
    "- We use a already done model to summarize the input of a user"
   ]
  },
  {
   "cell_type": "markdown",
   "metadata": {},
   "source": [
    "MODEL ARTICLE"
   ]
  },
  {
   "cell_type": "markdown",
   "metadata": {},
   "source": [
    "**[article of a model](https://arxiv.org/pdf/1704.04368.pdf)**\n",
    "\n",
    "**[model file in github](https://github.com/abisee/pointer-generator)**"
   ]
  },
  {
   "cell_type": "markdown",
   "metadata": {},
   "source": [
    "#### hard to use ---- so we decide to use the API & library"
   ]
  },
  {
   "cell_type": "markdown",
   "metadata": {},
   "source": [
    "- USE [API](https://rapidapi.com/MeaningCloud/api/summarization/endpoints)"
   ]
  },
  {
   "cell_type": "code",
   "execution_count": 43,
   "metadata": {},
   "outputs": [],
   "source": [
    "import requests\n",
    "\n",
    "url = \"https://meaningcloud-summarization-v1.p.rapidapi.com/summarization-1.0\"\n",
    "\n",
    "text = \"\"\"Great WIN Anna! Watched your race from beginning, very impressed. Your next opponent, Charlie Crist, is a Pelosi puppet who is bad on Crime, our Military, Vets, & 2nd Amendment. You have my Complete & Total Endorsement!\"\"\"\n",
    "\n",
    "querystring = {\"txt\":text,\"sentences\":\"1\"}\n",
    "\n",
    "headers = {\n",
    "    'x-rapidapi-host': \"meaningcloud-summarization-v1.p.rapidapi.com\",\n",
    "    'x-rapidapi-key': \"d3d60bd862msh7cc072c3677bc5dp1c6d28jsn537366b4af8b\",\n",
    "    'accept': \"application/json\"\n",
    "    }\n",
    "\n",
    "response = requests.get(url,headers=headers,params=querystring).json()"
   ]
  },
  {
   "cell_type": "code",
   "execution_count": 44,
   "metadata": {},
   "outputs": [
    {
     "data": {
      "text/plain": [
       "{'status': {'code': '0',\n",
       "  'msg': 'OK',\n",
       "  'credits': '1',\n",
       "  'remaining_credits': '678262'},\n",
       " 'summary': 'Your next opponent, Charlie Crist, is a Pelosi puppet who is bad on Crime, our Military, Vets, & 2nd Amendment.'}"
      ]
     },
     "execution_count": 44,
     "metadata": {},
     "output_type": "execute_result"
    }
   ],
   "source": [
    "response"
   ]
  },
  {
   "cell_type": "markdown",
   "metadata": {},
   "source": [
    "- USE [bert-extractive-summarizer](https://pypi.org/project/bert-extractive-summarizer/)"
   ]
  },
  {
   "cell_type": "code",
   "execution_count": 28,
   "metadata": {},
   "outputs": [],
   "source": [
    "#!pip install bert-extractive-summarizer"
   ]
  },
  {
   "cell_type": "code",
   "execution_count": 45,
   "metadata": {
    "collapsed": true,
    "jupyter": {
     "outputs_hidden": true
    }
   },
   "outputs": [
    {
     "ename": "NameError",
     "evalue": "name 'BertModel' is not defined",
     "output_type": "error",
     "traceback": [
      "\u001b[1;31m---------------------------------------------------------------------------\u001b[0m",
      "\u001b[1;31mNameError\u001b[0m                                 Traceback (most recent call last)",
      "\u001b[1;32m<ipython-input-45-ebcc505c0b7d>\u001b[0m in \u001b[0;36m<module>\u001b[1;34m\u001b[0m\n\u001b[1;32m----> 1\u001b[1;33m \u001b[1;32mfrom\u001b[0m \u001b[0msummarizer\u001b[0m \u001b[1;32mimport\u001b[0m \u001b[0mSummarizer\u001b[0m\u001b[1;33m\u001b[0m\u001b[1;33m\u001b[0m\u001b[0m\n\u001b[0m",
      "\u001b[1;32mc:\\users\\19436\\.venvs\\lewagon\\lib\\site-packages\\summarizer\\__init__.py\u001b[0m in \u001b[0;36m<module>\u001b[1;34m\u001b[0m\n\u001b[1;32m----> 1\u001b[1;33m \u001b[1;32mfrom\u001b[0m \u001b[0msummarizer\u001b[0m\u001b[1;33m.\u001b[0m\u001b[0mmodel_processors\u001b[0m \u001b[1;32mimport\u001b[0m \u001b[0mSummarizer\u001b[0m\u001b[1;33m,\u001b[0m \u001b[0mTransformerSummarizer\u001b[0m\u001b[1;33m\u001b[0m\u001b[1;33m\u001b[0m\u001b[0m\n\u001b[0m",
      "\u001b[1;32mc:\\users\\19436\\.venvs\\lewagon\\lib\\site-packages\\summarizer\\model_processors.py\u001b[0m in \u001b[0;36m<module>\u001b[1;34m\u001b[0m\n\u001b[0;32m      4\u001b[0m \u001b[1;32mfrom\u001b[0m \u001b[0mtransformers\u001b[0m \u001b[1;32mimport\u001b[0m \u001b[1;33m*\u001b[0m\u001b[1;33m\u001b[0m\u001b[1;33m\u001b[0m\u001b[0m\n\u001b[0;32m      5\u001b[0m \u001b[1;33m\u001b[0m\u001b[0m\n\u001b[1;32m----> 6\u001b[1;33m \u001b[1;32mfrom\u001b[0m \u001b[0msummarizer\u001b[0m\u001b[1;33m.\u001b[0m\u001b[0mbert_parent\u001b[0m \u001b[1;32mimport\u001b[0m \u001b[0mBertParent\u001b[0m\u001b[1;33m\u001b[0m\u001b[1;33m\u001b[0m\u001b[0m\n\u001b[0m\u001b[0;32m      7\u001b[0m \u001b[1;32mfrom\u001b[0m \u001b[0msummarizer\u001b[0m\u001b[1;33m.\u001b[0m\u001b[0mcluster_features\u001b[0m \u001b[1;32mimport\u001b[0m \u001b[0mClusterFeatures\u001b[0m\u001b[1;33m\u001b[0m\u001b[1;33m\u001b[0m\u001b[0m\n\u001b[0;32m      8\u001b[0m \u001b[1;32mfrom\u001b[0m \u001b[0msummarizer\u001b[0m\u001b[1;33m.\u001b[0m\u001b[0msentence_handler\u001b[0m \u001b[1;32mimport\u001b[0m \u001b[0mSentenceHandler\u001b[0m\u001b[1;33m\u001b[0m\u001b[1;33m\u001b[0m\u001b[0m\n",
      "\u001b[1;32mc:\\users\\19436\\.venvs\\lewagon\\lib\\site-packages\\summarizer\\bert_parent.py\u001b[0m in \u001b[0;36m<module>\u001b[1;34m\u001b[0m\n\u001b[0;32m     10\u001b[0m \u001b[1;33m\u001b[0m\u001b[0m\n\u001b[0;32m     11\u001b[0m \u001b[1;33m\u001b[0m\u001b[0m\n\u001b[1;32m---> 12\u001b[1;33m \u001b[1;32mclass\u001b[0m \u001b[0mBertParent\u001b[0m\u001b[1;33m(\u001b[0m\u001b[0mobject\u001b[0m\u001b[1;33m)\u001b[0m\u001b[1;33m:\u001b[0m\u001b[1;33m\u001b[0m\u001b[1;33m\u001b[0m\u001b[0m\n\u001b[0m\u001b[0;32m     13\u001b[0m \u001b[1;33m\u001b[0m\u001b[0m\n\u001b[0;32m     14\u001b[0m     \"\"\"\n",
      "\u001b[1;32mc:\\users\\19436\\.venvs\\lewagon\\lib\\site-packages\\summarizer\\bert_parent.py\u001b[0m in \u001b[0;36mBertParent\u001b[1;34m()\u001b[0m\n\u001b[0;32m     17\u001b[0m \u001b[1;33m\u001b[0m\u001b[0m\n\u001b[0;32m     18\u001b[0m     MODELS = {\n\u001b[1;32m---> 19\u001b[1;33m         \u001b[1;34m'bert-base-uncased'\u001b[0m\u001b[1;33m:\u001b[0m \u001b[1;33m(\u001b[0m\u001b[0mBertModel\u001b[0m\u001b[1;33m,\u001b[0m \u001b[0mBertTokenizer\u001b[0m\u001b[1;33m)\u001b[0m\u001b[1;33m,\u001b[0m\u001b[1;33m\u001b[0m\u001b[1;33m\u001b[0m\u001b[0m\n\u001b[0m\u001b[0;32m     20\u001b[0m         \u001b[1;34m'bert-large-uncased'\u001b[0m\u001b[1;33m:\u001b[0m \u001b[1;33m(\u001b[0m\u001b[0mBertModel\u001b[0m\u001b[1;33m,\u001b[0m \u001b[0mBertTokenizer\u001b[0m\u001b[1;33m)\u001b[0m\u001b[1;33m,\u001b[0m\u001b[1;33m\u001b[0m\u001b[1;33m\u001b[0m\u001b[0m\n\u001b[0;32m     21\u001b[0m         \u001b[1;34m'xlnet-base-cased'\u001b[0m\u001b[1;33m:\u001b[0m \u001b[1;33m(\u001b[0m\u001b[0mXLNetModel\u001b[0m\u001b[1;33m,\u001b[0m \u001b[0mXLNetTokenizer\u001b[0m\u001b[1;33m)\u001b[0m\u001b[1;33m,\u001b[0m\u001b[1;33m\u001b[0m\u001b[1;33m\u001b[0m\u001b[0m\n",
      "\u001b[1;31mNameError\u001b[0m: name 'BertModel' is not defined"
     ]
    }
   ],
   "source": [
    "from summarizer import Summarizer"
   ]
  },
  {
   "cell_type": "code",
   "execution_count": null,
   "metadata": {},
   "outputs": [],
   "source": [
    "model = Summarizer()\n"
   ]
  },
  {
   "cell_type": "markdown",
   "metadata": {},
   "source": [
    "# Match the reusult of the summarization with topic list"
   ]
  },
  {
   "cell_type": "code",
   "execution_count": null,
   "metadata": {},
   "outputs": [],
   "source": []
  }
 ],
 "metadata": {
  "kernelspec": {
   "display_name": "Python 3",
   "language": "python",
   "name": "python3"
  },
  "language_info": {
   "codemirror_mode": {
    "name": "ipython",
    "version": 3
   },
   "file_extension": ".py",
   "mimetype": "text/x-python",
   "name": "python",
   "nbconvert_exporter": "python",
   "pygments_lexer": "ipython3",
   "version": "3.7.4"
  }
 },
 "nbformat": 4,
 "nbformat_minor": 4
}
